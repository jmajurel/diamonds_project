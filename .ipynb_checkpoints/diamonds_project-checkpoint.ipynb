{
 "cells": [
  {
   "cell_type": "code",
   "execution_count": 1,
   "id": "2238b233-dd47-4dab-96c6-1fff77eac1d0",
   "metadata": {},
   "outputs": [],
   "source": [
    "import pandas as pd\n",
    "import matplotlib.pyplot as plt\n",
    "import seaborn as sbn\n",
    "import numpy as np\n",
    "from sklearn.preprocessing import StandardScaler\n",
    "from sklearn.model_selection import train_test_split\n",
    "from sklearn.model_selection import cross_val_score\n",
    "from sklearn.linear_model import LinearRegression\n",
    "from sklearn.linear_model import SGDRegressor\n",
    "from sklearn.linear_model import ElasticNet\n",
    "from sklearn.linear_model import Lasso\n",
    "from sklearn.svm import SVR"
   ]
  },
  {
   "cell_type": "markdown",
   "id": "60b42f94-5063-4d69-b5a0-5f81c509d369",
   "metadata": {},
   "source": [
    "# Indroduction\n",
    "\n",
    "This project aims at predicting diamond price based on its features using regression models\n",
    "\n",
    "Diamonds data set available on kaggle (https://www.kaggle.com/enashed/diamond-prices)"
   ]
  },
  {
   "cell_type": "markdown",
   "id": "80c3dea1-65d3-4a73-9657-cfdba8cadab6",
   "metadata": {},
   "source": [
    "# Project Planning\n",
    "1. Data exploration\n",
    "2. Feature engineering\n",
    "3. Data preprocessing for model\n",
    "4. Basic model building\n",
    "5. Model Tuning\n",
    "6. Ensemble model building\n",
    "7. Results"
   ]
  },
  {
   "cell_type": "markdown",
   "id": "442091c1-c806-4287-840c-0f03f013db48",
   "metadata": {},
   "source": [
    "# Data Exploration"
   ]
  },
  {
   "cell_type": "code",
   "execution_count": 2,
   "id": "05ec4777-98a8-4c61-986f-2227c012b7dc",
   "metadata": {},
   "outputs": [],
   "source": [
    "data = pd.read_csv(\"./diamonds_project/diamonds.csv\")"
   ]
  },
  {
   "cell_type": "code",
   "execution_count": 3,
   "id": "c83c9704-3c6d-4af6-b801-44c6ec9c689b",
   "metadata": {},
   "outputs": [],
   "source": [
    "X = data[data.columns.difference(['total_sales_price'])]\n",
    "y = data[\"total_sales_price\"]\n",
    "X_train, X_test, y_train, y_test = train_test_split(X, y)"
   ]
  },
  {
   "cell_type": "code",
   "execution_count": 4,
   "id": "1938392f-56ba-46fb-8440-636e19080e9d",
   "metadata": {},
   "outputs": [
    {
     "data": {
      "text/html": [
       "<div>\n",
       "<style scoped>\n",
       "    .dataframe tbody tr th:only-of-type {\n",
       "        vertical-align: middle;\n",
       "    }\n",
       "\n",
       "    .dataframe tbody tr th {\n",
       "        vertical-align: top;\n",
       "    }\n",
       "\n",
       "    .dataframe thead th {\n",
       "        text-align: right;\n",
       "    }\n",
       "</style>\n",
       "<table border=\"1\" class=\"dataframe\">\n",
       "  <thead>\n",
       "    <tr style=\"text-align: right;\">\n",
       "      <th></th>\n",
       "      <th>clarity</th>\n",
       "      <th>color</th>\n",
       "      <th>culet_condition</th>\n",
       "      <th>culet_size</th>\n",
       "      <th>cut</th>\n",
       "      <th>date</th>\n",
       "      <th>depth_percent</th>\n",
       "      <th>diamond_id</th>\n",
       "      <th>eye_clean</th>\n",
       "      <th>fancy_color_dominant_color</th>\n",
       "      <th>...</th>\n",
       "      <th>girdle_min</th>\n",
       "      <th>lab</th>\n",
       "      <th>meas_depth</th>\n",
       "      <th>meas_length</th>\n",
       "      <th>meas_width</th>\n",
       "      <th>polish</th>\n",
       "      <th>shape</th>\n",
       "      <th>size</th>\n",
       "      <th>symmetry</th>\n",
       "      <th>table_percent</th>\n",
       "    </tr>\n",
       "  </thead>\n",
       "  <tbody>\n",
       "    <tr>\n",
       "      <th>184915</th>\n",
       "      <td>VS1</td>\n",
       "      <td>I</td>\n",
       "      <td>NaN</td>\n",
       "      <td>N</td>\n",
       "      <td>Excellent</td>\n",
       "      <td>2022-02-24</td>\n",
       "      <td>62.5</td>\n",
       "      <td>135151083</td>\n",
       "      <td>Yes</td>\n",
       "      <td>NaN</td>\n",
       "      <td>...</td>\n",
       "      <td>M</td>\n",
       "      <td>GIA</td>\n",
       "      <td>4.07</td>\n",
       "      <td>6.50</td>\n",
       "      <td>6.54</td>\n",
       "      <td>Excellent</td>\n",
       "      <td>Round</td>\n",
       "      <td>1.08</td>\n",
       "      <td>Excellent</td>\n",
       "      <td>57.0</td>\n",
       "    </tr>\n",
       "    <tr>\n",
       "      <th>31099</th>\n",
       "      <td>VVS2</td>\n",
       "      <td>I</td>\n",
       "      <td>NaN</td>\n",
       "      <td>N</td>\n",
       "      <td>Very Good</td>\n",
       "      <td>2022-02-24</td>\n",
       "      <td>61.6</td>\n",
       "      <td>132136654</td>\n",
       "      <td>NaN</td>\n",
       "      <td>NaN</td>\n",
       "      <td>...</td>\n",
       "      <td>NaN</td>\n",
       "      <td>GIA</td>\n",
       "      <td>2.63</td>\n",
       "      <td>4.26</td>\n",
       "      <td>4.28</td>\n",
       "      <td>Excellent</td>\n",
       "      <td>Round</td>\n",
       "      <td>0.30</td>\n",
       "      <td>Excellent</td>\n",
       "      <td>62.0</td>\n",
       "    </tr>\n",
       "    <tr>\n",
       "      <th>88835</th>\n",
       "      <td>VVS1</td>\n",
       "      <td>H</td>\n",
       "      <td>NaN</td>\n",
       "      <td>NaN</td>\n",
       "      <td>Excellent</td>\n",
       "      <td>2022-02-24</td>\n",
       "      <td>62.3</td>\n",
       "      <td>130284617</td>\n",
       "      <td>Yes</td>\n",
       "      <td>NaN</td>\n",
       "      <td>...</td>\n",
       "      <td>M</td>\n",
       "      <td>GIA</td>\n",
       "      <td>2.84</td>\n",
       "      <td>4.54</td>\n",
       "      <td>4.58</td>\n",
       "      <td>Excellent</td>\n",
       "      <td>Round</td>\n",
       "      <td>0.36</td>\n",
       "      <td>Excellent</td>\n",
       "      <td>57.0</td>\n",
       "    </tr>\n",
       "    <tr>\n",
       "      <th>136539</th>\n",
       "      <td>VS2</td>\n",
       "      <td>E</td>\n",
       "      <td>NaN</td>\n",
       "      <td>N</td>\n",
       "      <td>Excellent</td>\n",
       "      <td>2022-02-24</td>\n",
       "      <td>62.2</td>\n",
       "      <td>135609050</td>\n",
       "      <td>Yes</td>\n",
       "      <td>NaN</td>\n",
       "      <td>...</td>\n",
       "      <td>M</td>\n",
       "      <td>GIA</td>\n",
       "      <td>3.19</td>\n",
       "      <td>5.11</td>\n",
       "      <td>5.13</td>\n",
       "      <td>Excellent</td>\n",
       "      <td>Round</td>\n",
       "      <td>0.51</td>\n",
       "      <td>Excellent</td>\n",
       "      <td>56.0</td>\n",
       "    </tr>\n",
       "    <tr>\n",
       "      <th>85135</th>\n",
       "      <td>VVS1</td>\n",
       "      <td>F</td>\n",
       "      <td>NaN</td>\n",
       "      <td>N</td>\n",
       "      <td>Excellent</td>\n",
       "      <td>2022-02-24</td>\n",
       "      <td>60.9</td>\n",
       "      <td>119180030</td>\n",
       "      <td>Yes</td>\n",
       "      <td>NaN</td>\n",
       "      <td>...</td>\n",
       "      <td>M</td>\n",
       "      <td>GIA</td>\n",
       "      <td>2.71</td>\n",
       "      <td>4.44</td>\n",
       "      <td>4.47</td>\n",
       "      <td>Excellent</td>\n",
       "      <td>Round</td>\n",
       "      <td>0.33</td>\n",
       "      <td>Excellent</td>\n",
       "      <td>58.0</td>\n",
       "    </tr>\n",
       "  </tbody>\n",
       "</table>\n",
       "<p>5 rows × 26 columns</p>\n",
       "</div>"
      ],
      "text/plain": [
       "       clarity color culet_condition culet_size        cut        date  \\\n",
       "184915     VS1     I             NaN          N  Excellent  2022-02-24   \n",
       "31099     VVS2     I             NaN          N  Very Good  2022-02-24   \n",
       "88835     VVS1     H             NaN        NaN  Excellent  2022-02-24   \n",
       "136539     VS2     E             NaN          N  Excellent  2022-02-24   \n",
       "85135     VVS1     F             NaN          N  Excellent  2022-02-24   \n",
       "\n",
       "        depth_percent  diamond_id eye_clean fancy_color_dominant_color  ...  \\\n",
       "184915           62.5   135151083       Yes                        NaN  ...   \n",
       "31099            61.6   132136654       NaN                        NaN  ...   \n",
       "88835            62.3   130284617       Yes                        NaN  ...   \n",
       "136539           62.2   135609050       Yes                        NaN  ...   \n",
       "85135            60.9   119180030       Yes                        NaN  ...   \n",
       "\n",
       "       girdle_min  lab meas_depth meas_length meas_width     polish  shape  \\\n",
       "184915          M  GIA       4.07        6.50       6.54  Excellent  Round   \n",
       "31099         NaN  GIA       2.63        4.26       4.28  Excellent  Round   \n",
       "88835           M  GIA       2.84        4.54       4.58  Excellent  Round   \n",
       "136539          M  GIA       3.19        5.11       5.13  Excellent  Round   \n",
       "85135           M  GIA       2.71        4.44       4.47  Excellent  Round   \n",
       "\n",
       "        size   symmetry  table_percent  \n",
       "184915  1.08  Excellent           57.0  \n",
       "31099   0.30  Excellent           62.0  \n",
       "88835   0.36  Excellent           57.0  \n",
       "136539  0.51  Excellent           56.0  \n",
       "85135   0.33  Excellent           58.0  \n",
       "\n",
       "[5 rows x 26 columns]"
      ]
     },
     "execution_count": 4,
     "metadata": {},
     "output_type": "execute_result"
    }
   ],
   "source": [
    "X_train.head()"
   ]
  },
  {
   "cell_type": "code",
   "execution_count": 5,
   "id": "03b06da0-3337-44d7-a5eb-4e0961dcd024",
   "metadata": {},
   "outputs": [
    {
     "data": {
      "text/plain": [
       "184915    8753\n",
       "31099      818\n",
       "88835     1326\n",
       "136539    3180\n",
       "85135     1274\n",
       "Name: total_sales_price, dtype: int64"
      ]
     },
     "execution_count": 5,
     "metadata": {},
     "output_type": "execute_result"
    }
   ],
   "source": [
    "y_train.head()"
   ]
  },
  {
   "cell_type": "code",
   "execution_count": 6,
   "id": "c101649d-5c36-4f54-99dd-70c6755307e2",
   "metadata": {},
   "outputs": [
    {
     "data": {
      "text/plain": [
       "clarity                         object\n",
       "color                           object\n",
       "culet_condition                 object\n",
       "culet_size                      object\n",
       "cut                             object\n",
       "date                            object\n",
       "depth_percent                  float64\n",
       "diamond_id                       int64\n",
       "eye_clean                       object\n",
       "fancy_color_dominant_color      object\n",
       "fancy_color_intensity           object\n",
       "fancy_color_overtone            object\n",
       "fancy_color_secondary_color     object\n",
       "fluor_color                     object\n",
       "fluor_intensity                 object\n",
       "girdle_max                      object\n",
       "girdle_min                      object\n",
       "lab                             object\n",
       "meas_depth                     float64\n",
       "meas_length                    float64\n",
       "meas_width                     float64\n",
       "polish                          object\n",
       "shape                           object\n",
       "size                           float64\n",
       "symmetry                        object\n",
       "table_percent                  float64\n",
       "dtype: object"
      ]
     },
     "execution_count": 6,
     "metadata": {},
     "output_type": "execute_result"
    }
   ],
   "source": [
    "X_train.dtypes"
   ]
  },
  {
   "cell_type": "code",
   "execution_count": 7,
   "id": "95265044-51ba-47df-a6c9-47bbf2ebd53d",
   "metadata": {},
   "outputs": [
    {
     "data": {
      "text/plain": [
       "(164778, 26)"
      ]
     },
     "execution_count": 7,
     "metadata": {},
     "output_type": "execute_result"
    }
   ],
   "source": [
    "X_train.shape"
   ]
  },
  {
   "cell_type": "code",
   "execution_count": 8,
   "id": "93598b3c-05dd-47e7-aaf0-d9fdc8c1d38d",
   "metadata": {},
   "outputs": [
    {
     "data": {
      "text/plain": [
       "Index(['clarity', 'color', 'culet_condition', 'culet_size', 'cut', 'date',\n",
       "       'depth_percent', 'diamond_id', 'eye_clean',\n",
       "       'fancy_color_dominant_color', 'fancy_color_intensity',\n",
       "       'fancy_color_overtone', 'fancy_color_secondary_color', 'fluor_color',\n",
       "       'fluor_intensity', 'girdle_max', 'girdle_min', 'lab', 'meas_depth',\n",
       "       'meas_length', 'meas_width', 'polish', 'shape', 'size', 'symmetry',\n",
       "       'table_percent'],\n",
       "      dtype='object')"
      ]
     },
     "execution_count": 8,
     "metadata": {},
     "output_type": "execute_result"
    }
   ],
   "source": [
    "X_train.columns"
   ]
  },
  {
   "cell_type": "code",
   "execution_count": 9,
   "id": "27458783-1626-4ac7-8809-234e14024298",
   "metadata": {},
   "outputs": [
    {
     "name": "stdout",
     "output_type": "stream",
     "text": [
      "<class 'pandas.core.frame.DataFrame'>\n",
      "Int64Index: 164778 entries, 184915 to 190002\n",
      "Data columns (total 26 columns):\n",
      " #   Column                       Non-Null Count   Dtype  \n",
      "---  ------                       --------------   -----  \n",
      " 0   clarity                      164778 non-null  object \n",
      " 1   color                        157897 non-null  object \n",
      " 2   culet_condition              11408 non-null   object \n",
      " 3   culet_size                   100335 non-null  object \n",
      " 4   cut                          119281 non-null  object \n",
      " 5   date                         164778 non-null  object \n",
      " 6   depth_percent                164778 non-null  float64\n",
      " 7   diamond_id                   164778 non-null  int64  \n",
      " 8   eye_clean                    47118 non-null   object \n",
      " 9   fancy_color_dominant_color   6883 non-null    object \n",
      " 10  fancy_color_intensity        6881 non-null    object \n",
      " 11  fancy_color_overtone         1515 non-null    object \n",
      " 12  fancy_color_secondary_color  816 non-null     object \n",
      " 13  fluor_color                  11716 non-null   object \n",
      " 14  fluor_intensity              164684 non-null  object \n",
      " 15  girdle_max                   101393 non-null  object \n",
      " 16  girdle_min                   102052 non-null  object \n",
      " 17  lab                          164778 non-null  object \n",
      " 18  meas_depth                   164778 non-null  float64\n",
      " 19  meas_length                  164778 non-null  float64\n",
      " 20  meas_width                   164778 non-null  float64\n",
      " 21  polish                       164778 non-null  object \n",
      " 22  shape                        164778 non-null  object \n",
      " 23  size                         164778 non-null  float64\n",
      " 24  symmetry                     164778 non-null  object \n",
      " 25  table_percent                164778 non-null  float64\n",
      "dtypes: float64(6), int64(1), object(19)\n",
      "memory usage: 33.9+ MB\n"
     ]
    }
   ],
   "source": [
    "X_train.info()"
   ]
  },
  {
   "cell_type": "code",
   "execution_count": 10,
   "id": "f593e71a-0b1f-40c2-bbbe-3128b4f0ef2f",
   "metadata": {},
   "outputs": [
    {
     "data": {
      "text/plain": [
       "clarity                         0.000000\n",
       "color                           4.175922\n",
       "culet_condition                93.076746\n",
       "culet_size                     39.108983\n",
       "cut                            27.611089\n",
       "date                            0.000000\n",
       "depth_percent                   0.000000\n",
       "diamond_id                      0.000000\n",
       "eye_clean                      71.405163\n",
       "fancy_color_dominant_color     95.822865\n",
       "fancy_color_intensity          95.824078\n",
       "fancy_color_overtone           99.080581\n",
       "fancy_color_secondary_color    99.504788\n",
       "fluor_color                    92.889828\n",
       "fluor_intensity                 0.057046\n",
       "girdle_max                     38.466907\n",
       "girdle_min                     38.066975\n",
       "lab                             0.000000\n",
       "meas_depth                      0.000000\n",
       "meas_length                     0.000000\n",
       "meas_width                      0.000000\n",
       "polish                          0.000000\n",
       "shape                           0.000000\n",
       "size                            0.000000\n",
       "symmetry                        0.000000\n",
       "table_percent                   0.000000\n",
       "dtype: float64"
      ]
     },
     "execution_count": 10,
     "metadata": {},
     "output_type": "execute_result"
    }
   ],
   "source": [
    "X_train.isnull().sum() / X_train.shape[0] * 100"
   ]
  },
  {
   "cell_type": "code",
   "execution_count": 11,
   "id": "bd48e1c0-3c07-4095-8243-0f16a5d5ec61",
   "metadata": {},
   "outputs": [],
   "source": [
    "nb_columns = ['size', 'depth_percent', 'table_percent', 'meas_length', 'meas_width', 'meas_depth', 'total_sales_price']"
   ]
  },
  {
   "cell_type": "code",
   "execution_count": 12,
   "id": "3971c217-a576-4a8a-9c29-8fdb6a43c7e7",
   "metadata": {},
   "outputs": [],
   "source": [
    "cat_columns = ['shape', 'color', 'clarity', 'symmetry', 'polish',  'fluor_intensity', 'lab']"
   ]
  },
  {
   "cell_type": "code",
   "execution_count": 13,
   "id": "bdfeed72-d677-46f7-81a3-5e90ef7ce471",
   "metadata": {},
   "outputs": [
    {
     "data": {
      "text/html": [
       "<div>\n",
       "<style scoped>\n",
       "    .dataframe tbody tr th:only-of-type {\n",
       "        vertical-align: middle;\n",
       "    }\n",
       "\n",
       "    .dataframe tbody tr th {\n",
       "        vertical-align: top;\n",
       "    }\n",
       "\n",
       "    .dataframe thead th {\n",
       "        text-align: right;\n",
       "    }\n",
       "</style>\n",
       "<table border=\"1\" class=\"dataframe\">\n",
       "  <thead>\n",
       "    <tr style=\"text-align: right;\">\n",
       "      <th></th>\n",
       "      <th>depth_percent</th>\n",
       "      <th>diamond_id</th>\n",
       "      <th>meas_depth</th>\n",
       "      <th>meas_length</th>\n",
       "      <th>meas_width</th>\n",
       "      <th>size</th>\n",
       "      <th>table_percent</th>\n",
       "    </tr>\n",
       "  </thead>\n",
       "  <tbody>\n",
       "    <tr>\n",
       "      <th>count</th>\n",
       "      <td>164778.000000</td>\n",
       "      <td>1.647780e+05</td>\n",
       "      <td>164778.000000</td>\n",
       "      <td>164778.000000</td>\n",
       "      <td>164778.000000</td>\n",
       "      <td>164778.000000</td>\n",
       "      <td>164778.000000</td>\n",
       "    </tr>\n",
       "    <tr>\n",
       "      <th>mean</th>\n",
       "      <td>61.660836</td>\n",
       "      <td>1.281314e+08</td>\n",
       "      <td>3.284444</td>\n",
       "      <td>5.547479</td>\n",
       "      <td>5.133804</td>\n",
       "      <td>0.753959</td>\n",
       "      <td>57.746010</td>\n",
       "    </tr>\n",
       "    <tr>\n",
       "      <th>std</th>\n",
       "      <td>9.993382</td>\n",
       "      <td>1.316973e+07</td>\n",
       "      <td>2.050995</td>\n",
       "      <td>1.772234</td>\n",
       "      <td>1.373822</td>\n",
       "      <td>0.840035</td>\n",
       "      <td>9.953842</td>\n",
       "    </tr>\n",
       "    <tr>\n",
       "      <th>min</th>\n",
       "      <td>0.000000</td>\n",
       "      <td>9.666855e+06</td>\n",
       "      <td>0.000000</td>\n",
       "      <td>0.000000</td>\n",
       "      <td>0.000000</td>\n",
       "      <td>0.080000</td>\n",
       "      <td>0.000000</td>\n",
       "    </tr>\n",
       "    <tr>\n",
       "      <th>25%</th>\n",
       "      <td>61.200000</td>\n",
       "      <td>1.275647e+08</td>\n",
       "      <td>2.680000</td>\n",
       "      <td>4.350000</td>\n",
       "      <td>4.310000</td>\n",
       "      <td>0.310000</td>\n",
       "      <td>57.000000</td>\n",
       "    </tr>\n",
       "    <tr>\n",
       "      <th>50%</th>\n",
       "      <td>62.400000</td>\n",
       "      <td>1.326199e+08</td>\n",
       "      <td>3.030000</td>\n",
       "      <td>5.060000</td>\n",
       "      <td>4.800000</td>\n",
       "      <td>0.500000</td>\n",
       "      <td>58.000000</td>\n",
       "    </tr>\n",
       "    <tr>\n",
       "      <th>75%</th>\n",
       "      <td>63.500000</td>\n",
       "      <td>1.348523e+08</td>\n",
       "      <td>3.630000</td>\n",
       "      <td>6.350000</td>\n",
       "      <td>5.700000</td>\n",
       "      <td>1.000000</td>\n",
       "      <td>60.000000</td>\n",
       "    </tr>\n",
       "    <tr>\n",
       "      <th>max</th>\n",
       "      <td>98.700000</td>\n",
       "      <td>1.361475e+08</td>\n",
       "      <td>73.600000</td>\n",
       "      <td>93.660000</td>\n",
       "      <td>62.300000</td>\n",
       "      <td>19.170000</td>\n",
       "      <td>94.000000</td>\n",
       "    </tr>\n",
       "  </tbody>\n",
       "</table>\n",
       "</div>"
      ],
      "text/plain": [
       "       depth_percent    diamond_id     meas_depth    meas_length  \\\n",
       "count  164778.000000  1.647780e+05  164778.000000  164778.000000   \n",
       "mean       61.660836  1.281314e+08       3.284444       5.547479   \n",
       "std         9.993382  1.316973e+07       2.050995       1.772234   \n",
       "min         0.000000  9.666855e+06       0.000000       0.000000   \n",
       "25%        61.200000  1.275647e+08       2.680000       4.350000   \n",
       "50%        62.400000  1.326199e+08       3.030000       5.060000   \n",
       "75%        63.500000  1.348523e+08       3.630000       6.350000   \n",
       "max        98.700000  1.361475e+08      73.600000      93.660000   \n",
       "\n",
       "          meas_width           size  table_percent  \n",
       "count  164778.000000  164778.000000  164778.000000  \n",
       "mean        5.133804       0.753959      57.746010  \n",
       "std         1.373822       0.840035       9.953842  \n",
       "min         0.000000       0.080000       0.000000  \n",
       "25%         4.310000       0.310000      57.000000  \n",
       "50%         4.800000       0.500000      58.000000  \n",
       "75%         5.700000       1.000000      60.000000  \n",
       "max        62.300000      19.170000      94.000000  "
      ]
     },
     "execution_count": 13,
     "metadata": {},
     "output_type": "execute_result"
    }
   ],
   "source": [
    "X_train.describe()"
   ]
  },
  {
   "cell_type": "code",
   "execution_count": 14,
   "id": "eb99c2d5-fa7a-4fc6-ba7d-840b7deded80",
   "metadata": {},
   "outputs": [
    {
     "data": {
      "text/plain": [
       "array(['I', 'H', 'E', 'F', 'G', 'J', 'K', 'L', 'D', 'M', nan],\n",
       "      dtype=object)"
      ]
     },
     "execution_count": 14,
     "metadata": {},
     "output_type": "execute_result"
    }
   ],
   "source": [
    "X_train.color.unique()"
   ]
  },
  {
   "cell_type": "code",
   "execution_count": 15,
   "id": "0ee9548d-5bad-4bcf-9b31-1f72a8ee07ba",
   "metadata": {},
   "outputs": [
    {
     "data": {
      "text/plain": [
       "array(['Round', 'Oval', 'Emerald', 'Princess', 'Asscher', 'Radiant',\n",
       "       'Pear', 'Marquise', 'Heart', 'Cushion Modified', 'Cushion'],\n",
       "      dtype=object)"
      ]
     },
     "execution_count": 15,
     "metadata": {},
     "output_type": "execute_result"
    }
   ],
   "source": [
    "X_train['shape'].unique()"
   ]
  },
  {
   "cell_type": "code",
   "execution_count": 16,
   "id": "04e575b3-b53e-4389-8f50-a573d57cbe5f",
   "metadata": {},
   "outputs": [
    {
     "name": "stderr",
     "output_type": "stream",
     "text": [
      "/usr/local/lib/python3.8/dist-packages/seaborn/_decorators.py:36: FutureWarning: Pass the following variables as keyword args: x, y. From version 0.12, the only valid positional argument will be `data`, and passing other arguments without an explicit keyword will result in an error or misinterpretation.\n",
      "  warnings.warn(\n"
     ]
    },
    {
     "data": {
      "image/png": "[encoded data removed]",
      "text/plain": [
       "<Figure size 432x288 with 1 Axes>"
      ]
     },
     "metadata": {
      "needs_background": "light"
     },
     "output_type": "display_data"
    },
    {
     "name": "stderr",
     "output_type": "stream",
     "text": [
      "/usr/local/lib/python3.8/dist-packages/seaborn/_decorators.py:36: FutureWarning: Pass the following variables as keyword args: x, y. From version 0.12, the only valid positional argument will be `data`, and passing other arguments without an explicit keyword will result in an error or misinterpretation.\n",
      "  warnings.warn(\n"
     ]
    },
    {
     "data": {
      "image/png": "[encoded data removed]",
      "text/plain": [
       "<Figure size 432x288 with 1 Axes>"
      ]
     },
     "metadata": {
      "needs_background": "light"
     },
     "output_type": "display_data"
    },
    {
     "name": "stderr",
     "output_type": "stream",
     "text": [
      "/usr/local/lib/python3.8/dist-packages/seaborn/_decorators.py:36: FutureWarning: Pass the following variables as keyword args: x, y. From version 0.12, the only valid positional argument will be `data`, and passing other arguments without an explicit keyword will result in an error or misinterpretation.\n",
      "  warnings.warn(\n"
     ]
    },
    {
     "data": {
      "image/png": "[encoded data removed]",
      "text/plain": [
       "<Figure size 432x288 with 1 Axes>"
      ]
     },
     "metadata": {
      "needs_background": "light"
     },
     "output_type": "display_data"
    },
    {
     "name": "stderr",
     "output_type": "stream",
     "text": [
      "/usr/local/lib/python3.8/dist-packages/seaborn/_decorators.py:36: FutureWarning: Pass the following variables as keyword args: x, y. From version 0.12, the only valid positional argument will be `data`, and passing other arguments without an explicit keyword will result in an error or misinterpretation.\n",
      "  warnings.warn(\n"
     ]
    },
    {
     "data": {
      "image/png": "[encoded data removed]",
      "text/plain": [
       "<Figure size 432x288 with 1 Axes>"
      ]
     },
     "metadata": {
      "needs_background": "light"
     },
     "output_type": "display_data"
    },
    {
     "name": "stderr",
     "output_type": "stream",
     "text": [
      "/usr/local/lib/python3.8/dist-packages/seaborn/_decorators.py:36: FutureWarning: Pass the following variables as keyword args: x, y. From version 0.12, the only valid positional argument will be `data`, and passing other arguments without an explicit keyword will result in an error or misinterpretation.\n",
      "  warnings.warn(\n"
     ]
    },
    {
     "data": {
      "image/png": "[encoded data removed]",
      "text/plain": [
       "<Figure size 432x288 with 1 Axes>"
      ]
     },
     "metadata": {
      "needs_background": "light"
     },
     "output_type": "display_data"
    },
    {
     "name": "stderr",
     "output_type": "stream",
     "text": [
      "/usr/local/lib/python3.8/dist-packages/seaborn/_decorators.py:36: FutureWarning: Pass the following variables as keyword args: x, y. From version 0.12, the only valid positional argument will be `data`, and passing other arguments without an explicit keyword will result in an error or misinterpretation.\n",
      "  warnings.warn(\n"
     ]
    },
    {
     "data": {
      "image/png": "[encoded data removed]",
      "text/plain": [
       "<Figure size 432x288 with 1 Axes>"
      ]
     },
     "metadata": {
      "needs_background": "light"
     },
     "output_type": "display_data"
    },
    {
     "name": "stderr",
     "output_type": "stream",
     "text": [
      "/usr/local/lib/python3.8/dist-packages/seaborn/_decorators.py:36: FutureWarning: Pass the following variables as keyword args: x, y. From version 0.12, the only valid positional argument will be `data`, and passing other arguments without an explicit keyword will result in an error or misinterpretation.\n",
      "  warnings.warn(\n"
     ]
    },
    {
     "data": {
      "image/png": "[encoded data removed]",
      "text/plain": [
       "<Figure size 432x288 with 1 Axes>"
      ]
     },
     "metadata": {
      "needs_background": "light"
     },
     "output_type": "display_data"
    }
   ],
   "source": [
    "for name in cat_columns:\n",
    "    sbn.barplot(X_train[name].value_counts().index, X_train[name].value_counts()).set_title(name)\n",
    "    plt.show()"
   ]
  },
  {
   "cell_type": "code",
   "execution_count": 17,
   "id": "b84806c5-3c07-4bda-8d79-9626d4641b85",
   "metadata": {},
   "outputs": [
    {
     "data": {
      "text/plain": [
       "clarity\n",
       "I1       5936.429366\n",
       "I2       4481.086957\n",
       "I3       4605.347222\n",
       "IF      10595.147950\n",
       "SI1      6555.078987\n",
       "SI2      6601.171726\n",
       "SI3       375.000000\n",
       "VS1      7455.836508\n",
       "VS2      7500.903322\n",
       "VVS1     5638.073744\n",
       "VVS2     6259.046819\n",
       "Name: total_sales_price, dtype: float64"
      ]
     },
     "execution_count": 17,
     "metadata": {},
     "output_type": "execute_result"
    }
   ],
   "source": [
    "full_training_set = X_train.copy()\n",
    "full_training_set[\"total_sales_price\"] = y_train.copy()\n",
    "\n",
    "full_training_set.groupby([\"clarity\"])['total_sales_price'].mean()"
   ]
  },
  {
   "cell_type": "code",
   "execution_count": 18,
   "id": "ea213a85-a2a8-4d8d-a68b-ca2cbd3ff87f",
   "metadata": {},
   "outputs": [
    {
     "data": {
      "text/plain": [
       "color\n",
       "D    6246.286964\n",
       "E    5242.016637\n",
       "F    5594.104718\n",
       "G    7202.156492\n",
       "H    7505.080783\n",
       "I    6824.023845\n",
       "J    6465.966440\n",
       "K    6231.839433\n",
       "L    5892.036493\n",
       "M    6038.755024\n",
       "Name: total_sales_price, dtype: float64"
      ]
     },
     "execution_count": 18,
     "metadata": {},
     "output_type": "execute_result"
    }
   ],
   "source": [
    "full_training_set.groupby([\"color\"])['total_sales_price'].mean()"
   ]
  },
  {
   "cell_type": "markdown",
   "id": "2910d49c-d073-415f-a2f3-37304537cce5",
   "metadata": {},
   "source": [
    "*color values are coded E been nearly colorless to M been Light Yellow color*\n",
    "\n",
    "Refer to the link for more info https://australiandiamondimporters.com.au/colour/"
   ]
  },
  {
   "cell_type": "code",
   "execution_count": 19,
   "id": "e967248c-5d45-4485-84dc-d98efc4772e5",
   "metadata": {},
   "outputs": [
    {
     "data": {
      "text/plain": [
       "array(['2022-02-24'], dtype=object)"
      ]
     },
     "execution_count": 19,
     "metadata": {},
     "output_type": "execute_result"
    }
   ],
   "source": [
    "full_training_set['date'].unique()"
   ]
  },
  {
   "cell_type": "code",
   "execution_count": 20,
   "id": "48b5f8b9-4ca6-4883-82ba-0b825add7b77",
   "metadata": {},
   "outputs": [
    {
     "data": {
      "image/png": "[encoded data removed]",
      "text/plain": [
       "<Figure size 432x288 with 1 Axes>"
      ]
     },
     "metadata": {
      "needs_background": "light"
     },
     "output_type": "display_data"
    },
    {
     "data": {
      "image/png": "[encoded data removed]",
      "text/plain": [
       "<Figure size 432x288 with 1 Axes>"
      ]
     },
     "metadata": {
      "needs_background": "light"
     },
     "output_type": "display_data"
    },
    {
     "data": {
      "image/png": "[encoded data removed]",
      "text/plain": [
       "<Figure size 432x288 with 1 Axes>"
      ]
     },
     "metadata": {
      "needs_background": "light"
     },
     "output_type": "display_data"
    },
    {
     "data": {
      "image/png": "[encoded data removed]",
      "text/plain": [
       "<Figure size 432x288 with 1 Axes>"
      ]
     },
     "metadata": {
      "needs_background": "light"
     },
     "output_type": "display_data"
    },
    {
     "data": {
      "image/png": "[encoded data removed]",
      "text/plain": [
       "<Figure size 432x288 with 1 Axes>"
      ]
     },
     "metadata": {
      "needs_background": "light"
     },
     "output_type": "display_data"
    },
    {
     "data": {
      "image/png": "[encoded data removed]",
      "text/plain": [
       "<Figure size 432x288 with 1 Axes>"
      ]
     },
     "metadata": {
      "needs_background": "light"
     },
     "output_type": "display_data"
    },
    {
     "data": {
      "image/png": "[encoded data removed]",
      "text/plain": [
       "<Figure size 432x288 with 1 Axes>"
      ]
     },
     "metadata": {
      "needs_background": "light"
     },
     "output_type": "display_data"
    }
   ],
   "source": [
    "for name in nb_columns:\n",
    "    plt.hist(full_training_set[name])\n",
    "    plt.title(name)\n",
    "    plt.show()"
   ]
  },
  {
   "cell_type": "code",
   "execution_count": 21,
   "id": "5ca6f558-0b43-4b27-abe2-fae764ac98bb",
   "metadata": {},
   "outputs": [
    {
     "name": "stdout",
     "output_type": "stream",
     "text": [
      "                       size  depth_percent  table_percent  meas_length  \\\n",
      "size               1.000000       0.061757       0.090937     0.780270   \n",
      "depth_percent      0.061757       1.000000       0.677299     0.129974   \n",
      "table_percent      0.090937       0.677299       1.000000     0.166504   \n",
      "meas_length        0.780270       0.129974       0.166504     1.000000   \n",
      "meas_width         0.788745       0.122209       0.145330     0.787047   \n",
      "meas_depth         0.351258       0.086484       0.084161     0.340777   \n",
      "total_sales_price  0.743906       0.025560       0.045988     0.488217   \n",
      "\n",
      "                   meas_width  meas_depth  total_sales_price  \n",
      "size                 0.788745    0.351258           0.743906  \n",
      "depth_percent        0.122209    0.086484           0.025560  \n",
      "table_percent        0.145330    0.084161           0.045988  \n",
      "meas_length          0.787047    0.340777           0.488217  \n",
      "meas_width           1.000000    0.413385           0.505036  \n",
      "meas_depth           0.413385    1.000000           0.216445  \n",
      "total_sales_price    0.505036    0.216445           1.000000  \n"
     ]
    },
    {
     "data": {
      "text/plain": [
       "<AxesSubplot:>"
      ]
     },
     "execution_count": 21,
     "metadata": {},
     "output_type": "execute_result"
    },
    {
     "data": {
      "image/png": "[encoded data removed]",
      "text/plain": [
       "<Figure size 432x288 with 2 Axes>"
      ]
     },
     "metadata": {
      "needs_background": "light"
     },
     "output_type": "display_data"
    }
   ],
   "source": [
    "corr = full_training_set[nb_columns].corr()\n",
    "print(corr)\n",
    "sbn.heatmap(corr)"
   ]
  },
  {
   "cell_type": "code",
   "execution_count": 22,
   "id": "8eefa40d-0a9d-4b47-bb44-9d1a4380da68",
   "metadata": {},
   "outputs": [
    {
     "data": {
      "text/html": [
       "<div>\n",
       "<style scoped>\n",
       "    .dataframe tbody tr th:only-of-type {\n",
       "        vertical-align: middle;\n",
       "    }\n",
       "\n",
       "    .dataframe tbody tr th {\n",
       "        vertical-align: top;\n",
       "    }\n",
       "\n",
       "    .dataframe thead th {\n",
       "        text-align: right;\n",
       "    }\n",
       "</style>\n",
       "<table border=\"1\" class=\"dataframe\">\n",
       "  <thead>\n",
       "    <tr style=\"text-align: right;\">\n",
       "      <th></th>\n",
       "      <th>depth_percent</th>\n",
       "      <th>meas_depth</th>\n",
       "      <th>meas_length</th>\n",
       "      <th>size</th>\n",
       "      <th>table_percent</th>\n",
       "      <th>total_sales_price</th>\n",
       "    </tr>\n",
       "    <tr>\n",
       "      <th>color</th>\n",
       "      <th></th>\n",
       "      <th></th>\n",
       "      <th></th>\n",
       "      <th></th>\n",
       "      <th></th>\n",
       "      <th></th>\n",
       "    </tr>\n",
       "  </thead>\n",
       "  <tbody>\n",
       "    <tr>\n",
       "      <th>D</th>\n",
       "      <td>61.188992</td>\n",
       "      <td>3.106352</td>\n",
       "      <td>5.290584</td>\n",
       "      <td>0.600933</td>\n",
       "      <td>57.738483</td>\n",
       "      <td>6246.286964</td>\n",
       "    </tr>\n",
       "    <tr>\n",
       "      <th>E</th>\n",
       "      <td>61.517898</td>\n",
       "      <td>3.042291</td>\n",
       "      <td>5.125857</td>\n",
       "      <td>0.574635</td>\n",
       "      <td>57.726642</td>\n",
       "      <td>5242.016637</td>\n",
       "    </tr>\n",
       "    <tr>\n",
       "      <th>F</th>\n",
       "      <td>61.795590</td>\n",
       "      <td>3.130505</td>\n",
       "      <td>5.244501</td>\n",
       "      <td>0.621160</td>\n",
       "      <td>58.067272</td>\n",
       "      <td>5594.104718</td>\n",
       "    </tr>\n",
       "    <tr>\n",
       "      <th>G</th>\n",
       "      <td>61.764828</td>\n",
       "      <td>3.308026</td>\n",
       "      <td>5.552178</td>\n",
       "      <td>0.740800</td>\n",
       "      <td>57.812989</td>\n",
       "      <td>7202.156492</td>\n",
       "    </tr>\n",
       "    <tr>\n",
       "      <th>H</th>\n",
       "      <td>61.635369</td>\n",
       "      <td>3.404352</td>\n",
       "      <td>5.688442</td>\n",
       "      <td>0.806446</td>\n",
       "      <td>57.934241</td>\n",
       "      <td>7505.080783</td>\n",
       "    </tr>\n",
       "    <tr>\n",
       "      <th>I</th>\n",
       "      <td>61.536359</td>\n",
       "      <td>3.437654</td>\n",
       "      <td>5.734967</td>\n",
       "      <td>0.831386</td>\n",
       "      <td>57.750268</td>\n",
       "      <td>6824.023845</td>\n",
       "    </tr>\n",
       "    <tr>\n",
       "      <th>J</th>\n",
       "      <td>61.767698</td>\n",
       "      <td>3.489951</td>\n",
       "      <td>5.916931</td>\n",
       "      <td>0.901471</td>\n",
       "      <td>57.888471</td>\n",
       "      <td>6465.966440</td>\n",
       "    </tr>\n",
       "    <tr>\n",
       "      <th>K</th>\n",
       "      <td>61.869734</td>\n",
       "      <td>3.470052</td>\n",
       "      <td>5.916214</td>\n",
       "      <td>0.937944</td>\n",
       "      <td>57.584942</td>\n",
       "      <td>6231.839433</td>\n",
       "    </tr>\n",
       "    <tr>\n",
       "      <th>L</th>\n",
       "      <td>61.596848</td>\n",
       "      <td>3.602000</td>\n",
       "      <td>6.070720</td>\n",
       "      <td>1.019384</td>\n",
       "      <td>57.380614</td>\n",
       "      <td>5892.036493</td>\n",
       "    </tr>\n",
       "    <tr>\n",
       "      <th>M</th>\n",
       "      <td>61.051774</td>\n",
       "      <td>3.680171</td>\n",
       "      <td>6.224788</td>\n",
       "      <td>1.124220</td>\n",
       "      <td>56.854143</td>\n",
       "      <td>6038.755024</td>\n",
       "    </tr>\n",
       "  </tbody>\n",
       "</table>\n",
       "</div>"
      ],
      "text/plain": [
       "       depth_percent  meas_depth  meas_length      size  table_percent  \\\n",
       "color                                                                    \n",
       "D          61.188992    3.106352     5.290584  0.600933      57.738483   \n",
       "E          61.517898    3.042291     5.125857  0.574635      57.726642   \n",
       "F          61.795590    3.130505     5.244501  0.621160      58.067272   \n",
       "G          61.764828    3.308026     5.552178  0.740800      57.812989   \n",
       "H          61.635369    3.404352     5.688442  0.806446      57.934241   \n",
       "I          61.536359    3.437654     5.734967  0.831386      57.750268   \n",
       "J          61.767698    3.489951     5.916931  0.901471      57.888471   \n",
       "K          61.869734    3.470052     5.916214  0.937944      57.584942   \n",
       "L          61.596848    3.602000     6.070720  1.019384      57.380614   \n",
       "M          61.051774    3.680171     6.224788  1.124220      56.854143   \n",
       "\n",
       "       total_sales_price  \n",
       "color                     \n",
       "D            6246.286964  \n",
       "E            5242.016637  \n",
       "F            5594.104718  \n",
       "G            7202.156492  \n",
       "H            7505.080783  \n",
       "I            6824.023845  \n",
       "J            6465.966440  \n",
       "K            6231.839433  \n",
       "L            5892.036493  \n",
       "M            6038.755024  "
      ]
     },
     "execution_count": 22,
     "metadata": {},
     "output_type": "execute_result"
    }
   ],
   "source": [
    "pd.pivot_table(full_training_set, index=\"color\", values=[\"size\", \"depth_percent\", \"table_percent\", \"meas_length\", \"meas_depth\", \"total_sales_price\"])"
   ]
  },
  {
   "cell_type": "code",
   "execution_count": 23,
   "id": "536d00fc-126b-4b87-a087-e1c808c9e0be",
   "metadata": {},
   "outputs": [
    {
     "data": {
      "text/html": [
       "<div>\n",
       "<style scoped>\n",
       "    .dataframe tbody tr th:only-of-type {\n",
       "        vertical-align: middle;\n",
       "    }\n",
       "\n",
       "    .dataframe tbody tr th {\n",
       "        vertical-align: top;\n",
       "    }\n",
       "\n",
       "    .dataframe thead th {\n",
       "        text-align: right;\n",
       "    }\n",
       "</style>\n",
       "<table border=\"1\" class=\"dataframe\">\n",
       "  <thead>\n",
       "    <tr style=\"text-align: right;\">\n",
       "      <th></th>\n",
       "      <th>depth_percent</th>\n",
       "      <th>meas_depth</th>\n",
       "      <th>meas_length</th>\n",
       "      <th>size</th>\n",
       "      <th>table_percent</th>\n",
       "      <th>total_sales_price</th>\n",
       "    </tr>\n",
       "    <tr>\n",
       "      <th>cut</th>\n",
       "      <th></th>\n",
       "      <th></th>\n",
       "      <th></th>\n",
       "      <th></th>\n",
       "      <th></th>\n",
       "      <th></th>\n",
       "    </tr>\n",
       "  </thead>\n",
       "  <tbody>\n",
       "    <tr>\n",
       "      <th>Excellent</th>\n",
       "      <td>60.681784</td>\n",
       "      <td>3.206050</td>\n",
       "      <td>5.096081</td>\n",
       "      <td>0.623484</td>\n",
       "      <td>56.517184</td>\n",
       "      <td>5357.105459</td>\n",
       "    </tr>\n",
       "    <tr>\n",
       "      <th>Fair</th>\n",
       "      <td>61.950000</td>\n",
       "      <td>3.155000</td>\n",
       "      <td>5.110000</td>\n",
       "      <td>0.530000</td>\n",
       "      <td>63.000000</td>\n",
       "      <td>1029.000000</td>\n",
       "    </tr>\n",
       "    <tr>\n",
       "      <th>Good</th>\n",
       "      <td>61.860000</td>\n",
       "      <td>4.032500</td>\n",
       "      <td>7.359500</td>\n",
       "      <td>1.386500</td>\n",
       "      <td>58.875000</td>\n",
       "      <td>7904.150000</td>\n",
       "    </tr>\n",
       "    <tr>\n",
       "      <th>Ideal</th>\n",
       "      <td>69.800000</td>\n",
       "      <td>3.330000</td>\n",
       "      <td>6.250000</td>\n",
       "      <td>0.900000</td>\n",
       "      <td>64.000000</td>\n",
       "      <td>3767.000000</td>\n",
       "    </tr>\n",
       "    <tr>\n",
       "      <th>None</th>\n",
       "      <td>67.400000</td>\n",
       "      <td>3.020000</td>\n",
       "      <td>8.580000</td>\n",
       "      <td>0.700000</td>\n",
       "      <td>56.500000</td>\n",
       "      <td>966.000000</td>\n",
       "    </tr>\n",
       "    <tr>\n",
       "      <th>Very Good</th>\n",
       "      <td>60.711079</td>\n",
       "      <td>3.255683</td>\n",
       "      <td>5.056495</td>\n",
       "      <td>0.617193</td>\n",
       "      <td>56.196827</td>\n",
       "      <td>3977.104021</td>\n",
       "    </tr>\n",
       "  </tbody>\n",
       "</table>\n",
       "</div>"
      ],
      "text/plain": [
       "           depth_percent  meas_depth  meas_length      size  table_percent  \\\n",
       "cut                                                                          \n",
       "Excellent      60.681784    3.206050     5.096081  0.623484      56.517184   \n",
       "Fair           61.950000    3.155000     5.110000  0.530000      63.000000   \n",
       "Good           61.860000    4.032500     7.359500  1.386500      58.875000   \n",
       "Ideal          69.800000    3.330000     6.250000  0.900000      64.000000   \n",
       "None           67.400000    3.020000     8.580000  0.700000      56.500000   \n",
       "Very Good      60.711079    3.255683     5.056495  0.617193      56.196827   \n",
       "\n",
       "           total_sales_price  \n",
       "cut                           \n",
       "Excellent        5357.105459  \n",
       "Fair             1029.000000  \n",
       "Good             7904.150000  \n",
       "Ideal            3767.000000  \n",
       "None              966.000000  \n",
       "Very Good        3977.104021  "
      ]
     },
     "execution_count": 23,
     "metadata": {},
     "output_type": "execute_result"
    }
   ],
   "source": [
    "pd.pivot_table(full_training_set, index=\"cut\", values=[\"size\", \"depth_percent\", \"table_percent\", \"meas_length\", \"meas_depth\", \"total_sales_price\"])"
   ]
  },
  {
   "cell_type": "markdown",
   "id": "59ac92a1-6611-4292-a910-193f8b890387",
   "metadata": {},
   "source": [
    "## Observations:\n",
    "\n",
    "### Missing values\n",
    "- fancy_color columns, culet_condition, fluor_color and eye_clean columns have more than 70% missing values so I will discard them for this analysis\n",
    "- cut, girdle_min, girdle_max and culet_size has around 30% missing values might be removed\n",
    "- fluor_intensity, color have really small missing value that need to be handled\n",
    "\n",
    "### Feature\n",
    "- Round shape diamond are dominant\n",
    "- most diamonds tends to be colorless color\n",
    "- prices from 200 USD -> 1.4M USD (excluding taxes)\n",
    "- date has only one value feb 2022 can be discarded\n",
    "- price is mostly correlated to size meas_width, meas_length\n",
    "- clarity feature seems to impact the price as well"
   ]
  },
  {
   "cell_type": "markdown",
   "id": "e7bf9145-251f-48d4-95ff-9f49052f739e",
   "metadata": {},
   "source": [
    "   # Feature enginnering\n",
    "   "
   ]
  },
  {
   "cell_type": "code",
   "execution_count": 24,
   "id": "53db7b3c-c3d9-49f3-8128-5f7f17a28dff",
   "metadata": {},
   "outputs": [
    {
     "name": "stdout",
     "output_type": "stream",
     "text": [
      "Index(['clarity', 'color', 'culet_condition', 'culet_size', 'cut', 'date',\n",
      "       'depth_percent', 'diamond_id', 'eye_clean',\n",
      "       'fancy_color_dominant_color', 'fancy_color_intensity',\n",
      "       'fancy_color_overtone', 'fancy_color_secondary_color', 'fluor_color',\n",
      "       'fluor_intensity', 'girdle_max', 'girdle_min', 'lab', 'meas_depth',\n",
      "       'meas_length', 'meas_width', 'polish', 'shape', 'size', 'symmetry',\n",
      "       'table_percent'],\n",
      "      dtype='object')\n"
     ]
    }
   ],
   "source": [
    "print(X_train.columns)\n",
    "X_train_simplify = X_train.drop(columns = [\"fancy_color_dominant_color\", \"fancy_color_secondary_color\", \"fancy_color_overtone\", \"fancy_color_intensity\", \"culet_condition\", \"fluor_color\", \"eye_clean\", \"date\", \"girdle_min\", \"girdle_max\", \"culet_size\", \"cut\"]).copy()"
   ]
  },
  {
   "cell_type": "code",
   "execution_count": 25,
   "id": "dd72c1d7-8a40-400e-997d-9690934cfd67",
   "metadata": {},
   "outputs": [
    {
     "data": {
      "text/plain": [
       "Index(['clarity', 'color', 'depth_percent', 'diamond_id', 'fluor_intensity',\n",
       "       'lab', 'meas_depth', 'meas_length', 'meas_width', 'polish', 'shape',\n",
       "       'size', 'symmetry', 'table_percent'],\n",
       "      dtype='object')"
      ]
     },
     "execution_count": 25,
     "metadata": {},
     "output_type": "execute_result"
    }
   ],
   "source": [
    "X_train_simplify.columns"
   ]
  },
  {
   "cell_type": "code",
   "execution_count": 26,
   "id": "f950c8d8-a22b-4ec2-9d58-31653413d4e4",
   "metadata": {},
   "outputs": [],
   "source": [
    "X_train_simplify[\"is_expensive\"] = y_train.apply(lambda x: 1 if x > y_train.mean() else 0)"
   ]
  },
  {
   "cell_type": "code",
   "execution_count": 27,
   "id": "bf811b46-bf92-48df-976d-e453caed74c1",
   "metadata": {},
   "outputs": [
    {
     "data": {
      "text/html": [
       "<div>\n",
       "<style scoped>\n",
       "    .dataframe tbody tr th:only-of-type {\n",
       "        vertical-align: middle;\n",
       "    }\n",
       "\n",
       "    .dataframe tbody tr th {\n",
       "        vertical-align: top;\n",
       "    }\n",
       "\n",
       "    .dataframe thead th {\n",
       "        text-align: right;\n",
       "    }\n",
       "</style>\n",
       "<table border=\"1\" class=\"dataframe\">\n",
       "  <thead>\n",
       "    <tr style=\"text-align: right;\">\n",
       "      <th></th>\n",
       "      <th>clarity</th>\n",
       "      <th>color</th>\n",
       "      <th>depth_percent</th>\n",
       "      <th>diamond_id</th>\n",
       "      <th>fluor_intensity</th>\n",
       "      <th>lab</th>\n",
       "      <th>meas_depth</th>\n",
       "      <th>meas_length</th>\n",
       "      <th>meas_width</th>\n",
       "      <th>polish</th>\n",
       "      <th>shape</th>\n",
       "      <th>size</th>\n",
       "      <th>symmetry</th>\n",
       "      <th>table_percent</th>\n",
       "      <th>is_expensive</th>\n",
       "    </tr>\n",
       "  </thead>\n",
       "  <tbody>\n",
       "    <tr>\n",
       "      <th>184915</th>\n",
       "      <td>VS1</td>\n",
       "      <td>I</td>\n",
       "      <td>62.5</td>\n",
       "      <td>135151083</td>\n",
       "      <td>Faint</td>\n",
       "      <td>GIA</td>\n",
       "      <td>4.07</td>\n",
       "      <td>6.50</td>\n",
       "      <td>6.54</td>\n",
       "      <td>Excellent</td>\n",
       "      <td>Round</td>\n",
       "      <td>1.08</td>\n",
       "      <td>Excellent</td>\n",
       "      <td>57.0</td>\n",
       "      <td>1</td>\n",
       "    </tr>\n",
       "    <tr>\n",
       "      <th>31099</th>\n",
       "      <td>VVS2</td>\n",
       "      <td>I</td>\n",
       "      <td>61.6</td>\n",
       "      <td>132136654</td>\n",
       "      <td>Faint</td>\n",
       "      <td>GIA</td>\n",
       "      <td>2.63</td>\n",
       "      <td>4.26</td>\n",
       "      <td>4.28</td>\n",
       "      <td>Excellent</td>\n",
       "      <td>Round</td>\n",
       "      <td>0.30</td>\n",
       "      <td>Excellent</td>\n",
       "      <td>62.0</td>\n",
       "      <td>0</td>\n",
       "    </tr>\n",
       "    <tr>\n",
       "      <th>88835</th>\n",
       "      <td>VVS1</td>\n",
       "      <td>H</td>\n",
       "      <td>62.3</td>\n",
       "      <td>130284617</td>\n",
       "      <td>None</td>\n",
       "      <td>GIA</td>\n",
       "      <td>2.84</td>\n",
       "      <td>4.54</td>\n",
       "      <td>4.58</td>\n",
       "      <td>Excellent</td>\n",
       "      <td>Round</td>\n",
       "      <td>0.36</td>\n",
       "      <td>Excellent</td>\n",
       "      <td>57.0</td>\n",
       "      <td>0</td>\n",
       "    </tr>\n",
       "    <tr>\n",
       "      <th>136539</th>\n",
       "      <td>VS2</td>\n",
       "      <td>E</td>\n",
       "      <td>62.2</td>\n",
       "      <td>135609050</td>\n",
       "      <td>None</td>\n",
       "      <td>GIA</td>\n",
       "      <td>3.19</td>\n",
       "      <td>5.11</td>\n",
       "      <td>5.13</td>\n",
       "      <td>Excellent</td>\n",
       "      <td>Round</td>\n",
       "      <td>0.51</td>\n",
       "      <td>Excellent</td>\n",
       "      <td>56.0</td>\n",
       "      <td>0</td>\n",
       "    </tr>\n",
       "    <tr>\n",
       "      <th>85135</th>\n",
       "      <td>VVS1</td>\n",
       "      <td>F</td>\n",
       "      <td>60.9</td>\n",
       "      <td>119180030</td>\n",
       "      <td>None</td>\n",
       "      <td>GIA</td>\n",
       "      <td>2.71</td>\n",
       "      <td>4.44</td>\n",
       "      <td>4.47</td>\n",
       "      <td>Excellent</td>\n",
       "      <td>Round</td>\n",
       "      <td>0.33</td>\n",
       "      <td>Excellent</td>\n",
       "      <td>58.0</td>\n",
       "      <td>0</td>\n",
       "    </tr>\n",
       "    <tr>\n",
       "      <th>...</th>\n",
       "      <td>...</td>\n",
       "      <td>...</td>\n",
       "      <td>...</td>\n",
       "      <td>...</td>\n",
       "      <td>...</td>\n",
       "      <td>...</td>\n",
       "      <td>...</td>\n",
       "      <td>...</td>\n",
       "      <td>...</td>\n",
       "      <td>...</td>\n",
       "      <td>...</td>\n",
       "      <td>...</td>\n",
       "      <td>...</td>\n",
       "      <td>...</td>\n",
       "      <td>...</td>\n",
       "    </tr>\n",
       "    <tr>\n",
       "      <th>996</th>\n",
       "      <td>VS2</td>\n",
       "      <td>L</td>\n",
       "      <td>63.2</td>\n",
       "      <td>132851013</td>\n",
       "      <td>Medium</td>\n",
       "      <td>GIA</td>\n",
       "      <td>2.42</td>\n",
       "      <td>7.63</td>\n",
       "      <td>3.83</td>\n",
       "      <td>Very Good</td>\n",
       "      <td>Marquise</td>\n",
       "      <td>0.41</td>\n",
       "      <td>Very Good</td>\n",
       "      <td>65.0</td>\n",
       "      <td>0</td>\n",
       "    </tr>\n",
       "    <tr>\n",
       "      <th>106614</th>\n",
       "      <td>SI2</td>\n",
       "      <td>E</td>\n",
       "      <td>64.4</td>\n",
       "      <td>135977437</td>\n",
       "      <td>None</td>\n",
       "      <td>GIA</td>\n",
       "      <td>3.20</td>\n",
       "      <td>4.96</td>\n",
       "      <td>4.99</td>\n",
       "      <td>Excellent</td>\n",
       "      <td>Round</td>\n",
       "      <td>0.50</td>\n",
       "      <td>Very Good</td>\n",
       "      <td>59.0</td>\n",
       "      <td>0</td>\n",
       "    </tr>\n",
       "    <tr>\n",
       "      <th>72409</th>\n",
       "      <td>VVS1</td>\n",
       "      <td>D</td>\n",
       "      <td>59.9</td>\n",
       "      <td>127570027</td>\n",
       "      <td>Faint</td>\n",
       "      <td>GIA</td>\n",
       "      <td>2.46</td>\n",
       "      <td>4.09</td>\n",
       "      <td>4.13</td>\n",
       "      <td>Excellent</td>\n",
       "      <td>Round</td>\n",
       "      <td>0.25</td>\n",
       "      <td>Excellent</td>\n",
       "      <td>59.0</td>\n",
       "      <td>0</td>\n",
       "    </tr>\n",
       "    <tr>\n",
       "      <th>123680</th>\n",
       "      <td>SI1</td>\n",
       "      <td>F</td>\n",
       "      <td>64.2</td>\n",
       "      <td>134992774</td>\n",
       "      <td>None</td>\n",
       "      <td>GIA</td>\n",
       "      <td>3.19</td>\n",
       "      <td>4.93</td>\n",
       "      <td>5.00</td>\n",
       "      <td>Very Good</td>\n",
       "      <td>Round</td>\n",
       "      <td>0.51</td>\n",
       "      <td>Very Good</td>\n",
       "      <td>58.0</td>\n",
       "      <td>0</td>\n",
       "    </tr>\n",
       "    <tr>\n",
       "      <th>190002</th>\n",
       "      <td>VS2</td>\n",
       "      <td>H</td>\n",
       "      <td>63.0</td>\n",
       "      <td>136078824</td>\n",
       "      <td>None</td>\n",
       "      <td>GIA</td>\n",
       "      <td>4.00</td>\n",
       "      <td>6.33</td>\n",
       "      <td>6.37</td>\n",
       "      <td>Excellent</td>\n",
       "      <td>Round</td>\n",
       "      <td>1.00</td>\n",
       "      <td>Excellent</td>\n",
       "      <td>58.0</td>\n",
       "      <td>1</td>\n",
       "    </tr>\n",
       "  </tbody>\n",
       "</table>\n",
       "<p>164778 rows × 15 columns</p>\n",
       "</div>"
      ],
      "text/plain": [
       "       clarity color  depth_percent  diamond_id fluor_intensity  lab  \\\n",
       "184915     VS1     I           62.5   135151083           Faint  GIA   \n",
       "31099     VVS2     I           61.6   132136654           Faint  GIA   \n",
       "88835     VVS1     H           62.3   130284617            None  GIA   \n",
       "136539     VS2     E           62.2   135609050            None  GIA   \n",
       "85135     VVS1     F           60.9   119180030            None  GIA   \n",
       "...        ...   ...            ...         ...             ...  ...   \n",
       "996        VS2     L           63.2   132851013          Medium  GIA   \n",
       "106614     SI2     E           64.4   135977437            None  GIA   \n",
       "72409     VVS1     D           59.9   127570027           Faint  GIA   \n",
       "123680     SI1     F           64.2   134992774            None  GIA   \n",
       "190002     VS2     H           63.0   136078824            None  GIA   \n",
       "\n",
       "        meas_depth  meas_length  meas_width     polish     shape  size  \\\n",
       "184915        4.07         6.50        6.54  Excellent     Round  1.08   \n",
       "31099         2.63         4.26        4.28  Excellent     Round  0.30   \n",
       "88835         2.84         4.54        4.58  Excellent     Round  0.36   \n",
       "136539        3.19         5.11        5.13  Excellent     Round  0.51   \n",
       "85135         2.71         4.44        4.47  Excellent     Round  0.33   \n",
       "...            ...          ...         ...        ...       ...   ...   \n",
       "996           2.42         7.63        3.83  Very Good  Marquise  0.41   \n",
       "106614        3.20         4.96        4.99  Excellent     Round  0.50   \n",
       "72409         2.46         4.09        4.13  Excellent     Round  0.25   \n",
       "123680        3.19         4.93        5.00  Very Good     Round  0.51   \n",
       "190002        4.00         6.33        6.37  Excellent     Round  1.00   \n",
       "\n",
       "         symmetry  table_percent  is_expensive  \n",
       "184915  Excellent           57.0             1  \n",
       "31099   Excellent           62.0             0  \n",
       "88835   Excellent           57.0             0  \n",
       "136539  Excellent           56.0             0  \n",
       "85135   Excellent           58.0             0  \n",
       "...           ...            ...           ...  \n",
       "996     Very Good           65.0             0  \n",
       "106614  Very Good           59.0             0  \n",
       "72409   Excellent           59.0             0  \n",
       "123680  Very Good           58.0             0  \n",
       "190002  Excellent           58.0             1  \n",
       "\n",
       "[164778 rows x 15 columns]"
      ]
     },
     "execution_count": 27,
     "metadata": {},
     "output_type": "execute_result"
    }
   ],
   "source": [
    "X_train_simplify"
   ]
  },
  {
   "cell_type": "code",
   "execution_count": 28,
   "id": "2bba2705-cd6b-4da1-bcb8-d1c7d4faf06e",
   "metadata": {},
   "outputs": [
    {
     "data": {
      "text/html": [
       "<div>\n",
       "<style scoped>\n",
       "    .dataframe tbody tr th:only-of-type {\n",
       "        vertical-align: middle;\n",
       "    }\n",
       "\n",
       "    .dataframe tbody tr th {\n",
       "        vertical-align: top;\n",
       "    }\n",
       "\n",
       "    .dataframe thead th {\n",
       "        text-align: right;\n",
       "    }\n",
       "</style>\n",
       "<table border=\"1\" class=\"dataframe\">\n",
       "  <thead>\n",
       "    <tr style=\"text-align: right;\">\n",
       "      <th></th>\n",
       "      <th>depth_percent</th>\n",
       "      <th>meas_depth</th>\n",
       "      <th>meas_length</th>\n",
       "      <th>size</th>\n",
       "      <th>table_percent</th>\n",
       "    </tr>\n",
       "    <tr>\n",
       "      <th>is_expensive</th>\n",
       "      <th></th>\n",
       "      <th></th>\n",
       "      <th></th>\n",
       "      <th></th>\n",
       "      <th></th>\n",
       "    </tr>\n",
       "  </thead>\n",
       "  <tbody>\n",
       "    <tr>\n",
       "      <th>0</th>\n",
       "      <td>61.353404</td>\n",
       "      <td>2.971243</td>\n",
       "      <td>4.972017</td>\n",
       "      <td>0.481039</td>\n",
       "      <td>57.300214</td>\n",
       "    </tr>\n",
       "    <tr>\n",
       "      <th>1</th>\n",
       "      <td>62.882290</td>\n",
       "      <td>4.528817</td>\n",
       "      <td>7.833835</td>\n",
       "      <td>1.838294</td>\n",
       "      <td>59.517196</td>\n",
       "    </tr>\n",
       "  </tbody>\n",
       "</table>\n",
       "</div>"
      ],
      "text/plain": [
       "              depth_percent  meas_depth  meas_length      size  table_percent\n",
       "is_expensive                                                                 \n",
       "0                 61.353404    2.971243     4.972017  0.481039      57.300214\n",
       "1                 62.882290    4.528817     7.833835  1.838294      59.517196"
      ]
     },
     "execution_count": 28,
     "metadata": {},
     "output_type": "execute_result"
    }
   ],
   "source": [
    "pd.pivot_table(X_train_simplify, index=\"is_expensive\", values=[\"size\", \"depth_percent\", \"table_percent\", \"meas_length\", \"meas_depth\"])"
   ]
  },
  {
   "cell_type": "code",
   "execution_count": 29,
   "id": "446c15f6-7b16-4e85-8ee9-c59b0555df86",
   "metadata": {},
   "outputs": [],
   "source": [
    "X_full_train_simplify = X_train_simplify.copy()\n",
    "X_full_train_simplify[\"total_sales_price\"] = y_train.copy()"
   ]
  },
  {
   "cell_type": "code",
   "execution_count": 30,
   "id": "7e80050c-563b-48c0-8c8d-c36825c80e23",
   "metadata": {},
   "outputs": [
    {
     "name": "stdout",
     "output_type": "stream",
     "text": [
      "color                    D             E             F             G  \\\n",
      "is_expensive                                                           \n",
      "0              1905.924844   1749.323704   1895.271619   2129.175302   \n",
      "1             28250.541941  25464.375171  24433.849076  25215.726743   \n",
      "\n",
      "color                    H             I             J             K  \\\n",
      "is_expensive                                                           \n",
      "0              2254.099694   2147.853393   2094.737016   1928.475928   \n",
      "1             25015.329125  23949.569797  23005.798183  26351.101608   \n",
      "\n",
      "color                    L             M  \n",
      "is_expensive                              \n",
      "0              2077.958465   2143.808038  \n",
      "1             24156.709191  22479.256696  \n"
     ]
    }
   ],
   "source": [
    "print(pd.pivot_table(X_full_train_simplify, index=\"is_expensive\", columns=\"color\", values=\"total_sales_price\"))"
   ]
  },
  {
   "cell_type": "code",
   "execution_count": 31,
   "id": "1c68d4fd-0f58-4dc4-a8c7-20d8a60d041d",
   "metadata": {},
   "outputs": [],
   "source": [
    "X_train_simplify[\"is_big\"] = X_train_simplify[\"size\"].apply(lambda x: 1 if x > X_train_simplify[\"size\"].mean() else 0)"
   ]
  },
  {
   "cell_type": "code",
   "execution_count": 32,
   "id": "38a970d6-b001-428f-9be3-585c0d4bb558",
   "metadata": {},
   "outputs": [
    {
     "data": {
      "text/html": [
       "<div>\n",
       "<style scoped>\n",
       "    .dataframe tbody tr th:only-of-type {\n",
       "        vertical-align: middle;\n",
       "    }\n",
       "\n",
       "    .dataframe tbody tr th {\n",
       "        vertical-align: top;\n",
       "    }\n",
       "\n",
       "    .dataframe thead th {\n",
       "        text-align: right;\n",
       "    }\n",
       "</style>\n",
       "<table border=\"1\" class=\"dataframe\">\n",
       "  <thead>\n",
       "    <tr style=\"text-align: right;\">\n",
       "      <th></th>\n",
       "      <th>depth_percent</th>\n",
       "      <th>diamond_id</th>\n",
       "      <th>meas_depth</th>\n",
       "      <th>meas_length</th>\n",
       "      <th>meas_width</th>\n",
       "      <th>size</th>\n",
       "      <th>table_percent</th>\n",
       "      <th>is_expensive</th>\n",
       "      <th>total_sales_price</th>\n",
       "    </tr>\n",
       "    <tr>\n",
       "      <th>is_big</th>\n",
       "      <th></th>\n",
       "      <th></th>\n",
       "      <th></th>\n",
       "      <th></th>\n",
       "      <th></th>\n",
       "      <th></th>\n",
       "      <th></th>\n",
       "      <th></th>\n",
       "      <th></th>\n",
       "    </tr>\n",
       "  </thead>\n",
       "  <tbody>\n",
       "    <tr>\n",
       "      <th>0</th>\n",
       "      <td>61.137766</td>\n",
       "      <td>1.293627e+08</td>\n",
       "      <td>2.847393</td>\n",
       "      <td>4.729041</td>\n",
       "      <td>4.508358</td>\n",
       "      <td>0.404696</td>\n",
       "      <td>57.022120</td>\n",
       "      <td>0.006671</td>\n",
       "      <td>1717.279533</td>\n",
       "    </tr>\n",
       "    <tr>\n",
       "      <th>1</th>\n",
       "      <td>62.868360</td>\n",
       "      <td>1.252890e+08</td>\n",
       "      <td>4.293389</td>\n",
       "      <td>7.436869</td>\n",
       "      <td>6.577663</td>\n",
       "      <td>1.560243</td>\n",
       "      <td>59.417134</td>\n",
       "      <td>0.649888</td>\n",
       "      <td>18782.282507</td>\n",
       "    </tr>\n",
       "  </tbody>\n",
       "</table>\n",
       "</div>"
      ],
      "text/plain": [
       "        depth_percent    diamond_id  meas_depth  meas_length  meas_width  \\\n",
       "is_big                                                                     \n",
       "0           61.137766  1.293627e+08    2.847393     4.729041    4.508358   \n",
       "1           62.868360  1.252890e+08    4.293389     7.436869    6.577663   \n",
       "\n",
       "            size  table_percent  is_expensive  total_sales_price  \n",
       "is_big                                                            \n",
       "0       0.404696      57.022120      0.006671        1717.279533  \n",
       "1       1.560243      59.417134      0.649888       18782.282507  "
      ]
     },
     "execution_count": 32,
     "metadata": {},
     "output_type": "execute_result"
    }
   ],
   "source": [
    "X_full_train_simplify = X_train_simplify.copy()\n",
    "X_full_train_simplify[\"total_sales_price\"] = y_train.copy()\n",
    "X_full_train_simplify.groupby(['is_big']).mean()"
   ]
  },
  {
   "cell_type": "markdown",
   "id": "2679a39c-7888-475b-a6ff-8298b068bd37",
   "metadata": {},
   "source": [
    "### Data cleaning"
   ]
  },
  {
   "cell_type": "code",
   "execution_count": 33,
   "id": "fc23a37e-31cc-427f-992a-07bc14bf7ea4",
   "metadata": {},
   "outputs": [
    {
     "name": "stdout",
     "output_type": "stream",
     "text": [
      "<class 'pandas.core.frame.DataFrame'>\n",
      "Int64Index: 164778 entries, 184915 to 190002\n",
      "Data columns (total 17 columns):\n",
      " #   Column             Non-Null Count   Dtype  \n",
      "---  ------             --------------   -----  \n",
      " 0   clarity            164778 non-null  object \n",
      " 1   color              157897 non-null  object \n",
      " 2   depth_percent      164778 non-null  float64\n",
      " 3   diamond_id         164778 non-null  int64  \n",
      " 4   fluor_intensity    164684 non-null  object \n",
      " 5   lab                164778 non-null  object \n",
      " 6   meas_depth         164778 non-null  float64\n",
      " 7   meas_length        164778 non-null  float64\n",
      " 8   meas_width         164778 non-null  float64\n",
      " 9   polish             164778 non-null  object \n",
      " 10  shape              164778 non-null  object \n",
      " 11  size               164778 non-null  float64\n",
      " 12  symmetry           164778 non-null  object \n",
      " 13  table_percent      164778 non-null  float64\n",
      " 14  is_expensive       164778 non-null  int64  \n",
      " 15  total_sales_price  164778 non-null  int64  \n",
      " 16  is_big             164778 non-null  int64  \n",
      "dtypes: float64(6), int64(4), object(7)\n",
      "memory usage: 22.6+ MB\n"
     ]
    },
    {
     "data": {
      "text/plain": [
       "clarity                 0\n",
       "color                6881\n",
       "depth_percent           0\n",
       "diamond_id              0\n",
       "fluor_intensity        94\n",
       "lab                     0\n",
       "meas_depth              0\n",
       "meas_length             0\n",
       "meas_width              0\n",
       "polish                  0\n",
       "shape                   0\n",
       "size                    0\n",
       "symmetry                0\n",
       "table_percent           0\n",
       "is_expensive            0\n",
       "total_sales_price       0\n",
       "is_big                  0\n",
       "dtype: int64"
      ]
     },
     "execution_count": 33,
     "metadata": {},
     "output_type": "execute_result"
    }
   ],
   "source": [
    "X_train_simplify.info()\n",
    "X_train_simplify.isnull().sum()"
   ]
  },
  {
   "cell_type": "code",
   "execution_count": 34,
   "id": "fbe8dc54-7d89-4569-8071-493046591eb6",
   "metadata": {},
   "outputs": [],
   "source": [
    "X_full_train_simplify.groupby(['color']).count()\n",
    "\n",
    "X_train_simplify.color = X_train_simplify.color.fillna(\"E\") #fill color with most common one"
   ]
  },
  {
   "cell_type": "code",
   "execution_count": 35,
   "id": "4f3b0c03-801d-4563-8976-6b8b117b3773",
   "metadata": {},
   "outputs": [],
   "source": [
    "X_full_train_simplify = X_train_simplify.copy()\n",
    "X_full_train_simplify[\"total_sales_price\"] = y_train.copy()\n",
    "\n",
    "X_full_train_simplify.groupby(['fluor_intensity']).count()\n",
    "X_train_simplify.fluor_intensity = X_train_simplify.fluor_intensity.fillna(\"Faint\") #fill Faint most common one"
   ]
  },
  {
   "cell_type": "markdown",
   "id": "2ba71cd5-64f8-44b3-a2db-f44f1a63e36b",
   "metadata": {},
   "source": [
    "### Data preparation"
   ]
  },
  {
   "cell_type": "code",
   "execution_count": 36,
   "id": "f4b73d7a-72b9-4f36-8205-7a552d60e48e",
   "metadata": {},
   "outputs": [
    {
     "data": {
      "text/plain": [
       "<AxesSubplot:>"
      ]
     },
     "execution_count": 36,
     "metadata": {},
     "output_type": "execute_result"
    },
    {
     "data": {
      "image/png": "[encoded data removed]",
      "text/plain": [
       "<Figure size 432x288 with 1 Axes>"
      ]
     },
     "metadata": {
      "needs_background": "light"
     },
     "output_type": "display_data"
    }
   ],
   "source": [
    "#normalized keeping value in a short range\n",
    "\n",
    "#normalized log norm of size\n",
    "X_train_simplify['norm_size'] =np.log(X_train_simplify.size + 1)\n",
    "X_train_simplify['norm_size'].hist()\n",
    "\n",
    "#normalized log of depth_percent\n",
    "X_train_simplify[\"norm_depth_percent\"] = np.log(X_train_simplify.depth_percent + 1)\n",
    "X_train_simplify[\"norm_depth_percent\"].hist()\n",
    "\n",
    "#normalized log of meas_depth\n",
    "X_train_simplify[\"norm_table_percent\"] = np.log(X_train_simplify.table_percent + 1)\n",
    "X_train_simplify[\"norm_table_percent\"].hist()\n",
    "\n",
    "#normalized log of meas_length\n",
    "X_train_simplify[\"norm_meas_length\"] = np.log(X_train_simplify.meas_length + 1)\n",
    "X_train_simplify[\"norm_meas_length\"].hist()\n",
    "\n",
    "#normalized log of meas_width\n",
    "X_train_simplify[\"norm_meas_width\"] = np.log(X_train_simplify.meas_width + 1)\n",
    "X_train_simplify[\"norm_meas_width\"].hist()\n",
    "\n",
    "#normalized log of meas_depth\n",
    "X_train_simplify[\"norm_meas_depth\"] = np.log(X_train_simplify.meas_depth + 1)\n",
    "X_train_simplify[\"norm_meas_depth\"].hist()\n"
   ]
  },
  {
   "cell_type": "code",
   "execution_count": 37,
   "id": "b9fda636-69c5-40df-991d-0253d8175aed",
   "metadata": {},
   "outputs": [],
   "source": [
    "X_train_dummmies = pd.get_dummies(X_train_simplify[['norm_size', 'norm_depth_percent', 'norm_table_percent', 'norm_meas_length', 'norm_meas_width', 'norm_meas_depth', 'total_sales_price', 'shape', 'color', 'clarity', 'symmetry', 'polish', 'fluor_intensity', 'lab', 'is_big', 'is_expensive']])"
   ]
  },
  {
   "cell_type": "code",
   "execution_count": 38,
   "id": "be4a517d-b36c-4ffb-a0aa-e75fbf5dc66d",
   "metadata": {},
   "outputs": [
    {
     "data": {
      "text/html": [
       "<div>\n",
       "<style scoped>\n",
       "    .dataframe tbody tr th:only-of-type {\n",
       "        vertical-align: middle;\n",
       "    }\n",
       "\n",
       "    .dataframe tbody tr th {\n",
       "        vertical-align: top;\n",
       "    }\n",
       "\n",
       "    .dataframe thead th {\n",
       "        text-align: right;\n",
       "    }\n",
       "</style>\n",
       "<table border=\"1\" class=\"dataframe\">\n",
       "  <thead>\n",
       "    <tr style=\"text-align: right;\">\n",
       "      <th></th>\n",
       "      <th>norm_size</th>\n",
       "      <th>norm_depth_percent</th>\n",
       "      <th>norm_table_percent</th>\n",
       "      <th>norm_meas_length</th>\n",
       "      <th>norm_meas_width</th>\n",
       "      <th>norm_meas_depth</th>\n",
       "      <th>total_sales_price</th>\n",
       "      <th>is_big</th>\n",
       "      <th>is_expensive</th>\n",
       "      <th>shape_Asscher</th>\n",
       "      <th>...</th>\n",
       "      <th>fluor_intensity_Faint</th>\n",
       "      <th>fluor_intensity_Medium</th>\n",
       "      <th>fluor_intensity_None</th>\n",
       "      <th>fluor_intensity_Slight</th>\n",
       "      <th>fluor_intensity_Strong</th>\n",
       "      <th>fluor_intensity_Very Slight</th>\n",
       "      <th>fluor_intensity_Very Strong</th>\n",
       "      <th>lab_GIA</th>\n",
       "      <th>lab_HRD</th>\n",
       "      <th>lab_IGI</th>\n",
       "    </tr>\n",
       "  </thead>\n",
       "  <tbody>\n",
       "    <tr>\n",
       "      <th>184915</th>\n",
       "      <td>14.845568</td>\n",
       "      <td>4.151040</td>\n",
       "      <td>4.060443</td>\n",
       "      <td>2.014903</td>\n",
       "      <td>2.020222</td>\n",
       "      <td>1.623341</td>\n",
       "      <td>8753</td>\n",
       "      <td>1</td>\n",
       "      <td>1</td>\n",
       "      <td>0</td>\n",
       "      <td>...</td>\n",
       "      <td>1</td>\n",
       "      <td>0</td>\n",
       "      <td>0</td>\n",
       "      <td>0</td>\n",
       "      <td>0</td>\n",
       "      <td>0</td>\n",
       "      <td>0</td>\n",
       "      <td>1</td>\n",
       "      <td>0</td>\n",
       "      <td>0</td>\n",
       "    </tr>\n",
       "    <tr>\n",
       "      <th>31099</th>\n",
       "      <td>14.845568</td>\n",
       "      <td>4.136765</td>\n",
       "      <td>4.143135</td>\n",
       "      <td>1.660131</td>\n",
       "      <td>1.663926</td>\n",
       "      <td>1.289233</td>\n",
       "      <td>818</td>\n",
       "      <td>0</td>\n",
       "      <td>0</td>\n",
       "      <td>0</td>\n",
       "      <td>...</td>\n",
       "      <td>1</td>\n",
       "      <td>0</td>\n",
       "      <td>0</td>\n",
       "      <td>0</td>\n",
       "      <td>0</td>\n",
       "      <td>0</td>\n",
       "      <td>0</td>\n",
       "      <td>1</td>\n",
       "      <td>0</td>\n",
       "      <td>0</td>\n",
       "    </tr>\n",
       "    <tr>\n",
       "      <th>88835</th>\n",
       "      <td>14.845568</td>\n",
       "      <td>4.147885</td>\n",
       "      <td>4.060443</td>\n",
       "      <td>1.711995</td>\n",
       "      <td>1.719189</td>\n",
       "      <td>1.345472</td>\n",
       "      <td>1326</td>\n",
       "      <td>0</td>\n",
       "      <td>0</td>\n",
       "      <td>0</td>\n",
       "      <td>...</td>\n",
       "      <td>0</td>\n",
       "      <td>0</td>\n",
       "      <td>1</td>\n",
       "      <td>0</td>\n",
       "      <td>0</td>\n",
       "      <td>0</td>\n",
       "      <td>0</td>\n",
       "      <td>1</td>\n",
       "      <td>0</td>\n",
       "      <td>0</td>\n",
       "    </tr>\n",
       "    <tr>\n",
       "      <th>136539</th>\n",
       "      <td>14.845568</td>\n",
       "      <td>4.146304</td>\n",
       "      <td>4.043051</td>\n",
       "      <td>1.809927</td>\n",
       "      <td>1.813195</td>\n",
       "      <td>1.432701</td>\n",
       "      <td>3180</td>\n",
       "      <td>0</td>\n",
       "      <td>0</td>\n",
       "      <td>0</td>\n",
       "      <td>...</td>\n",
       "      <td>0</td>\n",
       "      <td>0</td>\n",
       "      <td>1</td>\n",
       "      <td>0</td>\n",
       "      <td>0</td>\n",
       "      <td>0</td>\n",
       "      <td>0</td>\n",
       "      <td>1</td>\n",
       "      <td>0</td>\n",
       "      <td>0</td>\n",
       "    </tr>\n",
       "    <tr>\n",
       "      <th>85135</th>\n",
       "      <td>14.845568</td>\n",
       "      <td>4.125520</td>\n",
       "      <td>4.077537</td>\n",
       "      <td>1.693779</td>\n",
       "      <td>1.699279</td>\n",
       "      <td>1.311032</td>\n",
       "      <td>1274</td>\n",
       "      <td>0</td>\n",
       "      <td>0</td>\n",
       "      <td>0</td>\n",
       "      <td>...</td>\n",
       "      <td>0</td>\n",
       "      <td>0</td>\n",
       "      <td>1</td>\n",
       "      <td>0</td>\n",
       "      <td>0</td>\n",
       "      <td>0</td>\n",
       "      <td>0</td>\n",
       "      <td>1</td>\n",
       "      <td>0</td>\n",
       "      <td>0</td>\n",
       "    </tr>\n",
       "    <tr>\n",
       "      <th>...</th>\n",
       "      <td>...</td>\n",
       "      <td>...</td>\n",
       "      <td>...</td>\n",
       "      <td>...</td>\n",
       "      <td>...</td>\n",
       "      <td>...</td>\n",
       "      <td>...</td>\n",
       "      <td>...</td>\n",
       "      <td>...</td>\n",
       "      <td>...</td>\n",
       "      <td>...</td>\n",
       "      <td>...</td>\n",
       "      <td>...</td>\n",
       "      <td>...</td>\n",
       "      <td>...</td>\n",
       "      <td>...</td>\n",
       "      <td>...</td>\n",
       "      <td>...</td>\n",
       "      <td>...</td>\n",
       "      <td>...</td>\n",
       "      <td>...</td>\n",
       "    </tr>\n",
       "    <tr>\n",
       "      <th>63498</th>\n",
       "      <td>14.845568</td>\n",
       "      <td>4.100989</td>\n",
       "      <td>4.110874</td>\n",
       "      <td>1.690096</td>\n",
       "      <td>1.693779</td>\n",
       "      <td>1.289233</td>\n",
       "      <td>1024</td>\n",
       "      <td>0</td>\n",
       "      <td>0</td>\n",
       "      <td>0</td>\n",
       "      <td>...</td>\n",
       "      <td>0</td>\n",
       "      <td>0</td>\n",
       "      <td>1</td>\n",
       "      <td>0</td>\n",
       "      <td>0</td>\n",
       "      <td>0</td>\n",
       "      <td>0</td>\n",
       "      <td>1</td>\n",
       "      <td>0</td>\n",
       "      <td>0</td>\n",
       "    </tr>\n",
       "    <tr>\n",
       "      <th>63114</th>\n",
       "      <td>14.845568</td>\n",
       "      <td>4.251348</td>\n",
       "      <td>4.174387</td>\n",
       "      <td>1.731656</td>\n",
       "      <td>1.479329</td>\n",
       "      <td>1.205971</td>\n",
       "      <td>1020</td>\n",
       "      <td>0</td>\n",
       "      <td>0</td>\n",
       "      <td>0</td>\n",
       "      <td>...</td>\n",
       "      <td>1</td>\n",
       "      <td>0</td>\n",
       "      <td>0</td>\n",
       "      <td>0</td>\n",
       "      <td>0</td>\n",
       "      <td>0</td>\n",
       "      <td>0</td>\n",
       "      <td>1</td>\n",
       "      <td>0</td>\n",
       "      <td>0</td>\n",
       "    </tr>\n",
       "    <tr>\n",
       "      <th>121491</th>\n",
       "      <td>14.845568</td>\n",
       "      <td>4.234107</td>\n",
       "      <td>4.248495</td>\n",
       "      <td>1.921325</td>\n",
       "      <td>1.587192</td>\n",
       "      <td>1.291984</td>\n",
       "      <td>2436</td>\n",
       "      <td>0</td>\n",
       "      <td>0</td>\n",
       "      <td>0</td>\n",
       "      <td>...</td>\n",
       "      <td>0</td>\n",
       "      <td>0</td>\n",
       "      <td>1</td>\n",
       "      <td>0</td>\n",
       "      <td>0</td>\n",
       "      <td>0</td>\n",
       "      <td>0</td>\n",
       "      <td>1</td>\n",
       "      <td>0</td>\n",
       "      <td>0</td>\n",
       "    </tr>\n",
       "    <tr>\n",
       "      <th>120473</th>\n",
       "      <td>14.845568</td>\n",
       "      <td>4.136765</td>\n",
       "      <td>4.077537</td>\n",
       "      <td>2.014903</td>\n",
       "      <td>1.766442</td>\n",
       "      <td>1.383791</td>\n",
       "      <td>2436</td>\n",
       "      <td>0</td>\n",
       "      <td>0</td>\n",
       "      <td>0</td>\n",
       "      <td>...</td>\n",
       "      <td>0</td>\n",
       "      <td>1</td>\n",
       "      <td>0</td>\n",
       "      <td>0</td>\n",
       "      <td>0</td>\n",
       "      <td>0</td>\n",
       "      <td>0</td>\n",
       "      <td>1</td>\n",
       "      <td>0</td>\n",
       "      <td>0</td>\n",
       "    </tr>\n",
       "    <tr>\n",
       "      <th>81769</th>\n",
       "      <td>14.845568</td>\n",
       "      <td>4.162003</td>\n",
       "      <td>4.043051</td>\n",
       "      <td>1.673351</td>\n",
       "      <td>1.678964</td>\n",
       "      <td>1.319086</td>\n",
       "      <td>1214</td>\n",
       "      <td>0</td>\n",
       "      <td>0</td>\n",
       "      <td>0</td>\n",
       "      <td>...</td>\n",
       "      <td>0</td>\n",
       "      <td>0</td>\n",
       "      <td>1</td>\n",
       "      <td>0</td>\n",
       "      <td>0</td>\n",
       "      <td>0</td>\n",
       "      <td>0</td>\n",
       "      <td>1</td>\n",
       "      <td>0</td>\n",
       "      <td>0</td>\n",
       "    </tr>\n",
       "  </tbody>\n",
       "</table>\n",
       "<p>100 rows × 60 columns</p>\n",
       "</div>"
      ],
      "text/plain": [
       "        norm_size  norm_depth_percent  norm_table_percent  norm_meas_length  \\\n",
       "184915  14.845568            4.151040            4.060443          2.014903   \n",
       "31099   14.845568            4.136765            4.143135          1.660131   \n",
       "88835   14.845568            4.147885            4.060443          1.711995   \n",
       "136539  14.845568            4.146304            4.043051          1.809927   \n",
       "85135   14.845568            4.125520            4.077537          1.693779   \n",
       "...           ...                 ...                 ...               ...   \n",
       "63498   14.845568            4.100989            4.110874          1.690096   \n",
       "63114   14.845568            4.251348            4.174387          1.731656   \n",
       "121491  14.845568            4.234107            4.248495          1.921325   \n",
       "120473  14.845568            4.136765            4.077537          2.014903   \n",
       "81769   14.845568            4.162003            4.043051          1.673351   \n",
       "\n",
       "        norm_meas_width  norm_meas_depth  total_sales_price  is_big  \\\n",
       "184915         2.020222         1.623341               8753       1   \n",
       "31099          1.663926         1.289233                818       0   \n",
       "88835          1.719189         1.345472               1326       0   \n",
       "136539         1.813195         1.432701               3180       0   \n",
       "85135          1.699279         1.311032               1274       0   \n",
       "...                 ...              ...                ...     ...   \n",
       "63498          1.693779         1.289233               1024       0   \n",
       "63114          1.479329         1.205971               1020       0   \n",
       "121491         1.587192         1.291984               2436       0   \n",
       "120473         1.766442         1.383791               2436       0   \n",
       "81769          1.678964         1.319086               1214       0   \n",
       "\n",
       "        is_expensive  shape_Asscher  ...  fluor_intensity_Faint  \\\n",
       "184915             1              0  ...                      1   \n",
       "31099              0              0  ...                      1   \n",
       "88835              0              0  ...                      0   \n",
       "136539             0              0  ...                      0   \n",
       "85135              0              0  ...                      0   \n",
       "...              ...            ...  ...                    ...   \n",
       "63498              0              0  ...                      0   \n",
       "63114              0              0  ...                      1   \n",
       "121491             0              0  ...                      0   \n",
       "120473             0              0  ...                      0   \n",
       "81769              0              0  ...                      0   \n",
       "\n",
       "        fluor_intensity_Medium  fluor_intensity_None  fluor_intensity_Slight  \\\n",
       "184915                       0                     0                       0   \n",
       "31099                        0                     0                       0   \n",
       "88835                        0                     1                       0   \n",
       "136539                       0                     1                       0   \n",
       "85135                        0                     1                       0   \n",
       "...                        ...                   ...                     ...   \n",
       "63498                        0                     1                       0   \n",
       "63114                        0                     0                       0   \n",
       "121491                       0                     1                       0   \n",
       "120473                       1                     0                       0   \n",
       "81769                        0                     1                       0   \n",
       "\n",
       "        fluor_intensity_Strong  fluor_intensity_Very Slight  \\\n",
       "184915                       0                            0   \n",
       "31099                        0                            0   \n",
       "88835                        0                            0   \n",
       "136539                       0                            0   \n",
       "85135                        0                            0   \n",
       "...                        ...                          ...   \n",
       "63498                        0                            0   \n",
       "63114                        0                            0   \n",
       "121491                       0                            0   \n",
       "120473                       0                            0   \n",
       "81769                        0                            0   \n",
       "\n",
       "        fluor_intensity_Very Strong  lab_GIA  lab_HRD  lab_IGI  \n",
       "184915                            0        1        0        0  \n",
       "31099                             0        1        0        0  \n",
       "88835                             0        1        0        0  \n",
       "136539                            0        1        0        0  \n",
       "85135                             0        1        0        0  \n",
       "...                             ...      ...      ...      ...  \n",
       "63498                             0        1        0        0  \n",
       "63114                             0        1        0        0  \n",
       "121491                            0        1        0        0  \n",
       "120473                            0        1        0        0  \n",
       "81769                             0        1        0        0  \n",
       "\n",
       "[100 rows x 60 columns]"
      ]
     },
     "execution_count": 38,
     "metadata": {},
     "output_type": "execute_result"
    }
   ],
   "source": [
    "X_train_dummmies.head(100)"
   ]
  },
  {
   "cell_type": "code",
   "execution_count": 39,
   "id": "ac2c6214-178c-4aa3-8a43-cb2b472e1baf",
   "metadata": {},
   "outputs": [],
   "source": [
    "#scaling (keeping numeric value in normal distribution)\n",
    "scale = StandardScaler()"
   ]
  },
  {
   "cell_type": "code",
   "execution_count": 40,
   "id": "dca8a55d-f955-41a7-80d4-42020e4ca7ee",
   "metadata": {},
   "outputs": [
    {
     "data": {
      "text/html": [
       "<div>\n",
       "<style scoped>\n",
       "    .dataframe tbody tr th:only-of-type {\n",
       "        vertical-align: middle;\n",
       "    }\n",
       "\n",
       "    .dataframe tbody tr th {\n",
       "        vertical-align: top;\n",
       "    }\n",
       "\n",
       "    .dataframe thead th {\n",
       "        text-align: right;\n",
       "    }\n",
       "</style>\n",
       "<table border=\"1\" class=\"dataframe\">\n",
       "  <thead>\n",
       "    <tr style=\"text-align: right;\">\n",
       "      <th></th>\n",
       "      <th>norm_size</th>\n",
       "      <th>norm_depth_percent</th>\n",
       "      <th>norm_table_percent</th>\n",
       "      <th>norm_meas_length</th>\n",
       "      <th>norm_meas_width</th>\n",
       "      <th>norm_meas_depth</th>\n",
       "      <th>total_sales_price</th>\n",
       "      <th>is_big</th>\n",
       "      <th>is_expensive</th>\n",
       "      <th>shape_Asscher</th>\n",
       "      <th>...</th>\n",
       "      <th>fluor_intensity_Faint</th>\n",
       "      <th>fluor_intensity_Medium</th>\n",
       "      <th>fluor_intensity_None</th>\n",
       "      <th>fluor_intensity_Slight</th>\n",
       "      <th>fluor_intensity_Strong</th>\n",
       "      <th>fluor_intensity_Very Slight</th>\n",
       "      <th>fluor_intensity_Very Strong</th>\n",
       "      <th>lab_GIA</th>\n",
       "      <th>lab_HRD</th>\n",
       "      <th>lab_IGI</th>\n",
       "    </tr>\n",
       "  </thead>\n",
       "  <tbody>\n",
       "    <tr>\n",
       "      <th>184915</th>\n",
       "      <td>-8.881784e-15</td>\n",
       "      <td>0.138337</td>\n",
       "      <td>0.101058</td>\n",
       "      <td>0.616345</td>\n",
       "      <td>0.945342</td>\n",
       "      <td>0.863957</td>\n",
       "      <td>8753</td>\n",
       "      <td>1</td>\n",
       "      <td>1</td>\n",
       "      <td>0</td>\n",
       "      <td>...</td>\n",
       "      <td>1</td>\n",
       "      <td>0</td>\n",
       "      <td>0</td>\n",
       "      <td>0</td>\n",
       "      <td>0</td>\n",
       "      <td>0</td>\n",
       "      <td>0</td>\n",
       "      <td>1</td>\n",
       "      <td>0</td>\n",
       "      <td>0</td>\n",
       "    </tr>\n",
       "    <tr>\n",
       "      <th>31099</th>\n",
       "      <td>-8.881784e-15</td>\n",
       "      <td>0.114707</td>\n",
       "      <td>0.233955</td>\n",
       "      <td>-0.662357</td>\n",
       "      <td>-0.501699</td>\n",
       "      <td>-0.573655</td>\n",
       "      <td>818</td>\n",
       "      <td>0</td>\n",
       "      <td>0</td>\n",
       "      <td>0</td>\n",
       "      <td>...</td>\n",
       "      <td>1</td>\n",
       "      <td>0</td>\n",
       "      <td>0</td>\n",
       "      <td>0</td>\n",
       "      <td>0</td>\n",
       "      <td>0</td>\n",
       "      <td>0</td>\n",
       "      <td>1</td>\n",
       "      <td>0</td>\n",
       "      <td>0</td>\n",
       "    </tr>\n",
       "    <tr>\n",
       "      <th>88835</th>\n",
       "      <td>-8.881784e-15</td>\n",
       "      <td>0.133115</td>\n",
       "      <td>0.101058</td>\n",
       "      <td>-0.475426</td>\n",
       "      <td>-0.277259</td>\n",
       "      <td>-0.331665</td>\n",
       "      <td>1326</td>\n",
       "      <td>0</td>\n",
       "      <td>0</td>\n",
       "      <td>0</td>\n",
       "      <td>...</td>\n",
       "      <td>0</td>\n",
       "      <td>0</td>\n",
       "      <td>1</td>\n",
       "      <td>0</td>\n",
       "      <td>0</td>\n",
       "      <td>0</td>\n",
       "      <td>0</td>\n",
       "      <td>1</td>\n",
       "      <td>0</td>\n",
       "      <td>0</td>\n",
       "    </tr>\n",
       "    <tr>\n",
       "      <th>136539</th>\n",
       "      <td>-8.881784e-15</td>\n",
       "      <td>0.130498</td>\n",
       "      <td>0.073108</td>\n",
       "      <td>-0.122449</td>\n",
       "      <td>0.104532</td>\n",
       "      <td>0.043664</td>\n",
       "      <td>3180</td>\n",
       "      <td>0</td>\n",
       "      <td>0</td>\n",
       "      <td>0</td>\n",
       "      <td>...</td>\n",
       "      <td>0</td>\n",
       "      <td>0</td>\n",
       "      <td>1</td>\n",
       "      <td>0</td>\n",
       "      <td>0</td>\n",
       "      <td>0</td>\n",
       "      <td>0</td>\n",
       "      <td>1</td>\n",
       "      <td>0</td>\n",
       "      <td>0</td>\n",
       "    </tr>\n",
       "    <tr>\n",
       "      <th>85135</th>\n",
       "      <td>-8.881784e-15</td>\n",
       "      <td>0.096092</td>\n",
       "      <td>0.128531</td>\n",
       "      <td>-0.541080</td>\n",
       "      <td>-0.358121</td>\n",
       "      <td>-0.479856</td>\n",
       "      <td>1274</td>\n",
       "      <td>0</td>\n",
       "      <td>0</td>\n",
       "      <td>0</td>\n",
       "      <td>...</td>\n",
       "      <td>0</td>\n",
       "      <td>0</td>\n",
       "      <td>1</td>\n",
       "      <td>0</td>\n",
       "      <td>0</td>\n",
       "      <td>0</td>\n",
       "      <td>0</td>\n",
       "      <td>1</td>\n",
       "      <td>0</td>\n",
       "      <td>0</td>\n",
       "    </tr>\n",
       "    <tr>\n",
       "      <th>...</th>\n",
       "      <td>...</td>\n",
       "      <td>...</td>\n",
       "      <td>...</td>\n",
       "      <td>...</td>\n",
       "      <td>...</td>\n",
       "      <td>...</td>\n",
       "      <td>...</td>\n",
       "      <td>...</td>\n",
       "      <td>...</td>\n",
       "      <td>...</td>\n",
       "      <td>...</td>\n",
       "      <td>...</td>\n",
       "      <td>...</td>\n",
       "      <td>...</td>\n",
       "      <td>...</td>\n",
       "      <td>...</td>\n",
       "      <td>...</td>\n",
       "      <td>...</td>\n",
       "      <td>...</td>\n",
       "      <td>...</td>\n",
       "      <td>...</td>\n",
       "    </tr>\n",
       "    <tr>\n",
       "      <th>996</th>\n",
       "      <td>-8.881784e-15</td>\n",
       "      <td>0.156486</td>\n",
       "      <td>0.308718</td>\n",
       "      <td>1.122177</td>\n",
       "      <td>-0.863482</td>\n",
       "      <td>-0.830070</td>\n",
       "      <td>420</td>\n",
       "      <td>0</td>\n",
       "      <td>0</td>\n",
       "      <td>0</td>\n",
       "      <td>...</td>\n",
       "      <td>0</td>\n",
       "      <td>1</td>\n",
       "      <td>0</td>\n",
       "      <td>0</td>\n",
       "      <td>0</td>\n",
       "      <td>0</td>\n",
       "      <td>0</td>\n",
       "      <td>1</td>\n",
       "      <td>0</td>\n",
       "      <td>0</td>\n",
       "    </tr>\n",
       "    <tr>\n",
       "      <th>106614</th>\n",
       "      <td>-8.881784e-15</td>\n",
       "      <td>0.187142</td>\n",
       "      <td>0.155543</td>\n",
       "      <td>-0.212039</td>\n",
       "      <td>0.010702</td>\n",
       "      <td>0.053921</td>\n",
       "      <td>1842</td>\n",
       "      <td>0</td>\n",
       "      <td>0</td>\n",
       "      <td>0</td>\n",
       "      <td>...</td>\n",
       "      <td>0</td>\n",
       "      <td>0</td>\n",
       "      <td>1</td>\n",
       "      <td>0</td>\n",
       "      <td>0</td>\n",
       "      <td>0</td>\n",
       "      <td>0</td>\n",
       "      <td>1</td>\n",
       "      <td>0</td>\n",
       "      <td>0</td>\n",
       "    </tr>\n",
       "    <tr>\n",
       "      <th>72409</th>\n",
       "      <td>-8.881784e-15</td>\n",
       "      <td>0.069130</td>\n",
       "      <td>0.155543</td>\n",
       "      <td>-0.780770</td>\n",
       "      <td>-0.618749</td>\n",
       "      <td>-0.780036</td>\n",
       "      <td>1100</td>\n",
       "      <td>0</td>\n",
       "      <td>0</td>\n",
       "      <td>0</td>\n",
       "      <td>...</td>\n",
       "      <td>1</td>\n",
       "      <td>0</td>\n",
       "      <td>0</td>\n",
       "      <td>0</td>\n",
       "      <td>0</td>\n",
       "      <td>0</td>\n",
       "      <td>0</td>\n",
       "      <td>1</td>\n",
       "      <td>0</td>\n",
       "      <td>0</td>\n",
       "    </tr>\n",
       "    <tr>\n",
       "      <th>123680</th>\n",
       "      <td>-8.881784e-15</td>\n",
       "      <td>0.182072</td>\n",
       "      <td>0.128531</td>\n",
       "      <td>-0.230227</td>\n",
       "      <td>0.017476</td>\n",
       "      <td>0.043664</td>\n",
       "      <td>2532</td>\n",
       "      <td>0</td>\n",
       "      <td>0</td>\n",
       "      <td>0</td>\n",
       "      <td>...</td>\n",
       "      <td>0</td>\n",
       "      <td>0</td>\n",
       "      <td>1</td>\n",
       "      <td>0</td>\n",
       "      <td>0</td>\n",
       "      <td>0</td>\n",
       "      <td>0</td>\n",
       "      <td>1</td>\n",
       "      <td>0</td>\n",
       "      <td>0</td>\n",
       "    </tr>\n",
       "    <tr>\n",
       "      <th>190002</th>\n",
       "      <td>-8.881784e-15</td>\n",
       "      <td>0.151321</td>\n",
       "      <td>0.128531</td>\n",
       "      <td>0.533707</td>\n",
       "      <td>0.852725</td>\n",
       "      <td>0.804135</td>\n",
       "      <td>10406</td>\n",
       "      <td>1</td>\n",
       "      <td>1</td>\n",
       "      <td>0</td>\n",
       "      <td>...</td>\n",
       "      <td>0</td>\n",
       "      <td>0</td>\n",
       "      <td>1</td>\n",
       "      <td>0</td>\n",
       "      <td>0</td>\n",
       "      <td>0</td>\n",
       "      <td>0</td>\n",
       "      <td>1</td>\n",
       "      <td>0</td>\n",
       "      <td>0</td>\n",
       "    </tr>\n",
       "  </tbody>\n",
       "</table>\n",
       "<p>164778 rows × 60 columns</p>\n",
       "</div>"
      ],
      "text/plain": [
       "           norm_size  norm_depth_percent  norm_table_percent  \\\n",
       "184915 -8.881784e-15            0.138337            0.101058   \n",
       "31099  -8.881784e-15            0.114707            0.233955   \n",
       "88835  -8.881784e-15            0.133115            0.101058   \n",
       "136539 -8.881784e-15            0.130498            0.073108   \n",
       "85135  -8.881784e-15            0.096092            0.128531   \n",
       "...              ...                 ...                 ...   \n",
       "996    -8.881784e-15            0.156486            0.308718   \n",
       "106614 -8.881784e-15            0.187142            0.155543   \n",
       "72409  -8.881784e-15            0.069130            0.155543   \n",
       "123680 -8.881784e-15            0.182072            0.128531   \n",
       "190002 -8.881784e-15            0.151321            0.128531   \n",
       "\n",
       "        norm_meas_length  norm_meas_width  norm_meas_depth  total_sales_price  \\\n",
       "184915          0.616345         0.945342         0.863957               8753   \n",
       "31099          -0.662357        -0.501699        -0.573655                818   \n",
       "88835          -0.475426        -0.277259        -0.331665               1326   \n",
       "136539         -0.122449         0.104532         0.043664               3180   \n",
       "85135          -0.541080        -0.358121        -0.479856               1274   \n",
       "...                  ...              ...              ...                ...   \n",
       "996             1.122177        -0.863482        -0.830070                420   \n",
       "106614         -0.212039         0.010702         0.053921               1842   \n",
       "72409          -0.780770        -0.618749        -0.780036               1100   \n",
       "123680         -0.230227         0.017476         0.043664               2532   \n",
       "190002          0.533707         0.852725         0.804135              10406   \n",
       "\n",
       "        is_big  is_expensive  shape_Asscher  ...  fluor_intensity_Faint  \\\n",
       "184915       1             1              0  ...                      1   \n",
       "31099        0             0              0  ...                      1   \n",
       "88835        0             0              0  ...                      0   \n",
       "136539       0             0              0  ...                      0   \n",
       "85135        0             0              0  ...                      0   \n",
       "...        ...           ...            ...  ...                    ...   \n",
       "996          0             0              0  ...                      0   \n",
       "106614       0             0              0  ...                      0   \n",
       "72409        0             0              0  ...                      1   \n",
       "123680       0             0              0  ...                      0   \n",
       "190002       1             1              0  ...                      0   \n",
       "\n",
       "        fluor_intensity_Medium  fluor_intensity_None  fluor_intensity_Slight  \\\n",
       "184915                       0                     0                       0   \n",
       "31099                        0                     0                       0   \n",
       "88835                        0                     1                       0   \n",
       "136539                       0                     1                       0   \n",
       "85135                        0                     1                       0   \n",
       "...                        ...                   ...                     ...   \n",
       "996                          1                     0                       0   \n",
       "106614                       0                     1                       0   \n",
       "72409                        0                     0                       0   \n",
       "123680                       0                     1                       0   \n",
       "190002                       0                     1                       0   \n",
       "\n",
       "        fluor_intensity_Strong  fluor_intensity_Very Slight  \\\n",
       "184915                       0                            0   \n",
       "31099                        0                            0   \n",
       "88835                        0                            0   \n",
       "136539                       0                            0   \n",
       "85135                        0                            0   \n",
       "...                        ...                          ...   \n",
       "996                          0                            0   \n",
       "106614                       0                            0   \n",
       "72409                        0                            0   \n",
       "123680                       0                            0   \n",
       "190002                       0                            0   \n",
       "\n",
       "        fluor_intensity_Very Strong  lab_GIA  lab_HRD  lab_IGI  \n",
       "184915                            0        1        0        0  \n",
       "31099                             0        1        0        0  \n",
       "88835                             0        1        0        0  \n",
       "136539                            0        1        0        0  \n",
       "85135                             0        1        0        0  \n",
       "...                             ...      ...      ...      ...  \n",
       "996                               0        1        0        0  \n",
       "106614                            0        1        0        0  \n",
       "72409                             0        1        0        0  \n",
       "123680                            0        1        0        0  \n",
       "190002                            0        1        0        0  \n",
       "\n",
       "[164778 rows x 60 columns]"
      ]
     },
     "execution_count": 40,
     "metadata": {},
     "output_type": "execute_result"
    }
   ],
   "source": [
    "X_train_dummmies_scaled = X_train_dummmies.copy()\n",
    "X_train_dummmies_scaled[[\"norm_size\", \"norm_depth_percent\", \"norm_table_percent\", \"norm_meas_length\", \"norm_meas_width\", \"norm_meas_depth\"]] = scale.fit_transform(X_train_dummmies_scaled[[\"norm_size\", \"norm_depth_percent\", \"norm_table_percent\", \"norm_meas_length\", \"norm_meas_width\", \"norm_meas_depth\"]])\n",
    "X_train_dummmies_scaled"
   ]
  },
  {
   "cell_type": "code",
   "execution_count": 41,
   "id": "546e250a-377d-48ca-be8b-76f4ab55a6b9",
   "metadata": {},
   "outputs": [
    {
     "data": {
      "text/plain": [
       "184915     8753\n",
       "31099       818\n",
       "88835      1326\n",
       "136539     3180\n",
       "85135      1274\n",
       "          ...  \n",
       "996         420\n",
       "106614     1842\n",
       "72409      1100\n",
       "123680     2532\n",
       "190002    10406\n",
       "Name: total_sales_price, Length: 164778, dtype: int64"
      ]
     },
     "execution_count": 41,
     "metadata": {},
     "output_type": "execute_result"
    }
   ],
   "source": [
    "X_train = X_train_dummmies_scaled.copy()\n",
    "y_train"
   ]
  },
  {
   "cell_type": "markdown",
   "id": "40393167-4cf8-4a78-9af4-182ef64cd0f6",
   "metadata": {},
   "source": [
    "# Basic model building"
   ]
  },
  {
   "cell_type": "markdown",
   "id": "864c8be3-e266-4765-83d5-10e4e30cc7c0",
   "metadata": {},
   "source": [
    "## Algorithms selection (regression)\n",
    "1. LinearRegression\n",
    "2. SGDRegressor\n",
    "3. ElasticNet\n",
    "4. Lasso\n",
    "5. SVR (Support Vector Regression)"
   ]
  },
  {
   "cell_type": "code",
   "execution_count": 42,
   "id": "5cc18814-3f6a-422f-9708-f6b37426aa03",
   "metadata": {},
   "outputs": [
    {
     "name": "stdout",
     "output_type": "stream",
     "text": [
      "[1. 1. 1. 1. 1.]\n",
      "1.0\n"
     ]
    }
   ],
   "source": [
    "lr = LinearRegression()\n",
    "cv = cross_val_score(lr, X_train, y_train, cv=5)\n",
    "print(cv)\n",
    "print(cv.mean())"
   ]
  },
  {
   "cell_type": "code",
   "execution_count": 43,
   "id": "32ad00a1-0b8f-4b3e-8ba8-f69c41669080",
   "metadata": {},
   "outputs": [
    {
     "name": "stdout",
     "output_type": "stream",
     "text": [
      "[-2.05821524e+23 -2.23535252e+25 -6.54485002e+26 -1.03923869e+25\n",
      " -4.69771271e+23]\n",
      "-1.3758130129787788e+26\n"
     ]
    }
   ],
   "source": [
    "sgd = SGDRegressor()\n",
    "cv = cross_val_score(sgd, X_train, y_train, cv=5)\n",
    "print(cv)\n",
    "print(cv.mean())"
   ]
  },
  {
   "cell_type": "code",
   "execution_count": 44,
   "id": "9a6efb99-6371-4b5b-8439-1ea788b9a008",
   "metadata": {},
   "outputs": [
    {
     "name": "stdout",
     "output_type": "stream",
     "text": [
      "[1. 1. 1. 1. 1.]\n",
      "1.0\n"
     ]
    }
   ],
   "source": [
    "en = ElasticNet(random_state=0)\n",
    "cv = cross_val_score(en, X_train, y_train, cv=5)\n",
    "print(cv)\n",
    "print(cv.mean())"
   ]
  },
  {
   "cell_type": "code",
   "execution_count": null,
   "id": "7024344e-ccac-43aa-9f85-155bc15b40b5",
   "metadata": {},
   "outputs": [],
   "source": [
    "lasso = Lasso(alpha=0.1)\n",
    "cv = cross_val_score(lasso, X_train, y_train, cv=5)\n",
    "print(cv)\n",
    "print(cv.mean())"
   ]
  },
  {
   "cell_type": "code",
   "execution_count": null,
   "id": "cfd32c0f-fdb0-4493-88a4-c723485510b1",
   "metadata": {},
   "outputs": [],
   "source": [
    "svr = SVR()\n",
    "cv = cross_val_score(svr, X_train, y_train, cv=5)\n",
    "print(cv)\n",
    "print(cv.mean())"
   ]
  },
  {
   "cell_type": "code",
   "execution_count": null,
   "id": "7f8f430c-1177-4af0-948b-2bae4feae74b",
   "metadata": {},
   "outputs": [],
   "source": []
  }
 ],
 "metadata": {
  "kernelspec": {
   "display_name": "Python 3 (ipykernel)",
   "language": "python",
   "name": "python3"
  },
  "language_info": {
   "codemirror_mode": {
    "name": "ipython",
    "version": 3
   },
   "file_extension": ".py",
   "mimetype": "text/x-python",
   "name": "python",
   "nbconvert_exporter": "python",
   "pygments_lexer": "ipython3",
   "version": "3.8.10"
  }
 },
 "nbformat": 4,
 "nbformat_minor": 5
}
