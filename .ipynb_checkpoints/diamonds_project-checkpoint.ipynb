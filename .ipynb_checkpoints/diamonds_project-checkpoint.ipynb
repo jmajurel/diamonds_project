{
 "cells": [
  {
   "cell_type": "code",
   "execution_count": 41,
   "id": "2238b233-dd47-4dab-96c6-1fff77eac1d0",
   "metadata": {},
   "outputs": [],
   "source": [
    "import pandas as pd\n",
    "import matplotlib.pyplot as plt\n",
    "import seaborn as sbn\n",
    "import numpy as np\n",
    "from sklearn.preprocessing import StandardScaler\n",
    "from sklearn.model_selection import train_test_split\n",
    "from sklearn.model_selection import cross_val_score\n",
    "from sklearn.linear_model import LinearRegression\n",
    "from sklearn.linear_model import SGDRegressor\n",
    "from sklearn.linear_model import ElasticNet\n",
    "from sklearn.linear_model import Lasso\n",
    "from sklearn.svm import SVR"
   ]
  },
  {
   "cell_type": "markdown",
   "id": "60b42f94-5063-4d69-b5a0-5f81c509d369",
   "metadata": {},
   "source": [
    "# Indroduction\n",
    "\n",
    "This project aims at predicting diamond price based on its features using regression models\n",
    "\n",
    "Diamonds data set available on kaggle (https://www.kaggle.com/enashed/diamond-prices)"
   ]
  },
  {
   "cell_type": "markdown",
   "id": "80c3dea1-65d3-4a73-9657-cfdba8cadab6",
   "metadata": {},
   "source": [
    "# Project Planning\n",
    "1. Data exploration\n",
    "2. Feature engineering\n",
    "3. Data preprocessing for model\n",
    "4. Basic model building\n",
    "5. Model Tuning\n",
    "6. Ensemble model building\n",
    "7. Results"
   ]
  },
  {
   "cell_type": "markdown",
   "id": "442091c1-c806-4287-840c-0f03f013db48",
   "metadata": {},
   "source": [
    "# Data Exploration"
   ]
  },
  {
   "cell_type": "code",
   "execution_count": 2,
   "id": "05ec4777-98a8-4c61-986f-2227c012b7dc",
   "metadata": {},
   "outputs": [],
   "source": [
    "data = pd.read_csv(\"./diamonds_project/diamonds.csv\")"
   ]
  },
  {
   "cell_type": "code",
   "execution_count": 3,
   "id": "c83c9704-3c6d-4af6-b801-44c6ec9c689b",
   "metadata": {},
   "outputs": [],
   "source": [
    "X = data[data.columns.difference(['total_sales_price'])]\n",
    "y = data[\"total_sales_price\"]\n",
    "X_train, X_test, y_train, y_test = train_test_split(X, y)"
   ]
  },
  {
   "cell_type": "code",
   "execution_count": 4,
   "id": "1938392f-56ba-46fb-8440-636e19080e9d",
   "metadata": {},
   "outputs": [
    {
     "data": {
      "text/html": [
       "<div>\n",
       "<style scoped>\n",
       "    .dataframe tbody tr th:only-of-type {\n",
       "        vertical-align: middle;\n",
       "    }\n",
       "\n",
       "    .dataframe tbody tr th {\n",
       "        vertical-align: top;\n",
       "    }\n",
       "\n",
       "    .dataframe thead th {\n",
       "        text-align: right;\n",
       "    }\n",
       "</style>\n",
       "<table border=\"1\" class=\"dataframe\">\n",
       "  <thead>\n",
       "    <tr style=\"text-align: right;\">\n",
       "      <th></th>\n",
       "      <th>clarity</th>\n",
       "      <th>color</th>\n",
       "      <th>culet_condition</th>\n",
       "      <th>culet_size</th>\n",
       "      <th>cut</th>\n",
       "      <th>date</th>\n",
       "      <th>depth_percent</th>\n",
       "      <th>diamond_id</th>\n",
       "      <th>eye_clean</th>\n",
       "      <th>fancy_color_dominant_color</th>\n",
       "      <th>...</th>\n",
       "      <th>girdle_min</th>\n",
       "      <th>lab</th>\n",
       "      <th>meas_depth</th>\n",
       "      <th>meas_length</th>\n",
       "      <th>meas_width</th>\n",
       "      <th>polish</th>\n",
       "      <th>shape</th>\n",
       "      <th>size</th>\n",
       "      <th>symmetry</th>\n",
       "      <th>table_percent</th>\n",
       "    </tr>\n",
       "  </thead>\n",
       "  <tbody>\n",
       "    <tr>\n",
       "      <th>73636</th>\n",
       "      <td>VVS1</td>\n",
       "      <td>F</td>\n",
       "      <td>NaN</td>\n",
       "      <td>N</td>\n",
       "      <td>Excellent</td>\n",
       "      <td>2022-02-24</td>\n",
       "      <td>61.0</td>\n",
       "      <td>135883558</td>\n",
       "      <td>Yes</td>\n",
       "      <td>NaN</td>\n",
       "      <td>...</td>\n",
       "      <td>M</td>\n",
       "      <td>GIA</td>\n",
       "      <td>2.51</td>\n",
       "      <td>4.09</td>\n",
       "      <td>4.13</td>\n",
       "      <td>Excellent</td>\n",
       "      <td>Round</td>\n",
       "      <td>0.26</td>\n",
       "      <td>Excellent</td>\n",
       "      <td>60.0</td>\n",
       "    </tr>\n",
       "    <tr>\n",
       "      <th>185258</th>\n",
       "      <td>VS1</td>\n",
       "      <td>D</td>\n",
       "      <td>NaN</td>\n",
       "      <td>N</td>\n",
       "      <td>NaN</td>\n",
       "      <td>2022-02-24</td>\n",
       "      <td>64.7</td>\n",
       "      <td>134868152</td>\n",
       "      <td>Yes</td>\n",
       "      <td>NaN</td>\n",
       "      <td>...</td>\n",
       "      <td>TK</td>\n",
       "      <td>GIA</td>\n",
       "      <td>3.55</td>\n",
       "      <td>8.74</td>\n",
       "      <td>5.49</td>\n",
       "      <td>Excellent</td>\n",
       "      <td>Pear</td>\n",
       "      <td>1.01</td>\n",
       "      <td>Very Good</td>\n",
       "      <td>63.0</td>\n",
       "    </tr>\n",
       "    <tr>\n",
       "      <th>210771</th>\n",
       "      <td>SI1</td>\n",
       "      <td>E</td>\n",
       "      <td>NaN</td>\n",
       "      <td>N</td>\n",
       "      <td>NaN</td>\n",
       "      <td>2022-02-24</td>\n",
       "      <td>72.6</td>\n",
       "      <td>83696410</td>\n",
       "      <td>NaN</td>\n",
       "      <td>NaN</td>\n",
       "      <td>...</td>\n",
       "      <td>M</td>\n",
       "      <td>GIA</td>\n",
       "      <td>5.09</td>\n",
       "      <td>7.06</td>\n",
       "      <td>7.01</td>\n",
       "      <td>Excellent</td>\n",
       "      <td>Princess</td>\n",
       "      <td>2.01</td>\n",
       "      <td>Very Good</td>\n",
       "      <td>72.0</td>\n",
       "    </tr>\n",
       "    <tr>\n",
       "      <th>187064</th>\n",
       "      <td>VVS1</td>\n",
       "      <td>G</td>\n",
       "      <td>NaN</td>\n",
       "      <td>N</td>\n",
       "      <td>Excellent</td>\n",
       "      <td>2022-02-24</td>\n",
       "      <td>63.8</td>\n",
       "      <td>135849848</td>\n",
       "      <td>NaN</td>\n",
       "      <td>NaN</td>\n",
       "      <td>...</td>\n",
       "      <td>M</td>\n",
       "      <td>GIA</td>\n",
       "      <td>3.89</td>\n",
       "      <td>6.06</td>\n",
       "      <td>6.11</td>\n",
       "      <td>Excellent</td>\n",
       "      <td>Round</td>\n",
       "      <td>0.90</td>\n",
       "      <td>Excellent</td>\n",
       "      <td>56.0</td>\n",
       "    </tr>\n",
       "    <tr>\n",
       "      <th>90515</th>\n",
       "      <td>SI2</td>\n",
       "      <td>I</td>\n",
       "      <td>NaN</td>\n",
       "      <td>NaN</td>\n",
       "      <td>Excellent</td>\n",
       "      <td>2022-02-24</td>\n",
       "      <td>60.6</td>\n",
       "      <td>133703839</td>\n",
       "      <td>NaN</td>\n",
       "      <td>NaN</td>\n",
       "      <td>...</td>\n",
       "      <td>NaN</td>\n",
       "      <td>GIA</td>\n",
       "      <td>3.10</td>\n",
       "      <td>5.10</td>\n",
       "      <td>5.13</td>\n",
       "      <td>Very Good</td>\n",
       "      <td>Round</td>\n",
       "      <td>0.50</td>\n",
       "      <td>Very Good</td>\n",
       "      <td>59.0</td>\n",
       "    </tr>\n",
       "  </tbody>\n",
       "</table>\n",
       "<p>5 rows × 26 columns</p>\n",
       "</div>"
      ],
      "text/plain": [
       "       clarity color culet_condition culet_size        cut        date  \\\n",
       "73636     VVS1     F             NaN          N  Excellent  2022-02-24   \n",
       "185258     VS1     D             NaN          N        NaN  2022-02-24   \n",
       "210771     SI1     E             NaN          N        NaN  2022-02-24   \n",
       "187064    VVS1     G             NaN          N  Excellent  2022-02-24   \n",
       "90515      SI2     I             NaN        NaN  Excellent  2022-02-24   \n",
       "\n",
       "        depth_percent  diamond_id eye_clean fancy_color_dominant_color  ...  \\\n",
       "73636            61.0   135883558       Yes                        NaN  ...   \n",
       "185258           64.7   134868152       Yes                        NaN  ...   \n",
       "210771           72.6    83696410       NaN                        NaN  ...   \n",
       "187064           63.8   135849848       NaN                        NaN  ...   \n",
       "90515            60.6   133703839       NaN                        NaN  ...   \n",
       "\n",
       "       girdle_min  lab meas_depth meas_length meas_width     polish     shape  \\\n",
       "73636           M  GIA       2.51        4.09       4.13  Excellent     Round   \n",
       "185258         TK  GIA       3.55        8.74       5.49  Excellent      Pear   \n",
       "210771          M  GIA       5.09        7.06       7.01  Excellent  Princess   \n",
       "187064          M  GIA       3.89        6.06       6.11  Excellent     Round   \n",
       "90515         NaN  GIA       3.10        5.10       5.13  Very Good     Round   \n",
       "\n",
       "        size   symmetry  table_percent  \n",
       "73636   0.26  Excellent           60.0  \n",
       "185258  1.01  Very Good           63.0  \n",
       "210771  2.01  Very Good           72.0  \n",
       "187064  0.90  Excellent           56.0  \n",
       "90515   0.50  Very Good           59.0  \n",
       "\n",
       "[5 rows x 26 columns]"
      ]
     },
     "execution_count": 4,
     "metadata": {},
     "output_type": "execute_result"
    }
   ],
   "source": [
    "X_train.head()"
   ]
  },
  {
   "cell_type": "code",
   "execution_count": 5,
   "id": "03b06da0-3337-44d7-a5eb-4e0961dcd024",
   "metadata": {},
   "outputs": [
    {
     "data": {
      "text/plain": [
       "73636      1082\n",
       "185258     8818\n",
       "210771    24113\n",
       "187064     9605\n",
       "90515      1386\n",
       "Name: total_sales_price, dtype: int64"
      ]
     },
     "execution_count": 5,
     "metadata": {},
     "output_type": "execute_result"
    }
   ],
   "source": [
    "y_train.head()"
   ]
  },
  {
   "cell_type": "code",
   "execution_count": 6,
   "id": "c101649d-5c36-4f54-99dd-70c6755307e2",
   "metadata": {},
   "outputs": [
    {
     "data": {
      "text/plain": [
       "clarity                         object\n",
       "color                           object\n",
       "culet_condition                 object\n",
       "culet_size                      object\n",
       "cut                             object\n",
       "date                            object\n",
       "depth_percent                  float64\n",
       "diamond_id                       int64\n",
       "eye_clean                       object\n",
       "fancy_color_dominant_color      object\n",
       "fancy_color_intensity           object\n",
       "fancy_color_overtone            object\n",
       "fancy_color_secondary_color     object\n",
       "fluor_color                     object\n",
       "fluor_intensity                 object\n",
       "girdle_max                      object\n",
       "girdle_min                      object\n",
       "lab                             object\n",
       "meas_depth                     float64\n",
       "meas_length                    float64\n",
       "meas_width                     float64\n",
       "polish                          object\n",
       "shape                           object\n",
       "size                           float64\n",
       "symmetry                        object\n",
       "table_percent                  float64\n",
       "dtype: object"
      ]
     },
     "execution_count": 6,
     "metadata": {},
     "output_type": "execute_result"
    }
   ],
   "source": [
    "X_train.dtypes"
   ]
  },
  {
   "cell_type": "code",
   "execution_count": 7,
   "id": "95265044-51ba-47df-a6c9-47bbf2ebd53d",
   "metadata": {},
   "outputs": [
    {
     "data": {
      "text/plain": [
       "(164778, 26)"
      ]
     },
     "execution_count": 7,
     "metadata": {},
     "output_type": "execute_result"
    }
   ],
   "source": [
    "X_train.shape"
   ]
  },
  {
   "cell_type": "code",
   "execution_count": 8,
   "id": "93598b3c-05dd-47e7-aaf0-d9fdc8c1d38d",
   "metadata": {},
   "outputs": [
    {
     "data": {
      "text/plain": [
       "Index(['clarity', 'color', 'culet_condition', 'culet_size', 'cut', 'date',\n",
       "       'depth_percent', 'diamond_id', 'eye_clean',\n",
       "       'fancy_color_dominant_color', 'fancy_color_intensity',\n",
       "       'fancy_color_overtone', 'fancy_color_secondary_color', 'fluor_color',\n",
       "       'fluor_intensity', 'girdle_max', 'girdle_min', 'lab', 'meas_depth',\n",
       "       'meas_length', 'meas_width', 'polish', 'shape', 'size', 'symmetry',\n",
       "       'table_percent'],\n",
       "      dtype='object')"
      ]
     },
     "execution_count": 8,
     "metadata": {},
     "output_type": "execute_result"
    }
   ],
   "source": [
    "X_train.columns"
   ]
  },
  {
   "cell_type": "code",
   "execution_count": 9,
   "id": "27458783-1626-4ac7-8809-234e14024298",
   "metadata": {},
   "outputs": [
    {
     "name": "stdout",
     "output_type": "stream",
     "text": [
      "<class 'pandas.core.frame.DataFrame'>\n",
      "Int64Index: 164778 entries, 73636 to 40714\n",
      "Data columns (total 26 columns):\n",
      " #   Column                       Non-Null Count   Dtype  \n",
      "---  ------                       --------------   -----  \n",
      " 0   clarity                      164778 non-null  object \n",
      " 1   color                        157889 non-null  object \n",
      " 2   culet_condition              11515 non-null   object \n",
      " 3   culet_size                   100516 non-null  object \n",
      " 4   cut                          119351 non-null  object \n",
      " 5   date                         164778 non-null  object \n",
      " 6   depth_percent                164778 non-null  float64\n",
      " 7   diamond_id                   164778 non-null  int64  \n",
      " 8   eye_clean                    46931 non-null   object \n",
      " 9   fancy_color_dominant_color   6891 non-null    object \n",
      " 10  fancy_color_intensity        6889 non-null    object \n",
      " 11  fancy_color_overtone         1531 non-null    object \n",
      " 12  fancy_color_secondary_color  803 non-null     object \n",
      " 13  fluor_color                  11807 non-null   object \n",
      " 14  fluor_intensity              164683 non-null  object \n",
      " 15  girdle_max                   101516 non-null  object \n",
      " 16  girdle_min                   102159 non-null  object \n",
      " 17  lab                          164778 non-null  object \n",
      " 18  meas_depth                   164778 non-null  float64\n",
      " 19  meas_length                  164778 non-null  float64\n",
      " 20  meas_width                   164778 non-null  float64\n",
      " 21  polish                       164778 non-null  object \n",
      " 22  shape                        164778 non-null  object \n",
      " 23  size                         164778 non-null  float64\n",
      " 24  symmetry                     164778 non-null  object \n",
      " 25  table_percent                164778 non-null  float64\n",
      "dtypes: float64(6), int64(1), object(19)\n",
      "memory usage: 33.9+ MB\n"
     ]
    }
   ],
   "source": [
    "X_train.info()"
   ]
  },
  {
   "cell_type": "code",
   "execution_count": 10,
   "id": "f593e71a-0b1f-40c2-bbbe-3128b4f0ef2f",
   "metadata": {},
   "outputs": [
    {
     "data": {
      "text/plain": [
       "clarity                         0.000000\n",
       "color                           4.180777\n",
       "culet_condition                93.011810\n",
       "culet_size                     38.999138\n",
       "cut                            27.568607\n",
       "date                            0.000000\n",
       "depth_percent                   0.000000\n",
       "diamond_id                      0.000000\n",
       "eye_clean                      71.518649\n",
       "fancy_color_dominant_color     95.818010\n",
       "fancy_color_intensity          95.819223\n",
       "fancy_color_overtone           99.070871\n",
       "fancy_color_secondary_color    99.512678\n",
       "fluor_color                    92.834602\n",
       "fluor_intensity                 0.057653\n",
       "girdle_max                     38.392261\n",
       "girdle_min                     38.002039\n",
       "lab                             0.000000\n",
       "meas_depth                      0.000000\n",
       "meas_length                     0.000000\n",
       "meas_width                      0.000000\n",
       "polish                          0.000000\n",
       "shape                           0.000000\n",
       "size                            0.000000\n",
       "symmetry                        0.000000\n",
       "table_percent                   0.000000\n",
       "dtype: float64"
      ]
     },
     "execution_count": 10,
     "metadata": {},
     "output_type": "execute_result"
    }
   ],
   "source": [
    "X_train.isnull().sum() / X_train.shape[0] * 100"
   ]
  },
  {
   "cell_type": "code",
   "execution_count": 11,
   "id": "bd48e1c0-3c07-4095-8243-0f16a5d5ec61",
   "metadata": {},
   "outputs": [],
   "source": [
    "nb_columns = ['size', 'depth_percent', 'table_percent', 'meas_length', 'meas_width', 'meas_depth', 'total_sales_price']"
   ]
  },
  {
   "cell_type": "code",
   "execution_count": 12,
   "id": "3971c217-a576-4a8a-9c29-8fdb6a43c7e7",
   "metadata": {},
   "outputs": [],
   "source": [
    "cat_columns = ['shape', 'color', 'clarity', 'symmetry', 'polish',  'fluor_intensity', 'lab']"
   ]
  },
  {
   "cell_type": "code",
   "execution_count": 13,
   "id": "bdfeed72-d677-46f7-81a3-5e90ef7ce471",
   "metadata": {},
   "outputs": [
    {
     "data": {
      "text/html": [
       "<div>\n",
       "<style scoped>\n",
       "    .dataframe tbody tr th:only-of-type {\n",
       "        vertical-align: middle;\n",
       "    }\n",
       "\n",
       "    .dataframe tbody tr th {\n",
       "        vertical-align: top;\n",
       "    }\n",
       "\n",
       "    .dataframe thead th {\n",
       "        text-align: right;\n",
       "    }\n",
       "</style>\n",
       "<table border=\"1\" class=\"dataframe\">\n",
       "  <thead>\n",
       "    <tr style=\"text-align: right;\">\n",
       "      <th></th>\n",
       "      <th>depth_percent</th>\n",
       "      <th>diamond_id</th>\n",
       "      <th>meas_depth</th>\n",
       "      <th>meas_length</th>\n",
       "      <th>meas_width</th>\n",
       "      <th>size</th>\n",
       "      <th>table_percent</th>\n",
       "    </tr>\n",
       "  </thead>\n",
       "  <tbody>\n",
       "    <tr>\n",
       "      <th>count</th>\n",
       "      <td>164778.000000</td>\n",
       "      <td>1.647780e+05</td>\n",
       "      <td>164778.000000</td>\n",
       "      <td>164778.000000</td>\n",
       "      <td>164778.000000</td>\n",
       "      <td>164778.000000</td>\n",
       "      <td>164778.000000</td>\n",
       "    </tr>\n",
       "    <tr>\n",
       "      <th>mean</th>\n",
       "      <td>61.680588</td>\n",
       "      <td>1.281167e+08</td>\n",
       "      <td>3.287975</td>\n",
       "      <td>5.549173</td>\n",
       "      <td>5.138714</td>\n",
       "      <td>0.755863</td>\n",
       "      <td>57.733908</td>\n",
       "    </tr>\n",
       "    <tr>\n",
       "      <th>std</th>\n",
       "      <td>9.951849</td>\n",
       "      <td>1.322955e+07</td>\n",
       "      <td>2.054558</td>\n",
       "      <td>1.751421</td>\n",
       "      <td>1.380973</td>\n",
       "      <td>0.844355</td>\n",
       "      <td>10.029065</td>\n",
       "    </tr>\n",
       "    <tr>\n",
       "      <th>min</th>\n",
       "      <td>0.000000</td>\n",
       "      <td>9.666855e+06</td>\n",
       "      <td>0.000000</td>\n",
       "      <td>0.000000</td>\n",
       "      <td>0.000000</td>\n",
       "      <td>0.080000</td>\n",
       "      <td>0.000000</td>\n",
       "    </tr>\n",
       "    <tr>\n",
       "      <th>25%</th>\n",
       "      <td>61.200000</td>\n",
       "      <td>1.275644e+08</td>\n",
       "      <td>2.680000</td>\n",
       "      <td>4.350000</td>\n",
       "      <td>4.310000</td>\n",
       "      <td>0.310000</td>\n",
       "      <td>57.000000</td>\n",
       "    </tr>\n",
       "    <tr>\n",
       "      <th>50%</th>\n",
       "      <td>62.400000</td>\n",
       "      <td>1.326120e+08</td>\n",
       "      <td>3.040000</td>\n",
       "      <td>5.060000</td>\n",
       "      <td>4.800000</td>\n",
       "      <td>0.500000</td>\n",
       "      <td>58.000000</td>\n",
       "    </tr>\n",
       "    <tr>\n",
       "      <th>75%</th>\n",
       "      <td>63.500000</td>\n",
       "      <td>1.348554e+08</td>\n",
       "      <td>3.640000</td>\n",
       "      <td>6.350000</td>\n",
       "      <td>5.700000</td>\n",
       "      <td>1.000000</td>\n",
       "      <td>60.000000</td>\n",
       "    </tr>\n",
       "    <tr>\n",
       "      <th>max</th>\n",
       "      <td>98.700000</td>\n",
       "      <td>1.361475e+08</td>\n",
       "      <td>73.000000</td>\n",
       "      <td>60.450000</td>\n",
       "      <td>62.300000</td>\n",
       "      <td>19.350000</td>\n",
       "      <td>94.000000</td>\n",
       "    </tr>\n",
       "  </tbody>\n",
       "</table>\n",
       "</div>"
      ],
      "text/plain": [
       "       depth_percent    diamond_id     meas_depth    meas_length  \\\n",
       "count  164778.000000  1.647780e+05  164778.000000  164778.000000   \n",
       "mean       61.680588  1.281167e+08       3.287975       5.549173   \n",
       "std         9.951849  1.322955e+07       2.054558       1.751421   \n",
       "min         0.000000  9.666855e+06       0.000000       0.000000   \n",
       "25%        61.200000  1.275644e+08       2.680000       4.350000   \n",
       "50%        62.400000  1.326120e+08       3.040000       5.060000   \n",
       "75%        63.500000  1.348554e+08       3.640000       6.350000   \n",
       "max        98.700000  1.361475e+08      73.000000      60.450000   \n",
       "\n",
       "          meas_width           size  table_percent  \n",
       "count  164778.000000  164778.000000  164778.000000  \n",
       "mean        5.138714       0.755863      57.733908  \n",
       "std         1.380973       0.844355      10.029065  \n",
       "min         0.000000       0.080000       0.000000  \n",
       "25%         4.310000       0.310000      57.000000  \n",
       "50%         4.800000       0.500000      58.000000  \n",
       "75%         5.700000       1.000000      60.000000  \n",
       "max        62.300000      19.350000      94.000000  "
      ]
     },
     "execution_count": 13,
     "metadata": {},
     "output_type": "execute_result"
    }
   ],
   "source": [
    "X_train.describe()"
   ]
  },
  {
   "cell_type": "code",
   "execution_count": 14,
   "id": "eb99c2d5-fa7a-4fc6-ba7d-840b7deded80",
   "metadata": {},
   "outputs": [
    {
     "data": {
      "text/plain": [
       "array(['F', 'D', 'E', 'G', 'I', 'H', 'J', 'L', nan, 'K', 'M'],\n",
       "      dtype=object)"
      ]
     },
     "execution_count": 14,
     "metadata": {},
     "output_type": "execute_result"
    }
   ],
   "source": [
    "X_train.color.unique()"
   ]
  },
  {
   "cell_type": "code",
   "execution_count": 15,
   "id": "0ee9548d-5bad-4bcf-9b31-1f72a8ee07ba",
   "metadata": {},
   "outputs": [
    {
     "data": {
      "text/plain": [
       "array(['Round', 'Pear', 'Princess', 'Emerald', 'Oval', 'Heart', 'Cushion',\n",
       "       'Cushion Modified', 'Marquise', 'Radiant', 'Asscher'], dtype=object)"
      ]
     },
     "execution_count": 15,
     "metadata": {},
     "output_type": "execute_result"
    }
   ],
   "source": [
    "X_train['shape'].unique()"
   ]
  },
  {
   "cell_type": "code",
   "execution_count": 16,
   "id": "04e575b3-b53e-4389-8f50-a573d57cbe5f",
   "metadata": {},
   "outputs": [
    {
     "name": "stderr",
     "output_type": "stream",
     "text": [
      "/usr/local/lib/python3.8/dist-packages/seaborn/_decorators.py:36: FutureWarning: Pass the following variables as keyword args: x, y. From version 0.12, the only valid positional argument will be `data`, and passing other arguments without an explicit keyword will result in an error or misinterpretation.\n",
      "  warnings.warn(\n"
     ]
    },
    {
     "data": {
      "image/png": "[encoded data removed]",
      "text/plain": [
       "<Figure size 432x288 with 1 Axes>"
      ]
     },
     "metadata": {
      "needs_background": "light"
     },
     "output_type": "display_data"
    },
    {
     "name": "stderr",
     "output_type": "stream",
     "text": [
      "/usr/local/lib/python3.8/dist-packages/seaborn/_decorators.py:36: FutureWarning: Pass the following variables as keyword args: x, y. From version 0.12, the only valid positional argument will be `data`, and passing other arguments without an explicit keyword will result in an error or misinterpretation.\n",
      "  warnings.warn(\n"
     ]
    },
    {
     "data": {
      "image/png": "[encoded data removed]",
      "text/plain": [
       "<Figure size 432x288 with 1 Axes>"
      ]
     },
     "metadata": {
      "needs_background": "light"
     },
     "output_type": "display_data"
    },
    {
     "name": "stderr",
     "output_type": "stream",
     "text": [
      "/usr/local/lib/python3.8/dist-packages/seaborn/_decorators.py:36: FutureWarning: Pass the following variables as keyword args: x, y. From version 0.12, the only valid positional argument will be `data`, and passing other arguments without an explicit keyword will result in an error or misinterpretation.\n",
      "  warnings.warn(\n"
     ]
    },
    {
     "data": {
      "image/png": "[encoded data removed]",
      "text/plain": [
       "<Figure size 432x288 with 1 Axes>"
      ]
     },
     "metadata": {
      "needs_background": "light"
     },
     "output_type": "display_data"
    },
    {
     "name": "stderr",
     "output_type": "stream",
     "text": [
      "/usr/local/lib/python3.8/dist-packages/seaborn/_decorators.py:36: FutureWarning: Pass the following variables as keyword args: x, y. From version 0.12, the only valid positional argument will be `data`, and passing other arguments without an explicit keyword will result in an error or misinterpretation.\n",
      "  warnings.warn(\n"
     ]
    },
    {
     "data": {
      "image/png": "[encoded data removed]",
      "text/plain": [
       "<Figure size 432x288 with 1 Axes>"
      ]
     },
     "metadata": {
      "needs_background": "light"
     },
     "output_type": "display_data"
    },
    {
     "name": "stderr",
     "output_type": "stream",
     "text": [
      "/usr/local/lib/python3.8/dist-packages/seaborn/_decorators.py:36: FutureWarning: Pass the following variables as keyword args: x, y. From version 0.12, the only valid positional argument will be `data`, and passing other arguments without an explicit keyword will result in an error or misinterpretation.\n",
      "  warnings.warn(\n"
     ]
    },
    {
     "data": {
      "image/png": "[encoded data removed]",
      "text/plain": [
       "<Figure size 432x288 with 1 Axes>"
      ]
     },
     "metadata": {
      "needs_background": "light"
     },
     "output_type": "display_data"
    },
    {
     "name": "stderr",
     "output_type": "stream",
     "text": [
      "/usr/local/lib/python3.8/dist-packages/seaborn/_decorators.py:36: FutureWarning: Pass the following variables as keyword args: x, y. From version 0.12, the only valid positional argument will be `data`, and passing other arguments without an explicit keyword will result in an error or misinterpretation.\n",
      "  warnings.warn(\n"
     ]
    },
    {
     "data": {
      "image/png": "[encoded data removed]",
      "text/plain": [
       "<Figure size 432x288 with 1 Axes>"
      ]
     },
     "metadata": {
      "needs_background": "light"
     },
     "output_type": "display_data"
    },
    {
     "name": "stderr",
     "output_type": "stream",
     "text": [
      "/usr/local/lib/python3.8/dist-packages/seaborn/_decorators.py:36: FutureWarning: Pass the following variables as keyword args: x, y. From version 0.12, the only valid positional argument will be `data`, and passing other arguments without an explicit keyword will result in an error or misinterpretation.\n",
      "  warnings.warn(\n"
     ]
    },
    {
     "data": {
      "image/png": "[encoded data removed]",
      "text/plain": [
       "<Figure size 432x288 with 1 Axes>"
      ]
     },
     "metadata": {
      "needs_background": "light"
     },
     "output_type": "display_data"
    }
   ],
   "source": [
    "for name in cat_columns:\n",
    "    sbn.barplot(X_train[name].value_counts().index, X_train[name].value_counts()).set_title(name)\n",
    "    plt.show()"
   ]
  },
  {
   "cell_type": "code",
   "execution_count": 17,
   "id": "b84806c5-3c07-4bda-8d79-9626d4641b85",
   "metadata": {},
   "outputs": [
    {
     "data": {
      "text/plain": [
       "clarity\n",
       "I1       5869.732585\n",
       "I2       4576.511396\n",
       "I3       3894.876712\n",
       "IF      10643.663630\n",
       "SI1      6568.993193\n",
       "SI2      6555.456501\n",
       "SI3       411.000000\n",
       "VS1      7557.268987\n",
       "VS2      7560.931020\n",
       "VVS1     5673.497074\n",
       "VVS2     6208.018213\n",
       "Name: total_sales_price, dtype: float64"
      ]
     },
     "execution_count": 17,
     "metadata": {},
     "output_type": "execute_result"
    }
   ],
   "source": [
    "full_training_set = X_train\n",
    "full_training_set[\"total_sales_price\"] = y_train\n",
    "\n",
    "full_training_set.groupby([\"clarity\"])['total_sales_price'].mean()"
   ]
  },
  {
   "cell_type": "code",
   "execution_count": 18,
   "id": "ea213a85-a2a8-4d8d-a68b-ca2cbd3ff87f",
   "metadata": {},
   "outputs": [
    {
     "data": {
      "text/plain": [
       "color\n",
       "D    6133.431048\n",
       "E    5409.299819\n",
       "F    5647.032309\n",
       "G    7286.348346\n",
       "H    7565.002389\n",
       "I    6826.332516\n",
       "J    6536.965939\n",
       "K    6176.734867\n",
       "L    6049.336979\n",
       "M    6067.201567\n",
       "Name: total_sales_price, dtype: float64"
      ]
     },
     "execution_count": 18,
     "metadata": {},
     "output_type": "execute_result"
    }
   ],
   "source": [
    "full_training_set.groupby([\"color\"])['total_sales_price'].mean()"
   ]
  },
  {
   "cell_type": "markdown",
   "id": "2910d49c-d073-415f-a2f3-37304537cce5",
   "metadata": {},
   "source": [
    "*color values are coded E been nearly colorless to M been Light Yellow color*\n",
    "\n",
    "Refer to the link for more info https://australiandiamondimporters.com.au/colour/"
   ]
  },
  {
   "cell_type": "code",
   "execution_count": 19,
   "id": "e967248c-5d45-4485-84dc-d98efc4772e5",
   "metadata": {},
   "outputs": [
    {
     "data": {
      "text/plain": [
       "array(['2022-02-24'], dtype=object)"
      ]
     },
     "execution_count": 19,
     "metadata": {},
     "output_type": "execute_result"
    }
   ],
   "source": [
    "X_train['date'].unique()"
   ]
  },
  {
   "cell_type": "code",
   "execution_count": 20,
   "id": "48b5f8b9-4ca6-4883-82ba-0b825add7b77",
   "metadata": {},
   "outputs": [
    {
     "data": {
      "image/png": "[encoded data removed]",
      "text/plain": [
       "<Figure size 432x288 with 1 Axes>"
      ]
     },
     "metadata": {
      "needs_background": "light"
     },
     "output_type": "display_data"
    },
    {
     "data": {
      "image/png": "[encoded data removed]",
      "text/plain": [
       "<Figure size 432x288 with 1 Axes>"
      ]
     },
     "metadata": {
      "needs_background": "light"
     },
     "output_type": "display_data"
    },
    {
     "data": {
      "image/png": "[encoded data removed]",
      "text/plain": [
       "<Figure size 432x288 with 1 Axes>"
      ]
     },
     "metadata": {
      "needs_background": "light"
     },
     "output_type": "display_data"
    },
    {
     "data": {
      "image/png": "[encoded data removed]",
      "text/plain": [
       "<Figure size 432x288 with 1 Axes>"
      ]
     },
     "metadata": {
      "needs_background": "light"
     },
     "output_type": "display_data"
    },
    {
     "data": {
      "image/png": "[encoded data removed]",
      "text/plain": [
       "<Figure size 432x288 with 1 Axes>"
      ]
     },
     "metadata": {
      "needs_background": "light"
     },
     "output_type": "display_data"
    },
    {
     "data": {
      "image/png": "[encoded data removed]",
      "text/plain": [
       "<Figure size 432x288 with 1 Axes>"
      ]
     },
     "metadata": {
      "needs_background": "light"
     },
     "output_type": "display_data"
    },
    {
     "data": {
      "image/png": "[encoded data removed]",
      "text/plain": [
       "<Figure size 432x288 with 1 Axes>"
      ]
     },
     "metadata": {
      "needs_background": "light"
     },
     "output_type": "display_data"
    }
   ],
   "source": [
    "for name in nb_columns:\n",
    "    plt.hist(X_train[name])\n",
    "    plt.title(name)\n",
    "    plt.show()"
   ]
  },
  {
   "cell_type": "code",
   "execution_count": 21,
   "id": "5ca6f558-0b43-4b27-abe2-fae764ac98bb",
   "metadata": {},
   "outputs": [
    {
     "name": "stdout",
     "output_type": "stream",
     "text": [
      "                       size  depth_percent  table_percent  meas_length  \\\n",
      "size               1.000000       0.062826       0.091877     0.786458   \n",
      "depth_percent      0.062826       1.000000       0.670440     0.129603   \n",
      "table_percent      0.091877       0.670440       1.000000     0.167208   \n",
      "meas_length        0.786458       0.129603       0.167208     1.000000   \n",
      "meas_width         0.785230       0.116696       0.138020     0.789899   \n",
      "meas_depth         0.351697       0.085184       0.080895     0.344306   \n",
      "total_sales_price  0.750963       0.025774       0.046430     0.497685   \n",
      "\n",
      "                   meas_width  meas_depth  total_sales_price  \n",
      "size                 0.785230    0.351697           0.750963  \n",
      "depth_percent        0.116696    0.085184           0.025774  \n",
      "table_percent        0.138020    0.080895           0.046430  \n",
      "meas_length          0.789899    0.344306           0.497685  \n",
      "meas_width           1.000000    0.411477           0.512256  \n",
      "meas_depth           0.411477    1.000000           0.220473  \n",
      "total_sales_price    0.512256    0.220473           1.000000  \n"
     ]
    },
    {
     "data": {
      "text/plain": [
       "<AxesSubplot:>"
      ]
     },
     "execution_count": 21,
     "metadata": {},
     "output_type": "execute_result"
    },
    {
     "data": {
      "image/png": "[encoded data removed]",
      "text/plain": [
       "<Figure size 432x288 with 2 Axes>"
      ]
     },
     "metadata": {
      "needs_background": "light"
     },
     "output_type": "display_data"
    }
   ],
   "source": [
    "corr = X_train[nb_columns].corr()\n",
    "print(corr)\n",
    "sbn.heatmap(corr)"
   ]
  },
  {
   "cell_type": "code",
   "execution_count": 22,
   "id": "8eefa40d-0a9d-4b47-bb44-9d1a4380da68",
   "metadata": {},
   "outputs": [
    {
     "data": {
      "text/html": [
       "<div>\n",
       "<style scoped>\n",
       "    .dataframe tbody tr th:only-of-type {\n",
       "        vertical-align: middle;\n",
       "    }\n",
       "\n",
       "    .dataframe tbody tr th {\n",
       "        vertical-align: top;\n",
       "    }\n",
       "\n",
       "    .dataframe thead th {\n",
       "        text-align: right;\n",
       "    }\n",
       "</style>\n",
       "<table border=\"1\" class=\"dataframe\">\n",
       "  <thead>\n",
       "    <tr style=\"text-align: right;\">\n",
       "      <th></th>\n",
       "      <th>depth_percent</th>\n",
       "      <th>meas_depth</th>\n",
       "      <th>meas_length</th>\n",
       "      <th>size</th>\n",
       "      <th>table_percent</th>\n",
       "      <th>total_sales_price</th>\n",
       "    </tr>\n",
       "    <tr>\n",
       "      <th>color</th>\n",
       "      <th></th>\n",
       "      <th></th>\n",
       "      <th></th>\n",
       "      <th></th>\n",
       "      <th></th>\n",
       "      <th></th>\n",
       "    </tr>\n",
       "  </thead>\n",
       "  <tbody>\n",
       "    <tr>\n",
       "      <th>D</th>\n",
       "      <td>61.253801</td>\n",
       "      <td>3.102761</td>\n",
       "      <td>5.287303</td>\n",
       "      <td>0.599401</td>\n",
       "      <td>57.790265</td>\n",
       "      <td>6133.431048</td>\n",
       "    </tr>\n",
       "    <tr>\n",
       "      <th>E</th>\n",
       "      <td>61.565332</td>\n",
       "      <td>3.053082</td>\n",
       "      <td>5.131789</td>\n",
       "      <td>0.578742</td>\n",
       "      <td>57.777985</td>\n",
       "      <td>5409.299819</td>\n",
       "    </tr>\n",
       "    <tr>\n",
       "      <th>F</th>\n",
       "      <td>61.804683</td>\n",
       "      <td>3.122295</td>\n",
       "      <td>5.248167</td>\n",
       "      <td>0.621431</td>\n",
       "      <td>58.036521</td>\n",
       "      <td>5647.032309</td>\n",
       "    </tr>\n",
       "    <tr>\n",
       "      <th>G</th>\n",
       "      <td>61.797143</td>\n",
       "      <td>3.324832</td>\n",
       "      <td>5.553861</td>\n",
       "      <td>0.743602</td>\n",
       "      <td>57.820565</td>\n",
       "      <td>7286.348346</td>\n",
       "    </tr>\n",
       "    <tr>\n",
       "      <th>H</th>\n",
       "      <td>61.668627</td>\n",
       "      <td>3.409113</td>\n",
       "      <td>5.693760</td>\n",
       "      <td>0.810317</td>\n",
       "      <td>57.874600</td>\n",
       "      <td>7565.002389</td>\n",
       "    </tr>\n",
       "    <tr>\n",
       "      <th>I</th>\n",
       "      <td>61.504584</td>\n",
       "      <td>3.433207</td>\n",
       "      <td>5.745072</td>\n",
       "      <td>0.835103</td>\n",
       "      <td>57.664528</td>\n",
       "      <td>6826.332516</td>\n",
       "    </tr>\n",
       "    <tr>\n",
       "      <th>J</th>\n",
       "      <td>61.723740</td>\n",
       "      <td>3.493501</td>\n",
       "      <td>5.902836</td>\n",
       "      <td>0.903574</td>\n",
       "      <td>57.831188</td>\n",
       "      <td>6536.965939</td>\n",
       "    </tr>\n",
       "    <tr>\n",
       "      <th>K</th>\n",
       "      <td>61.834077</td>\n",
       "      <td>3.482001</td>\n",
       "      <td>5.909209</td>\n",
       "      <td>0.931176</td>\n",
       "      <td>57.466161</td>\n",
       "      <td>6176.734867</td>\n",
       "    </tr>\n",
       "    <tr>\n",
       "      <th>L</th>\n",
       "      <td>61.760112</td>\n",
       "      <td>3.601897</td>\n",
       "      <td>6.079113</td>\n",
       "      <td>1.026246</td>\n",
       "      <td>57.607084</td>\n",
       "      <td>6049.336979</td>\n",
       "    </tr>\n",
       "    <tr>\n",
       "      <th>M</th>\n",
       "      <td>60.941881</td>\n",
       "      <td>3.685525</td>\n",
       "      <td>6.225102</td>\n",
       "      <td>1.126887</td>\n",
       "      <td>56.735916</td>\n",
       "      <td>6067.201567</td>\n",
       "    </tr>\n",
       "  </tbody>\n",
       "</table>\n",
       "</div>"
      ],
      "text/plain": [
       "       depth_percent  meas_depth  meas_length      size  table_percent  \\\n",
       "color                                                                    \n",
       "D          61.253801    3.102761     5.287303  0.599401      57.790265   \n",
       "E          61.565332    3.053082     5.131789  0.578742      57.777985   \n",
       "F          61.804683    3.122295     5.248167  0.621431      58.036521   \n",
       "G          61.797143    3.324832     5.553861  0.743602      57.820565   \n",
       "H          61.668627    3.409113     5.693760  0.810317      57.874600   \n",
       "I          61.504584    3.433207     5.745072  0.835103      57.664528   \n",
       "J          61.723740    3.493501     5.902836  0.903574      57.831188   \n",
       "K          61.834077    3.482001     5.909209  0.931176      57.466161   \n",
       "L          61.760112    3.601897     6.079113  1.026246      57.607084   \n",
       "M          60.941881    3.685525     6.225102  1.126887      56.735916   \n",
       "\n",
       "       total_sales_price  \n",
       "color                     \n",
       "D            6133.431048  \n",
       "E            5409.299819  \n",
       "F            5647.032309  \n",
       "G            7286.348346  \n",
       "H            7565.002389  \n",
       "I            6826.332516  \n",
       "J            6536.965939  \n",
       "K            6176.734867  \n",
       "L            6049.336979  \n",
       "M            6067.201567  "
      ]
     },
     "execution_count": 22,
     "metadata": {},
     "output_type": "execute_result"
    }
   ],
   "source": [
    "pd.pivot_table(full_training_set, index=\"color\", values=[\"size\", \"depth_percent\", \"table_percent\", \"meas_length\", \"meas_depth\", \"total_sales_price\"])"
   ]
  },
  {
   "cell_type": "code",
   "execution_count": 23,
   "id": "536d00fc-126b-4b87-a087-e1c808c9e0be",
   "metadata": {},
   "outputs": [
    {
     "data": {
      "text/html": [
       "<div>\n",
       "<style scoped>\n",
       "    .dataframe tbody tr th:only-of-type {\n",
       "        vertical-align: middle;\n",
       "    }\n",
       "\n",
       "    .dataframe tbody tr th {\n",
       "        vertical-align: top;\n",
       "    }\n",
       "\n",
       "    .dataframe thead th {\n",
       "        text-align: right;\n",
       "    }\n",
       "</style>\n",
       "<table border=\"1\" class=\"dataframe\">\n",
       "  <thead>\n",
       "    <tr style=\"text-align: right;\">\n",
       "      <th></th>\n",
       "      <th>depth_percent</th>\n",
       "      <th>meas_depth</th>\n",
       "      <th>meas_length</th>\n",
       "      <th>size</th>\n",
       "      <th>table_percent</th>\n",
       "      <th>total_sales_price</th>\n",
       "    </tr>\n",
       "    <tr>\n",
       "      <th>cut</th>\n",
       "      <th></th>\n",
       "      <th></th>\n",
       "      <th></th>\n",
       "      <th></th>\n",
       "      <th></th>\n",
       "      <th></th>\n",
       "    </tr>\n",
       "  </thead>\n",
       "  <tbody>\n",
       "    <tr>\n",
       "      <th>Excellent</th>\n",
       "      <td>60.683147</td>\n",
       "      <td>3.211999</td>\n",
       "      <td>5.099251</td>\n",
       "      <td>0.624803</td>\n",
       "      <td>56.458998</td>\n",
       "      <td>5423.945537</td>\n",
       "    </tr>\n",
       "    <tr>\n",
       "      <th>Fair</th>\n",
       "      <td>61.775000</td>\n",
       "      <td>3.455000</td>\n",
       "      <td>5.612500</td>\n",
       "      <td>0.730000</td>\n",
       "      <td>62.625000</td>\n",
       "      <td>1880.250000</td>\n",
       "    </tr>\n",
       "    <tr>\n",
       "      <th>Good</th>\n",
       "      <td>63.800000</td>\n",
       "      <td>3.903636</td>\n",
       "      <td>7.346364</td>\n",
       "      <td>1.310909</td>\n",
       "      <td>59.727273</td>\n",
       "      <td>7157.954545</td>\n",
       "    </tr>\n",
       "    <tr>\n",
       "      <th>Very Good</th>\n",
       "      <td>60.754879</td>\n",
       "      <td>3.255248</td>\n",
       "      <td>5.070560</td>\n",
       "      <td>0.624044</td>\n",
       "      <td>56.174957</td>\n",
       "      <td>4041.779411</td>\n",
       "    </tr>\n",
       "  </tbody>\n",
       "</table>\n",
       "</div>"
      ],
      "text/plain": [
       "           depth_percent  meas_depth  meas_length      size  table_percent  \\\n",
       "cut                                                                          \n",
       "Excellent      60.683147    3.211999     5.099251  0.624803      56.458998   \n",
       "Fair           61.775000    3.455000     5.612500  0.730000      62.625000   \n",
       "Good           63.800000    3.903636     7.346364  1.310909      59.727273   \n",
       "Very Good      60.754879    3.255248     5.070560  0.624044      56.174957   \n",
       "\n",
       "           total_sales_price  \n",
       "cut                           \n",
       "Excellent        5423.945537  \n",
       "Fair             1880.250000  \n",
       "Good             7157.954545  \n",
       "Very Good        4041.779411  "
      ]
     },
     "execution_count": 23,
     "metadata": {},
     "output_type": "execute_result"
    }
   ],
   "source": [
    "pd.pivot_table(full_training_set, index=\"cut\", values=[\"size\", \"depth_percent\", \"table_percent\", \"meas_length\", \"meas_depth\", \"total_sales_price\"])"
   ]
  },
  {
   "cell_type": "markdown",
   "id": "59ac92a1-6611-4292-a910-193f8b890387",
   "metadata": {},
   "source": [
    "## Observations:\n",
    "\n",
    "### Missing values\n",
    "- fancy_color columns, culet_condition, fluor_color and eye_clean columns have more than 70% missing values so I will discard them for this analysis\n",
    "- cut, girdle_min, girdle_max and culet_size has around 30% missing values might be removed\n",
    "- fluor_intensity, color have really small missing value that need to be handled\n",
    "\n",
    "### Feature\n",
    "- Round shape diamond are dominant\n",
    "- most diamonds tends to be colorless color\n",
    "- prices from 200 USD -> 1.4M USD (excluding taxes)\n",
    "- date has only one value feb 2022 can be discarded\n",
    "- price is mostly correlated to size meas_width, meas_length\n",
    "- clarity feature seems to impact the price as well"
   ]
  },
  {
   "cell_type": "markdown",
   "id": "e7bf9145-251f-48d4-95ff-9f49052f739e",
   "metadata": {},
   "source": [
    "   # Feature enginnering\n",
    "   "
   ]
  },
  {
   "cell_type": "code",
   "execution_count": 24,
   "id": "53db7b3c-c3d9-49f3-8128-5f7f17a28dff",
   "metadata": {},
   "outputs": [],
   "source": [
    "X_train_simplify = X_train.drop(columns = [\"fancy_color_dominant_color\", \"fancy_color_secondary_color\", \"fancy_color_overtone\", \"fancy_color_intensity\", \"culet_condition\", \"fluor_color\", \"eye_clean\", \"date\", \"girdle_min\", \"girdle_max\", \"culet_size\", \"cut\"])"
   ]
  },
  {
   "cell_type": "code",
   "execution_count": 25,
   "id": "dd72c1d7-8a40-400e-997d-9690934cfd67",
   "metadata": {},
   "outputs": [
    {
     "data": {
      "text/plain": [
       "Index(['clarity', 'color', 'depth_percent', 'diamond_id', 'fluor_intensity',\n",
       "       'lab', 'meas_depth', 'meas_length', 'meas_width', 'polish', 'shape',\n",
       "       'size', 'symmetry', 'table_percent', 'total_sales_price'],\n",
       "      dtype='object')"
      ]
     },
     "execution_count": 25,
     "metadata": {},
     "output_type": "execute_result"
    }
   ],
   "source": [
    "X_train_simplify.columns"
   ]
  },
  {
   "cell_type": "code",
   "execution_count": 26,
   "id": "f950c8d8-a22b-4ec2-9d58-31653413d4e4",
   "metadata": {},
   "outputs": [],
   "source": [
    "X_train_simplify[\"is_expensive\"] = X_train_simplify[\"total_sales_price\"].apply(lambda x: 1 if x > X_train_simplify[\"total_sales_price\"].mean() else 0)"
   ]
  },
  {
   "cell_type": "code",
   "execution_count": 27,
   "id": "2bba2705-cd6b-4da1-bcb8-d1c7d4faf06e",
   "metadata": {},
   "outputs": [
    {
     "data": {
      "text/html": [
       "<div>\n",
       "<style scoped>\n",
       "    .dataframe tbody tr th:only-of-type {\n",
       "        vertical-align: middle;\n",
       "    }\n",
       "\n",
       "    .dataframe tbody tr th {\n",
       "        vertical-align: top;\n",
       "    }\n",
       "\n",
       "    .dataframe thead th {\n",
       "        text-align: right;\n",
       "    }\n",
       "</style>\n",
       "<table border=\"1\" class=\"dataframe\">\n",
       "  <thead>\n",
       "    <tr style=\"text-align: right;\">\n",
       "      <th></th>\n",
       "      <th>depth_percent</th>\n",
       "      <th>meas_depth</th>\n",
       "      <th>meas_length</th>\n",
       "      <th>size</th>\n",
       "      <th>table_percent</th>\n",
       "    </tr>\n",
       "    <tr>\n",
       "      <th>is_expensive</th>\n",
       "      <th></th>\n",
       "      <th></th>\n",
       "      <th></th>\n",
       "      <th></th>\n",
       "      <th></th>\n",
       "    </tr>\n",
       "  </thead>\n",
       "  <tbody>\n",
       "    <tr>\n",
       "      <th>0</th>\n",
       "      <td>61.361493</td>\n",
       "      <td>2.971827</td>\n",
       "      <td>4.974499</td>\n",
       "      <td>0.481842</td>\n",
       "      <td>57.271629</td>\n",
       "    </tr>\n",
       "    <tr>\n",
       "      <th>1</th>\n",
       "      <td>62.949289</td>\n",
       "      <td>4.544957</td>\n",
       "      <td>7.834039</td>\n",
       "      <td>1.845351</td>\n",
       "      <td>59.571902</td>\n",
       "    </tr>\n",
       "  </tbody>\n",
       "</table>\n",
       "</div>"
      ],
      "text/plain": [
       "              depth_percent  meas_depth  meas_length      size  table_percent\n",
       "is_expensive                                                                 \n",
       "0                 61.361493    2.971827     4.974499  0.481842      57.271629\n",
       "1                 62.949289    4.544957     7.834039  1.845351      59.571902"
      ]
     },
     "execution_count": 27,
     "metadata": {},
     "output_type": "execute_result"
    }
   ],
   "source": [
    "pd.pivot_table(X_train_simplify, index=\"is_expensive\", values=[\"size\", \"depth_percent\", \"table_percent\", \"meas_length\", \"meas_depth\"])"
   ]
  },
  {
   "cell_type": "code",
   "execution_count": 28,
   "id": "446c15f6-7b16-4e85-8ee9-c59b0555df86",
   "metadata": {},
   "outputs": [],
   "source": [
    "X_full_train_simplify = X_train_simplify\n",
    "X_full_train_simplify[\"total_sales_price\"] = y_train"
   ]
  },
  {
   "cell_type": "code",
   "execution_count": 29,
   "id": "7e80050c-563b-48c0-8c8d-c36825c80e23",
   "metadata": {},
   "outputs": [
    {
     "name": "stdout",
     "output_type": "stream",
     "text": [
      "color                    D             E             F             G  \\\n",
      "is_expensive                                                           \n",
      "0              1921.284450   1748.052855   1899.705564   2126.313368   \n",
      "1             27797.501331  26167.805303  25011.972055  25584.995657   \n",
      "\n",
      "color                    H             I             J             K  \\\n",
      "is_expensive                                                           \n",
      "0              2258.073839   2163.657805   2098.213826   1940.078885   \n",
      "1             25158.535644  23899.395537  23139.268724  26202.291612   \n",
      "\n",
      "color                    L             M  \n",
      "is_expensive                              \n",
      "0              2077.336522   2150.073158  \n",
      "1             25048.650067  22692.639269  \n"
     ]
    }
   ],
   "source": [
    "print(pd.pivot_table(X_full_train_simplify, index=\"is_expensive\", columns=\"color\", values=\"total_sales_price\"))"
   ]
  },
  {
   "cell_type": "code",
   "execution_count": 30,
   "id": "1c68d4fd-0f58-4dc4-a8c7-20d8a60d041d",
   "metadata": {},
   "outputs": [],
   "source": [
    "X_train_simplify[\"is_big\"] = X_train_simplify[\"size\"].apply(lambda x: 1 if x > X_train_simplify[\"size\"].mean() else 0)"
   ]
  },
  {
   "cell_type": "code",
   "execution_count": 31,
   "id": "38a970d6-b001-428f-9be3-585c0d4bb558",
   "metadata": {},
   "outputs": [
    {
     "data": {
      "text/html": [
       "<div>\n",
       "<style scoped>\n",
       "    .dataframe tbody tr th:only-of-type {\n",
       "        vertical-align: middle;\n",
       "    }\n",
       "\n",
       "    .dataframe tbody tr th {\n",
       "        vertical-align: top;\n",
       "    }\n",
       "\n",
       "    .dataframe thead th {\n",
       "        text-align: right;\n",
       "    }\n",
       "</style>\n",
       "<table border=\"1\" class=\"dataframe\">\n",
       "  <thead>\n",
       "    <tr style=\"text-align: right;\">\n",
       "      <th></th>\n",
       "      <th>depth_percent</th>\n",
       "      <th>diamond_id</th>\n",
       "      <th>meas_depth</th>\n",
       "      <th>meas_length</th>\n",
       "      <th>meas_width</th>\n",
       "      <th>size</th>\n",
       "      <th>table_percent</th>\n",
       "      <th>total_sales_price</th>\n",
       "      <th>is_expensive</th>\n",
       "    </tr>\n",
       "    <tr>\n",
       "      <th>is_big</th>\n",
       "      <th></th>\n",
       "      <th></th>\n",
       "      <th></th>\n",
       "      <th></th>\n",
       "      <th></th>\n",
       "      <th></th>\n",
       "      <th></th>\n",
       "      <th></th>\n",
       "      <th></th>\n",
       "    </tr>\n",
       "  </thead>\n",
       "  <tbody>\n",
       "    <tr>\n",
       "      <th>0</th>\n",
       "      <td>61.141793</td>\n",
       "      <td>1.293744e+08</td>\n",
       "      <td>2.848648</td>\n",
       "      <td>4.730693</td>\n",
       "      <td>4.510000</td>\n",
       "      <td>0.404914</td>\n",
       "      <td>56.976045</td>\n",
       "      <td>1715.998450</td>\n",
       "      <td>0.006419</td>\n",
       "    </tr>\n",
       "    <tr>\n",
       "      <th>1</th>\n",
       "      <td>62.918847</td>\n",
       "      <td>1.252263e+08</td>\n",
       "      <td>4.297635</td>\n",
       "      <td>7.430202</td>\n",
       "      <td>6.583624</td>\n",
       "      <td>1.562413</td>\n",
       "      <td>59.475629</td>\n",
       "      <td>18808.018655</td>\n",
       "      <td>0.648078</td>\n",
       "    </tr>\n",
       "  </tbody>\n",
       "</table>\n",
       "</div>"
      ],
      "text/plain": [
       "        depth_percent    diamond_id  meas_depth  meas_length  meas_width  \\\n",
       "is_big                                                                     \n",
       "0           61.141793  1.293744e+08    2.848648     4.730693    4.510000   \n",
       "1           62.918847  1.252263e+08    4.297635     7.430202    6.583624   \n",
       "\n",
       "            size  table_percent  total_sales_price  is_expensive  \n",
       "is_big                                                            \n",
       "0       0.404914      56.976045        1715.998450      0.006419  \n",
       "1       1.562413      59.475629       18808.018655      0.648078  "
      ]
     },
     "execution_count": 31,
     "metadata": {},
     "output_type": "execute_result"
    }
   ],
   "source": [
    "X_full_train_simplify = X_train_simplify\n",
    "X_full_train_simplify[\"total_sales_price\"] = y_train\n",
    "X_full_train_simplify.groupby(['is_big']).mean()"
   ]
  },
  {
   "cell_type": "markdown",
   "id": "2679a39c-7888-475b-a6ff-8298b068bd37",
   "metadata": {},
   "source": [
    "### Data cleaning"
   ]
  },
  {
   "cell_type": "code",
   "execution_count": 32,
   "id": "fc23a37e-31cc-427f-992a-07bc14bf7ea4",
   "metadata": {},
   "outputs": [
    {
     "name": "stdout",
     "output_type": "stream",
     "text": [
      "<class 'pandas.core.frame.DataFrame'>\n",
      "Int64Index: 164778 entries, 73636 to 40714\n",
      "Data columns (total 17 columns):\n",
      " #   Column             Non-Null Count   Dtype  \n",
      "---  ------             --------------   -----  \n",
      " 0   clarity            164778 non-null  object \n",
      " 1   color              157889 non-null  object \n",
      " 2   depth_percent      164778 non-null  float64\n",
      " 3   diamond_id         164778 non-null  int64  \n",
      " 4   fluor_intensity    164683 non-null  object \n",
      " 5   lab                164778 non-null  object \n",
      " 6   meas_depth         164778 non-null  float64\n",
      " 7   meas_length        164778 non-null  float64\n",
      " 8   meas_width         164778 non-null  float64\n",
      " 9   polish             164778 non-null  object \n",
      " 10  shape              164778 non-null  object \n",
      " 11  size               164778 non-null  float64\n",
      " 12  symmetry           164778 non-null  object \n",
      " 13  table_percent      164778 non-null  float64\n",
      " 14  total_sales_price  164778 non-null  int64  \n",
      " 15  is_expensive       164778 non-null  int64  \n",
      " 16  is_big             164778 non-null  int64  \n",
      "dtypes: float64(6), int64(4), object(7)\n",
      "memory usage: 22.6+ MB\n"
     ]
    },
    {
     "data": {
      "text/plain": [
       "clarity                 0\n",
       "color                6889\n",
       "depth_percent           0\n",
       "diamond_id              0\n",
       "fluor_intensity        95\n",
       "lab                     0\n",
       "meas_depth              0\n",
       "meas_length             0\n",
       "meas_width              0\n",
       "polish                  0\n",
       "shape                   0\n",
       "size                    0\n",
       "symmetry                0\n",
       "table_percent           0\n",
       "total_sales_price       0\n",
       "is_expensive            0\n",
       "is_big                  0\n",
       "dtype: int64"
      ]
     },
     "execution_count": 32,
     "metadata": {},
     "output_type": "execute_result"
    }
   ],
   "source": [
    "X_train_simplify.info()\n",
    "X_train_simplify.isnull().sum()"
   ]
  },
  {
   "cell_type": "code",
   "execution_count": 33,
   "id": "fbe8dc54-7d89-4569-8071-493046591eb6",
   "metadata": {},
   "outputs": [],
   "source": [
    "X_full_train_simplify.groupby(['color']).count()\n",
    "\n",
    "X_train_simplify.color = X_train_simplify.color.fillna(\"E\") #fill color with most common one"
   ]
  },
  {
   "cell_type": "code",
   "execution_count": 34,
   "id": "4f3b0c03-801d-4563-8976-6b8b117b3773",
   "metadata": {},
   "outputs": [],
   "source": [
    "X_full_train_simplify = X_train_simplify\n",
    "X_full_train_simplify[\"total_sales_price\"] = y_train\n",
    "\n",
    "X_full_train_simplify.groupby(['fluor_intensity']).count()\n",
    "X_train_simplify.fluor_intensity = X_train_simplify.fluor_intensity.fillna(\"Faint\") #fill Faint most common one"
   ]
  },
  {
   "cell_type": "markdown",
   "id": "2ba71cd5-64f8-44b3-a2db-f44f1a63e36b",
   "metadata": {},
   "source": [
    "### Data preparation"
   ]
  },
  {
   "cell_type": "code",
   "execution_count": 35,
   "id": "f4b73d7a-72b9-4f36-8205-7a552d60e48e",
   "metadata": {},
   "outputs": [
    {
     "data": {
      "text/plain": [
       "<AxesSubplot:>"
      ]
     },
     "execution_count": 35,
     "metadata": {},
     "output_type": "execute_result"
    },
    {
     "data": {
      "image/png": "[encoded data removed]",
      "text/plain": [
       "<Figure size 432x288 with 1 Axes>"
      ]
     },
     "metadata": {
      "needs_background": "light"
     },
     "output_type": "display_data"
    }
   ],
   "source": [
    "#normalized keeping value in a short range\n",
    "\n",
    "#normalized log norm of size\n",
    "X_train_simplify['norm_size'] =np.log(X_train_simplify.size + 1)\n",
    "X_train_simplify['norm_size'].hist()\n",
    "\n",
    "#normalized log of depth_percent\n",
    "X_train_simplify[\"norm_depth_percent\"] = np.log(X_train_simplify.depth_percent + 1)\n",
    "X_train_simplify[\"norm_depth_percent\"].hist()\n",
    "\n",
    "#normalized log of meas_depth\n",
    "X_train_simplify[\"norm_table_percent\"] = np.log(X_train_simplify.table_percent + 1)\n",
    "X_train_simplify[\"norm_table_percent\"].hist()\n",
    "\n",
    "#normalized log of meas_length\n",
    "X_train_simplify[\"norm_meas_length\"] = np.log(X_train_simplify.meas_length + 1)\n",
    "X_train_simplify[\"norm_meas_length\"].hist()\n",
    "\n",
    "#normalized log of meas_width\n",
    "X_train_simplify[\"norm_meas_width\"] = np.log(X_train_simplify.meas_width + 1)\n",
    "X_train_simplify[\"norm_meas_width\"].hist()\n",
    "\n",
    "#normalized log of meas_depth\n",
    "X_train_simplify[\"norm_meas_depth\"] = np.log(X_train_simplify.meas_depth + 1)\n",
    "X_train_simplify[\"norm_meas_depth\"].hist()\n"
   ]
  },
  {
   "cell_type": "code",
   "execution_count": 36,
   "id": "b9fda636-69c5-40df-991d-0253d8175aed",
   "metadata": {},
   "outputs": [],
   "source": [
    "X_train_dummmies = pd.get_dummies(X_train_simplify[['norm_size', 'norm_depth_percent', 'norm_table_percent', 'norm_meas_length', 'norm_meas_width', 'norm_meas_depth', 'total_sales_price', 'shape', 'color', 'clarity', 'symmetry', 'polish', 'fluor_intensity', 'lab', 'is_big', 'is_expensive']])"
   ]
  },
  {
   "cell_type": "code",
   "execution_count": 37,
   "id": "be4a517d-b36c-4ffb-a0aa-e75fbf5dc66d",
   "metadata": {},
   "outputs": [
    {
     "data": {
      "text/html": [
       "<div>\n",
       "<style scoped>\n",
       "    .dataframe tbody tr th:only-of-type {\n",
       "        vertical-align: middle;\n",
       "    }\n",
       "\n",
       "    .dataframe tbody tr th {\n",
       "        vertical-align: top;\n",
       "    }\n",
       "\n",
       "    .dataframe thead th {\n",
       "        text-align: right;\n",
       "    }\n",
       "</style>\n",
       "<table border=\"1\" class=\"dataframe\">\n",
       "  <thead>\n",
       "    <tr style=\"text-align: right;\">\n",
       "      <th></th>\n",
       "      <th>norm_size</th>\n",
       "      <th>norm_depth_percent</th>\n",
       "      <th>norm_table_percent</th>\n",
       "      <th>norm_meas_length</th>\n",
       "      <th>norm_meas_width</th>\n",
       "      <th>norm_meas_depth</th>\n",
       "      <th>total_sales_price</th>\n",
       "      <th>is_big</th>\n",
       "      <th>is_expensive</th>\n",
       "      <th>shape_Asscher</th>\n",
       "      <th>...</th>\n",
       "      <th>fluor_intensity_Faint</th>\n",
       "      <th>fluor_intensity_Medium</th>\n",
       "      <th>fluor_intensity_None</th>\n",
       "      <th>fluor_intensity_Slight</th>\n",
       "      <th>fluor_intensity_Strong</th>\n",
       "      <th>fluor_intensity_Very Slight</th>\n",
       "      <th>fluor_intensity_Very Strong</th>\n",
       "      <th>lab_GIA</th>\n",
       "      <th>lab_HRD</th>\n",
       "      <th>lab_IGI</th>\n",
       "    </tr>\n",
       "  </thead>\n",
       "  <tbody>\n",
       "    <tr>\n",
       "      <th>73636</th>\n",
       "      <td>14.845568</td>\n",
       "      <td>4.127134</td>\n",
       "      <td>4.110874</td>\n",
       "      <td>1.627278</td>\n",
       "      <td>1.635106</td>\n",
       "      <td>1.255616</td>\n",
       "      <td>1082</td>\n",
       "      <td>0</td>\n",
       "      <td>0</td>\n",
       "      <td>0</td>\n",
       "      <td>...</td>\n",
       "      <td>0</td>\n",
       "      <td>0</td>\n",
       "      <td>1</td>\n",
       "      <td>0</td>\n",
       "      <td>0</td>\n",
       "      <td>0</td>\n",
       "      <td>0</td>\n",
       "      <td>1</td>\n",
       "      <td>0</td>\n",
       "      <td>0</td>\n",
       "    </tr>\n",
       "    <tr>\n",
       "      <th>185258</th>\n",
       "      <td>14.845568</td>\n",
       "      <td>4.185099</td>\n",
       "      <td>4.158883</td>\n",
       "      <td>2.276241</td>\n",
       "      <td>1.870263</td>\n",
       "      <td>1.515127</td>\n",
       "      <td>8818</td>\n",
       "      <td>1</td>\n",
       "      <td>1</td>\n",
       "      <td>0</td>\n",
       "      <td>...</td>\n",
       "      <td>0</td>\n",
       "      <td>0</td>\n",
       "      <td>1</td>\n",
       "      <td>0</td>\n",
       "      <td>0</td>\n",
       "      <td>0</td>\n",
       "      <td>0</td>\n",
       "      <td>1</td>\n",
       "      <td>0</td>\n",
       "      <td>0</td>\n",
       "    </tr>\n",
       "    <tr>\n",
       "      <th>210771</th>\n",
       "      <td>14.845568</td>\n",
       "      <td>4.298645</td>\n",
       "      <td>4.290459</td>\n",
       "      <td>2.086914</td>\n",
       "      <td>2.080691</td>\n",
       "      <td>1.806648</td>\n",
       "      <td>24113</td>\n",
       "      <td>1</td>\n",
       "      <td>1</td>\n",
       "      <td>0</td>\n",
       "      <td>...</td>\n",
       "      <td>0</td>\n",
       "      <td>0</td>\n",
       "      <td>1</td>\n",
       "      <td>0</td>\n",
       "      <td>0</td>\n",
       "      <td>0</td>\n",
       "      <td>0</td>\n",
       "      <td>1</td>\n",
       "      <td>0</td>\n",
       "      <td>0</td>\n",
       "    </tr>\n",
       "    <tr>\n",
       "      <th>187064</th>\n",
       "      <td>14.845568</td>\n",
       "      <td>4.171306</td>\n",
       "      <td>4.043051</td>\n",
       "      <td>1.954445</td>\n",
       "      <td>1.961502</td>\n",
       "      <td>1.587192</td>\n",
       "      <td>9605</td>\n",
       "      <td>1</td>\n",
       "      <td>1</td>\n",
       "      <td>0</td>\n",
       "      <td>...</td>\n",
       "      <td>0</td>\n",
       "      <td>0</td>\n",
       "      <td>1</td>\n",
       "      <td>0</td>\n",
       "      <td>0</td>\n",
       "      <td>0</td>\n",
       "      <td>0</td>\n",
       "      <td>1</td>\n",
       "      <td>0</td>\n",
       "      <td>0</td>\n",
       "    </tr>\n",
       "    <tr>\n",
       "      <th>90515</th>\n",
       "      <td>14.845568</td>\n",
       "      <td>4.120662</td>\n",
       "      <td>4.094345</td>\n",
       "      <td>1.808289</td>\n",
       "      <td>1.813195</td>\n",
       "      <td>1.410987</td>\n",
       "      <td>1386</td>\n",
       "      <td>0</td>\n",
       "      <td>0</td>\n",
       "      <td>0</td>\n",
       "      <td>...</td>\n",
       "      <td>1</td>\n",
       "      <td>0</td>\n",
       "      <td>0</td>\n",
       "      <td>0</td>\n",
       "      <td>0</td>\n",
       "      <td>0</td>\n",
       "      <td>0</td>\n",
       "      <td>1</td>\n",
       "      <td>0</td>\n",
       "      <td>0</td>\n",
       "    </tr>\n",
       "    <tr>\n",
       "      <th>...</th>\n",
       "      <td>...</td>\n",
       "      <td>...</td>\n",
       "      <td>...</td>\n",
       "      <td>...</td>\n",
       "      <td>...</td>\n",
       "      <td>...</td>\n",
       "      <td>...</td>\n",
       "      <td>...</td>\n",
       "      <td>...</td>\n",
       "      <td>...</td>\n",
       "      <td>...</td>\n",
       "      <td>...</td>\n",
       "      <td>...</td>\n",
       "      <td>...</td>\n",
       "      <td>...</td>\n",
       "      <td>...</td>\n",
       "      <td>...</td>\n",
       "      <td>...</td>\n",
       "      <td>...</td>\n",
       "      <td>...</td>\n",
       "      <td>...</td>\n",
       "    </tr>\n",
       "    <tr>\n",
       "      <th>22722</th>\n",
       "      <td>14.845568</td>\n",
       "      <td>4.127134</td>\n",
       "      <td>4.127134</td>\n",
       "      <td>1.663926</td>\n",
       "      <td>1.669592</td>\n",
       "      <td>1.286474</td>\n",
       "      <td>744</td>\n",
       "      <td>0</td>\n",
       "      <td>0</td>\n",
       "      <td>0</td>\n",
       "      <td>...</td>\n",
       "      <td>0</td>\n",
       "      <td>0</td>\n",
       "      <td>1</td>\n",
       "      <td>0</td>\n",
       "      <td>0</td>\n",
       "      <td>0</td>\n",
       "      <td>0</td>\n",
       "      <td>1</td>\n",
       "      <td>0</td>\n",
       "      <td>0</td>\n",
       "    </tr>\n",
       "    <tr>\n",
       "      <th>140488</th>\n",
       "      <td>14.845568</td>\n",
       "      <td>4.282206</td>\n",
       "      <td>4.234107</td>\n",
       "      <td>1.897620</td>\n",
       "      <td>1.644805</td>\n",
       "      <td>1.381282</td>\n",
       "      <td>3373</td>\n",
       "      <td>0</td>\n",
       "      <td>0</td>\n",
       "      <td>0</td>\n",
       "      <td>...</td>\n",
       "      <td>0</td>\n",
       "      <td>1</td>\n",
       "      <td>0</td>\n",
       "      <td>0</td>\n",
       "      <td>0</td>\n",
       "      <td>0</td>\n",
       "      <td>0</td>\n",
       "      <td>1</td>\n",
       "      <td>0</td>\n",
       "      <td>0</td>\n",
       "    </tr>\n",
       "    <tr>\n",
       "      <th>190805</th>\n",
       "      <td>14.845568</td>\n",
       "      <td>4.143135</td>\n",
       "      <td>4.007333</td>\n",
       "      <td>1.969906</td>\n",
       "      <td>1.974081</td>\n",
       "      <td>1.576915</td>\n",
       "      <td>10004</td>\n",
       "      <td>1</td>\n",
       "      <td>1</td>\n",
       "      <td>0</td>\n",
       "      <td>...</td>\n",
       "      <td>0</td>\n",
       "      <td>0</td>\n",
       "      <td>1</td>\n",
       "      <td>0</td>\n",
       "      <td>0</td>\n",
       "      <td>0</td>\n",
       "      <td>0</td>\n",
       "      <td>1</td>\n",
       "      <td>0</td>\n",
       "      <td>0</td>\n",
       "    </tr>\n",
       "    <tr>\n",
       "      <th>37304</th>\n",
       "      <td>14.845568</td>\n",
       "      <td>4.115780</td>\n",
       "      <td>4.060443</td>\n",
       "      <td>1.887070</td>\n",
       "      <td>1.568616</td>\n",
       "      <td>1.190888</td>\n",
       "      <td>858</td>\n",
       "      <td>0</td>\n",
       "      <td>0</td>\n",
       "      <td>0</td>\n",
       "      <td>...</td>\n",
       "      <td>1</td>\n",
       "      <td>0</td>\n",
       "      <td>0</td>\n",
       "      <td>0</td>\n",
       "      <td>0</td>\n",
       "      <td>0</td>\n",
       "      <td>0</td>\n",
       "      <td>1</td>\n",
       "      <td>0</td>\n",
       "      <td>0</td>\n",
       "    </tr>\n",
       "    <tr>\n",
       "      <th>144750</th>\n",
       "      <td>14.845568</td>\n",
       "      <td>4.130355</td>\n",
       "      <td>4.077537</td>\n",
       "      <td>1.805005</td>\n",
       "      <td>1.811562</td>\n",
       "      <td>1.415853</td>\n",
       "      <td>3546</td>\n",
       "      <td>0</td>\n",
       "      <td>0</td>\n",
       "      <td>0</td>\n",
       "      <td>...</td>\n",
       "      <td>1</td>\n",
       "      <td>0</td>\n",
       "      <td>0</td>\n",
       "      <td>0</td>\n",
       "      <td>0</td>\n",
       "      <td>0</td>\n",
       "      <td>0</td>\n",
       "      <td>1</td>\n",
       "      <td>0</td>\n",
       "      <td>0</td>\n",
       "    </tr>\n",
       "  </tbody>\n",
       "</table>\n",
       "<p>100 rows × 61 columns</p>\n",
       "</div>"
      ],
      "text/plain": [
       "        norm_size  norm_depth_percent  norm_table_percent  norm_meas_length  \\\n",
       "73636   14.845568            4.127134            4.110874          1.627278   \n",
       "185258  14.845568            4.185099            4.158883          2.276241   \n",
       "210771  14.845568            4.298645            4.290459          2.086914   \n",
       "187064  14.845568            4.171306            4.043051          1.954445   \n",
       "90515   14.845568            4.120662            4.094345          1.808289   \n",
       "...           ...                 ...                 ...               ...   \n",
       "22722   14.845568            4.127134            4.127134          1.663926   \n",
       "140488  14.845568            4.282206            4.234107          1.897620   \n",
       "190805  14.845568            4.143135            4.007333          1.969906   \n",
       "37304   14.845568            4.115780            4.060443          1.887070   \n",
       "144750  14.845568            4.130355            4.077537          1.805005   \n",
       "\n",
       "        norm_meas_width  norm_meas_depth  total_sales_price  is_big  \\\n",
       "73636          1.635106         1.255616               1082       0   \n",
       "185258         1.870263         1.515127               8818       1   \n",
       "210771         2.080691         1.806648              24113       1   \n",
       "187064         1.961502         1.587192               9605       1   \n",
       "90515          1.813195         1.410987               1386       0   \n",
       "...                 ...              ...                ...     ...   \n",
       "22722          1.669592         1.286474                744       0   \n",
       "140488         1.644805         1.381282               3373       0   \n",
       "190805         1.974081         1.576915              10004       1   \n",
       "37304          1.568616         1.190888                858       0   \n",
       "144750         1.811562         1.415853               3546       0   \n",
       "\n",
       "        is_expensive  shape_Asscher  ...  fluor_intensity_Faint  \\\n",
       "73636              0              0  ...                      0   \n",
       "185258             1              0  ...                      0   \n",
       "210771             1              0  ...                      0   \n",
       "187064             1              0  ...                      0   \n",
       "90515              0              0  ...                      1   \n",
       "...              ...            ...  ...                    ...   \n",
       "22722              0              0  ...                      0   \n",
       "140488             0              0  ...                      0   \n",
       "190805             1              0  ...                      0   \n",
       "37304              0              0  ...                      1   \n",
       "144750             0              0  ...                      1   \n",
       "\n",
       "        fluor_intensity_Medium  fluor_intensity_None  fluor_intensity_Slight  \\\n",
       "73636                        0                     1                       0   \n",
       "185258                       0                     1                       0   \n",
       "210771                       0                     1                       0   \n",
       "187064                       0                     1                       0   \n",
       "90515                        0                     0                       0   \n",
       "...                        ...                   ...                     ...   \n",
       "22722                        0                     1                       0   \n",
       "140488                       1                     0                       0   \n",
       "190805                       0                     1                       0   \n",
       "37304                        0                     0                       0   \n",
       "144750                       0                     0                       0   \n",
       "\n",
       "        fluor_intensity_Strong  fluor_intensity_Very Slight  \\\n",
       "73636                        0                            0   \n",
       "185258                       0                            0   \n",
       "210771                       0                            0   \n",
       "187064                       0                            0   \n",
       "90515                        0                            0   \n",
       "...                        ...                          ...   \n",
       "22722                        0                            0   \n",
       "140488                       0                            0   \n",
       "190805                       0                            0   \n",
       "37304                        0                            0   \n",
       "144750                       0                            0   \n",
       "\n",
       "        fluor_intensity_Very Strong  lab_GIA  lab_HRD  lab_IGI  \n",
       "73636                             0        1        0        0  \n",
       "185258                            0        1        0        0  \n",
       "210771                            0        1        0        0  \n",
       "187064                            0        1        0        0  \n",
       "90515                             0        1        0        0  \n",
       "...                             ...      ...      ...      ...  \n",
       "22722                             0        1        0        0  \n",
       "140488                            0        1        0        0  \n",
       "190805                            0        1        0        0  \n",
       "37304                             0        1        0        0  \n",
       "144750                            0        1        0        0  \n",
       "\n",
       "[100 rows x 61 columns]"
      ]
     },
     "execution_count": 37,
     "metadata": {},
     "output_type": "execute_result"
    }
   ],
   "source": [
    "X_train_dummmies.head(100)"
   ]
  },
  {
   "cell_type": "code",
   "execution_count": 38,
   "id": "ac2c6214-178c-4aa3-8a43-cb2b472e1baf",
   "metadata": {},
   "outputs": [],
   "source": [
    "#scaling (keeping numeric value in normal distribution)\n",
    "scale = StandardScaler()"
   ]
  },
  {
   "cell_type": "code",
   "execution_count": 39,
   "id": "dca8a55d-f955-41a7-80d4-42020e4ca7ee",
   "metadata": {},
   "outputs": [
    {
     "data": {
      "text/html": [
       "<div>\n",
       "<style scoped>\n",
       "    .dataframe tbody tr th:only-of-type {\n",
       "        vertical-align: middle;\n",
       "    }\n",
       "\n",
       "    .dataframe tbody tr th {\n",
       "        vertical-align: top;\n",
       "    }\n",
       "\n",
       "    .dataframe thead th {\n",
       "        text-align: right;\n",
       "    }\n",
       "</style>\n",
       "<table border=\"1\" class=\"dataframe\">\n",
       "  <thead>\n",
       "    <tr style=\"text-align: right;\">\n",
       "      <th></th>\n",
       "      <th>norm_size</th>\n",
       "      <th>norm_depth_percent</th>\n",
       "      <th>norm_table_percent</th>\n",
       "      <th>norm_meas_length</th>\n",
       "      <th>norm_meas_width</th>\n",
       "      <th>norm_meas_depth</th>\n",
       "      <th>total_sales_price</th>\n",
       "      <th>is_big</th>\n",
       "      <th>is_expensive</th>\n",
       "      <th>shape_Asscher</th>\n",
       "      <th>...</th>\n",
       "      <th>fluor_intensity_Faint</th>\n",
       "      <th>fluor_intensity_Medium</th>\n",
       "      <th>fluor_intensity_None</th>\n",
       "      <th>fluor_intensity_Slight</th>\n",
       "      <th>fluor_intensity_Strong</th>\n",
       "      <th>fluor_intensity_Very Slight</th>\n",
       "      <th>fluor_intensity_Very Strong</th>\n",
       "      <th>lab_GIA</th>\n",
       "      <th>lab_HRD</th>\n",
       "      <th>lab_IGI</th>\n",
       "    </tr>\n",
       "  </thead>\n",
       "  <tbody>\n",
       "    <tr>\n",
       "      <th>73636</th>\n",
       "      <td>-8.881784e-15</td>\n",
       "      <td>0.097501</td>\n",
       "      <td>0.182963</td>\n",
       "      <td>-0.789459</td>\n",
       "      <td>-0.626749</td>\n",
       "      <td>-0.724417</td>\n",
       "      <td>1082</td>\n",
       "      <td>0</td>\n",
       "      <td>0</td>\n",
       "      <td>0</td>\n",
       "      <td>...</td>\n",
       "      <td>0</td>\n",
       "      <td>0</td>\n",
       "      <td>1</td>\n",
       "      <td>0</td>\n",
       "      <td>0</td>\n",
       "      <td>0</td>\n",
       "      <td>0</td>\n",
       "      <td>1</td>\n",
       "      <td>0</td>\n",
       "      <td>0</td>\n",
       "    </tr>\n",
       "    <tr>\n",
       "      <th>185258</th>\n",
       "      <td>-8.881784e-15</td>\n",
       "      <td>0.194060</td>\n",
       "      <td>0.259528</td>\n",
       "      <td>1.567702</td>\n",
       "      <td>0.334489</td>\n",
       "      <td>0.395826</td>\n",
       "      <td>8818</td>\n",
       "      <td>1</td>\n",
       "      <td>1</td>\n",
       "      <td>0</td>\n",
       "      <td>...</td>\n",
       "      <td>0</td>\n",
       "      <td>0</td>\n",
       "      <td>1</td>\n",
       "      <td>0</td>\n",
       "      <td>0</td>\n",
       "      <td>0</td>\n",
       "      <td>0</td>\n",
       "      <td>1</td>\n",
       "      <td>0</td>\n",
       "      <td>0</td>\n",
       "    </tr>\n",
       "    <tr>\n",
       "      <th>210771</th>\n",
       "      <td>-8.881784e-15</td>\n",
       "      <td>0.383208</td>\n",
       "      <td>0.469365</td>\n",
       "      <td>0.880028</td>\n",
       "      <td>1.194645</td>\n",
       "      <td>1.654246</td>\n",
       "      <td>24113</td>\n",
       "      <td>1</td>\n",
       "      <td>1</td>\n",
       "      <td>0</td>\n",
       "      <td>...</td>\n",
       "      <td>0</td>\n",
       "      <td>0</td>\n",
       "      <td>1</td>\n",
       "      <td>0</td>\n",
       "      <td>0</td>\n",
       "      <td>0</td>\n",
       "      <td>0</td>\n",
       "      <td>1</td>\n",
       "      <td>0</td>\n",
       "      <td>0</td>\n",
       "    </tr>\n",
       "    <tr>\n",
       "      <th>187064</th>\n",
       "      <td>-8.881784e-15</td>\n",
       "      <td>0.171083</td>\n",
       "      <td>0.074800</td>\n",
       "      <td>0.398876</td>\n",
       "      <td>0.707445</td>\n",
       "      <td>0.706912</td>\n",
       "      <td>9605</td>\n",
       "      <td>1</td>\n",
       "      <td>1</td>\n",
       "      <td>0</td>\n",
       "      <td>...</td>\n",
       "      <td>0</td>\n",
       "      <td>0</td>\n",
       "      <td>1</td>\n",
       "      <td>0</td>\n",
       "      <td>0</td>\n",
       "      <td>0</td>\n",
       "      <td>0</td>\n",
       "      <td>1</td>\n",
       "      <td>0</td>\n",
       "      <td>0</td>\n",
       "    </tr>\n",
       "    <tr>\n",
       "      <th>90515</th>\n",
       "      <td>-8.881784e-15</td>\n",
       "      <td>0.086719</td>\n",
       "      <td>0.156602</td>\n",
       "      <td>-0.131992</td>\n",
       "      <td>0.101216</td>\n",
       "      <td>-0.053721</td>\n",
       "      <td>1386</td>\n",
       "      <td>0</td>\n",
       "      <td>0</td>\n",
       "      <td>0</td>\n",
       "      <td>...</td>\n",
       "      <td>1</td>\n",
       "      <td>0</td>\n",
       "      <td>0</td>\n",
       "      <td>0</td>\n",
       "      <td>0</td>\n",
       "      <td>0</td>\n",
       "      <td>0</td>\n",
       "      <td>1</td>\n",
       "      <td>0</td>\n",
       "      <td>0</td>\n",
       "    </tr>\n",
       "    <tr>\n",
       "      <th>...</th>\n",
       "      <td>...</td>\n",
       "      <td>...</td>\n",
       "      <td>...</td>\n",
       "      <td>...</td>\n",
       "      <td>...</td>\n",
       "      <td>...</td>\n",
       "      <td>...</td>\n",
       "      <td>...</td>\n",
       "      <td>...</td>\n",
       "      <td>...</td>\n",
       "      <td>...</td>\n",
       "      <td>...</td>\n",
       "      <td>...</td>\n",
       "      <td>...</td>\n",
       "      <td>...</td>\n",
       "      <td>...</td>\n",
       "      <td>...</td>\n",
       "      <td>...</td>\n",
       "      <td>...</td>\n",
       "      <td>...</td>\n",
       "      <td>...</td>\n",
       "    </tr>\n",
       "    <tr>\n",
       "      <th>75681</th>\n",
       "      <td>-8.881784e-15</td>\n",
       "      <td>-6.777593</td>\n",
       "      <td>0.088728</td>\n",
       "      <td>-0.403916</td>\n",
       "      <td>-0.153270</td>\n",
       "      <td>-0.225554</td>\n",
       "      <td>1104</td>\n",
       "      <td>0</td>\n",
       "      <td>0</td>\n",
       "      <td>0</td>\n",
       "      <td>...</td>\n",
       "      <td>0</td>\n",
       "      <td>0</td>\n",
       "      <td>1</td>\n",
       "      <td>0</td>\n",
       "      <td>0</td>\n",
       "      <td>0</td>\n",
       "      <td>0</td>\n",
       "      <td>0</td>\n",
       "      <td>0</td>\n",
       "      <td>1</td>\n",
       "    </tr>\n",
       "    <tr>\n",
       "      <th>154023</th>\n",
       "      <td>-8.881784e-15</td>\n",
       "      <td>0.134698</td>\n",
       "      <td>0.102536</td>\n",
       "      <td>0.165146</td>\n",
       "      <td>0.440183</td>\n",
       "      <td>0.367269</td>\n",
       "      <td>3980</td>\n",
       "      <td>0</td>\n",
       "      <td>0</td>\n",
       "      <td>0</td>\n",
       "      <td>...</td>\n",
       "      <td>0</td>\n",
       "      <td>0</td>\n",
       "      <td>1</td>\n",
       "      <td>0</td>\n",
       "      <td>0</td>\n",
       "      <td>0</td>\n",
       "      <td>0</td>\n",
       "      <td>0</td>\n",
       "      <td>0</td>\n",
       "      <td>1</td>\n",
       "    </tr>\n",
       "    <tr>\n",
       "      <th>13171</th>\n",
       "      <td>-8.881784e-15</td>\n",
       "      <td>0.108214</td>\n",
       "      <td>0.074800</td>\n",
       "      <td>0.165146</td>\n",
       "      <td>-0.941339</td>\n",
       "      <td>-0.990733</td>\n",
       "      <td>664</td>\n",
       "      <td>0</td>\n",
       "      <td>0</td>\n",
       "      <td>0</td>\n",
       "      <td>...</td>\n",
       "      <td>0</td>\n",
       "      <td>0</td>\n",
       "      <td>1</td>\n",
       "      <td>0</td>\n",
       "      <td>0</td>\n",
       "      <td>0</td>\n",
       "      <td>0</td>\n",
       "      <td>1</td>\n",
       "      <td>0</td>\n",
       "      <td>0</td>\n",
       "    </tr>\n",
       "    <tr>\n",
       "      <th>115114</th>\n",
       "      <td>-8.881784e-15</td>\n",
       "      <td>0.105542</td>\n",
       "      <td>0.143256</td>\n",
       "      <td>0.251889</td>\n",
       "      <td>0.537224</td>\n",
       "      <td>0.405303</td>\n",
       "      <td>2236</td>\n",
       "      <td>0</td>\n",
       "      <td>0</td>\n",
       "      <td>0</td>\n",
       "      <td>...</td>\n",
       "      <td>0</td>\n",
       "      <td>0</td>\n",
       "      <td>1</td>\n",
       "      <td>0</td>\n",
       "      <td>0</td>\n",
       "      <td>0</td>\n",
       "      <td>0</td>\n",
       "      <td>0</td>\n",
       "      <td>0</td>\n",
       "      <td>1</td>\n",
       "    </tr>\n",
       "    <tr>\n",
       "      <th>40714</th>\n",
       "      <td>-8.881784e-15</td>\n",
       "      <td>0.132069</td>\n",
       "      <td>0.102536</td>\n",
       "      <td>-0.920232</td>\n",
       "      <td>-0.797601</td>\n",
       "      <td>-0.811376</td>\n",
       "      <td>868</td>\n",
       "      <td>0</td>\n",
       "      <td>0</td>\n",
       "      <td>0</td>\n",
       "      <td>...</td>\n",
       "      <td>0</td>\n",
       "      <td>0</td>\n",
       "      <td>1</td>\n",
       "      <td>0</td>\n",
       "      <td>0</td>\n",
       "      <td>0</td>\n",
       "      <td>0</td>\n",
       "      <td>1</td>\n",
       "      <td>0</td>\n",
       "      <td>0</td>\n",
       "    </tr>\n",
       "  </tbody>\n",
       "</table>\n",
       "<p>164778 rows × 61 columns</p>\n",
       "</div>"
      ],
      "text/plain": [
       "           norm_size  norm_depth_percent  norm_table_percent  \\\n",
       "73636  -8.881784e-15            0.097501            0.182963   \n",
       "185258 -8.881784e-15            0.194060            0.259528   \n",
       "210771 -8.881784e-15            0.383208            0.469365   \n",
       "187064 -8.881784e-15            0.171083            0.074800   \n",
       "90515  -8.881784e-15            0.086719            0.156602   \n",
       "...              ...                 ...                 ...   \n",
       "75681  -8.881784e-15           -6.777593            0.088728   \n",
       "154023 -8.881784e-15            0.134698            0.102536   \n",
       "13171  -8.881784e-15            0.108214            0.074800   \n",
       "115114 -8.881784e-15            0.105542            0.143256   \n",
       "40714  -8.881784e-15            0.132069            0.102536   \n",
       "\n",
       "        norm_meas_length  norm_meas_width  norm_meas_depth  total_sales_price  \\\n",
       "73636          -0.789459        -0.626749        -0.724417               1082   \n",
       "185258          1.567702         0.334489         0.395826               8818   \n",
       "210771          0.880028         1.194645         1.654246              24113   \n",
       "187064          0.398876         0.707445         0.706912               9605   \n",
       "90515          -0.131992         0.101216        -0.053721               1386   \n",
       "...                  ...              ...              ...                ...   \n",
       "75681          -0.403916        -0.153270        -0.225554               1104   \n",
       "154023          0.165146         0.440183         0.367269               3980   \n",
       "13171           0.165146        -0.941339        -0.990733                664   \n",
       "115114          0.251889         0.537224         0.405303               2236   \n",
       "40714          -0.920232        -0.797601        -0.811376                868   \n",
       "\n",
       "        is_big  is_expensive  shape_Asscher  ...  fluor_intensity_Faint  \\\n",
       "73636        0             0              0  ...                      0   \n",
       "185258       1             1              0  ...                      0   \n",
       "210771       1             1              0  ...                      0   \n",
       "187064       1             1              0  ...                      0   \n",
       "90515        0             0              0  ...                      1   \n",
       "...        ...           ...            ...  ...                    ...   \n",
       "75681        0             0              0  ...                      0   \n",
       "154023       0             0              0  ...                      0   \n",
       "13171        0             0              0  ...                      0   \n",
       "115114       0             0              0  ...                      0   \n",
       "40714        0             0              0  ...                      0   \n",
       "\n",
       "        fluor_intensity_Medium  fluor_intensity_None  fluor_intensity_Slight  \\\n",
       "73636                        0                     1                       0   \n",
       "185258                       0                     1                       0   \n",
       "210771                       0                     1                       0   \n",
       "187064                       0                     1                       0   \n",
       "90515                        0                     0                       0   \n",
       "...                        ...                   ...                     ...   \n",
       "75681                        0                     1                       0   \n",
       "154023                       0                     1                       0   \n",
       "13171                        0                     1                       0   \n",
       "115114                       0                     1                       0   \n",
       "40714                        0                     1                       0   \n",
       "\n",
       "        fluor_intensity_Strong  fluor_intensity_Very Slight  \\\n",
       "73636                        0                            0   \n",
       "185258                       0                            0   \n",
       "210771                       0                            0   \n",
       "187064                       0                            0   \n",
       "90515                        0                            0   \n",
       "...                        ...                          ...   \n",
       "75681                        0                            0   \n",
       "154023                       0                            0   \n",
       "13171                        0                            0   \n",
       "115114                       0                            0   \n",
       "40714                        0                            0   \n",
       "\n",
       "        fluor_intensity_Very Strong  lab_GIA  lab_HRD  lab_IGI  \n",
       "73636                             0        1        0        0  \n",
       "185258                            0        1        0        0  \n",
       "210771                            0        1        0        0  \n",
       "187064                            0        1        0        0  \n",
       "90515                             0        1        0        0  \n",
       "...                             ...      ...      ...      ...  \n",
       "75681                             0        0        0        1  \n",
       "154023                            0        0        0        1  \n",
       "13171                             0        1        0        0  \n",
       "115114                            0        0        0        1  \n",
       "40714                             0        1        0        0  \n",
       "\n",
       "[164778 rows x 61 columns]"
      ]
     },
     "execution_count": 39,
     "metadata": {},
     "output_type": "execute_result"
    }
   ],
   "source": [
    "X_train_dummmies_scaled = X_train_dummmies.copy()\n",
    "X_train_dummmies_scaled[[\"norm_size\", \"norm_depth_percent\", \"norm_table_percent\", \"norm_meas_length\", \"norm_meas_width\", \"norm_meas_depth\"]] = scale.fit_transform(X_train_dummmies_scaled[[\"norm_size\", \"norm_depth_percent\", \"norm_table_percent\", \"norm_meas_length\", \"norm_meas_width\", \"norm_meas_depth\"]])\n",
    "X_train_dummmies_scaled"
   ]
  },
  {
   "cell_type": "code",
   "execution_count": 43,
   "id": "546e250a-377d-48ca-be8b-76f4ab55a6b9",
   "metadata": {},
   "outputs": [],
   "source": [
    "X_train = X_train_dummmies_scaled\n"
   ]
  },
  {
   "cell_type": "markdown",
   "id": "40393167-4cf8-4a78-9af4-182ef64cd0f6",
   "metadata": {},
   "source": [
    "# Basic model building"
   ]
  },
  {
   "cell_type": "markdown",
   "id": "864c8be3-e266-4765-83d5-10e4e30cc7c0",
   "metadata": {},
   "source": [
    "## Algorithms selection (regression)\n",
    "1. LinearRegression\n",
    "2. SGDRegressor\n",
    "3. ElasticNet\n",
    "4. Lasso\n",
    "5. SVR (Support Vector Regression)"
   ]
  },
  {
   "cell_type": "code",
   "execution_count": 44,
   "id": "5cc18814-3f6a-422f-9708-f6b37426aa03",
   "metadata": {},
   "outputs": [
    {
     "name": "stdout",
     "output_type": "stream",
     "text": [
      "[1. 1. 1. 1. 1.]\n",
      "1.0\n"
     ]
    }
   ],
   "source": [
    "lr = LinearRegression()\n",
    "cv = cross_val_score(lr, X_train, y_train, cv=5)\n",
    "print(cv)\n",
    "print(cv.mean())"
   ]
  },
  {
   "cell_type": "code",
   "execution_count": 45,
   "id": "32ad00a1-0b8f-4b3e-8ba8-f69c41669080",
   "metadata": {},
   "outputs": [
    {
     "name": "stdout",
     "output_type": "stream",
     "text": [
      "[-4.90848119e+25 -5.59067356e+23 -1.01897004e+25 -1.21554457e+23\n",
      " -2.45695352e+27]\n",
      "-5.0338173145166466e+26\n"
     ]
    }
   ],
   "source": [
    "sgd = SGDRegressor()\n",
    "cv = cross_val_score(sgd, X_train, y_train, cv=5)\n",
    "print(cv)\n",
    "print(cv.mean())"
   ]
  },
  {
   "cell_type": "code",
   "execution_count": 48,
   "id": "9a6efb99-6371-4b5b-8439-1ea788b9a008",
   "metadata": {},
   "outputs": [
    {
     "name": "stdout",
     "output_type": "stream",
     "text": [
      "[1. 1. 1. 1. 1.]\n",
      "1.0\n"
     ]
    }
   ],
   "source": [
    "en = ElasticNet(random_state=0)\n",
    "cv = cross_val_score(en, X_train, y_train, cv=5)\n",
    "print(cv)\n",
    "print(cv.mean())"
   ]
  },
  {
   "cell_type": "code",
   "execution_count": 49,
   "id": "7024344e-ccac-43aa-9f85-155bc15b40b5",
   "metadata": {},
   "outputs": [
    {
     "name": "stdout",
     "output_type": "stream",
     "text": [
      "[1. 1. 1. 1. 1.]\n",
      "1.0\n"
     ]
    }
   ],
   "source": [
    "lasso = Lasso(alpha=0.1)\n",
    "cv = cross_val_score(lasso, X_train, y_train, cv=5)\n",
    "print(cv)\n",
    "print(cv.mean())"
   ]
  },
  {
   "cell_type": "code",
   "execution_count": null,
   "id": "cfd32c0f-fdb0-4493-88a4-c723485510b1",
   "metadata": {},
   "outputs": [],
   "source": [
    "svr = SVR()\n",
    "cv = cross_val_score(svr, X_train, y_train, cv=5)\n",
    "print(cv)\n",
    "print(cv.mean())"
   ]
  },
  {
   "cell_type": "code",
   "execution_count": null,
   "id": "7f8f430c-1177-4af0-948b-2bae4feae74b",
   "metadata": {},
   "outputs": [],
   "source": []
  }
 ],
 "metadata": {
  "kernelspec": {
   "display_name": "Python 3 (ipykernel)",
   "language": "python",
   "name": "python3"
  },
  "language_info": {
   "codemirror_mode": {
    "name": "ipython",
    "version": 3
   },
   "file_extension": ".py",
   "mimetype": "text/x-python",
   "name": "python",
   "nbconvert_exporter": "python",
   "pygments_lexer": "ipython3",
   "version": "3.8.10"
  }
 },
 "nbformat": 4,
 "nbformat_minor": 5
}
