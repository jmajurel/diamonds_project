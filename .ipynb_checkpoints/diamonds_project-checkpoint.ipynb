{
 "cells": [
  {
   "cell_type": "code",
   "execution_count": 1,
   "id": "2238b233-dd47-4dab-96c6-1fff77eac1d0",
   "metadata": {},
   "outputs": [],
   "source": [
    "import pandas as pd\n",
    "import matplotlib.pyplot as plt\n",
    "import seaborn as sbn\n",
    "import numpy as np\n",
    "from sklearn.preprocessing import StandardScaler\n",
    "from sklearn.model_selection import train_test_split\n",
    "from sklearn.model_selection import cross_val_score\n",
    "from sklearn.model_selection import GridSearchCV\n",
    "from sklearn.metrics import classification_report\n",
    "from sklearn.linear_model import LinearRegression\n",
    "from sklearn.linear_model import SGDRegressor\n",
    "from sklearn.linear_model import ElasticNet\n",
    "from sklearn.linear_model import Lasso\n",
    "from sklearn.svm import LinearSVR\n",
    "from sklearn.svm import NuSVR\n",
    "from sklearn.svm import SVR"
   ]
  },
  {
   "cell_type": "markdown",
   "id": "60b42f94-5063-4d69-b5a0-5f81c509d369",
   "metadata": {},
   "source": [
    "# Indroduction\n",
    "\n",
    "This project aims at predicting diamond price based on its features using regression models\n",
    "\n",
    "Diamonds data set available on kaggle (https://www.kaggle.com/enashed/diamond-prices)"
   ]
  },
  {
   "cell_type": "markdown",
   "id": "80c3dea1-65d3-4a73-9657-cfdba8cadab6",
   "metadata": {},
   "source": [
    "# Project Planning\n",
    "1. Data exploration\n",
    "2. Feature engineering\n",
    "3. Data preprocessing for model\n",
    "4. Basic model building\n",
    "5. Model Tuning\n",
    "6. Ensemble model building\n",
    "7. Results"
   ]
  },
  {
   "cell_type": "markdown",
   "id": "442091c1-c806-4287-840c-0f03f013db48",
   "metadata": {},
   "source": [
    "# Data Exploration"
   ]
  },
  {
   "cell_type": "code",
   "execution_count": 2,
   "id": "05ec4777-98a8-4c61-986f-2227c012b7dc",
   "metadata": {},
   "outputs": [],
   "source": [
    "data = pd.read_csv(\"./diamonds_project/diamonds.csv\")"
   ]
  },
  {
   "cell_type": "code",
   "execution_count": 3,
   "id": "c83c9704-3c6d-4af6-b801-44c6ec9c689b",
   "metadata": {},
   "outputs": [],
   "source": [
    "X = data[data.columns.difference(['total_sales_price'])]\n",
    "y = data[\"total_sales_price\"]\n",
    "X_train, X_test, y_train, y_test = train_test_split(X, y)"
   ]
  },
  {
   "cell_type": "code",
   "execution_count": 4,
   "id": "1938392f-56ba-46fb-8440-636e19080e9d",
   "metadata": {},
   "outputs": [
    {
     "data": {
      "text/html": [
       "<div>\n",
       "<style scoped>\n",
       "    .dataframe tbody tr th:only-of-type {\n",
       "        vertical-align: middle;\n",
       "    }\n",
       "\n",
       "    .dataframe tbody tr th {\n",
       "        vertical-align: top;\n",
       "    }\n",
       "\n",
       "    .dataframe thead th {\n",
       "        text-align: right;\n",
       "    }\n",
       "</style>\n",
       "<table border=\"1\" class=\"dataframe\">\n",
       "  <thead>\n",
       "    <tr style=\"text-align: right;\">\n",
       "      <th></th>\n",
       "      <th>clarity</th>\n",
       "      <th>color</th>\n",
       "      <th>culet_condition</th>\n",
       "      <th>culet_size</th>\n",
       "      <th>cut</th>\n",
       "      <th>date</th>\n",
       "      <th>depth_percent</th>\n",
       "      <th>diamond_id</th>\n",
       "      <th>eye_clean</th>\n",
       "      <th>fancy_color_dominant_color</th>\n",
       "      <th>...</th>\n",
       "      <th>girdle_min</th>\n",
       "      <th>lab</th>\n",
       "      <th>meas_depth</th>\n",
       "      <th>meas_length</th>\n",
       "      <th>meas_width</th>\n",
       "      <th>polish</th>\n",
       "      <th>shape</th>\n",
       "      <th>size</th>\n",
       "      <th>symmetry</th>\n",
       "      <th>table_percent</th>\n",
       "    </tr>\n",
       "  </thead>\n",
       "  <tbody>\n",
       "    <tr>\n",
       "      <th>178806</th>\n",
       "      <td>VS1</td>\n",
       "      <td>E</td>\n",
       "      <td>NaN</td>\n",
       "      <td>N</td>\n",
       "      <td>NaN</td>\n",
       "      <td>2022-02-24</td>\n",
       "      <td>64.1</td>\n",
       "      <td>135879019</td>\n",
       "      <td>NaN</td>\n",
       "      <td>NaN</td>\n",
       "      <td>...</td>\n",
       "      <td>NaN</td>\n",
       "      <td>GIA</td>\n",
       "      <td>3.44</td>\n",
       "      <td>8.04</td>\n",
       "      <td>5.36</td>\n",
       "      <td>Excellent</td>\n",
       "      <td>Oval</td>\n",
       "      <td>1.00</td>\n",
       "      <td>Very Good</td>\n",
       "      <td>64.0</td>\n",
       "    </tr>\n",
       "    <tr>\n",
       "      <th>182541</th>\n",
       "      <td>VS2</td>\n",
       "      <td>F</td>\n",
       "      <td>NaN</td>\n",
       "      <td>NaN</td>\n",
       "      <td>NaN</td>\n",
       "      <td>2022-02-24</td>\n",
       "      <td>59.4</td>\n",
       "      <td>131430217</td>\n",
       "      <td>NaN</td>\n",
       "      <td>NaN</td>\n",
       "      <td>...</td>\n",
       "      <td>STK</td>\n",
       "      <td>GIA</td>\n",
       "      <td>4.18</td>\n",
       "      <td>6.50</td>\n",
       "      <td>7.03</td>\n",
       "      <td>Excellent</td>\n",
       "      <td>Heart</td>\n",
       "      <td>1.09</td>\n",
       "      <td>Excellent</td>\n",
       "      <td>56.0</td>\n",
       "    </tr>\n",
       "    <tr>\n",
       "      <th>163525</th>\n",
       "      <td>I1</td>\n",
       "      <td>I</td>\n",
       "      <td>NaN</td>\n",
       "      <td>NaN</td>\n",
       "      <td>Very Good</td>\n",
       "      <td>2022-02-24</td>\n",
       "      <td>60.5</td>\n",
       "      <td>135359114</td>\n",
       "      <td>NaN</td>\n",
       "      <td>NaN</td>\n",
       "      <td>...</td>\n",
       "      <td>TN</td>\n",
       "      <td>GIA</td>\n",
       "      <td>3.89</td>\n",
       "      <td>6.42</td>\n",
       "      <td>6.44</td>\n",
       "      <td>Excellent</td>\n",
       "      <td>Round</td>\n",
       "      <td>1.00</td>\n",
       "      <td>Excellent</td>\n",
       "      <td>59.0</td>\n",
       "    </tr>\n",
       "    <tr>\n",
       "      <th>65005</th>\n",
       "      <td>VS2</td>\n",
       "      <td>H</td>\n",
       "      <td>NaN</td>\n",
       "      <td>N</td>\n",
       "      <td>Excellent</td>\n",
       "      <td>2022-02-24</td>\n",
       "      <td>62.0</td>\n",
       "      <td>134879748</td>\n",
       "      <td>Yes</td>\n",
       "      <td>NaN</td>\n",
       "      <td>...</td>\n",
       "      <td>M</td>\n",
       "      <td>GIA</td>\n",
       "      <td>2.66</td>\n",
       "      <td>4.29</td>\n",
       "      <td>4.31</td>\n",
       "      <td>Excellent</td>\n",
       "      <td>Round</td>\n",
       "      <td>0.30</td>\n",
       "      <td>Excellent</td>\n",
       "      <td>58.0</td>\n",
       "    </tr>\n",
       "    <tr>\n",
       "      <th>200505</th>\n",
       "      <td>VS2</td>\n",
       "      <td>E</td>\n",
       "      <td>NaN</td>\n",
       "      <td>NaN</td>\n",
       "      <td>NaN</td>\n",
       "      <td>2022-02-24</td>\n",
       "      <td>56.6</td>\n",
       "      <td>129334232</td>\n",
       "      <td>NaN</td>\n",
       "      <td>NaN</td>\n",
       "      <td>...</td>\n",
       "      <td>M</td>\n",
       "      <td>GIA</td>\n",
       "      <td>3.69</td>\n",
       "      <td>8.98</td>\n",
       "      <td>6.52</td>\n",
       "      <td>Excellent</td>\n",
       "      <td>Oval</td>\n",
       "      <td>1.50</td>\n",
       "      <td>Very Good</td>\n",
       "      <td>66.0</td>\n",
       "    </tr>\n",
       "  </tbody>\n",
       "</table>\n",
       "<p>5 rows × 26 columns</p>\n",
       "</div>"
      ],
      "text/plain": [
       "       clarity color culet_condition culet_size        cut        date  \\\n",
       "178806     VS1     E             NaN          N        NaN  2022-02-24   \n",
       "182541     VS2     F             NaN        NaN        NaN  2022-02-24   \n",
       "163525      I1     I             NaN        NaN  Very Good  2022-02-24   \n",
       "65005      VS2     H             NaN          N  Excellent  2022-02-24   \n",
       "200505     VS2     E             NaN        NaN        NaN  2022-02-24   \n",
       "\n",
       "        depth_percent  diamond_id eye_clean fancy_color_dominant_color  ...  \\\n",
       "178806           64.1   135879019       NaN                        NaN  ...   \n",
       "182541           59.4   131430217       NaN                        NaN  ...   \n",
       "163525           60.5   135359114       NaN                        NaN  ...   \n",
       "65005            62.0   134879748       Yes                        NaN  ...   \n",
       "200505           56.6   129334232       NaN                        NaN  ...   \n",
       "\n",
       "       girdle_min  lab meas_depth meas_length meas_width     polish  shape  \\\n",
       "178806        NaN  GIA       3.44        8.04       5.36  Excellent   Oval   \n",
       "182541        STK  GIA       4.18        6.50       7.03  Excellent  Heart   \n",
       "163525         TN  GIA       3.89        6.42       6.44  Excellent  Round   \n",
       "65005           M  GIA       2.66        4.29       4.31  Excellent  Round   \n",
       "200505          M  GIA       3.69        8.98       6.52  Excellent   Oval   \n",
       "\n",
       "        size   symmetry  table_percent  \n",
       "178806  1.00  Very Good           64.0  \n",
       "182541  1.09  Excellent           56.0  \n",
       "163525  1.00  Excellent           59.0  \n",
       "65005   0.30  Excellent           58.0  \n",
       "200505  1.50  Very Good           66.0  \n",
       "\n",
       "[5 rows x 26 columns]"
      ]
     },
     "execution_count": 4,
     "metadata": {},
     "output_type": "execute_result"
    }
   ],
   "source": [
    "X_train.head()"
   ]
  },
  {
   "cell_type": "code",
   "execution_count": 5,
   "id": "03b06da0-3337-44d7-a5eb-4e0961dcd024",
   "metadata": {},
   "outputs": [
    {
     "data": {
      "text/plain": [
       "178806     7680\n",
       "182541     8349\n",
       "163525     5032\n",
       "65005      1008\n",
       "200505    16568\n",
       "Name: total_sales_price, dtype: int64"
      ]
     },
     "execution_count": 5,
     "metadata": {},
     "output_type": "execute_result"
    }
   ],
   "source": [
    "y_train.head()"
   ]
  },
  {
   "cell_type": "code",
   "execution_count": 6,
   "id": "c101649d-5c36-4f54-99dd-70c6755307e2",
   "metadata": {},
   "outputs": [
    {
     "data": {
      "text/plain": [
       "clarity                         object\n",
       "color                           object\n",
       "culet_condition                 object\n",
       "culet_size                      object\n",
       "cut                             object\n",
       "date                            object\n",
       "depth_percent                  float64\n",
       "diamond_id                       int64\n",
       "eye_clean                       object\n",
       "fancy_color_dominant_color      object\n",
       "fancy_color_intensity           object\n",
       "fancy_color_overtone            object\n",
       "fancy_color_secondary_color     object\n",
       "fluor_color                     object\n",
       "fluor_intensity                 object\n",
       "girdle_max                      object\n",
       "girdle_min                      object\n",
       "lab                             object\n",
       "meas_depth                     float64\n",
       "meas_length                    float64\n",
       "meas_width                     float64\n",
       "polish                          object\n",
       "shape                           object\n",
       "size                           float64\n",
       "symmetry                        object\n",
       "table_percent                  float64\n",
       "dtype: object"
      ]
     },
     "execution_count": 6,
     "metadata": {},
     "output_type": "execute_result"
    }
   ],
   "source": [
    "X_train.dtypes"
   ]
  },
  {
   "cell_type": "code",
   "execution_count": 7,
   "id": "95265044-51ba-47df-a6c9-47bbf2ebd53d",
   "metadata": {},
   "outputs": [
    {
     "data": {
      "text/plain": [
       "(164778, 26)"
      ]
     },
     "execution_count": 7,
     "metadata": {},
     "output_type": "execute_result"
    }
   ],
   "source": [
    "X_train.shape"
   ]
  },
  {
   "cell_type": "code",
   "execution_count": 8,
   "id": "93598b3c-05dd-47e7-aaf0-d9fdc8c1d38d",
   "metadata": {},
   "outputs": [
    {
     "data": {
      "text/plain": [
       "Index(['clarity', 'color', 'culet_condition', 'culet_size', 'cut', 'date',\n",
       "       'depth_percent', 'diamond_id', 'eye_clean',\n",
       "       'fancy_color_dominant_color', 'fancy_color_intensity',\n",
       "       'fancy_color_overtone', 'fancy_color_secondary_color', 'fluor_color',\n",
       "       'fluor_intensity', 'girdle_max', 'girdle_min', 'lab', 'meas_depth',\n",
       "       'meas_length', 'meas_width', 'polish', 'shape', 'size', 'symmetry',\n",
       "       'table_percent'],\n",
       "      dtype='object')"
      ]
     },
     "execution_count": 8,
     "metadata": {},
     "output_type": "execute_result"
    }
   ],
   "source": [
    "X_train.columns"
   ]
  },
  {
   "cell_type": "code",
   "execution_count": 9,
   "id": "27458783-1626-4ac7-8809-234e14024298",
   "metadata": {},
   "outputs": [
    {
     "name": "stdout",
     "output_type": "stream",
     "text": [
      "<class 'pandas.core.frame.DataFrame'>\n",
      "Int64Index: 164778 entries, 178806 to 47107\n",
      "Data columns (total 26 columns):\n",
      " #   Column                       Non-Null Count   Dtype  \n",
      "---  ------                       --------------   -----  \n",
      " 0   clarity                      164778 non-null  object \n",
      " 1   color                        157948 non-null  object \n",
      " 2   culet_condition              11431 non-null   object \n",
      " 3   culet_size                   100577 non-null  object \n",
      " 4   cut                          119259 non-null  object \n",
      " 5   date                         164778 non-null  object \n",
      " 6   depth_percent                164778 non-null  float64\n",
      " 7   diamond_id                   164778 non-null  int64  \n",
      " 8   eye_clean                    47090 non-null   object \n",
      " 9   fancy_color_dominant_color   6832 non-null    object \n",
      " 10  fancy_color_intensity        6830 non-null    object \n",
      " 11  fancy_color_overtone         1512 non-null    object \n",
      " 12  fancy_color_secondary_color  795 non-null     object \n",
      " 13  fluor_color                  11746 non-null   object \n",
      " 14  fluor_intensity              164676 non-null  object \n",
      " 15  girdle_max                   101633 non-null  object \n",
      " 16  girdle_min                   102306 non-null  object \n",
      " 17  lab                          164778 non-null  object \n",
      " 18  meas_depth                   164778 non-null  float64\n",
      " 19  meas_length                  164778 non-null  float64\n",
      " 20  meas_width                   164778 non-null  float64\n",
      " 21  polish                       164778 non-null  object \n",
      " 22  shape                        164778 non-null  object \n",
      " 23  size                         164778 non-null  float64\n",
      " 24  symmetry                     164778 non-null  object \n",
      " 25  table_percent                164778 non-null  float64\n",
      "dtypes: float64(6), int64(1), object(19)\n",
      "memory usage: 33.9+ MB\n"
     ]
    }
   ],
   "source": [
    "X_train.info()"
   ]
  },
  {
   "cell_type": "code",
   "execution_count": 10,
   "id": "f593e71a-0b1f-40c2-bbbe-3128b4f0ef2f",
   "metadata": {},
   "outputs": [
    {
     "data": {
      "text/plain": [
       "clarity                         0.000000\n",
       "color                           4.144971\n",
       "culet_condition                93.062788\n",
       "culet_size                     38.962119\n",
       "cut                            27.624440\n",
       "date                            0.000000\n",
       "depth_percent                   0.000000\n",
       "diamond_id                      0.000000\n",
       "eye_clean                      71.422156\n",
       "fancy_color_dominant_color     95.853815\n",
       "fancy_color_intensity          95.855029\n",
       "fancy_color_overtone           99.082402\n",
       "fancy_color_secondary_color    99.517533\n",
       "fluor_color                    92.871621\n",
       "fluor_intensity                 0.061901\n",
       "girdle_max                     38.321256\n",
       "girdle_min                     37.912828\n",
       "lab                             0.000000\n",
       "meas_depth                      0.000000\n",
       "meas_length                     0.000000\n",
       "meas_width                      0.000000\n",
       "polish                          0.000000\n",
       "shape                           0.000000\n",
       "size                            0.000000\n",
       "symmetry                        0.000000\n",
       "table_percent                   0.000000\n",
       "dtype: float64"
      ]
     },
     "execution_count": 10,
     "metadata": {},
     "output_type": "execute_result"
    }
   ],
   "source": [
    "X_train.isnull().sum() / X_train.shape[0] * 100"
   ]
  },
  {
   "cell_type": "code",
   "execution_count": 11,
   "id": "bd48e1c0-3c07-4095-8243-0f16a5d5ec61",
   "metadata": {},
   "outputs": [],
   "source": [
    "nb_columns = ['size', 'depth_percent', 'table_percent', 'meas_length', 'meas_width', 'meas_depth', 'total_sales_price']"
   ]
  },
  {
   "cell_type": "code",
   "execution_count": 12,
   "id": "3971c217-a576-4a8a-9c29-8fdb6a43c7e7",
   "metadata": {},
   "outputs": [],
   "source": [
    "cat_columns = ['shape', 'color', 'clarity', 'symmetry', 'polish',  'fluor_intensity', 'lab']"
   ]
  },
  {
   "cell_type": "code",
   "execution_count": 13,
   "id": "bdfeed72-d677-46f7-81a3-5e90ef7ce471",
   "metadata": {},
   "outputs": [
    {
     "data": {
      "text/html": [
       "<div>\n",
       "<style scoped>\n",
       "    .dataframe tbody tr th:only-of-type {\n",
       "        vertical-align: middle;\n",
       "    }\n",
       "\n",
       "    .dataframe tbody tr th {\n",
       "        vertical-align: top;\n",
       "    }\n",
       "\n",
       "    .dataframe thead th {\n",
       "        text-align: right;\n",
       "    }\n",
       "</style>\n",
       "<table border=\"1\" class=\"dataframe\">\n",
       "  <thead>\n",
       "    <tr style=\"text-align: right;\">\n",
       "      <th></th>\n",
       "      <th>depth_percent</th>\n",
       "      <th>diamond_id</th>\n",
       "      <th>meas_depth</th>\n",
       "      <th>meas_length</th>\n",
       "      <th>meas_width</th>\n",
       "      <th>size</th>\n",
       "      <th>table_percent</th>\n",
       "    </tr>\n",
       "  </thead>\n",
       "  <tbody>\n",
       "    <tr>\n",
       "      <th>count</th>\n",
       "      <td>164778.000000</td>\n",
       "      <td>1.647780e+05</td>\n",
       "      <td>164778.000000</td>\n",
       "      <td>164778.000000</td>\n",
       "      <td>164778.000000</td>\n",
       "      <td>164778.000000</td>\n",
       "      <td>164778.000000</td>\n",
       "    </tr>\n",
       "    <tr>\n",
       "      <th>mean</th>\n",
       "      <td>61.667956</td>\n",
       "      <td>1.281057e+08</td>\n",
       "      <td>3.288147</td>\n",
       "      <td>5.549654</td>\n",
       "      <td>5.136460</td>\n",
       "      <td>0.756267</td>\n",
       "      <td>57.734098</td>\n",
       "    </tr>\n",
       "    <tr>\n",
       "      <th>std</th>\n",
       "      <td>9.961656</td>\n",
       "      <td>1.323664e+07</td>\n",
       "      <td>2.087748</td>\n",
       "      <td>1.771282</td>\n",
       "      <td>1.377998</td>\n",
       "      <td>0.852576</td>\n",
       "      <td>10.020563</td>\n",
       "    </tr>\n",
       "    <tr>\n",
       "      <th>min</th>\n",
       "      <td>0.000000</td>\n",
       "      <td>1.008172e+07</td>\n",
       "      <td>0.000000</td>\n",
       "      <td>0.000000</td>\n",
       "      <td>0.000000</td>\n",
       "      <td>0.080000</td>\n",
       "      <td>0.000000</td>\n",
       "    </tr>\n",
       "    <tr>\n",
       "      <th>25%</th>\n",
       "      <td>61.200000</td>\n",
       "      <td>1.275639e+08</td>\n",
       "      <td>2.680000</td>\n",
       "      <td>4.350000</td>\n",
       "      <td>4.310000</td>\n",
       "      <td>0.310000</td>\n",
       "      <td>57.000000</td>\n",
       "    </tr>\n",
       "    <tr>\n",
       "      <th>50%</th>\n",
       "      <td>62.400000</td>\n",
       "      <td>1.326003e+08</td>\n",
       "      <td>3.040000</td>\n",
       "      <td>5.060000</td>\n",
       "      <td>4.800000</td>\n",
       "      <td>0.500000</td>\n",
       "      <td>58.000000</td>\n",
       "    </tr>\n",
       "    <tr>\n",
       "      <th>75%</th>\n",
       "      <td>63.500000</td>\n",
       "      <td>1.348522e+08</td>\n",
       "      <td>3.630000</td>\n",
       "      <td>6.350000</td>\n",
       "      <td>5.700000</td>\n",
       "      <td>1.000000</td>\n",
       "      <td>60.000000</td>\n",
       "    </tr>\n",
       "    <tr>\n",
       "      <th>max</th>\n",
       "      <td>98.700000</td>\n",
       "      <td>1.361475e+08</td>\n",
       "      <td>76.300000</td>\n",
       "      <td>93.660000</td>\n",
       "      <td>62.300000</td>\n",
       "      <td>19.350000</td>\n",
       "      <td>94.000000</td>\n",
       "    </tr>\n",
       "  </tbody>\n",
       "</table>\n",
       "</div>"
      ],
      "text/plain": [
       "       depth_percent    diamond_id     meas_depth    meas_length  \\\n",
       "count  164778.000000  1.647780e+05  164778.000000  164778.000000   \n",
       "mean       61.667956  1.281057e+08       3.288147       5.549654   \n",
       "std         9.961656  1.323664e+07       2.087748       1.771282   \n",
       "min         0.000000  1.008172e+07       0.000000       0.000000   \n",
       "25%        61.200000  1.275639e+08       2.680000       4.350000   \n",
       "50%        62.400000  1.326003e+08       3.040000       5.060000   \n",
       "75%        63.500000  1.348522e+08       3.630000       6.350000   \n",
       "max        98.700000  1.361475e+08      76.300000      93.660000   \n",
       "\n",
       "          meas_width           size  table_percent  \n",
       "count  164778.000000  164778.000000  164778.000000  \n",
       "mean        5.136460       0.756267      57.734098  \n",
       "std         1.377998       0.852576      10.020563  \n",
       "min         0.000000       0.080000       0.000000  \n",
       "25%         4.310000       0.310000      57.000000  \n",
       "50%         4.800000       0.500000      58.000000  \n",
       "75%         5.700000       1.000000      60.000000  \n",
       "max        62.300000      19.350000      94.000000  "
      ]
     },
     "execution_count": 13,
     "metadata": {},
     "output_type": "execute_result"
    }
   ],
   "source": [
    "X_train.describe()"
   ]
  },
  {
   "cell_type": "code",
   "execution_count": 14,
   "id": "eb99c2d5-fa7a-4fc6-ba7d-840b7deded80",
   "metadata": {},
   "outputs": [
    {
     "data": {
      "text/plain": [
       "array(['E', 'F', 'I', 'H', 'D', 'J', 'L', nan, 'K', 'M', 'G'],\n",
       "      dtype=object)"
      ]
     },
     "execution_count": 14,
     "metadata": {},
     "output_type": "execute_result"
    }
   ],
   "source": [
    "X_train.color.unique()"
   ]
  },
  {
   "cell_type": "code",
   "execution_count": 15,
   "id": "0ee9548d-5bad-4bcf-9b31-1f72a8ee07ba",
   "metadata": {},
   "outputs": [
    {
     "data": {
      "text/plain": [
       "array(['Oval', 'Heart', 'Round', 'Emerald', 'Princess', 'Pear', 'Radiant',\n",
       "       'Cushion Modified', 'Marquise', 'Asscher', 'Cushion'], dtype=object)"
      ]
     },
     "execution_count": 15,
     "metadata": {},
     "output_type": "execute_result"
    }
   ],
   "source": [
    "X_train['shape'].unique()"
   ]
  },
  {
   "cell_type": "code",
   "execution_count": 16,
   "id": "04e575b3-b53e-4389-8f50-a573d57cbe5f",
   "metadata": {},
   "outputs": [
    {
     "name": "stderr",
     "output_type": "stream",
     "text": [
      "/usr/local/lib/python3.8/dist-packages/seaborn/_decorators.py:36: FutureWarning: Pass the following variables as keyword args: x, y. From version 0.12, the only valid positional argument will be `data`, and passing other arguments without an explicit keyword will result in an error or misinterpretation.\n",
      "  warnings.warn(\n"
     ]
    },
    {
     "data": {
      "image/png": "[encoded data removed]",
      "text/plain": [
       "<Figure size 432x288 with 1 Axes>"
      ]
     },
     "metadata": {
      "needs_background": "light"
     },
     "output_type": "display_data"
    },
    {
     "name": "stderr",
     "output_type": "stream",
     "text": [
      "/usr/local/lib/python3.8/dist-packages/seaborn/_decorators.py:36: FutureWarning: Pass the following variables as keyword args: x, y. From version 0.12, the only valid positional argument will be `data`, and passing other arguments without an explicit keyword will result in an error or misinterpretation.\n",
      "  warnings.warn(\n"
     ]
    },
    {
     "data": {
      "image/png": "[encoded data removed]",
      "text/plain": [
       "<Figure size 432x288 with 1 Axes>"
      ]
     },
     "metadata": {
      "needs_background": "light"
     },
     "output_type": "display_data"
    },
    {
     "name": "stderr",
     "output_type": "stream",
     "text": [
      "/usr/local/lib/python3.8/dist-packages/seaborn/_decorators.py:36: FutureWarning: Pass the following variables as keyword args: x, y. From version 0.12, the only valid positional argument will be `data`, and passing other arguments without an explicit keyword will result in an error or misinterpretation.\n",
      "  warnings.warn(\n"
     ]
    },
    {
     "data": {
      "image/png": "[encoded data removed]",
      "text/plain": [
       "<Figure size 432x288 with 1 Axes>"
      ]
     },
     "metadata": {
      "needs_background": "light"
     },
     "output_type": "display_data"
    },
    {
     "name": "stderr",
     "output_type": "stream",
     "text": [
      "/usr/local/lib/python3.8/dist-packages/seaborn/_decorators.py:36: FutureWarning: Pass the following variables as keyword args: x, y. From version 0.12, the only valid positional argument will be `data`, and passing other arguments without an explicit keyword will result in an error or misinterpretation.\n",
      "  warnings.warn(\n"
     ]
    },
    {
     "data": {
      "image/png": "[encoded data removed]",
      "text/plain": [
       "<Figure size 432x288 with 1 Axes>"
      ]
     },
     "metadata": {
      "needs_background": "light"
     },
     "output_type": "display_data"
    },
    {
     "name": "stderr",
     "output_type": "stream",
     "text": [
      "/usr/local/lib/python3.8/dist-packages/seaborn/_decorators.py:36: FutureWarning: Pass the following variables as keyword args: x, y. From version 0.12, the only valid positional argument will be `data`, and passing other arguments without an explicit keyword will result in an error or misinterpretation.\n",
      "  warnings.warn(\n"
     ]
    },
    {
     "data": {
      "image/png": "[encoded data removed]",
      "text/plain": [
       "<Figure size 432x288 with 1 Axes>"
      ]
     },
     "metadata": {
      "needs_background": "light"
     },
     "output_type": "display_data"
    },
    {
     "name": "stderr",
     "output_type": "stream",
     "text": [
      "/usr/local/lib/python3.8/dist-packages/seaborn/_decorators.py:36: FutureWarning: Pass the following variables as keyword args: x, y. From version 0.12, the only valid positional argument will be `data`, and passing other arguments without an explicit keyword will result in an error or misinterpretation.\n",
      "  warnings.warn(\n"
     ]
    },
    {
     "data": {
      "image/png": "[encoded data removed]",
      "text/plain": [
       "<Figure size 432x288 with 1 Axes>"
      ]
     },
     "metadata": {
      "needs_background": "light"
     },
     "output_type": "display_data"
    },
    {
     "name": "stderr",
     "output_type": "stream",
     "text": [
      "/usr/local/lib/python3.8/dist-packages/seaborn/_decorators.py:36: FutureWarning: Pass the following variables as keyword args: x, y. From version 0.12, the only valid positional argument will be `data`, and passing other arguments without an explicit keyword will result in an error or misinterpretation.\n",
      "  warnings.warn(\n"
     ]
    },
    {
     "data": {
      "image/png": "[encoded data removed]",
      "text/plain": [
       "<Figure size 432x288 with 1 Axes>"
      ]
     },
     "metadata": {
      "needs_background": "light"
     },
     "output_type": "display_data"
    }
   ],
   "source": [
    "for name in cat_columns:\n",
    "    sbn.barplot(X_train[name].value_counts().index, X_train[name].value_counts()).set_title(name)\n",
    "    plt.show()"
   ]
  },
  {
   "cell_type": "code",
   "execution_count": 17,
   "id": "b84806c5-3c07-4bda-8d79-9626d4641b85",
   "metadata": {},
   "outputs": [
    {
     "data": {
      "text/plain": [
       "clarity\n",
       "I1       5895.014358\n",
       "I2       4362.164978\n",
       "I3       4617.882353\n",
       "IF      10651.904026\n",
       "SI1      6605.756084\n",
       "SI2      6577.251793\n",
       "SI3       393.200000\n",
       "VS1      7573.495280\n",
       "VS2      7548.260175\n",
       "VVS1     5659.300364\n",
       "VVS2     6211.327410\n",
       "Name: total_sales_price, dtype: float64"
      ]
     },
     "execution_count": 17,
     "metadata": {},
     "output_type": "execute_result"
    }
   ],
   "source": [
    "full_training_set = X_train.copy()\n",
    "full_training_set[\"total_sales_price\"] = y_train.copy()\n",
    "\n",
    "full_training_set.groupby([\"clarity\"])['total_sales_price'].mean()"
   ]
  },
  {
   "cell_type": "code",
   "execution_count": 18,
   "id": "ea213a85-a2a8-4d8d-a68b-ca2cbd3ff87f",
   "metadata": {},
   "outputs": [
    {
     "data": {
      "text/plain": [
       "color\n",
       "D    6360.845955\n",
       "E    5181.777150\n",
       "F    5523.733302\n",
       "G    7291.239008\n",
       "H    7496.815706\n",
       "I    6880.665218\n",
       "J    6449.090182\n",
       "K    6286.836987\n",
       "L    6015.890411\n",
       "M    6374.774264\n",
       "Name: total_sales_price, dtype: float64"
      ]
     },
     "execution_count": 18,
     "metadata": {},
     "output_type": "execute_result"
    }
   ],
   "source": [
    "full_training_set.groupby([\"color\"])['total_sales_price'].mean()"
   ]
  },
  {
   "cell_type": "markdown",
   "id": "2910d49c-d073-415f-a2f3-37304537cce5",
   "metadata": {},
   "source": [
    "*color values are coded E been nearly colorless to M been Light Yellow color*\n",
    "\n",
    "Refer to the link for more info https://australiandiamondimporters.com.au/colour/"
   ]
  },
  {
   "cell_type": "code",
   "execution_count": 19,
   "id": "e967248c-5d45-4485-84dc-d98efc4772e5",
   "metadata": {},
   "outputs": [
    {
     "data": {
      "text/plain": [
       "array(['2022-02-24'], dtype=object)"
      ]
     },
     "execution_count": 19,
     "metadata": {},
     "output_type": "execute_result"
    }
   ],
   "source": [
    "full_training_set['date'].unique()"
   ]
  },
  {
   "cell_type": "code",
   "execution_count": 20,
   "id": "48b5f8b9-4ca6-4883-82ba-0b825add7b77",
   "metadata": {},
   "outputs": [
    {
     "data": {
      "image/png": "[encoded data removed]",
      "text/plain": [
       "<Figure size 432x288 with 1 Axes>"
      ]
     },
     "metadata": {
      "needs_background": "light"
     },
     "output_type": "display_data"
    },
    {
     "data": {
      "image/png": "[encoded data removed]",
      "text/plain": [
       "<Figure size 432x288 with 1 Axes>"
      ]
     },
     "metadata": {
      "needs_background": "light"
     },
     "output_type": "display_data"
    },
    {
     "data": {
      "image/png": "[encoded data removed]",
      "text/plain": [
       "<Figure size 432x288 with 1 Axes>"
      ]
     },
     "metadata": {
      "needs_background": "light"
     },
     "output_type": "display_data"
    },
    {
     "data": {
      "image/png": "[encoded data removed]",
      "text/plain": [
       "<Figure size 432x288 with 1 Axes>"
      ]
     },
     "metadata": {
      "needs_background": "light"
     },
     "output_type": "display_data"
    },
    {
     "data": {
      "image/png": "[encoded data removed]",
      "text/plain": [
       "<Figure size 432x288 with 1 Axes>"
      ]
     },
     "metadata": {
      "needs_background": "light"
     },
     "output_type": "display_data"
    },
    {
     "data": {
      "image/png": "[encoded data removed]",
      "text/plain": [
       "<Figure size 432x288 with 1 Axes>"
      ]
     },
     "metadata": {
      "needs_background": "light"
     },
     "output_type": "display_data"
    },
    {
     "data": {
      "image/png": "[encoded data removed]",
      "text/plain": [
       "<Figure size 432x288 with 1 Axes>"
      ]
     },
     "metadata": {
      "needs_background": "light"
     },
     "output_type": "display_data"
    }
   ],
   "source": [
    "for name in nb_columns:\n",
    "    plt.hist(full_training_set[name])\n",
    "    plt.title(name)\n",
    "    plt.show()"
   ]
  },
  {
   "cell_type": "code",
   "execution_count": 21,
   "id": "5ca6f558-0b43-4b27-abe2-fae764ac98bb",
   "metadata": {},
   "outputs": [
    {
     "name": "stdout",
     "output_type": "stream",
     "text": [
      "                       size  depth_percent  table_percent  meas_length  \\\n",
      "size               1.000000       0.063201       0.090706     0.777967   \n",
      "depth_percent      0.063201       1.000000       0.678509     0.130830   \n",
      "table_percent      0.090706       0.678509       1.000000     0.166453   \n",
      "meas_length        0.777967       0.130830       0.166453     1.000000   \n",
      "meas_width         0.785704       0.122918       0.143525     0.787653   \n",
      "meas_depth         0.346068       0.087411       0.082749     0.337379   \n",
      "total_sales_price  0.745204       0.026322       0.045450     0.485287   \n",
      "\n",
      "                   meas_width  meas_depth  total_sales_price  \n",
      "size                 0.785704    0.346068           0.745204  \n",
      "depth_percent        0.122918    0.087411           0.026322  \n",
      "table_percent        0.143525    0.082749           0.045450  \n",
      "meas_length          0.787653    0.337379           0.485287  \n",
      "meas_width           1.000000    0.408364           0.503709  \n",
      "meas_depth           0.408364    1.000000           0.213060  \n",
      "total_sales_price    0.503709    0.213060           1.000000  \n"
     ]
    },
    {
     "data": {
      "text/plain": [
       "<AxesSubplot:>"
      ]
     },
     "execution_count": 21,
     "metadata": {},
     "output_type": "execute_result"
    },
    {
     "data": {
      "image/png": "[encoded data removed]",
      "text/plain": [
       "<Figure size 432x288 with 2 Axes>"
      ]
     },
     "metadata": {
      "needs_background": "light"
     },
     "output_type": "display_data"
    }
   ],
   "source": [
    "corr = full_training_set[nb_columns].corr()\n",
    "print(corr)\n",
    "sbn.heatmap(corr)"
   ]
  },
  {
   "cell_type": "code",
   "execution_count": 22,
   "id": "8eefa40d-0a9d-4b47-bb44-9d1a4380da68",
   "metadata": {},
   "outputs": [
    {
     "data": {
      "text/html": [
       "<div>\n",
       "<style scoped>\n",
       "    .dataframe tbody tr th:only-of-type {\n",
       "        vertical-align: middle;\n",
       "    }\n",
       "\n",
       "    .dataframe tbody tr th {\n",
       "        vertical-align: top;\n",
       "    }\n",
       "\n",
       "    .dataframe thead th {\n",
       "        text-align: right;\n",
       "    }\n",
       "</style>\n",
       "<table border=\"1\" class=\"dataframe\">\n",
       "  <thead>\n",
       "    <tr style=\"text-align: right;\">\n",
       "      <th></th>\n",
       "      <th>depth_percent</th>\n",
       "      <th>meas_depth</th>\n",
       "      <th>meas_length</th>\n",
       "      <th>size</th>\n",
       "      <th>table_percent</th>\n",
       "      <th>total_sales_price</th>\n",
       "    </tr>\n",
       "    <tr>\n",
       "      <th>color</th>\n",
       "      <th></th>\n",
       "      <th></th>\n",
       "      <th></th>\n",
       "      <th></th>\n",
       "      <th></th>\n",
       "      <th></th>\n",
       "    </tr>\n",
       "  </thead>\n",
       "  <tbody>\n",
       "    <tr>\n",
       "      <th>D</th>\n",
       "      <td>61.224734</td>\n",
       "      <td>3.102235</td>\n",
       "      <td>5.294900</td>\n",
       "      <td>0.603273</td>\n",
       "      <td>57.741973</td>\n",
       "      <td>6360.845955</td>\n",
       "    </tr>\n",
       "    <tr>\n",
       "      <th>E</th>\n",
       "      <td>61.509574</td>\n",
       "      <td>3.047130</td>\n",
       "      <td>5.118690</td>\n",
       "      <td>0.573500</td>\n",
       "      <td>57.726400</td>\n",
       "      <td>5181.777150</td>\n",
       "    </tr>\n",
       "    <tr>\n",
       "      <th>F</th>\n",
       "      <td>61.817263</td>\n",
       "      <td>3.119051</td>\n",
       "      <td>5.236099</td>\n",
       "      <td>0.617989</td>\n",
       "      <td>58.018276</td>\n",
       "      <td>5523.733302</td>\n",
       "    </tr>\n",
       "    <tr>\n",
       "      <th>G</th>\n",
       "      <td>61.848760</td>\n",
       "      <td>3.328366</td>\n",
       "      <td>5.556403</td>\n",
       "      <td>0.742811</td>\n",
       "      <td>57.882369</td>\n",
       "      <td>7291.239008</td>\n",
       "    </tr>\n",
       "    <tr>\n",
       "      <th>H</th>\n",
       "      <td>61.572011</td>\n",
       "      <td>3.410135</td>\n",
       "      <td>5.690614</td>\n",
       "      <td>0.808047</td>\n",
       "      <td>57.797935</td>\n",
       "      <td>7496.815706</td>\n",
       "    </tr>\n",
       "    <tr>\n",
       "      <th>I</th>\n",
       "      <td>61.522670</td>\n",
       "      <td>3.433178</td>\n",
       "      <td>5.744555</td>\n",
       "      <td>0.835002</td>\n",
       "      <td>57.782615</td>\n",
       "      <td>6880.665218</td>\n",
       "    </tr>\n",
       "    <tr>\n",
       "      <th>J</th>\n",
       "      <td>61.753135</td>\n",
       "      <td>3.491213</td>\n",
       "      <td>5.913113</td>\n",
       "      <td>0.903165</td>\n",
       "      <td>57.863487</td>\n",
       "      <td>6449.090182</td>\n",
       "    </tr>\n",
       "    <tr>\n",
       "      <th>K</th>\n",
       "      <td>61.776974</td>\n",
       "      <td>3.491949</td>\n",
       "      <td>5.915106</td>\n",
       "      <td>0.941401</td>\n",
       "      <td>57.514052</td>\n",
       "      <td>6286.836987</td>\n",
       "    </tr>\n",
       "    <tr>\n",
       "      <th>L</th>\n",
       "      <td>61.801724</td>\n",
       "      <td>3.612853</td>\n",
       "      <td>6.101540</td>\n",
       "      <td>1.031242</td>\n",
       "      <td>57.565274</td>\n",
       "      <td>6015.890411</td>\n",
       "    </tr>\n",
       "    <tr>\n",
       "      <th>M</th>\n",
       "      <td>61.124901</td>\n",
       "      <td>3.736838</td>\n",
       "      <td>6.280830</td>\n",
       "      <td>1.156667</td>\n",
       "      <td>56.832350</td>\n",
       "      <td>6374.774264</td>\n",
       "    </tr>\n",
       "  </tbody>\n",
       "</table>\n",
       "</div>"
      ],
      "text/plain": [
       "       depth_percent  meas_depth  meas_length      size  table_percent  \\\n",
       "color                                                                    \n",
       "D          61.224734    3.102235     5.294900  0.603273      57.741973   \n",
       "E          61.509574    3.047130     5.118690  0.573500      57.726400   \n",
       "F          61.817263    3.119051     5.236099  0.617989      58.018276   \n",
       "G          61.848760    3.328366     5.556403  0.742811      57.882369   \n",
       "H          61.572011    3.410135     5.690614  0.808047      57.797935   \n",
       "I          61.522670    3.433178     5.744555  0.835002      57.782615   \n",
       "J          61.753135    3.491213     5.913113  0.903165      57.863487   \n",
       "K          61.776974    3.491949     5.915106  0.941401      57.514052   \n",
       "L          61.801724    3.612853     6.101540  1.031242      57.565274   \n",
       "M          61.124901    3.736838     6.280830  1.156667      56.832350   \n",
       "\n",
       "       total_sales_price  \n",
       "color                     \n",
       "D            6360.845955  \n",
       "E            5181.777150  \n",
       "F            5523.733302  \n",
       "G            7291.239008  \n",
       "H            7496.815706  \n",
       "I            6880.665218  \n",
       "J            6449.090182  \n",
       "K            6286.836987  \n",
       "L            6015.890411  \n",
       "M            6374.774264  "
      ]
     },
     "execution_count": 22,
     "metadata": {},
     "output_type": "execute_result"
    }
   ],
   "source": [
    "pd.pivot_table(full_training_set, index=\"color\", values=[\"size\", \"depth_percent\", \"table_percent\", \"meas_length\", \"meas_depth\", \"total_sales_price\"])"
   ]
  },
  {
   "cell_type": "code",
   "execution_count": 23,
   "id": "536d00fc-126b-4b87-a087-e1c808c9e0be",
   "metadata": {},
   "outputs": [
    {
     "data": {
      "text/html": [
       "<div>\n",
       "<style scoped>\n",
       "    .dataframe tbody tr th:only-of-type {\n",
       "        vertical-align: middle;\n",
       "    }\n",
       "\n",
       "    .dataframe tbody tr th {\n",
       "        vertical-align: top;\n",
       "    }\n",
       "\n",
       "    .dataframe thead th {\n",
       "        text-align: right;\n",
       "    }\n",
       "</style>\n",
       "<table border=\"1\" class=\"dataframe\">\n",
       "  <thead>\n",
       "    <tr style=\"text-align: right;\">\n",
       "      <th></th>\n",
       "      <th>depth_percent</th>\n",
       "      <th>meas_depth</th>\n",
       "      <th>meas_length</th>\n",
       "      <th>size</th>\n",
       "      <th>table_percent</th>\n",
       "      <th>total_sales_price</th>\n",
       "    </tr>\n",
       "    <tr>\n",
       "      <th>cut</th>\n",
       "      <th></th>\n",
       "      <th></th>\n",
       "      <th></th>\n",
       "      <th></th>\n",
       "      <th></th>\n",
       "      <th></th>\n",
       "    </tr>\n",
       "  </thead>\n",
       "  <tbody>\n",
       "    <tr>\n",
       "      <th>Excellent</th>\n",
       "      <td>60.672442</td>\n",
       "      <td>3.208837</td>\n",
       "      <td>5.097786</td>\n",
       "      <td>0.624730</td>\n",
       "      <td>56.480176</td>\n",
       "      <td>5410.237967</td>\n",
       "    </tr>\n",
       "    <tr>\n",
       "      <th>Fair</th>\n",
       "      <td>61.775000</td>\n",
       "      <td>3.455000</td>\n",
       "      <td>5.612500</td>\n",
       "      <td>0.730000</td>\n",
       "      <td>62.625000</td>\n",
       "      <td>1880.250000</td>\n",
       "    </tr>\n",
       "    <tr>\n",
       "      <th>Good</th>\n",
       "      <td>62.059091</td>\n",
       "      <td>4.145909</td>\n",
       "      <td>7.901818</td>\n",
       "      <td>1.592273</td>\n",
       "      <td>59.363636</td>\n",
       "      <td>9912.136364</td>\n",
       "    </tr>\n",
       "    <tr>\n",
       "      <th>Ideal</th>\n",
       "      <td>69.800000</td>\n",
       "      <td>3.330000</td>\n",
       "      <td>6.250000</td>\n",
       "      <td>0.900000</td>\n",
       "      <td>64.000000</td>\n",
       "      <td>3767.000000</td>\n",
       "    </tr>\n",
       "    <tr>\n",
       "      <th>None</th>\n",
       "      <td>67.400000</td>\n",
       "      <td>3.020000</td>\n",
       "      <td>8.580000</td>\n",
       "      <td>0.700000</td>\n",
       "      <td>56.500000</td>\n",
       "      <td>966.000000</td>\n",
       "    </tr>\n",
       "    <tr>\n",
       "      <th>Very Good</th>\n",
       "      <td>60.786264</td>\n",
       "      <td>3.258900</td>\n",
       "      <td>5.066604</td>\n",
       "      <td>0.622588</td>\n",
       "      <td>56.204238</td>\n",
       "      <td>4031.859316</td>\n",
       "    </tr>\n",
       "  </tbody>\n",
       "</table>\n",
       "</div>"
      ],
      "text/plain": [
       "           depth_percent  meas_depth  meas_length      size  table_percent  \\\n",
       "cut                                                                          \n",
       "Excellent      60.672442    3.208837     5.097786  0.624730      56.480176   \n",
       "Fair           61.775000    3.455000     5.612500  0.730000      62.625000   \n",
       "Good           62.059091    4.145909     7.901818  1.592273      59.363636   \n",
       "Ideal          69.800000    3.330000     6.250000  0.900000      64.000000   \n",
       "None           67.400000    3.020000     8.580000  0.700000      56.500000   \n",
       "Very Good      60.786264    3.258900     5.066604  0.622588      56.204238   \n",
       "\n",
       "           total_sales_price  \n",
       "cut                           \n",
       "Excellent        5410.237967  \n",
       "Fair             1880.250000  \n",
       "Good             9912.136364  \n",
       "Ideal            3767.000000  \n",
       "None              966.000000  \n",
       "Very Good        4031.859316  "
      ]
     },
     "execution_count": 23,
     "metadata": {},
     "output_type": "execute_result"
    }
   ],
   "source": [
    "pd.pivot_table(full_training_set, index=\"cut\", values=[\"size\", \"depth_percent\", \"table_percent\", \"meas_length\", \"meas_depth\", \"total_sales_price\"])"
   ]
  },
  {
   "cell_type": "markdown",
   "id": "59ac92a1-6611-4292-a910-193f8b890387",
   "metadata": {},
   "source": [
    "## Observations:\n",
    "\n",
    "### Missing values\n",
    "- fancy_color columns, culet_condition, fluor_color and eye_clean columns have more than 70% missing values so I will discard them for this analysis\n",
    "- cut, girdle_min, girdle_max and culet_size has around 30% missing values might be removed\n",
    "- fluor_intensity, color have really small missing value that need to be handled\n",
    "\n",
    "### Feature\n",
    "- Round shape diamond are dominant\n",
    "- most diamonds tends to be colorless color\n",
    "- prices from 200 USD -> 1.4M USD (excluding taxes)\n",
    "- date has only one value feb 2022 can be discarded\n",
    "- price is mostly correlated to size meas_width, meas_length\n",
    "- clarity feature seems to impact the price as well"
   ]
  },
  {
   "cell_type": "markdown",
   "id": "e7bf9145-251f-48d4-95ff-9f49052f739e",
   "metadata": {},
   "source": [
    "   # Feature enginnering\n",
    "   "
   ]
  },
  {
   "cell_type": "code",
   "execution_count": 24,
   "id": "53db7b3c-c3d9-49f3-8128-5f7f17a28dff",
   "metadata": {},
   "outputs": [
    {
     "name": "stdout",
     "output_type": "stream",
     "text": [
      "Index(['clarity', 'color', 'culet_condition', 'culet_size', 'cut', 'date',\n",
      "       'depth_percent', 'diamond_id', 'eye_clean',\n",
      "       'fancy_color_dominant_color', 'fancy_color_intensity',\n",
      "       'fancy_color_overtone', 'fancy_color_secondary_color', 'fluor_color',\n",
      "       'fluor_intensity', 'girdle_max', 'girdle_min', 'lab', 'meas_depth',\n",
      "       'meas_length', 'meas_width', 'polish', 'shape', 'size', 'symmetry',\n",
      "       'table_percent'],\n",
      "      dtype='object')\n"
     ]
    }
   ],
   "source": [
    "print(X_train.columns)\n",
    "X_train_simplify = X_train.drop(columns = [\"fancy_color_dominant_color\", \"fancy_color_secondary_color\", \"fancy_color_overtone\", \"fancy_color_intensity\", \"culet_condition\", \"fluor_color\", \"eye_clean\", \"date\", \"girdle_min\", \"girdle_max\", \"culet_size\", \"cut\"]).copy()"
   ]
  },
  {
   "cell_type": "code",
   "execution_count": 25,
   "id": "dd72c1d7-8a40-400e-997d-9690934cfd67",
   "metadata": {},
   "outputs": [
    {
     "data": {
      "text/plain": [
       "Index(['clarity', 'color', 'depth_percent', 'diamond_id', 'fluor_intensity',\n",
       "       'lab', 'meas_depth', 'meas_length', 'meas_width', 'polish', 'shape',\n",
       "       'size', 'symmetry', 'table_percent'],\n",
       "      dtype='object')"
      ]
     },
     "execution_count": 25,
     "metadata": {},
     "output_type": "execute_result"
    }
   ],
   "source": [
    "X_train_simplify.columns"
   ]
  },
  {
   "cell_type": "code",
   "execution_count": 26,
   "id": "f950c8d8-a22b-4ec2-9d58-31653413d4e4",
   "metadata": {},
   "outputs": [],
   "source": [
    "X_train_simplify[\"is_expensive\"] = y_train.apply(lambda x: 1 if x > y_train.mean() else 0)"
   ]
  },
  {
   "cell_type": "code",
   "execution_count": 27,
   "id": "bf811b46-bf92-48df-976d-e453caed74c1",
   "metadata": {},
   "outputs": [
    {
     "data": {
      "text/html": [
       "<div>\n",
       "<style scoped>\n",
       "    .dataframe tbody tr th:only-of-type {\n",
       "        vertical-align: middle;\n",
       "    }\n",
       "\n",
       "    .dataframe tbody tr th {\n",
       "        vertical-align: top;\n",
       "    }\n",
       "\n",
       "    .dataframe thead th {\n",
       "        text-align: right;\n",
       "    }\n",
       "</style>\n",
       "<table border=\"1\" class=\"dataframe\">\n",
       "  <thead>\n",
       "    <tr style=\"text-align: right;\">\n",
       "      <th></th>\n",
       "      <th>clarity</th>\n",
       "      <th>color</th>\n",
       "      <th>depth_percent</th>\n",
       "      <th>diamond_id</th>\n",
       "      <th>fluor_intensity</th>\n",
       "      <th>lab</th>\n",
       "      <th>meas_depth</th>\n",
       "      <th>meas_length</th>\n",
       "      <th>meas_width</th>\n",
       "      <th>polish</th>\n",
       "      <th>shape</th>\n",
       "      <th>size</th>\n",
       "      <th>symmetry</th>\n",
       "      <th>table_percent</th>\n",
       "      <th>is_expensive</th>\n",
       "    </tr>\n",
       "  </thead>\n",
       "  <tbody>\n",
       "    <tr>\n",
       "      <th>178806</th>\n",
       "      <td>VS1</td>\n",
       "      <td>E</td>\n",
       "      <td>64.1</td>\n",
       "      <td>135879019</td>\n",
       "      <td>Medium</td>\n",
       "      <td>GIA</td>\n",
       "      <td>3.44</td>\n",
       "      <td>8.04</td>\n",
       "      <td>5.36</td>\n",
       "      <td>Excellent</td>\n",
       "      <td>Oval</td>\n",
       "      <td>1.00</td>\n",
       "      <td>Very Good</td>\n",
       "      <td>64.0</td>\n",
       "      <td>1</td>\n",
       "    </tr>\n",
       "    <tr>\n",
       "      <th>182541</th>\n",
       "      <td>VS2</td>\n",
       "      <td>F</td>\n",
       "      <td>59.4</td>\n",
       "      <td>131430217</td>\n",
       "      <td>None</td>\n",
       "      <td>GIA</td>\n",
       "      <td>4.18</td>\n",
       "      <td>6.50</td>\n",
       "      <td>7.03</td>\n",
       "      <td>Excellent</td>\n",
       "      <td>Heart</td>\n",
       "      <td>1.09</td>\n",
       "      <td>Excellent</td>\n",
       "      <td>56.0</td>\n",
       "      <td>1</td>\n",
       "    </tr>\n",
       "    <tr>\n",
       "      <th>163525</th>\n",
       "      <td>I1</td>\n",
       "      <td>I</td>\n",
       "      <td>60.5</td>\n",
       "      <td>135359114</td>\n",
       "      <td>None</td>\n",
       "      <td>GIA</td>\n",
       "      <td>3.89</td>\n",
       "      <td>6.42</td>\n",
       "      <td>6.44</td>\n",
       "      <td>Excellent</td>\n",
       "      <td>Round</td>\n",
       "      <td>1.00</td>\n",
       "      <td>Excellent</td>\n",
       "      <td>59.0</td>\n",
       "      <td>0</td>\n",
       "    </tr>\n",
       "    <tr>\n",
       "      <th>65005</th>\n",
       "      <td>VS2</td>\n",
       "      <td>H</td>\n",
       "      <td>62.0</td>\n",
       "      <td>134879748</td>\n",
       "      <td>None</td>\n",
       "      <td>GIA</td>\n",
       "      <td>2.66</td>\n",
       "      <td>4.29</td>\n",
       "      <td>4.31</td>\n",
       "      <td>Excellent</td>\n",
       "      <td>Round</td>\n",
       "      <td>0.30</td>\n",
       "      <td>Excellent</td>\n",
       "      <td>58.0</td>\n",
       "      <td>0</td>\n",
       "    </tr>\n",
       "    <tr>\n",
       "      <th>200505</th>\n",
       "      <td>VS2</td>\n",
       "      <td>E</td>\n",
       "      <td>56.6</td>\n",
       "      <td>129334232</td>\n",
       "      <td>Faint</td>\n",
       "      <td>GIA</td>\n",
       "      <td>3.69</td>\n",
       "      <td>8.98</td>\n",
       "      <td>6.52</td>\n",
       "      <td>Excellent</td>\n",
       "      <td>Oval</td>\n",
       "      <td>1.50</td>\n",
       "      <td>Very Good</td>\n",
       "      <td>66.0</td>\n",
       "      <td>1</td>\n",
       "    </tr>\n",
       "    <tr>\n",
       "      <th>...</th>\n",
       "      <td>...</td>\n",
       "      <td>...</td>\n",
       "      <td>...</td>\n",
       "      <td>...</td>\n",
       "      <td>...</td>\n",
       "      <td>...</td>\n",
       "      <td>...</td>\n",
       "      <td>...</td>\n",
       "      <td>...</td>\n",
       "      <td>...</td>\n",
       "      <td>...</td>\n",
       "      <td>...</td>\n",
       "      <td>...</td>\n",
       "      <td>...</td>\n",
       "      <td>...</td>\n",
       "    </tr>\n",
       "    <tr>\n",
       "      <th>9615</th>\n",
       "      <td>VVS1</td>\n",
       "      <td>E</td>\n",
       "      <td>61.8</td>\n",
       "      <td>134001614</td>\n",
       "      <td>None</td>\n",
       "      <td>GIA</td>\n",
       "      <td>2.23</td>\n",
       "      <td>3.60</td>\n",
       "      <td>3.62</td>\n",
       "      <td>Excellent</td>\n",
       "      <td>Round</td>\n",
       "      <td>0.18</td>\n",
       "      <td>Excellent</td>\n",
       "      <td>61.0</td>\n",
       "      <td>0</td>\n",
       "    </tr>\n",
       "    <tr>\n",
       "      <th>73042</th>\n",
       "      <td>VVS2</td>\n",
       "      <td>G</td>\n",
       "      <td>62.2</td>\n",
       "      <td>129905776</td>\n",
       "      <td>None</td>\n",
       "      <td>GIA</td>\n",
       "      <td>2.69</td>\n",
       "      <td>4.32</td>\n",
       "      <td>4.33</td>\n",
       "      <td>Excellent</td>\n",
       "      <td>Round</td>\n",
       "      <td>0.31</td>\n",
       "      <td>Excellent</td>\n",
       "      <td>58.0</td>\n",
       "      <td>0</td>\n",
       "    </tr>\n",
       "    <tr>\n",
       "      <th>18657</th>\n",
       "      <td>VVS2</td>\n",
       "      <td>L</td>\n",
       "      <td>60.9</td>\n",
       "      <td>136103946</td>\n",
       "      <td>Strong</td>\n",
       "      <td>GIA</td>\n",
       "      <td>2.80</td>\n",
       "      <td>4.58</td>\n",
       "      <td>4.61</td>\n",
       "      <td>Excellent</td>\n",
       "      <td>Round</td>\n",
       "      <td>0.36</td>\n",
       "      <td>Excellent</td>\n",
       "      <td>58.0</td>\n",
       "      <td>0</td>\n",
       "    </tr>\n",
       "    <tr>\n",
       "      <th>215016</th>\n",
       "      <td>SI2</td>\n",
       "      <td>I</td>\n",
       "      <td>52.5</td>\n",
       "      <td>134997930</td>\n",
       "      <td>None</td>\n",
       "      <td>GIA</td>\n",
       "      <td>4.45</td>\n",
       "      <td>13.41</td>\n",
       "      <td>8.48</td>\n",
       "      <td>Excellent</td>\n",
       "      <td>Oval</td>\n",
       "      <td>3.51</td>\n",
       "      <td>Excellent</td>\n",
       "      <td>62.0</td>\n",
       "      <td>1</td>\n",
       "    </tr>\n",
       "    <tr>\n",
       "      <th>47107</th>\n",
       "      <td>VS1</td>\n",
       "      <td>F</td>\n",
       "      <td>58.1</td>\n",
       "      <td>131640398</td>\n",
       "      <td>None</td>\n",
       "      <td>GIA</td>\n",
       "      <td>2.76</td>\n",
       "      <td>4.11</td>\n",
       "      <td>4.75</td>\n",
       "      <td>Excellent</td>\n",
       "      <td>Heart</td>\n",
       "      <td>0.30</td>\n",
       "      <td>Very Good</td>\n",
       "      <td>62.0</td>\n",
       "      <td>0</td>\n",
       "    </tr>\n",
       "  </tbody>\n",
       "</table>\n",
       "<p>164778 rows × 15 columns</p>\n",
       "</div>"
      ],
      "text/plain": [
       "       clarity color  depth_percent  diamond_id fluor_intensity  lab  \\\n",
       "178806     VS1     E           64.1   135879019          Medium  GIA   \n",
       "182541     VS2     F           59.4   131430217            None  GIA   \n",
       "163525      I1     I           60.5   135359114            None  GIA   \n",
       "65005      VS2     H           62.0   134879748            None  GIA   \n",
       "200505     VS2     E           56.6   129334232           Faint  GIA   \n",
       "...        ...   ...            ...         ...             ...  ...   \n",
       "9615      VVS1     E           61.8   134001614            None  GIA   \n",
       "73042     VVS2     G           62.2   129905776            None  GIA   \n",
       "18657     VVS2     L           60.9   136103946          Strong  GIA   \n",
       "215016     SI2     I           52.5   134997930            None  GIA   \n",
       "47107      VS1     F           58.1   131640398            None  GIA   \n",
       "\n",
       "        meas_depth  meas_length  meas_width     polish  shape  size  \\\n",
       "178806        3.44         8.04        5.36  Excellent   Oval  1.00   \n",
       "182541        4.18         6.50        7.03  Excellent  Heart  1.09   \n",
       "163525        3.89         6.42        6.44  Excellent  Round  1.00   \n",
       "65005         2.66         4.29        4.31  Excellent  Round  0.30   \n",
       "200505        3.69         8.98        6.52  Excellent   Oval  1.50   \n",
       "...            ...          ...         ...        ...    ...   ...   \n",
       "9615          2.23         3.60        3.62  Excellent  Round  0.18   \n",
       "73042         2.69         4.32        4.33  Excellent  Round  0.31   \n",
       "18657         2.80         4.58        4.61  Excellent  Round  0.36   \n",
       "215016        4.45        13.41        8.48  Excellent   Oval  3.51   \n",
       "47107         2.76         4.11        4.75  Excellent  Heart  0.30   \n",
       "\n",
       "         symmetry  table_percent  is_expensive  \n",
       "178806  Very Good           64.0             1  \n",
       "182541  Excellent           56.0             1  \n",
       "163525  Excellent           59.0             0  \n",
       "65005   Excellent           58.0             0  \n",
       "200505  Very Good           66.0             1  \n",
       "...           ...            ...           ...  \n",
       "9615    Excellent           61.0             0  \n",
       "73042   Excellent           58.0             0  \n",
       "18657   Excellent           58.0             0  \n",
       "215016  Excellent           62.0             1  \n",
       "47107   Very Good           62.0             0  \n",
       "\n",
       "[164778 rows x 15 columns]"
      ]
     },
     "execution_count": 27,
     "metadata": {},
     "output_type": "execute_result"
    }
   ],
   "source": [
    "X_train_simplify"
   ]
  },
  {
   "cell_type": "code",
   "execution_count": 28,
   "id": "2bba2705-cd6b-4da1-bcb8-d1c7d4faf06e",
   "metadata": {},
   "outputs": [
    {
     "data": {
      "text/html": [
       "<div>\n",
       "<style scoped>\n",
       "    .dataframe tbody tr th:only-of-type {\n",
       "        vertical-align: middle;\n",
       "    }\n",
       "\n",
       "    .dataframe tbody tr th {\n",
       "        vertical-align: top;\n",
       "    }\n",
       "\n",
       "    .dataframe thead th {\n",
       "        text-align: right;\n",
       "    }\n",
       "</style>\n",
       "<table border=\"1\" class=\"dataframe\">\n",
       "  <thead>\n",
       "    <tr style=\"text-align: right;\">\n",
       "      <th></th>\n",
       "      <th>depth_percent</th>\n",
       "      <th>meas_depth</th>\n",
       "      <th>meas_length</th>\n",
       "      <th>size</th>\n",
       "      <th>table_percent</th>\n",
       "    </tr>\n",
       "    <tr>\n",
       "      <th>is_expensive</th>\n",
       "      <th></th>\n",
       "      <th></th>\n",
       "      <th></th>\n",
       "      <th></th>\n",
       "      <th></th>\n",
       "    </tr>\n",
       "  </thead>\n",
       "  <tbody>\n",
       "    <tr>\n",
       "      <th>0</th>\n",
       "      <td>61.352400</td>\n",
       "      <td>2.971624</td>\n",
       "      <td>4.973161</td>\n",
       "      <td>0.480897</td>\n",
       "      <td>57.276204</td>\n",
       "    </tr>\n",
       "    <tr>\n",
       "      <th>1</th>\n",
       "      <td>62.919701</td>\n",
       "      <td>4.543725</td>\n",
       "      <td>7.836476</td>\n",
       "      <td>1.848597</td>\n",
       "      <td>59.550463</td>\n",
       "    </tr>\n",
       "  </tbody>\n",
       "</table>\n",
       "</div>"
      ],
      "text/plain": [
       "              depth_percent  meas_depth  meas_length      size  table_percent\n",
       "is_expensive                                                                 \n",
       "0                 61.352400    2.971624     4.973161  0.480897      57.276204\n",
       "1                 62.919701    4.543725     7.836476  1.848597      59.550463"
      ]
     },
     "execution_count": 28,
     "metadata": {},
     "output_type": "execute_result"
    }
   ],
   "source": [
    "pd.pivot_table(X_train_simplify, index=\"is_expensive\", values=[\"size\", \"depth_percent\", \"table_percent\", \"meas_length\", \"meas_depth\"])"
   ]
  },
  {
   "cell_type": "code",
   "execution_count": 29,
   "id": "446c15f6-7b16-4e85-8ee9-c59b0555df86",
   "metadata": {},
   "outputs": [],
   "source": [
    "X_full_train_simplify = X_train_simplify.copy()\n",
    "X_full_train_simplify[\"total_sales_price\"] = y_train.copy()"
   ]
  },
  {
   "cell_type": "code",
   "execution_count": 30,
   "id": "7e80050c-563b-48c0-8c8d-c36825c80e23",
   "metadata": {},
   "outputs": [
    {
     "name": "stdout",
     "output_type": "stream",
     "text": [
      "color                    D             E             F             G  \\\n",
      "is_expensive                                                           \n",
      "0              1911.976343   1737.491292   1898.359162   2121.174650   \n",
      "1             28718.614724  24916.754854  24418.408840  25488.884028   \n",
      "\n",
      "color                    H             I             J             K  \\\n",
      "is_expensive                                                           \n",
      "0              2256.905157   2157.142544   2117.889458   1930.118696   \n",
      "1             25021.728524  24251.972160  22605.928839  26420.662197   \n",
      "\n",
      "color                    L             M  \n",
      "is_expensive                              \n",
      "0              2089.924338   2149.782298  \n",
      "1             24019.397098  23154.818777  \n"
     ]
    }
   ],
   "source": [
    "print(pd.pivot_table(X_full_train_simplify, index=\"is_expensive\", columns=\"color\", values=\"total_sales_price\"))"
   ]
  },
  {
   "cell_type": "code",
   "execution_count": null,
   "id": "1c68d4fd-0f58-4dc4-a8c7-20d8a60d041d",
   "metadata": {},
   "outputs": [],
   "source": [
    "X_train_simplify[\"is_big\"] = X_train_simplify[\"size\"].apply(lambda x: 1 if x > X_train_simplify[\"size\"].mean() else 0)"
   ]
  },
  {
   "cell_type": "code",
   "execution_count": null,
   "id": "38a970d6-b001-428f-9be3-585c0d4bb558",
   "metadata": {},
   "outputs": [],
   "source": [
    "X_full_train_simplify = X_train_simplify.copy()\n",
    "X_full_train_simplify[\"total_sales_price\"] = y_train.copy()\n",
    "X_full_train_simplify.groupby(['is_big']).mean()"
   ]
  },
  {
   "cell_type": "markdown",
   "id": "2679a39c-7888-475b-a6ff-8298b068bd37",
   "metadata": {},
   "source": [
    "### Data cleaning"
   ]
  },
  {
   "cell_type": "code",
   "execution_count": null,
   "id": "fc23a37e-31cc-427f-992a-07bc14bf7ea4",
   "metadata": {},
   "outputs": [],
   "source": [
    "X_train_simplify.info()\n",
    "X_train_simplify.isnull().sum()"
   ]
  },
  {
   "cell_type": "code",
   "execution_count": null,
   "id": "fbe8dc54-7d89-4569-8071-493046591eb6",
   "metadata": {},
   "outputs": [],
   "source": [
    "X_full_train_simplify.groupby(['color']).count()\n",
    "\n",
    "X_train_simplify.color = X_train_simplify.color.fillna(\"E\") #fill color with most common one"
   ]
  },
  {
   "cell_type": "code",
   "execution_count": null,
   "id": "4f3b0c03-801d-4563-8976-6b8b117b3773",
   "metadata": {},
   "outputs": [],
   "source": [
    "X_full_train_simplify = X_train_simplify.copy()\n",
    "X_full_train_simplify[\"total_sales_price\"] = y_train.copy()\n",
    "\n",
    "X_full_train_simplify.groupby(['fluor_intensity']).count()\n",
    "X_train_simplify.fluor_intensity = X_train_simplify.fluor_intensity.fillna(\"Faint\") #fill Faint most common one"
   ]
  },
  {
   "cell_type": "markdown",
   "id": "2ba71cd5-64f8-44b3-a2db-f44f1a63e36b",
   "metadata": {},
   "source": [
    "### Data preparation"
   ]
  },
  {
   "cell_type": "code",
   "execution_count": null,
   "id": "f4b73d7a-72b9-4f36-8205-7a552d60e48e",
   "metadata": {},
   "outputs": [],
   "source": [
    "#normalized keeping value in a short range\n",
    "\n",
    "#normalized log norm of size\n",
    "X_train_simplify['norm_size'] =np.log(X_train_simplify.size + 1)\n",
    "X_train_simplify['norm_size'].hist()\n",
    "\n",
    "#normalized log of depth_percent\n",
    "X_train_simplify[\"norm_depth_percent\"] = np.log(X_train_simplify.depth_percent + 1)\n",
    "X_train_simplify[\"norm_depth_percent\"].hist()\n",
    "\n",
    "#normalized log of meas_depth\n",
    "X_train_simplify[\"norm_table_percent\"] = np.log(X_train_simplify.table_percent + 1)\n",
    "X_train_simplify[\"norm_table_percent\"].hist()\n",
    "\n",
    "#normalized log of meas_length\n",
    "X_train_simplify[\"norm_meas_length\"] = np.log(X_train_simplify.meas_length + 1)\n",
    "X_train_simplify[\"norm_meas_length\"].hist()\n",
    "\n",
    "#normalized log of meas_width\n",
    "X_train_simplify[\"norm_meas_width\"] = np.log(X_train_simplify.meas_width + 1)\n",
    "X_train_simplify[\"norm_meas_width\"].hist()\n",
    "\n",
    "#normalized log of meas_depth\n",
    "X_train_simplify[\"norm_meas_depth\"] = np.log(X_train_simplify.meas_depth + 1)\n",
    "X_train_simplify[\"norm_meas_depth\"].hist()\n"
   ]
  },
  {
   "cell_type": "code",
   "execution_count": null,
   "id": "b9fda636-69c5-40df-991d-0253d8175aed",
   "metadata": {},
   "outputs": [],
   "source": [
    "X_train_dummmies = pd.get_dummies(X_train_simplify[['size', 'color', 'clarity', 'symmetry', 'fluor_intensity']])"
   ]
  },
  {
   "cell_type": "code",
   "execution_count": null,
   "id": "be4a517d-b36c-4ffb-a0aa-e75fbf5dc66d",
   "metadata": {},
   "outputs": [],
   "source": [
    "X_train_dummmies.head(100)"
   ]
  },
  {
   "cell_type": "code",
   "execution_count": null,
   "id": "ac2c6214-178c-4aa3-8a43-cb2b472e1baf",
   "metadata": {},
   "outputs": [],
   "source": [
    "#scaling (keeping numeric value in normal distribution)\n",
    "scale = StandardScaler()"
   ]
  },
  {
   "cell_type": "code",
   "execution_count": null,
   "id": "dca8a55d-f955-41a7-80d4-42020e4ca7ee",
   "metadata": {},
   "outputs": [],
   "source": [
    "X_train_dummmies_scaled = X_train_dummmies.copy()\n",
    "X_train_dummmies_scaled[[\"size\"]] = scale.fit_transform(X_train_dummmies_scaled[[\"size\"]])\n",
    "X_train_dummmies_scaled.columns"
   ]
  },
  {
   "cell_type": "code",
   "execution_count": null,
   "id": "546e250a-377d-48ca-be8b-76f4ab55a6b9",
   "metadata": {},
   "outputs": [],
   "source": [
    "X_train = X_train_dummmies_scaled.copy()\n",
    "X_train.describe()"
   ]
  },
  {
   "cell_type": "markdown",
   "id": "40393167-4cf8-4a78-9af4-182ef64cd0f6",
   "metadata": {},
   "source": [
    "# Basic model building"
   ]
  },
  {
   "cell_type": "markdown",
   "id": "864c8be3-e266-4765-83d5-10e4e30cc7c0",
   "metadata": {},
   "source": [
    "## Algorithms selection (regression)\n",
    "1. LinearRegression\n",
    "2. SGDRegressor\n",
    "3. ElasticNet\n",
    "4. Lasso\n",
    "5. LinearSVR (Support Vector Regression)\n",
    "6. SVR "
   ]
  },
  {
   "cell_type": "code",
   "execution_count": null,
   "id": "00f5571d-e108-467b-a569-21693775e58f",
   "metadata": {},
   "outputs": [],
   "source": [
    "def tuning_function(chosen_clf, tuned_parameters):\n",
    "    \n",
    "    for score in [\"precision\", \"recall\"]:\n",
    "        print(\"# Tuning hyper-parameters for %s\" % score)\n",
    "        print()\n",
    "\n",
    "        clf = GridSearchCV(chosen_clf(), param_grid = tuned_parameters)\n",
    "        clf.fit(X_train, y_train)\n",
    "        print(\"Best parameters set found on development set:\")\n",
    "        print()\n",
    "        print(clf.best_params_)\n",
    "        print()\n",
    "        print(\"Grid scores on development set:\")\n",
    "        print()\n",
    "        means = clf.cv_results_[\"mean_test_score\"]\n",
    "        stds = clf.cv_results_[\"std_test_score\"]\n",
    "        for mean, std, params in zip(means, stds, clf.cv_results_[\"params\"]):\n",
    "            print(\"%0.3f (+/-%0.03f) for %r\" % (mean, std * 2, params))\n",
    "        print()\n",
    "\n",
    "        print(\"Detailed accuracy score:\")\n",
    "        print()\n",
    "        print(\"The model is trained on the full development set.\")\n",
    "        print(\"The scores are computed on the full evaluation set.\")\n",
    "        print()\n",
    "        y_true, y_pred = y_test, clf.predict(X_test)\n",
    "        print(accuracy_score(y_true, y_pred))\n",
    "        print()\n"
   ]
  },
  {
   "cell_type": "code",
   "execution_count": null,
   "id": "5cc18814-3f6a-422f-9708-f6b37426aa03",
   "metadata": {},
   "outputs": [],
   "source": [
    "lr = LinearRegression()\n",
    "cv = cross_val_score(lr, X_train, y_train, cv=5)\n",
    "print(cv)\n",
    "print(cv.mean())"
   ]
  },
  {
   "cell_type": "code",
   "execution_count": null,
   "id": "32ad00a1-0b8f-4b3e-8ba8-f69c41669080",
   "metadata": {},
   "outputs": [],
   "source": [
    "sgd = SGDRegressor()\n",
    "cv = cross_val_score(sgd, X_train, y_train, cv=5)\n",
    "print(cv)\n",
    "print(cv.mean())"
   ]
  },
  {
   "cell_type": "code",
   "execution_count": null,
   "id": "9a6efb99-6371-4b5b-8439-1ea788b9a008",
   "metadata": {},
   "outputs": [],
   "source": [
    "en = ElasticNet(random_state=0)\n",
    "cv = cross_val_score(en, X_train, y_train, cv=5)\n",
    "print(cv)\n",
    "print(cv.mean())"
   ]
  },
  {
   "cell_type": "code",
   "execution_count": null,
   "id": "7024344e-ccac-43aa-9f85-155bc15b40b5",
   "metadata": {},
   "outputs": [],
   "source": [
    "lasso = Lasso(alpha=0.1)\n",
    "cv = cross_val_score(lasso, X_train, y_train, cv=5)\n",
    "print(cv)\n",
    "print(cv.mean())\n"
   ]
  },
  {
   "cell_type": "code",
   "execution_count": null,
   "id": "af9686cd-12ff-4259-9d68-f2227d2f44ef",
   "metadata": {},
   "outputs": [],
   "source": [
    "tuned_parameters = [\n",
    "    {'alpha':[0.02, 0.024, 0.025, 0.026, 0.03]}\n",
    "]\n",
    "tuning_function(Lasso, tuned_parameters)"
   ]
  },
  {
   "cell_type": "code",
   "execution_count": null,
   "id": "7f8f430c-1177-4af0-948b-2bae4feae74b",
   "metadata": {},
   "outputs": [],
   "source": [
    "#lsvr = LinearSVR(random_state=0, tol=1e-5)\n",
    "#cv = cross_val_score(lsvr, X_train, y_train, cv=5)\n",
    "#print(cv)\n",
    "#print(cv.mean())"
   ]
  },
  {
   "cell_type": "code",
   "execution_count": null,
   "id": "3c3480f2-8842-494e-abc2-a93c26cf5329",
   "metadata": {},
   "outputs": [],
   "source": [
    "#nusvr = NuSVR(C=1.0, nu=0.1)\n",
    "#cv = cross_val_score(nusvr, X_train, y_train, cv=5)\n",
    "#print(cv)\n",
    "#print(cv.mean())"
   ]
  },
  {
   "cell_type": "code",
   "execution_count": null,
   "id": "cfd32c0f-fdb0-4493-88a4-c723485510b1",
   "metadata": {},
   "outputs": [],
   "source": [
    "#tuned_parameters = [\n",
    "#    {\"kernel\": [\"rbf\"], \"gamma\": [1e-3, 1e-4], \"C\": [1, 10, 100, 1000]},\n",
    "#    {\"kernel\": [\"linear\"], \"C\": [1, 10, 100, 1000]},\n",
    "#]\n",
    "#tuning_function(SVR, tuned_parameters)"
   ]
  }
 ],
 "metadata": {
  "kernelspec": {
   "display_name": "Python 3 (ipykernel)",
   "language": "python",
   "name": "python3"
  },
  "language_info": {
   "codemirror_mode": {
    "name": "ipython",
    "version": 3
   },
   "file_extension": ".py",
   "mimetype": "text/x-python",
   "name": "python",
   "nbconvert_exporter": "python",
   "pygments_lexer": "ipython3",
   "version": "3.8.10"
  }
 },
 "nbformat": 4,
 "nbformat_minor": 5
}
