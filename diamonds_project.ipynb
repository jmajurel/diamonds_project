{
 "cells": [
  {
   "cell_type": "code",
   "execution_count": 49,
   "id": "2238b233-dd47-4dab-96c6-1fff77eac1d0",
   "metadata": {},
   "outputs": [],
   "source": [
    "import pandas as pd\n",
    "import matplotlib.pyplot as plt\n",
    "import seaborn as sbn\n",
    "import numpy as np\n",
    "from sklearn.preprocessing import StandardScaler\n",
    "from sklearn.model_selection import train_test_split\n",
    "from sklearn.model_selection import cross_val_score\n",
    "from sklearn.linear_model import LinearRegression\n",
    "from sklearn.linear_model import SGDRegressor\n",
    "from sklearn.linear_model import ElasticNet\n",
    "from sklearn.linear_model import Lasso\n",
    "from sklearn.svm import LinearSVR\n",
    "from sklearn.svm import NuSVR\n",
    "from sklearn.svm import SVR"
   ]
  },
  {
   "cell_type": "markdown",
   "id": "60b42f94-5063-4d69-b5a0-5f81c509d369",
   "metadata": {},
   "source": [
    "# Indroduction\n",
    "\n",
    "This project aims at predicting diamond price based on its features using regression models\n",
    "\n",
    "Diamonds data set available on kaggle (https://www.kaggle.com/enashed/diamond-prices)"
   ]
  },
  {
   "cell_type": "markdown",
   "id": "80c3dea1-65d3-4a73-9657-cfdba8cadab6",
   "metadata": {},
   "source": [
    "# Project Planning\n",
    "1. Data exploration\n",
    "2. Feature engineering\n",
    "3. Data preprocessing for model\n",
    "4. Basic model building\n",
    "5. Model Tuning\n",
    "6. Ensemble model building\n",
    "7. Results"
   ]
  },
  {
   "cell_type": "markdown",
   "id": "442091c1-c806-4287-840c-0f03f013db48",
   "metadata": {},
   "source": [
    "# Data Exploration"
   ]
  },
  {
   "cell_type": "code",
   "execution_count": 2,
   "id": "05ec4777-98a8-4c61-986f-2227c012b7dc",
   "metadata": {},
   "outputs": [],
   "source": [
    "data = pd.read_csv(\"./diamonds_project/diamonds.csv\")"
   ]
  },
  {
   "cell_type": "code",
   "execution_count": 3,
   "id": "c83c9704-3c6d-4af6-b801-44c6ec9c689b",
   "metadata": {},
   "outputs": [],
   "source": [
    "X = data[data.columns.difference(['total_sales_price'])]\n",
    "y = data[\"total_sales_price\"]\n",
    "X_train, X_test, y_train, y_test = train_test_split(X, y)"
   ]
  },
  {
   "cell_type": "code",
   "execution_count": 4,
   "id": "1938392f-56ba-46fb-8440-636e19080e9d",
   "metadata": {},
   "outputs": [
    {
     "data": {
      "text/html": [
       "<div>\n",
       "<style scoped>\n",
       "    .dataframe tbody tr th:only-of-type {\n",
       "        vertical-align: middle;\n",
       "    }\n",
       "\n",
       "    .dataframe tbody tr th {\n",
       "        vertical-align: top;\n",
       "    }\n",
       "\n",
       "    .dataframe thead th {\n",
       "        text-align: right;\n",
       "    }\n",
       "</style>\n",
       "<table border=\"1\" class=\"dataframe\">\n",
       "  <thead>\n",
       "    <tr style=\"text-align: right;\">\n",
       "      <th></th>\n",
       "      <th>clarity</th>\n",
       "      <th>color</th>\n",
       "      <th>culet_condition</th>\n",
       "      <th>culet_size</th>\n",
       "      <th>cut</th>\n",
       "      <th>date</th>\n",
       "      <th>depth_percent</th>\n",
       "      <th>diamond_id</th>\n",
       "      <th>eye_clean</th>\n",
       "      <th>fancy_color_dominant_color</th>\n",
       "      <th>...</th>\n",
       "      <th>girdle_min</th>\n",
       "      <th>lab</th>\n",
       "      <th>meas_depth</th>\n",
       "      <th>meas_length</th>\n",
       "      <th>meas_width</th>\n",
       "      <th>polish</th>\n",
       "      <th>shape</th>\n",
       "      <th>size</th>\n",
       "      <th>symmetry</th>\n",
       "      <th>table_percent</th>\n",
       "    </tr>\n",
       "  </thead>\n",
       "  <tbody>\n",
       "    <tr>\n",
       "      <th>50699</th>\n",
       "      <td>SI1</td>\n",
       "      <td>G</td>\n",
       "      <td>NaN</td>\n",
       "      <td>NaN</td>\n",
       "      <td>Excellent</td>\n",
       "      <td>2022-02-24</td>\n",
       "      <td>60.4</td>\n",
       "      <td>125891198</td>\n",
       "      <td>NaN</td>\n",
       "      <td>NaN</td>\n",
       "      <td>...</td>\n",
       "      <td>NaN</td>\n",
       "      <td>GIA</td>\n",
       "      <td>2.65</td>\n",
       "      <td>4.38</td>\n",
       "      <td>4.40</td>\n",
       "      <td>Excellent</td>\n",
       "      <td>Round</td>\n",
       "      <td>0.31</td>\n",
       "      <td>Excellent</td>\n",
       "      <td>60.0</td>\n",
       "    </tr>\n",
       "    <tr>\n",
       "      <th>122188</th>\n",
       "      <td>IF</td>\n",
       "      <td>E</td>\n",
       "      <td>NaN</td>\n",
       "      <td>N</td>\n",
       "      <td>NaN</td>\n",
       "      <td>2022-02-24</td>\n",
       "      <td>67.2</td>\n",
       "      <td>127927351</td>\n",
       "      <td>NaN</td>\n",
       "      <td>NaN</td>\n",
       "      <td>...</td>\n",
       "      <td>NaN</td>\n",
       "      <td>GIA</td>\n",
       "      <td>2.68</td>\n",
       "      <td>5.27</td>\n",
       "      <td>3.98</td>\n",
       "      <td>Very Good</td>\n",
       "      <td>Emerald</td>\n",
       "      <td>0.50</td>\n",
       "      <td>Excellent</td>\n",
       "      <td>69.0</td>\n",
       "    </tr>\n",
       "    <tr>\n",
       "      <th>95117</th>\n",
       "      <td>SI2</td>\n",
       "      <td>I</td>\n",
       "      <td>NaN</td>\n",
       "      <td>NaN</td>\n",
       "      <td>NaN</td>\n",
       "      <td>2022-02-24</td>\n",
       "      <td>63.0</td>\n",
       "      <td>123825339</td>\n",
       "      <td>NaN</td>\n",
       "      <td>NaN</td>\n",
       "      <td>...</td>\n",
       "      <td>NaN</td>\n",
       "      <td>GIA</td>\n",
       "      <td>2.81</td>\n",
       "      <td>6.70</td>\n",
       "      <td>4.46</td>\n",
       "      <td>Very Good</td>\n",
       "      <td>Pear</td>\n",
       "      <td>0.50</td>\n",
       "      <td>Very Good</td>\n",
       "      <td>59.0</td>\n",
       "    </tr>\n",
       "    <tr>\n",
       "      <th>28977</th>\n",
       "      <td>SI2</td>\n",
       "      <td>F</td>\n",
       "      <td>NaN</td>\n",
       "      <td>N</td>\n",
       "      <td>Excellent</td>\n",
       "      <td>2022-02-24</td>\n",
       "      <td>62.4</td>\n",
       "      <td>134719178</td>\n",
       "      <td>NaN</td>\n",
       "      <td>NaN</td>\n",
       "      <td>...</td>\n",
       "      <td>NaN</td>\n",
       "      <td>GIA</td>\n",
       "      <td>2.68</td>\n",
       "      <td>4.28</td>\n",
       "      <td>4.31</td>\n",
       "      <td>Excellent</td>\n",
       "      <td>Round</td>\n",
       "      <td>0.30</td>\n",
       "      <td>Excellent</td>\n",
       "      <td>56.0</td>\n",
       "    </tr>\n",
       "    <tr>\n",
       "      <th>122409</th>\n",
       "      <td>VS2</td>\n",
       "      <td>I</td>\n",
       "      <td>NaN</td>\n",
       "      <td>N</td>\n",
       "      <td>Very Good</td>\n",
       "      <td>2022-02-24</td>\n",
       "      <td>60.9</td>\n",
       "      <td>135756567</td>\n",
       "      <td>Yes</td>\n",
       "      <td>NaN</td>\n",
       "      <td>...</td>\n",
       "      <td>NaN</td>\n",
       "      <td>GIA</td>\n",
       "      <td>3.09</td>\n",
       "      <td>5.05</td>\n",
       "      <td>5.09</td>\n",
       "      <td>Excellent</td>\n",
       "      <td>Round</td>\n",
       "      <td>0.50</td>\n",
       "      <td>Very Good</td>\n",
       "      <td>62.0</td>\n",
       "    </tr>\n",
       "  </tbody>\n",
       "</table>\n",
       "<p>5 rows × 26 columns</p>\n",
       "</div>"
      ],
      "text/plain": [
       "       clarity color culet_condition culet_size        cut        date  \\\n",
       "50699      SI1     G             NaN        NaN  Excellent  2022-02-24   \n",
       "122188      IF     E             NaN          N        NaN  2022-02-24   \n",
       "95117      SI2     I             NaN        NaN        NaN  2022-02-24   \n",
       "28977      SI2     F             NaN          N  Excellent  2022-02-24   \n",
       "122409     VS2     I             NaN          N  Very Good  2022-02-24   \n",
       "\n",
       "        depth_percent  diamond_id eye_clean fancy_color_dominant_color  ...  \\\n",
       "50699            60.4   125891198       NaN                        NaN  ...   \n",
       "122188           67.2   127927351       NaN                        NaN  ...   \n",
       "95117            63.0   123825339       NaN                        NaN  ...   \n",
       "28977            62.4   134719178       NaN                        NaN  ...   \n",
       "122409           60.9   135756567       Yes                        NaN  ...   \n",
       "\n",
       "       girdle_min  lab meas_depth meas_length meas_width     polish    shape  \\\n",
       "50699         NaN  GIA       2.65        4.38       4.40  Excellent    Round   \n",
       "122188        NaN  GIA       2.68        5.27       3.98  Very Good  Emerald   \n",
       "95117         NaN  GIA       2.81        6.70       4.46  Very Good     Pear   \n",
       "28977         NaN  GIA       2.68        4.28       4.31  Excellent    Round   \n",
       "122409        NaN  GIA       3.09        5.05       5.09  Excellent    Round   \n",
       "\n",
       "        size   symmetry  table_percent  \n",
       "50699   0.31  Excellent           60.0  \n",
       "122188  0.50  Excellent           69.0  \n",
       "95117   0.50  Very Good           59.0  \n",
       "28977   0.30  Excellent           56.0  \n",
       "122409  0.50  Very Good           62.0  \n",
       "\n",
       "[5 rows x 26 columns]"
      ]
     },
     "execution_count": 4,
     "metadata": {},
     "output_type": "execute_result"
    }
   ],
   "source": [
    "X_train.head()"
   ]
  },
  {
   "cell_type": "code",
   "execution_count": 5,
   "id": "03b06da0-3337-44d7-a5eb-4e0961dcd024",
   "metadata": {},
   "outputs": [
    {
     "data": {
      "text/plain": [
       "50699      926\n",
       "122188    2470\n",
       "95117     1430\n",
       "28977      802\n",
       "122409    2478\n",
       "Name: total_sales_price, dtype: int64"
      ]
     },
     "execution_count": 5,
     "metadata": {},
     "output_type": "execute_result"
    }
   ],
   "source": [
    "y_train.head()"
   ]
  },
  {
   "cell_type": "code",
   "execution_count": 6,
   "id": "c101649d-5c36-4f54-99dd-70c6755307e2",
   "metadata": {},
   "outputs": [
    {
     "data": {
      "text/plain": [
       "clarity                         object\n",
       "color                           object\n",
       "culet_condition                 object\n",
       "culet_size                      object\n",
       "cut                             object\n",
       "date                            object\n",
       "depth_percent                  float64\n",
       "diamond_id                       int64\n",
       "eye_clean                       object\n",
       "fancy_color_dominant_color      object\n",
       "fancy_color_intensity           object\n",
       "fancy_color_overtone            object\n",
       "fancy_color_secondary_color     object\n",
       "fluor_color                     object\n",
       "fluor_intensity                 object\n",
       "girdle_max                      object\n",
       "girdle_min                      object\n",
       "lab                             object\n",
       "meas_depth                     float64\n",
       "meas_length                    float64\n",
       "meas_width                     float64\n",
       "polish                          object\n",
       "shape                           object\n",
       "size                           float64\n",
       "symmetry                        object\n",
       "table_percent                  float64\n",
       "dtype: object"
      ]
     },
     "execution_count": 6,
     "metadata": {},
     "output_type": "execute_result"
    }
   ],
   "source": [
    "X_train.dtypes"
   ]
  },
  {
   "cell_type": "code",
   "execution_count": 7,
   "id": "95265044-51ba-47df-a6c9-47bbf2ebd53d",
   "metadata": {},
   "outputs": [
    {
     "data": {
      "text/plain": [
       "(164778, 26)"
      ]
     },
     "execution_count": 7,
     "metadata": {},
     "output_type": "execute_result"
    }
   ],
   "source": [
    "X_train.shape"
   ]
  },
  {
   "cell_type": "code",
   "execution_count": 8,
   "id": "93598b3c-05dd-47e7-aaf0-d9fdc8c1d38d",
   "metadata": {},
   "outputs": [
    {
     "data": {
      "text/plain": [
       "Index(['clarity', 'color', 'culet_condition', 'culet_size', 'cut', 'date',\n",
       "       'depth_percent', 'diamond_id', 'eye_clean',\n",
       "       'fancy_color_dominant_color', 'fancy_color_intensity',\n",
       "       'fancy_color_overtone', 'fancy_color_secondary_color', 'fluor_color',\n",
       "       'fluor_intensity', 'girdle_max', 'girdle_min', 'lab', 'meas_depth',\n",
       "       'meas_length', 'meas_width', 'polish', 'shape', 'size', 'symmetry',\n",
       "       'table_percent'],\n",
       "      dtype='object')"
      ]
     },
     "execution_count": 8,
     "metadata": {},
     "output_type": "execute_result"
    }
   ],
   "source": [
    "X_train.columns"
   ]
  },
  {
   "cell_type": "code",
   "execution_count": 9,
   "id": "27458783-1626-4ac7-8809-234e14024298",
   "metadata": {},
   "outputs": [
    {
     "name": "stdout",
     "output_type": "stream",
     "text": [
      "<class 'pandas.core.frame.DataFrame'>\n",
      "Int64Index: 164778 entries, 50699 to 47494\n",
      "Data columns (total 26 columns):\n",
      " #   Column                       Non-Null Count   Dtype  \n",
      "---  ------                       --------------   -----  \n",
      " 0   clarity                      164778 non-null  object \n",
      " 1   color                        157905 non-null  object \n",
      " 2   culet_condition              11566 non-null   object \n",
      " 3   culet_size                   100440 non-null  object \n",
      " 4   cut                          119587 non-null  object \n",
      " 5   date                         164778 non-null  object \n",
      " 6   depth_percent                164778 non-null  float64\n",
      " 7   diamond_id                   164778 non-null  int64  \n",
      " 8   eye_clean                    47070 non-null   object \n",
      " 9   fancy_color_dominant_color   6875 non-null    object \n",
      " 10  fancy_color_intensity        6873 non-null    object \n",
      " 11  fancy_color_overtone         1496 non-null    object \n",
      " 12  fancy_color_secondary_color  801 non-null     object \n",
      " 13  fluor_color                  11741 non-null   object \n",
      " 14  fluor_intensity              164685 non-null  object \n",
      " 15  girdle_max                   101620 non-null  object \n",
      " 16  girdle_min                   102286 non-null  object \n",
      " 17  lab                          164778 non-null  object \n",
      " 18  meas_depth                   164778 non-null  float64\n",
      " 19  meas_length                  164778 non-null  float64\n",
      " 20  meas_width                   164778 non-null  float64\n",
      " 21  polish                       164778 non-null  object \n",
      " 22  shape                        164778 non-null  object \n",
      " 23  size                         164778 non-null  float64\n",
      " 24  symmetry                     164778 non-null  object \n",
      " 25  table_percent                164778 non-null  float64\n",
      "dtypes: float64(6), int64(1), object(19)\n",
      "memory usage: 33.9+ MB\n"
     ]
    }
   ],
   "source": [
    "X_train.info()"
   ]
  },
  {
   "cell_type": "code",
   "execution_count": 10,
   "id": "f593e71a-0b1f-40c2-bbbe-3128b4f0ef2f",
   "metadata": {},
   "outputs": [
    {
     "data": {
      "text/plain": [
       "clarity                         0.000000\n",
       "color                           4.171067\n",
       "culet_condition                92.980859\n",
       "culet_size                     39.045261\n",
       "cut                            27.425384\n",
       "date                            0.000000\n",
       "depth_percent                   0.000000\n",
       "diamond_id                      0.000000\n",
       "eye_clean                      71.434293\n",
       "fancy_color_dominant_color     95.827720\n",
       "fancy_color_intensity          95.828933\n",
       "fancy_color_overtone           99.092112\n",
       "fancy_color_secondary_color    99.513891\n",
       "fluor_color                    92.874656\n",
       "fluor_intensity                 0.056440\n",
       "girdle_max                     38.329146\n",
       "girdle_min                     37.924966\n",
       "lab                             0.000000\n",
       "meas_depth                      0.000000\n",
       "meas_length                     0.000000\n",
       "meas_width                      0.000000\n",
       "polish                          0.000000\n",
       "shape                           0.000000\n",
       "size                            0.000000\n",
       "symmetry                        0.000000\n",
       "table_percent                   0.000000\n",
       "dtype: float64"
      ]
     },
     "execution_count": 10,
     "metadata": {},
     "output_type": "execute_result"
    }
   ],
   "source": [
    "X_train.isnull().sum() / X_train.shape[0] * 100"
   ]
  },
  {
   "cell_type": "code",
   "execution_count": 11,
   "id": "bd48e1c0-3c07-4095-8243-0f16a5d5ec61",
   "metadata": {},
   "outputs": [],
   "source": [
    "nb_columns = ['size', 'depth_percent', 'table_percent', 'meas_length', 'meas_width', 'meas_depth', 'total_sales_price']"
   ]
  },
  {
   "cell_type": "code",
   "execution_count": 12,
   "id": "3971c217-a576-4a8a-9c29-8fdb6a43c7e7",
   "metadata": {},
   "outputs": [],
   "source": [
    "cat_columns = ['shape', 'color', 'clarity', 'symmetry', 'polish',  'fluor_intensity', 'lab']"
   ]
  },
  {
   "cell_type": "code",
   "execution_count": 13,
   "id": "bdfeed72-d677-46f7-81a3-5e90ef7ce471",
   "metadata": {},
   "outputs": [
    {
     "data": {
      "text/html": [
       "<div>\n",
       "<style scoped>\n",
       "    .dataframe tbody tr th:only-of-type {\n",
       "        vertical-align: middle;\n",
       "    }\n",
       "\n",
       "    .dataframe tbody tr th {\n",
       "        vertical-align: top;\n",
       "    }\n",
       "\n",
       "    .dataframe thead th {\n",
       "        text-align: right;\n",
       "    }\n",
       "</style>\n",
       "<table border=\"1\" class=\"dataframe\">\n",
       "  <thead>\n",
       "    <tr style=\"text-align: right;\">\n",
       "      <th></th>\n",
       "      <th>depth_percent</th>\n",
       "      <th>diamond_id</th>\n",
       "      <th>meas_depth</th>\n",
       "      <th>meas_length</th>\n",
       "      <th>meas_width</th>\n",
       "      <th>size</th>\n",
       "      <th>table_percent</th>\n",
       "    </tr>\n",
       "  </thead>\n",
       "  <tbody>\n",
       "    <tr>\n",
       "      <th>count</th>\n",
       "      <td>164778.000000</td>\n",
       "      <td>1.647780e+05</td>\n",
       "      <td>164778.000000</td>\n",
       "      <td>164778.000000</td>\n",
       "      <td>164778.000000</td>\n",
       "      <td>164778.000000</td>\n",
       "      <td>164778.000000</td>\n",
       "    </tr>\n",
       "    <tr>\n",
       "      <th>mean</th>\n",
       "      <td>61.678830</td>\n",
       "      <td>1.281255e+08</td>\n",
       "      <td>3.284296</td>\n",
       "      <td>5.547437</td>\n",
       "      <td>5.137540</td>\n",
       "      <td>0.755627</td>\n",
       "      <td>57.760393</td>\n",
       "    </tr>\n",
       "    <tr>\n",
       "      <th>std</th>\n",
       "      <td>9.911223</td>\n",
       "      <td>1.320152e+07</td>\n",
       "      <td>2.022666</td>\n",
       "      <td>1.768683</td>\n",
       "      <td>1.380228</td>\n",
       "      <td>0.852116</td>\n",
       "      <td>9.918547</td>\n",
       "    </tr>\n",
       "    <tr>\n",
       "      <th>min</th>\n",
       "      <td>0.000000</td>\n",
       "      <td>9.666855e+06</td>\n",
       "      <td>0.000000</td>\n",
       "      <td>0.000000</td>\n",
       "      <td>0.000000</td>\n",
       "      <td>0.080000</td>\n",
       "      <td>0.000000</td>\n",
       "    </tr>\n",
       "    <tr>\n",
       "      <th>25%</th>\n",
       "      <td>61.200000</td>\n",
       "      <td>1.275645e+08</td>\n",
       "      <td>2.680000</td>\n",
       "      <td>4.350000</td>\n",
       "      <td>4.310000</td>\n",
       "      <td>0.310000</td>\n",
       "      <td>57.000000</td>\n",
       "    </tr>\n",
       "    <tr>\n",
       "      <th>50%</th>\n",
       "      <td>62.400000</td>\n",
       "      <td>1.326199e+08</td>\n",
       "      <td>3.030000</td>\n",
       "      <td>5.060000</td>\n",
       "      <td>4.800000</td>\n",
       "      <td>0.500000</td>\n",
       "      <td>58.000000</td>\n",
       "    </tr>\n",
       "    <tr>\n",
       "      <th>75%</th>\n",
       "      <td>63.500000</td>\n",
       "      <td>1.348525e+08</td>\n",
       "      <td>3.640000</td>\n",
       "      <td>6.350000</td>\n",
       "      <td>5.700000</td>\n",
       "      <td>1.000000</td>\n",
       "      <td>60.000000</td>\n",
       "    </tr>\n",
       "    <tr>\n",
       "      <th>max</th>\n",
       "      <td>98.700000</td>\n",
       "      <td>1.361475e+08</td>\n",
       "      <td>76.300000</td>\n",
       "      <td>93.660000</td>\n",
       "      <td>62.300000</td>\n",
       "      <td>19.350000</td>\n",
       "      <td>89.000000</td>\n",
       "    </tr>\n",
       "  </tbody>\n",
       "</table>\n",
       "</div>"
      ],
      "text/plain": [
       "       depth_percent    diamond_id     meas_depth    meas_length  \\\n",
       "count  164778.000000  1.647780e+05  164778.000000  164778.000000   \n",
       "mean       61.678830  1.281255e+08       3.284296       5.547437   \n",
       "std         9.911223  1.320152e+07       2.022666       1.768683   \n",
       "min         0.000000  9.666855e+06       0.000000       0.000000   \n",
       "25%        61.200000  1.275645e+08       2.680000       4.350000   \n",
       "50%        62.400000  1.326199e+08       3.030000       5.060000   \n",
       "75%        63.500000  1.348525e+08       3.640000       6.350000   \n",
       "max        98.700000  1.361475e+08      76.300000      93.660000   \n",
       "\n",
       "          meas_width           size  table_percent  \n",
       "count  164778.000000  164778.000000  164778.000000  \n",
       "mean        5.137540       0.755627      57.760393  \n",
       "std         1.380228       0.852116       9.918547  \n",
       "min         0.000000       0.080000       0.000000  \n",
       "25%         4.310000       0.310000      57.000000  \n",
       "50%         4.800000       0.500000      58.000000  \n",
       "75%         5.700000       1.000000      60.000000  \n",
       "max        62.300000      19.350000      89.000000  "
      ]
     },
     "execution_count": 13,
     "metadata": {},
     "output_type": "execute_result"
    }
   ],
   "source": [
    "X_train.describe()"
   ]
  },
  {
   "cell_type": "code",
   "execution_count": 14,
   "id": "eb99c2d5-fa7a-4fc6-ba7d-840b7deded80",
   "metadata": {},
   "outputs": [
    {
     "data": {
      "text/plain": [
       "array(['G', 'E', 'I', 'F', 'D', 'H', 'K', nan, 'L', 'J', 'M'],\n",
       "      dtype=object)"
      ]
     },
     "execution_count": 14,
     "metadata": {},
     "output_type": "execute_result"
    }
   ],
   "source": [
    "X_train.color.unique()"
   ]
  },
  {
   "cell_type": "code",
   "execution_count": 15,
   "id": "0ee9548d-5bad-4bcf-9b31-1f72a8ee07ba",
   "metadata": {},
   "outputs": [
    {
     "data": {
      "text/plain": [
       "array(['Round', 'Emerald', 'Pear', 'Princess', 'Oval', 'Asscher',\n",
       "       'Cushion Modified', 'Heart', 'Radiant', 'Marquise', 'Cushion'],\n",
       "      dtype=object)"
      ]
     },
     "execution_count": 15,
     "metadata": {},
     "output_type": "execute_result"
    }
   ],
   "source": [
    "X_train['shape'].unique()"
   ]
  },
  {
   "cell_type": "code",
   "execution_count": 16,
   "id": "04e575b3-b53e-4389-8f50-a573d57cbe5f",
   "metadata": {},
   "outputs": [
    {
     "name": "stderr",
     "output_type": "stream",
     "text": [
      "/usr/local/lib/python3.8/dist-packages/seaborn/_decorators.py:36: FutureWarning: Pass the following variables as keyword args: x, y. From version 0.12, the only valid positional argument will be `data`, and passing other arguments without an explicit keyword will result in an error or misinterpretation.\n",
      "  warnings.warn(\n"
     ]
    },
    {
     "data": {
      "image/png": "[encoded data removed]",
      "text/plain": [
       "<Figure size 432x288 with 1 Axes>"
      ]
     },
     "metadata": {
      "needs_background": "light"
     },
     "output_type": "display_data"
    },
    {
     "name": "stderr",
     "output_type": "stream",
     "text": [
      "/usr/local/lib/python3.8/dist-packages/seaborn/_decorators.py:36: FutureWarning: Pass the following variables as keyword args: x, y. From version 0.12, the only valid positional argument will be `data`, and passing other arguments without an explicit keyword will result in an error or misinterpretation.\n",
      "  warnings.warn(\n"
     ]
    },
    {
     "data": {
      "image/png": "[encoded data removed]",
      "text/plain": [
       "<Figure size 432x288 with 1 Axes>"
      ]
     },
     "metadata": {
      "needs_background": "light"
     },
     "output_type": "display_data"
    },
    {
     "name": "stderr",
     "output_type": "stream",
     "text": [
      "/usr/local/lib/python3.8/dist-packages/seaborn/_decorators.py:36: FutureWarning: Pass the following variables as keyword args: x, y. From version 0.12, the only valid positional argument will be `data`, and passing other arguments without an explicit keyword will result in an error or misinterpretation.\n",
      "  warnings.warn(\n"
     ]
    },
    {
     "data": {
      "image/png": "[encoded data removed]",
      "text/plain": [
       "<Figure size 432x288 with 1 Axes>"
      ]
     },
     "metadata": {
      "needs_background": "light"
     },
     "output_type": "display_data"
    },
    {
     "name": "stderr",
     "output_type": "stream",
     "text": [
      "/usr/local/lib/python3.8/dist-packages/seaborn/_decorators.py:36: FutureWarning: Pass the following variables as keyword args: x, y. From version 0.12, the only valid positional argument will be `data`, and passing other arguments without an explicit keyword will result in an error or misinterpretation.\n",
      "  warnings.warn(\n"
     ]
    },
    {
     "data": {
      "image/png": "[encoded data removed]",
      "text/plain": [
       "<Figure size 432x288 with 1 Axes>"
      ]
     },
     "metadata": {
      "needs_background": "light"
     },
     "output_type": "display_data"
    },
    {
     "name": "stderr",
     "output_type": "stream",
     "text": [
      "/usr/local/lib/python3.8/dist-packages/seaborn/_decorators.py:36: FutureWarning: Pass the following variables as keyword args: x, y. From version 0.12, the only valid positional argument will be `data`, and passing other arguments without an explicit keyword will result in an error or misinterpretation.\n",
      "  warnings.warn(\n"
     ]
    },
    {
     "data": {
      "image/png": "[encoded data removed]",
      "text/plain": [
       "<Figure size 432x288 with 1 Axes>"
      ]
     },
     "metadata": {
      "needs_background": "light"
     },
     "output_type": "display_data"
    },
    {
     "name": "stderr",
     "output_type": "stream",
     "text": [
      "/usr/local/lib/python3.8/dist-packages/seaborn/_decorators.py:36: FutureWarning: Pass the following variables as keyword args: x, y. From version 0.12, the only valid positional argument will be `data`, and passing other arguments without an explicit keyword will result in an error or misinterpretation.\n",
      "  warnings.warn(\n"
     ]
    },
    {
     "data": {
      "image/png": "[encoded data removed]",
      "text/plain": [
       "<Figure size 432x288 with 1 Axes>"
      ]
     },
     "metadata": {
      "needs_background": "light"
     },
     "output_type": "display_data"
    },
    {
     "name": "stderr",
     "output_type": "stream",
     "text": [
      "/usr/local/lib/python3.8/dist-packages/seaborn/_decorators.py:36: FutureWarning: Pass the following variables as keyword args: x, y. From version 0.12, the only valid positional argument will be `data`, and passing other arguments without an explicit keyword will result in an error or misinterpretation.\n",
      "  warnings.warn(\n"
     ]
    },
    {
     "data": {
      "image/png": "[encoded data removed]",
      "text/plain": [
       "<Figure size 432x288 with 1 Axes>"
      ]
     },
     "metadata": {
      "needs_background": "light"
     },
     "output_type": "display_data"
    }
   ],
   "source": [
    "for name in cat_columns:\n",
    "    sbn.barplot(X_train[name].value_counts().index, X_train[name].value_counts()).set_title(name)\n",
    "    plt.show()"
   ]
  },
  {
   "cell_type": "code",
   "execution_count": 17,
   "id": "b84806c5-3c07-4bda-8d79-9626d4641b85",
   "metadata": {},
   "outputs": [
    {
     "data": {
      "text/plain": [
       "clarity\n",
       "I1       5822.908987\n",
       "I2       4310.971950\n",
       "I3       4500.614286\n",
       "IF      10629.367667\n",
       "SI1      6505.400063\n",
       "SI2      6623.938278\n",
       "SI3       370.571429\n",
       "VS1      7646.686438\n",
       "VS2      7564.368467\n",
       "VVS1     5698.149395\n",
       "VVS2     6489.116252\n",
       "Name: total_sales_price, dtype: float64"
      ]
     },
     "execution_count": 17,
     "metadata": {},
     "output_type": "execute_result"
    }
   ],
   "source": [
    "full_training_set = X_train.copy()\n",
    "full_training_set[\"total_sales_price\"] = y_train.copy()\n",
    "\n",
    "full_training_set.groupby([\"clarity\"])['total_sales_price'].mean()"
   ]
  },
  {
   "cell_type": "code",
   "execution_count": 18,
   "id": "ea213a85-a2a8-4d8d-a68b-ca2cbd3ff87f",
   "metadata": {},
   "outputs": [
    {
     "data": {
      "text/plain": [
       "color\n",
       "D    6195.261941\n",
       "E    5389.314523\n",
       "F    5710.203863\n",
       "G    7170.551456\n",
       "H    7588.051631\n",
       "I    6788.414102\n",
       "J    6442.611364\n",
       "K    6371.979521\n",
       "L    6078.252775\n",
       "M    6211.725567\n",
       "Name: total_sales_price, dtype: float64"
      ]
     },
     "execution_count": 18,
     "metadata": {},
     "output_type": "execute_result"
    }
   ],
   "source": [
    "full_training_set.groupby([\"color\"])['total_sales_price'].mean()"
   ]
  },
  {
   "cell_type": "markdown",
   "id": "2910d49c-d073-415f-a2f3-37304537cce5",
   "metadata": {},
   "source": [
    "*color values are coded E been nearly colorless to M been Light Yellow color*\n",
    "\n",
    "Refer to the link for more info https://australiandiamondimporters.com.au/colour/"
   ]
  },
  {
   "cell_type": "code",
   "execution_count": 19,
   "id": "e967248c-5d45-4485-84dc-d98efc4772e5",
   "metadata": {},
   "outputs": [
    {
     "data": {
      "text/plain": [
       "array(['2022-02-24'], dtype=object)"
      ]
     },
     "execution_count": 19,
     "metadata": {},
     "output_type": "execute_result"
    }
   ],
   "source": [
    "full_training_set['date'].unique()"
   ]
  },
  {
   "cell_type": "code",
   "execution_count": 20,
   "id": "48b5f8b9-4ca6-4883-82ba-0b825add7b77",
   "metadata": {},
   "outputs": [
    {
     "data": {
      "image/png": "[encoded data removed]",
      "text/plain": [
       "<Figure size 432x288 with 1 Axes>"
      ]
     },
     "metadata": {
      "needs_background": "light"
     },
     "output_type": "display_data"
    },
    {
     "data": {
      "image/png": "[encoded data removed]",
      "text/plain": [
       "<Figure size 432x288 with 1 Axes>"
      ]
     },
     "metadata": {
      "needs_background": "light"
     },
     "output_type": "display_data"
    },
    {
     "data": {
      "image/png": "[encoded data removed]",
      "text/plain": [
       "<Figure size 432x288 with 1 Axes>"
      ]
     },
     "metadata": {
      "needs_background": "light"
     },
     "output_type": "display_data"
    },
    {
     "data": {
      "image/png": "[encoded data removed]",
      "text/plain": [
       "<Figure size 432x288 with 1 Axes>"
      ]
     },
     "metadata": {
      "needs_background": "light"
     },
     "output_type": "display_data"
    },
    {
     "data": {
      "image/png": "[encoded data removed]",
      "text/plain": [
       "<Figure size 432x288 with 1 Axes>"
      ]
     },
     "metadata": {
      "needs_background": "light"
     },
     "output_type": "display_data"
    },
    {
     "data": {
      "image/png": "[encoded data removed]",
      "text/plain": [
       "<Figure size 432x288 with 1 Axes>"
      ]
     },
     "metadata": {
      "needs_background": "light"
     },
     "output_type": "display_data"
    },
    {
     "data": {
      "image/png": "[encoded data removed]",
      "text/plain": [
       "<Figure size 432x288 with 1 Axes>"
      ]
     },
     "metadata": {
      "needs_background": "light"
     },
     "output_type": "display_data"
    }
   ],
   "source": [
    "for name in nb_columns:\n",
    "    plt.hist(full_training_set[name])\n",
    "    plt.title(name)\n",
    "    plt.show()"
   ]
  },
  {
   "cell_type": "code",
   "execution_count": 21,
   "id": "5ca6f558-0b43-4b27-abe2-fae764ac98bb",
   "metadata": {},
   "outputs": [
    {
     "name": "stdout",
     "output_type": "stream",
     "text": [
      "                       size  depth_percent  table_percent  meas_length  \\\n",
      "size               1.000000       0.062017       0.091773     0.779636   \n",
      "depth_percent      0.062017       1.000000       0.669732     0.128176   \n",
      "table_percent      0.091773       0.669732       1.000000     0.165657   \n",
      "meas_length        0.779636       0.128176       0.165657     1.000000   \n",
      "meas_width         0.785365       0.118365       0.140887     0.786358   \n",
      "meas_depth         0.355965       0.086761       0.084108     0.347606   \n",
      "total_sales_price  0.749895       0.024979       0.044389     0.490102   \n",
      "\n",
      "                   meas_width  meas_depth  total_sales_price  \n",
      "size                 0.785365    0.355965           0.749895  \n",
      "depth_percent        0.118365    0.086761           0.024979  \n",
      "table_percent        0.140887    0.084108           0.044389  \n",
      "meas_length          0.786358    0.347606           0.490102  \n",
      "meas_width           1.000000    0.418128           0.505597  \n",
      "meas_depth           0.418128    1.000000           0.219924  \n",
      "total_sales_price    0.505597    0.219924           1.000000  \n"
     ]
    },
    {
     "data": {
      "text/plain": [
       "<AxesSubplot:>"
      ]
     },
     "execution_count": 21,
     "metadata": {},
     "output_type": "execute_result"
    },
    {
     "data": {
      "image/png": "[encoded data removed]",
      "text/plain": [
       "<Figure size 432x288 with 2 Axes>"
      ]
     },
     "metadata": {
      "needs_background": "light"
     },
     "output_type": "display_data"
    }
   ],
   "source": [
    "corr = full_training_set[nb_columns].corr()\n",
    "print(corr)\n",
    "sbn.heatmap(corr)"
   ]
  },
  {
   "cell_type": "code",
   "execution_count": 22,
   "id": "8eefa40d-0a9d-4b47-bb44-9d1a4380da68",
   "metadata": {},
   "outputs": [
    {
     "data": {
      "text/html": [
       "<div>\n",
       "<style scoped>\n",
       "    .dataframe tbody tr th:only-of-type {\n",
       "        vertical-align: middle;\n",
       "    }\n",
       "\n",
       "    .dataframe tbody tr th {\n",
       "        vertical-align: top;\n",
       "    }\n",
       "\n",
       "    .dataframe thead th {\n",
       "        text-align: right;\n",
       "    }\n",
       "</style>\n",
       "<table border=\"1\" class=\"dataframe\">\n",
       "  <thead>\n",
       "    <tr style=\"text-align: right;\">\n",
       "      <th></th>\n",
       "      <th>depth_percent</th>\n",
       "      <th>meas_depth</th>\n",
       "      <th>meas_length</th>\n",
       "      <th>size</th>\n",
       "      <th>table_percent</th>\n",
       "      <th>total_sales_price</th>\n",
       "    </tr>\n",
       "    <tr>\n",
       "      <th>color</th>\n",
       "      <th></th>\n",
       "      <th></th>\n",
       "      <th></th>\n",
       "      <th></th>\n",
       "      <th></th>\n",
       "      <th></th>\n",
       "    </tr>\n",
       "  </thead>\n",
       "  <tbody>\n",
       "    <tr>\n",
       "      <th>D</th>\n",
       "      <td>61.197640</td>\n",
       "      <td>3.092392</td>\n",
       "      <td>5.289234</td>\n",
       "      <td>0.600367</td>\n",
       "      <td>57.745990</td>\n",
       "      <td>6195.261941</td>\n",
       "    </tr>\n",
       "    <tr>\n",
       "      <th>E</th>\n",
       "      <td>61.544754</td>\n",
       "      <td>3.037530</td>\n",
       "      <td>5.123487</td>\n",
       "      <td>0.574536</td>\n",
       "      <td>57.763963</td>\n",
       "      <td>5389.314523</td>\n",
       "    </tr>\n",
       "    <tr>\n",
       "      <th>F</th>\n",
       "      <td>61.805523</td>\n",
       "      <td>3.111469</td>\n",
       "      <td>5.241354</td>\n",
       "      <td>0.621373</td>\n",
       "      <td>58.071033</td>\n",
       "      <td>5710.203863</td>\n",
       "    </tr>\n",
       "    <tr>\n",
       "      <th>G</th>\n",
       "      <td>61.824231</td>\n",
       "      <td>3.319616</td>\n",
       "      <td>5.549306</td>\n",
       "      <td>0.740828</td>\n",
       "      <td>57.865466</td>\n",
       "      <td>7170.551456</td>\n",
       "    </tr>\n",
       "    <tr>\n",
       "      <th>H</th>\n",
       "      <td>61.627288</td>\n",
       "      <td>3.418405</td>\n",
       "      <td>5.689564</td>\n",
       "      <td>0.809423</td>\n",
       "      <td>57.919779</td>\n",
       "      <td>7588.051631</td>\n",
       "    </tr>\n",
       "    <tr>\n",
       "      <th>I</th>\n",
       "      <td>61.569542</td>\n",
       "      <td>3.429975</td>\n",
       "      <td>5.740053</td>\n",
       "      <td>0.831267</td>\n",
       "      <td>57.727992</td>\n",
       "      <td>6788.414102</td>\n",
       "    </tr>\n",
       "    <tr>\n",
       "      <th>J</th>\n",
       "      <td>61.756248</td>\n",
       "      <td>3.492361</td>\n",
       "      <td>5.896071</td>\n",
       "      <td>0.898350</td>\n",
       "      <td>57.838585</td>\n",
       "      <td>6442.611364</td>\n",
       "    </tr>\n",
       "    <tr>\n",
       "      <th>K</th>\n",
       "      <td>61.942410</td>\n",
       "      <td>3.504421</td>\n",
       "      <td>5.924769</td>\n",
       "      <td>0.944570</td>\n",
       "      <td>57.701574</td>\n",
       "      <td>6371.979521</td>\n",
       "    </tr>\n",
       "    <tr>\n",
       "      <th>L</th>\n",
       "      <td>61.655204</td>\n",
       "      <td>3.594410</td>\n",
       "      <td>6.061522</td>\n",
       "      <td>1.028131</td>\n",
       "      <td>57.452444</td>\n",
       "      <td>6078.252775</td>\n",
       "    </tr>\n",
       "    <tr>\n",
       "      <th>M</th>\n",
       "      <td>60.956501</td>\n",
       "      <td>3.731819</td>\n",
       "      <td>6.262304</td>\n",
       "      <td>1.143543</td>\n",
       "      <td>56.783429</td>\n",
       "      <td>6211.725567</td>\n",
       "    </tr>\n",
       "  </tbody>\n",
       "</table>\n",
       "</div>"
      ],
      "text/plain": [
       "       depth_percent  meas_depth  meas_length      size  table_percent  \\\n",
       "color                                                                    \n",
       "D          61.197640    3.092392     5.289234  0.600367      57.745990   \n",
       "E          61.544754    3.037530     5.123487  0.574536      57.763963   \n",
       "F          61.805523    3.111469     5.241354  0.621373      58.071033   \n",
       "G          61.824231    3.319616     5.549306  0.740828      57.865466   \n",
       "H          61.627288    3.418405     5.689564  0.809423      57.919779   \n",
       "I          61.569542    3.429975     5.740053  0.831267      57.727992   \n",
       "J          61.756248    3.492361     5.896071  0.898350      57.838585   \n",
       "K          61.942410    3.504421     5.924769  0.944570      57.701574   \n",
       "L          61.655204    3.594410     6.061522  1.028131      57.452444   \n",
       "M          60.956501    3.731819     6.262304  1.143543      56.783429   \n",
       "\n",
       "       total_sales_price  \n",
       "color                     \n",
       "D            6195.261941  \n",
       "E            5389.314523  \n",
       "F            5710.203863  \n",
       "G            7170.551456  \n",
       "H            7588.051631  \n",
       "I            6788.414102  \n",
       "J            6442.611364  \n",
       "K            6371.979521  \n",
       "L            6078.252775  \n",
       "M            6211.725567  "
      ]
     },
     "execution_count": 22,
     "metadata": {},
     "output_type": "execute_result"
    }
   ],
   "source": [
    "pd.pivot_table(full_training_set, index=\"color\", values=[\"size\", \"depth_percent\", \"table_percent\", \"meas_length\", \"meas_depth\", \"total_sales_price\"])"
   ]
  },
  {
   "cell_type": "code",
   "execution_count": 23,
   "id": "536d00fc-126b-4b87-a087-e1c808c9e0be",
   "metadata": {},
   "outputs": [
    {
     "data": {
      "text/html": [
       "<div>\n",
       "<style scoped>\n",
       "    .dataframe tbody tr th:only-of-type {\n",
       "        vertical-align: middle;\n",
       "    }\n",
       "\n",
       "    .dataframe tbody tr th {\n",
       "        vertical-align: top;\n",
       "    }\n",
       "\n",
       "    .dataframe thead th {\n",
       "        text-align: right;\n",
       "    }\n",
       "</style>\n",
       "<table border=\"1\" class=\"dataframe\">\n",
       "  <thead>\n",
       "    <tr style=\"text-align: right;\">\n",
       "      <th></th>\n",
       "      <th>depth_percent</th>\n",
       "      <th>meas_depth</th>\n",
       "      <th>meas_length</th>\n",
       "      <th>size</th>\n",
       "      <th>table_percent</th>\n",
       "      <th>total_sales_price</th>\n",
       "    </tr>\n",
       "    <tr>\n",
       "      <th>cut</th>\n",
       "      <th></th>\n",
       "      <th></th>\n",
       "      <th></th>\n",
       "      <th></th>\n",
       "      <th></th>\n",
       "      <th></th>\n",
       "    </tr>\n",
       "  </thead>\n",
       "  <tbody>\n",
       "    <tr>\n",
       "      <th>Excellent</th>\n",
       "      <td>60.696981</td>\n",
       "      <td>3.202940</td>\n",
       "      <td>5.098795</td>\n",
       "      <td>0.624604</td>\n",
       "      <td>56.504449</td>\n",
       "      <td>5420.432771</td>\n",
       "    </tr>\n",
       "    <tr>\n",
       "      <th>Fair</th>\n",
       "      <td>62.775000</td>\n",
       "      <td>3.752500</td>\n",
       "      <td>5.955000</td>\n",
       "      <td>0.925000</td>\n",
       "      <td>61.125000</td>\n",
       "      <td>3188.000000</td>\n",
       "    </tr>\n",
       "    <tr>\n",
       "      <th>Good</th>\n",
       "      <td>62.959091</td>\n",
       "      <td>4.103636</td>\n",
       "      <td>7.615455</td>\n",
       "      <td>1.490455</td>\n",
       "      <td>59.136364</td>\n",
       "      <td>9201.136364</td>\n",
       "    </tr>\n",
       "    <tr>\n",
       "      <th>Ideal</th>\n",
       "      <td>69.800000</td>\n",
       "      <td>3.330000</td>\n",
       "      <td>6.250000</td>\n",
       "      <td>0.900000</td>\n",
       "      <td>64.000000</td>\n",
       "      <td>3767.000000</td>\n",
       "    </tr>\n",
       "    <tr>\n",
       "      <th>Very Good</th>\n",
       "      <td>60.787387</td>\n",
       "      <td>3.262108</td>\n",
       "      <td>5.070165</td>\n",
       "      <td>0.623444</td>\n",
       "      <td>56.295971</td>\n",
       "      <td>4045.114817</td>\n",
       "    </tr>\n",
       "  </tbody>\n",
       "</table>\n",
       "</div>"
      ],
      "text/plain": [
       "           depth_percent  meas_depth  meas_length      size  table_percent  \\\n",
       "cut                                                                          \n",
       "Excellent      60.696981    3.202940     5.098795  0.624604      56.504449   \n",
       "Fair           62.775000    3.752500     5.955000  0.925000      61.125000   \n",
       "Good           62.959091    4.103636     7.615455  1.490455      59.136364   \n",
       "Ideal          69.800000    3.330000     6.250000  0.900000      64.000000   \n",
       "Very Good      60.787387    3.262108     5.070165  0.623444      56.295971   \n",
       "\n",
       "           total_sales_price  \n",
       "cut                           \n",
       "Excellent        5420.432771  \n",
       "Fair             3188.000000  \n",
       "Good             9201.136364  \n",
       "Ideal            3767.000000  \n",
       "Very Good        4045.114817  "
      ]
     },
     "execution_count": 23,
     "metadata": {},
     "output_type": "execute_result"
    }
   ],
   "source": [
    "pd.pivot_table(full_training_set, index=\"cut\", values=[\"size\", \"depth_percent\", \"table_percent\", \"meas_length\", \"meas_depth\", \"total_sales_price\"])"
   ]
  },
  {
   "cell_type": "markdown",
   "id": "59ac92a1-6611-4292-a910-193f8b890387",
   "metadata": {},
   "source": [
    "## Observations:\n",
    "\n",
    "### Missing values\n",
    "- fancy_color columns, culet_condition, fluor_color and eye_clean columns have more than 70% missing values so I will discard them for this analysis\n",
    "- cut, girdle_min, girdle_max and culet_size has around 30% missing values might be removed\n",
    "- fluor_intensity, color have really small missing value that need to be handled\n",
    "\n",
    "### Feature\n",
    "- Round shape diamond are dominant\n",
    "- most diamonds tends to be colorless color\n",
    "- prices from 200 USD -> 1.4M USD (excluding taxes)\n",
    "- date has only one value feb 2022 can be discarded\n",
    "- price is mostly correlated to size meas_width, meas_length\n",
    "- clarity feature seems to impact the price as well"
   ]
  },
  {
   "cell_type": "markdown",
   "id": "e7bf9145-251f-48d4-95ff-9f49052f739e",
   "metadata": {},
   "source": [
    "   # Feature enginnering\n",
    "   "
   ]
  },
  {
   "cell_type": "code",
   "execution_count": 24,
   "id": "53db7b3c-c3d9-49f3-8128-5f7f17a28dff",
   "metadata": {},
   "outputs": [
    {
     "name": "stdout",
     "output_type": "stream",
     "text": [
      "Index(['clarity', 'color', 'culet_condition', 'culet_size', 'cut', 'date',\n",
      "       'depth_percent', 'diamond_id', 'eye_clean',\n",
      "       'fancy_color_dominant_color', 'fancy_color_intensity',\n",
      "       'fancy_color_overtone', 'fancy_color_secondary_color', 'fluor_color',\n",
      "       'fluor_intensity', 'girdle_max', 'girdle_min', 'lab', 'meas_depth',\n",
      "       'meas_length', 'meas_width', 'polish', 'shape', 'size', 'symmetry',\n",
      "       'table_percent'],\n",
      "      dtype='object')\n"
     ]
    }
   ],
   "source": [
    "print(X_train.columns)\n",
    "X_train_simplify = X_train.drop(columns = [\"fancy_color_dominant_color\", \"fancy_color_secondary_color\", \"fancy_color_overtone\", \"fancy_color_intensity\", \"culet_condition\", \"fluor_color\", \"eye_clean\", \"date\", \"girdle_min\", \"girdle_max\", \"culet_size\", \"cut\"]).copy()"
   ]
  },
  {
   "cell_type": "code",
   "execution_count": 25,
   "id": "dd72c1d7-8a40-400e-997d-9690934cfd67",
   "metadata": {},
   "outputs": [
    {
     "data": {
      "text/plain": [
       "Index(['clarity', 'color', 'depth_percent', 'diamond_id', 'fluor_intensity',\n",
       "       'lab', 'meas_depth', 'meas_length', 'meas_width', 'polish', 'shape',\n",
       "       'size', 'symmetry', 'table_percent'],\n",
       "      dtype='object')"
      ]
     },
     "execution_count": 25,
     "metadata": {},
     "output_type": "execute_result"
    }
   ],
   "source": [
    "X_train_simplify.columns"
   ]
  },
  {
   "cell_type": "code",
   "execution_count": 26,
   "id": "f950c8d8-a22b-4ec2-9d58-31653413d4e4",
   "metadata": {},
   "outputs": [],
   "source": [
    "X_train_simplify[\"is_expensive\"] = y_train.apply(lambda x: 1 if x > y_train.mean() else 0)"
   ]
  },
  {
   "cell_type": "code",
   "execution_count": 27,
   "id": "bf811b46-bf92-48df-976d-e453caed74c1",
   "metadata": {},
   "outputs": [
    {
     "data": {
      "text/html": [
       "<div>\n",
       "<style scoped>\n",
       "    .dataframe tbody tr th:only-of-type {\n",
       "        vertical-align: middle;\n",
       "    }\n",
       "\n",
       "    .dataframe tbody tr th {\n",
       "        vertical-align: top;\n",
       "    }\n",
       "\n",
       "    .dataframe thead th {\n",
       "        text-align: right;\n",
       "    }\n",
       "</style>\n",
       "<table border=\"1\" class=\"dataframe\">\n",
       "  <thead>\n",
       "    <tr style=\"text-align: right;\">\n",
       "      <th></th>\n",
       "      <th>clarity</th>\n",
       "      <th>color</th>\n",
       "      <th>depth_percent</th>\n",
       "      <th>diamond_id</th>\n",
       "      <th>fluor_intensity</th>\n",
       "      <th>lab</th>\n",
       "      <th>meas_depth</th>\n",
       "      <th>meas_length</th>\n",
       "      <th>meas_width</th>\n",
       "      <th>polish</th>\n",
       "      <th>shape</th>\n",
       "      <th>size</th>\n",
       "      <th>symmetry</th>\n",
       "      <th>table_percent</th>\n",
       "      <th>is_expensive</th>\n",
       "    </tr>\n",
       "  </thead>\n",
       "  <tbody>\n",
       "    <tr>\n",
       "      <th>50699</th>\n",
       "      <td>SI1</td>\n",
       "      <td>G</td>\n",
       "      <td>60.4</td>\n",
       "      <td>125891198</td>\n",
       "      <td>None</td>\n",
       "      <td>GIA</td>\n",
       "      <td>2.65</td>\n",
       "      <td>4.38</td>\n",
       "      <td>4.40</td>\n",
       "      <td>Excellent</td>\n",
       "      <td>Round</td>\n",
       "      <td>0.31</td>\n",
       "      <td>Excellent</td>\n",
       "      <td>60.0</td>\n",
       "      <td>0</td>\n",
       "    </tr>\n",
       "    <tr>\n",
       "      <th>122188</th>\n",
       "      <td>IF</td>\n",
       "      <td>E</td>\n",
       "      <td>67.2</td>\n",
       "      <td>127927351</td>\n",
       "      <td>None</td>\n",
       "      <td>GIA</td>\n",
       "      <td>2.68</td>\n",
       "      <td>5.27</td>\n",
       "      <td>3.98</td>\n",
       "      <td>Very Good</td>\n",
       "      <td>Emerald</td>\n",
       "      <td>0.50</td>\n",
       "      <td>Excellent</td>\n",
       "      <td>69.0</td>\n",
       "      <td>0</td>\n",
       "    </tr>\n",
       "    <tr>\n",
       "      <th>95117</th>\n",
       "      <td>SI2</td>\n",
       "      <td>I</td>\n",
       "      <td>63.0</td>\n",
       "      <td>123825339</td>\n",
       "      <td>Medium</td>\n",
       "      <td>GIA</td>\n",
       "      <td>2.81</td>\n",
       "      <td>6.70</td>\n",
       "      <td>4.46</td>\n",
       "      <td>Very Good</td>\n",
       "      <td>Pear</td>\n",
       "      <td>0.50</td>\n",
       "      <td>Very Good</td>\n",
       "      <td>59.0</td>\n",
       "      <td>0</td>\n",
       "    </tr>\n",
       "    <tr>\n",
       "      <th>28977</th>\n",
       "      <td>SI2</td>\n",
       "      <td>F</td>\n",
       "      <td>62.4</td>\n",
       "      <td>134719178</td>\n",
       "      <td>None</td>\n",
       "      <td>GIA</td>\n",
       "      <td>2.68</td>\n",
       "      <td>4.28</td>\n",
       "      <td>4.31</td>\n",
       "      <td>Excellent</td>\n",
       "      <td>Round</td>\n",
       "      <td>0.30</td>\n",
       "      <td>Excellent</td>\n",
       "      <td>56.0</td>\n",
       "      <td>0</td>\n",
       "    </tr>\n",
       "    <tr>\n",
       "      <th>122409</th>\n",
       "      <td>VS2</td>\n",
       "      <td>I</td>\n",
       "      <td>60.9</td>\n",
       "      <td>135756567</td>\n",
       "      <td>None</td>\n",
       "      <td>GIA</td>\n",
       "      <td>3.09</td>\n",
       "      <td>5.05</td>\n",
       "      <td>5.09</td>\n",
       "      <td>Excellent</td>\n",
       "      <td>Round</td>\n",
       "      <td>0.50</td>\n",
       "      <td>Very Good</td>\n",
       "      <td>62.0</td>\n",
       "      <td>0</td>\n",
       "    </tr>\n",
       "    <tr>\n",
       "      <th>...</th>\n",
       "      <td>...</td>\n",
       "      <td>...</td>\n",
       "      <td>...</td>\n",
       "      <td>...</td>\n",
       "      <td>...</td>\n",
       "      <td>...</td>\n",
       "      <td>...</td>\n",
       "      <td>...</td>\n",
       "      <td>...</td>\n",
       "      <td>...</td>\n",
       "      <td>...</td>\n",
       "      <td>...</td>\n",
       "      <td>...</td>\n",
       "      <td>...</td>\n",
       "      <td>...</td>\n",
       "    </tr>\n",
       "    <tr>\n",
       "      <th>120078</th>\n",
       "      <td>SI1</td>\n",
       "      <td>H</td>\n",
       "      <td>58.8</td>\n",
       "      <td>130883016</td>\n",
       "      <td>Strong</td>\n",
       "      <td>GIA</td>\n",
       "      <td>3.06</td>\n",
       "      <td>5.19</td>\n",
       "      <td>5.20</td>\n",
       "      <td>Excellent</td>\n",
       "      <td>Round</td>\n",
       "      <td>0.50</td>\n",
       "      <td>Excellent</td>\n",
       "      <td>61.0</td>\n",
       "      <td>0</td>\n",
       "    </tr>\n",
       "    <tr>\n",
       "      <th>80213</th>\n",
       "      <td>VS1</td>\n",
       "      <td>E</td>\n",
       "      <td>62.9</td>\n",
       "      <td>127563961</td>\n",
       "      <td>None</td>\n",
       "      <td>GIA</td>\n",
       "      <td>2.81</td>\n",
       "      <td>4.46</td>\n",
       "      <td>4.49</td>\n",
       "      <td>Excellent</td>\n",
       "      <td>Round</td>\n",
       "      <td>0.34</td>\n",
       "      <td>Excellent</td>\n",
       "      <td>56.0</td>\n",
       "      <td>0</td>\n",
       "    </tr>\n",
       "    <tr>\n",
       "      <th>1576</th>\n",
       "      <td>SI2</td>\n",
       "      <td>I</td>\n",
       "      <td>0.0</td>\n",
       "      <td>115657459</td>\n",
       "      <td>None</td>\n",
       "      <td>IGI</td>\n",
       "      <td>2.68</td>\n",
       "      <td>4.21</td>\n",
       "      <td>4.23</td>\n",
       "      <td>Very Good</td>\n",
       "      <td>Round</td>\n",
       "      <td>0.30</td>\n",
       "      <td>Very Good</td>\n",
       "      <td>60.0</td>\n",
       "      <td>0</td>\n",
       "    </tr>\n",
       "    <tr>\n",
       "      <th>148035</th>\n",
       "      <td>VVS2</td>\n",
       "      <td>G</td>\n",
       "      <td>58.6</td>\n",
       "      <td>136026113</td>\n",
       "      <td>None</td>\n",
       "      <td>GIA</td>\n",
       "      <td>3.26</td>\n",
       "      <td>5.55</td>\n",
       "      <td>5.58</td>\n",
       "      <td>Very Good</td>\n",
       "      <td>Round</td>\n",
       "      <td>0.61</td>\n",
       "      <td>Very Good</td>\n",
       "      <td>65.0</td>\n",
       "      <td>0</td>\n",
       "    </tr>\n",
       "    <tr>\n",
       "      <th>47494</th>\n",
       "      <td>SI1</td>\n",
       "      <td>K</td>\n",
       "      <td>63.4</td>\n",
       "      <td>127277116</td>\n",
       "      <td>None</td>\n",
       "      <td>GIA</td>\n",
       "      <td>3.02</td>\n",
       "      <td>4.75</td>\n",
       "      <td>4.78</td>\n",
       "      <td>Excellent</td>\n",
       "      <td>Round</td>\n",
       "      <td>0.42</td>\n",
       "      <td>Excellent</td>\n",
       "      <td>57.0</td>\n",
       "      <td>0</td>\n",
       "    </tr>\n",
       "  </tbody>\n",
       "</table>\n",
       "<p>164778 rows × 15 columns</p>\n",
       "</div>"
      ],
      "text/plain": [
       "       clarity color  depth_percent  diamond_id fluor_intensity  lab  \\\n",
       "50699      SI1     G           60.4   125891198            None  GIA   \n",
       "122188      IF     E           67.2   127927351            None  GIA   \n",
       "95117      SI2     I           63.0   123825339          Medium  GIA   \n",
       "28977      SI2     F           62.4   134719178            None  GIA   \n",
       "122409     VS2     I           60.9   135756567            None  GIA   \n",
       "...        ...   ...            ...         ...             ...  ...   \n",
       "120078     SI1     H           58.8   130883016          Strong  GIA   \n",
       "80213      VS1     E           62.9   127563961            None  GIA   \n",
       "1576       SI2     I            0.0   115657459            None  IGI   \n",
       "148035    VVS2     G           58.6   136026113            None  GIA   \n",
       "47494      SI1     K           63.4   127277116            None  GIA   \n",
       "\n",
       "        meas_depth  meas_length  meas_width     polish    shape  size  \\\n",
       "50699         2.65         4.38        4.40  Excellent    Round  0.31   \n",
       "122188        2.68         5.27        3.98  Very Good  Emerald  0.50   \n",
       "95117         2.81         6.70        4.46  Very Good     Pear  0.50   \n",
       "28977         2.68         4.28        4.31  Excellent    Round  0.30   \n",
       "122409        3.09         5.05        5.09  Excellent    Round  0.50   \n",
       "...            ...          ...         ...        ...      ...   ...   \n",
       "120078        3.06         5.19        5.20  Excellent    Round  0.50   \n",
       "80213         2.81         4.46        4.49  Excellent    Round  0.34   \n",
       "1576          2.68         4.21        4.23  Very Good    Round  0.30   \n",
       "148035        3.26         5.55        5.58  Very Good    Round  0.61   \n",
       "47494         3.02         4.75        4.78  Excellent    Round  0.42   \n",
       "\n",
       "         symmetry  table_percent  is_expensive  \n",
       "50699   Excellent           60.0             0  \n",
       "122188  Excellent           69.0             0  \n",
       "95117   Very Good           59.0             0  \n",
       "28977   Excellent           56.0             0  \n",
       "122409  Very Good           62.0             0  \n",
       "...           ...            ...           ...  \n",
       "120078  Excellent           61.0             0  \n",
       "80213   Excellent           56.0             0  \n",
       "1576    Very Good           60.0             0  \n",
       "148035  Very Good           65.0             0  \n",
       "47494   Excellent           57.0             0  \n",
       "\n",
       "[164778 rows x 15 columns]"
      ]
     },
     "execution_count": 27,
     "metadata": {},
     "output_type": "execute_result"
    }
   ],
   "source": [
    "X_train_simplify"
   ]
  },
  {
   "cell_type": "code",
   "execution_count": 28,
   "id": "2bba2705-cd6b-4da1-bcb8-d1c7d4faf06e",
   "metadata": {},
   "outputs": [
    {
     "data": {
      "text/html": [
       "<div>\n",
       "<style scoped>\n",
       "    .dataframe tbody tr th:only-of-type {\n",
       "        vertical-align: middle;\n",
       "    }\n",
       "\n",
       "    .dataframe tbody tr th {\n",
       "        vertical-align: top;\n",
       "    }\n",
       "\n",
       "    .dataframe thead th {\n",
       "        text-align: right;\n",
       "    }\n",
       "</style>\n",
       "<table border=\"1\" class=\"dataframe\">\n",
       "  <thead>\n",
       "    <tr style=\"text-align: right;\">\n",
       "      <th></th>\n",
       "      <th>depth_percent</th>\n",
       "      <th>meas_depth</th>\n",
       "      <th>meas_length</th>\n",
       "      <th>size</th>\n",
       "      <th>table_percent</th>\n",
       "    </tr>\n",
       "    <tr>\n",
       "      <th>is_expensive</th>\n",
       "      <th></th>\n",
       "      <th></th>\n",
       "      <th></th>\n",
       "      <th></th>\n",
       "      <th></th>\n",
       "    </tr>\n",
       "  </thead>\n",
       "  <tbody>\n",
       "    <tr>\n",
       "      <th>0</th>\n",
       "      <td>61.370813</td>\n",
       "      <td>2.972796</td>\n",
       "      <td>4.975275</td>\n",
       "      <td>0.482083</td>\n",
       "      <td>57.311759</td>\n",
       "    </tr>\n",
       "    <tr>\n",
       "      <th>1</th>\n",
       "      <td>62.913357</td>\n",
       "      <td>4.532786</td>\n",
       "      <td>7.840660</td>\n",
       "      <td>1.851987</td>\n",
       "      <td>59.558516</td>\n",
       "    </tr>\n",
       "  </tbody>\n",
       "</table>\n",
       "</div>"
      ],
      "text/plain": [
       "              depth_percent  meas_depth  meas_length      size  table_percent\n",
       "is_expensive                                                                 \n",
       "0                 61.370813    2.972796     4.975275  0.482083      57.311759\n",
       "1                 62.913357    4.532786     7.840660  1.851987      59.558516"
      ]
     },
     "execution_count": 28,
     "metadata": {},
     "output_type": "execute_result"
    }
   ],
   "source": [
    "pd.pivot_table(X_train_simplify, index=\"is_expensive\", values=[\"size\", \"depth_percent\", \"table_percent\", \"meas_length\", \"meas_depth\"])"
   ]
  },
  {
   "cell_type": "code",
   "execution_count": 29,
   "id": "446c15f6-7b16-4e85-8ee9-c59b0555df86",
   "metadata": {},
   "outputs": [],
   "source": [
    "X_full_train_simplify = X_train_simplify.copy()\n",
    "X_full_train_simplify[\"total_sales_price\"] = y_train.copy()"
   ]
  },
  {
   "cell_type": "code",
   "execution_count": 30,
   "id": "7e80050c-563b-48c0-8c8d-c36825c80e23",
   "metadata": {},
   "outputs": [
    {
     "name": "stdout",
     "output_type": "stream",
     "text": [
      "color                    D             E             F             G  \\\n",
      "is_expensive                                                           \n",
      "0              1914.462990   1746.800624   1903.416116   2130.933138   \n",
      "1             28052.305094  26552.490255  25410.727818  25057.632696   \n",
      "\n",
      "color                    H             I             J             K  \\\n",
      "is_expensive                                                           \n",
      "0              2267.833864   2160.147696   2101.461500   1949.364208   \n",
      "1             25446.920713  23984.365363  23184.206107  27031.548181   \n",
      "\n",
      "color                    L             M  \n",
      "is_expensive                              \n",
      "0              2082.419103   2156.150298  \n",
      "1             25654.021828  22858.552339  \n"
     ]
    }
   ],
   "source": [
    "print(pd.pivot_table(X_full_train_simplify, index=\"is_expensive\", columns=\"color\", values=\"total_sales_price\"))"
   ]
  },
  {
   "cell_type": "code",
   "execution_count": 31,
   "id": "1c68d4fd-0f58-4dc4-a8c7-20d8a60d041d",
   "metadata": {},
   "outputs": [],
   "source": [
    "X_train_simplify[\"is_big\"] = X_train_simplify[\"size\"].apply(lambda x: 1 if x > X_train_simplify[\"size\"].mean() else 0)"
   ]
  },
  {
   "cell_type": "code",
   "execution_count": 32,
   "id": "38a970d6-b001-428f-9be3-585c0d4bb558",
   "metadata": {},
   "outputs": [
    {
     "data": {
      "text/html": [
       "<div>\n",
       "<style scoped>\n",
       "    .dataframe tbody tr th:only-of-type {\n",
       "        vertical-align: middle;\n",
       "    }\n",
       "\n",
       "    .dataframe tbody tr th {\n",
       "        vertical-align: top;\n",
       "    }\n",
       "\n",
       "    .dataframe thead th {\n",
       "        text-align: right;\n",
       "    }\n",
       "</style>\n",
       "<table border=\"1\" class=\"dataframe\">\n",
       "  <thead>\n",
       "    <tr style=\"text-align: right;\">\n",
       "      <th></th>\n",
       "      <th>depth_percent</th>\n",
       "      <th>diamond_id</th>\n",
       "      <th>meas_depth</th>\n",
       "      <th>meas_length</th>\n",
       "      <th>meas_width</th>\n",
       "      <th>size</th>\n",
       "      <th>table_percent</th>\n",
       "      <th>is_expensive</th>\n",
       "      <th>total_sales_price</th>\n",
       "    </tr>\n",
       "    <tr>\n",
       "      <th>is_big</th>\n",
       "      <th></th>\n",
       "      <th></th>\n",
       "      <th></th>\n",
       "      <th></th>\n",
       "      <th></th>\n",
       "      <th></th>\n",
       "      <th></th>\n",
       "      <th></th>\n",
       "      <th></th>\n",
       "    </tr>\n",
       "  </thead>\n",
       "  <tbody>\n",
       "    <tr>\n",
       "      <th>0</th>\n",
       "      <td>61.145982</td>\n",
       "      <td>1.293797e+08</td>\n",
       "      <td>2.845826</td>\n",
       "      <td>4.729967</td>\n",
       "      <td>4.509170</td>\n",
       "      <td>0.404449</td>\n",
       "      <td>57.025571</td>\n",
       "      <td>0.006656</td>\n",
       "      <td>1716.857824</td>\n",
       "    </tr>\n",
       "    <tr>\n",
       "      <th>1</th>\n",
       "      <td>62.907546</td>\n",
       "      <td>1.252335e+08</td>\n",
       "      <td>4.295381</td>\n",
       "      <td>7.432476</td>\n",
       "      <td>6.586523</td>\n",
       "      <td>1.565420</td>\n",
       "      <td>59.454850</td>\n",
       "      <td>0.644785</td>\n",
       "      <td>19014.321690</td>\n",
       "    </tr>\n",
       "  </tbody>\n",
       "</table>\n",
       "</div>"
      ],
      "text/plain": [
       "        depth_percent    diamond_id  meas_depth  meas_length  meas_width  \\\n",
       "is_big                                                                     \n",
       "0           61.145982  1.293797e+08    2.845826     4.729967    4.509170   \n",
       "1           62.907546  1.252335e+08    4.295381     7.432476    6.586523   \n",
       "\n",
       "            size  table_percent  is_expensive  total_sales_price  \n",
       "is_big                                                            \n",
       "0       0.404449      57.025571      0.006656        1716.857824  \n",
       "1       1.565420      59.454850      0.644785       19014.321690  "
      ]
     },
     "execution_count": 32,
     "metadata": {},
     "output_type": "execute_result"
    }
   ],
   "source": [
    "X_full_train_simplify = X_train_simplify.copy()\n",
    "X_full_train_simplify[\"total_sales_price\"] = y_train.copy()\n",
    "X_full_train_simplify.groupby(['is_big']).mean()"
   ]
  },
  {
   "cell_type": "markdown",
   "id": "2679a39c-7888-475b-a6ff-8298b068bd37",
   "metadata": {},
   "source": [
    "### Data cleaning"
   ]
  },
  {
   "cell_type": "code",
   "execution_count": 33,
   "id": "fc23a37e-31cc-427f-992a-07bc14bf7ea4",
   "metadata": {},
   "outputs": [
    {
     "name": "stdout",
     "output_type": "stream",
     "text": [
      "<class 'pandas.core.frame.DataFrame'>\n",
      "Int64Index: 164778 entries, 50699 to 47494\n",
      "Data columns (total 16 columns):\n",
      " #   Column           Non-Null Count   Dtype  \n",
      "---  ------           --------------   -----  \n",
      " 0   clarity          164778 non-null  object \n",
      " 1   color            157905 non-null  object \n",
      " 2   depth_percent    164778 non-null  float64\n",
      " 3   diamond_id       164778 non-null  int64  \n",
      " 4   fluor_intensity  164685 non-null  object \n",
      " 5   lab              164778 non-null  object \n",
      " 6   meas_depth       164778 non-null  float64\n",
      " 7   meas_length      164778 non-null  float64\n",
      " 8   meas_width       164778 non-null  float64\n",
      " 9   polish           164778 non-null  object \n",
      " 10  shape            164778 non-null  object \n",
      " 11  size             164778 non-null  float64\n",
      " 12  symmetry         164778 non-null  object \n",
      " 13  table_percent    164778 non-null  float64\n",
      " 14  is_expensive     164778 non-null  int64  \n",
      " 15  is_big           164778 non-null  int64  \n",
      "dtypes: float64(6), int64(3), object(7)\n",
      "memory usage: 21.4+ MB\n"
     ]
    },
    {
     "data": {
      "text/plain": [
       "clarity               0\n",
       "color              6873\n",
       "depth_percent         0\n",
       "diamond_id            0\n",
       "fluor_intensity      93\n",
       "lab                   0\n",
       "meas_depth            0\n",
       "meas_length           0\n",
       "meas_width            0\n",
       "polish                0\n",
       "shape                 0\n",
       "size                  0\n",
       "symmetry              0\n",
       "table_percent         0\n",
       "is_expensive          0\n",
       "is_big                0\n",
       "dtype: int64"
      ]
     },
     "execution_count": 33,
     "metadata": {},
     "output_type": "execute_result"
    }
   ],
   "source": [
    "X_train_simplify.info()\n",
    "X_train_simplify.isnull().sum()"
   ]
  },
  {
   "cell_type": "code",
   "execution_count": 34,
   "id": "fbe8dc54-7d89-4569-8071-493046591eb6",
   "metadata": {},
   "outputs": [],
   "source": [
    "X_full_train_simplify.groupby(['color']).count()\n",
    "\n",
    "X_train_simplify.color = X_train_simplify.color.fillna(\"E\") #fill color with most common one"
   ]
  },
  {
   "cell_type": "code",
   "execution_count": 35,
   "id": "4f3b0c03-801d-4563-8976-6b8b117b3773",
   "metadata": {},
   "outputs": [],
   "source": [
    "X_full_train_simplify = X_train_simplify.copy()\n",
    "X_full_train_simplify[\"total_sales_price\"] = y_train.copy()\n",
    "\n",
    "X_full_train_simplify.groupby(['fluor_intensity']).count()\n",
    "X_train_simplify.fluor_intensity = X_train_simplify.fluor_intensity.fillna(\"Faint\") #fill Faint most common one"
   ]
  },
  {
   "cell_type": "markdown",
   "id": "2ba71cd5-64f8-44b3-a2db-f44f1a63e36b",
   "metadata": {},
   "source": [
    "### Data preparation"
   ]
  },
  {
   "cell_type": "code",
   "execution_count": 36,
   "id": "f4b73d7a-72b9-4f36-8205-7a552d60e48e",
   "metadata": {},
   "outputs": [
    {
     "data": {
      "text/plain": [
       "<AxesSubplot:>"
      ]
     },
     "execution_count": 36,
     "metadata": {},
     "output_type": "execute_result"
    },
    {
     "data": {
      "image/png": "[encoded data removed]",
      "text/plain": [
       "<Figure size 432x288 with 1 Axes>"
      ]
     },
     "metadata": {
      "needs_background": "light"
     },
     "output_type": "display_data"
    }
   ],
   "source": [
    "#normalized keeping value in a short range\n",
    "\n",
    "#normalized log norm of size\n",
    "X_train_simplify['norm_size'] =np.log(X_train_simplify.size + 1)\n",
    "X_train_simplify['norm_size'].hist()\n",
    "\n",
    "#normalized log of depth_percent\n",
    "X_train_simplify[\"norm_depth_percent\"] = np.log(X_train_simplify.depth_percent + 1)\n",
    "X_train_simplify[\"norm_depth_percent\"].hist()\n",
    "\n",
    "#normalized log of meas_depth\n",
    "X_train_simplify[\"norm_table_percent\"] = np.log(X_train_simplify.table_percent + 1)\n",
    "X_train_simplify[\"norm_table_percent\"].hist()\n",
    "\n",
    "#normalized log of meas_length\n",
    "X_train_simplify[\"norm_meas_length\"] = np.log(X_train_simplify.meas_length + 1)\n",
    "X_train_simplify[\"norm_meas_length\"].hist()\n",
    "\n",
    "#normalized log of meas_width\n",
    "X_train_simplify[\"norm_meas_width\"] = np.log(X_train_simplify.meas_width + 1)\n",
    "X_train_simplify[\"norm_meas_width\"].hist()\n",
    "\n",
    "#normalized log of meas_depth\n",
    "X_train_simplify[\"norm_meas_depth\"] = np.log(X_train_simplify.meas_depth + 1)\n",
    "X_train_simplify[\"norm_meas_depth\"].hist()\n"
   ]
  },
  {
   "cell_type": "code",
   "execution_count": 37,
   "id": "b9fda636-69c5-40df-991d-0253d8175aed",
   "metadata": {},
   "outputs": [],
   "source": [
    "X_train_dummmies = pd.get_dummies(X_train_simplify[['size', 'color', 'clarity', 'symmetry', 'fluor_intensity']])"
   ]
  },
  {
   "cell_type": "code",
   "execution_count": 38,
   "id": "be4a517d-b36c-4ffb-a0aa-e75fbf5dc66d",
   "metadata": {},
   "outputs": [
    {
     "data": {
      "text/html": [
       "<div>\n",
       "<style scoped>\n",
       "    .dataframe tbody tr th:only-of-type {\n",
       "        vertical-align: middle;\n",
       "    }\n",
       "\n",
       "    .dataframe tbody tr th {\n",
       "        vertical-align: top;\n",
       "    }\n",
       "\n",
       "    .dataframe thead th {\n",
       "        text-align: right;\n",
       "    }\n",
       "</style>\n",
       "<table border=\"1\" class=\"dataframe\">\n",
       "  <thead>\n",
       "    <tr style=\"text-align: right;\">\n",
       "      <th></th>\n",
       "      <th>size</th>\n",
       "      <th>color_D</th>\n",
       "      <th>color_E</th>\n",
       "      <th>color_F</th>\n",
       "      <th>color_G</th>\n",
       "      <th>color_H</th>\n",
       "      <th>color_I</th>\n",
       "      <th>color_J</th>\n",
       "      <th>color_K</th>\n",
       "      <th>color_L</th>\n",
       "      <th>...</th>\n",
       "      <th>symmetry_Good</th>\n",
       "      <th>symmetry_Poor</th>\n",
       "      <th>symmetry_Very Good</th>\n",
       "      <th>fluor_intensity_Faint</th>\n",
       "      <th>fluor_intensity_Medium</th>\n",
       "      <th>fluor_intensity_None</th>\n",
       "      <th>fluor_intensity_Slight</th>\n",
       "      <th>fluor_intensity_Strong</th>\n",
       "      <th>fluor_intensity_Very Slight</th>\n",
       "      <th>fluor_intensity_Very Strong</th>\n",
       "    </tr>\n",
       "  </thead>\n",
       "  <tbody>\n",
       "    <tr>\n",
       "      <th>50699</th>\n",
       "      <td>0.31</td>\n",
       "      <td>0</td>\n",
       "      <td>0</td>\n",
       "      <td>0</td>\n",
       "      <td>1</td>\n",
       "      <td>0</td>\n",
       "      <td>0</td>\n",
       "      <td>0</td>\n",
       "      <td>0</td>\n",
       "      <td>0</td>\n",
       "      <td>...</td>\n",
       "      <td>0</td>\n",
       "      <td>0</td>\n",
       "      <td>0</td>\n",
       "      <td>0</td>\n",
       "      <td>0</td>\n",
       "      <td>1</td>\n",
       "      <td>0</td>\n",
       "      <td>0</td>\n",
       "      <td>0</td>\n",
       "      <td>0</td>\n",
       "    </tr>\n",
       "    <tr>\n",
       "      <th>122188</th>\n",
       "      <td>0.50</td>\n",
       "      <td>0</td>\n",
       "      <td>1</td>\n",
       "      <td>0</td>\n",
       "      <td>0</td>\n",
       "      <td>0</td>\n",
       "      <td>0</td>\n",
       "      <td>0</td>\n",
       "      <td>0</td>\n",
       "      <td>0</td>\n",
       "      <td>...</td>\n",
       "      <td>0</td>\n",
       "      <td>0</td>\n",
       "      <td>0</td>\n",
       "      <td>0</td>\n",
       "      <td>0</td>\n",
       "      <td>1</td>\n",
       "      <td>0</td>\n",
       "      <td>0</td>\n",
       "      <td>0</td>\n",
       "      <td>0</td>\n",
       "    </tr>\n",
       "    <tr>\n",
       "      <th>95117</th>\n",
       "      <td>0.50</td>\n",
       "      <td>0</td>\n",
       "      <td>0</td>\n",
       "      <td>0</td>\n",
       "      <td>0</td>\n",
       "      <td>0</td>\n",
       "      <td>1</td>\n",
       "      <td>0</td>\n",
       "      <td>0</td>\n",
       "      <td>0</td>\n",
       "      <td>...</td>\n",
       "      <td>0</td>\n",
       "      <td>0</td>\n",
       "      <td>1</td>\n",
       "      <td>0</td>\n",
       "      <td>1</td>\n",
       "      <td>0</td>\n",
       "      <td>0</td>\n",
       "      <td>0</td>\n",
       "      <td>0</td>\n",
       "      <td>0</td>\n",
       "    </tr>\n",
       "    <tr>\n",
       "      <th>28977</th>\n",
       "      <td>0.30</td>\n",
       "      <td>0</td>\n",
       "      <td>0</td>\n",
       "      <td>1</td>\n",
       "      <td>0</td>\n",
       "      <td>0</td>\n",
       "      <td>0</td>\n",
       "      <td>0</td>\n",
       "      <td>0</td>\n",
       "      <td>0</td>\n",
       "      <td>...</td>\n",
       "      <td>0</td>\n",
       "      <td>0</td>\n",
       "      <td>0</td>\n",
       "      <td>0</td>\n",
       "      <td>0</td>\n",
       "      <td>1</td>\n",
       "      <td>0</td>\n",
       "      <td>0</td>\n",
       "      <td>0</td>\n",
       "      <td>0</td>\n",
       "    </tr>\n",
       "    <tr>\n",
       "      <th>122409</th>\n",
       "      <td>0.50</td>\n",
       "      <td>0</td>\n",
       "      <td>0</td>\n",
       "      <td>0</td>\n",
       "      <td>0</td>\n",
       "      <td>0</td>\n",
       "      <td>1</td>\n",
       "      <td>0</td>\n",
       "      <td>0</td>\n",
       "      <td>0</td>\n",
       "      <td>...</td>\n",
       "      <td>0</td>\n",
       "      <td>0</td>\n",
       "      <td>1</td>\n",
       "      <td>0</td>\n",
       "      <td>0</td>\n",
       "      <td>1</td>\n",
       "      <td>0</td>\n",
       "      <td>0</td>\n",
       "      <td>0</td>\n",
       "      <td>0</td>\n",
       "    </tr>\n",
       "    <tr>\n",
       "      <th>...</th>\n",
       "      <td>...</td>\n",
       "      <td>...</td>\n",
       "      <td>...</td>\n",
       "      <td>...</td>\n",
       "      <td>...</td>\n",
       "      <td>...</td>\n",
       "      <td>...</td>\n",
       "      <td>...</td>\n",
       "      <td>...</td>\n",
       "      <td>...</td>\n",
       "      <td>...</td>\n",
       "      <td>...</td>\n",
       "      <td>...</td>\n",
       "      <td>...</td>\n",
       "      <td>...</td>\n",
       "      <td>...</td>\n",
       "      <td>...</td>\n",
       "      <td>...</td>\n",
       "      <td>...</td>\n",
       "      <td>...</td>\n",
       "      <td>...</td>\n",
       "    </tr>\n",
       "    <tr>\n",
       "      <th>40670</th>\n",
       "      <td>0.30</td>\n",
       "      <td>0</td>\n",
       "      <td>0</td>\n",
       "      <td>0</td>\n",
       "      <td>1</td>\n",
       "      <td>0</td>\n",
       "      <td>0</td>\n",
       "      <td>0</td>\n",
       "      <td>0</td>\n",
       "      <td>0</td>\n",
       "      <td>...</td>\n",
       "      <td>0</td>\n",
       "      <td>0</td>\n",
       "      <td>1</td>\n",
       "      <td>1</td>\n",
       "      <td>0</td>\n",
       "      <td>0</td>\n",
       "      <td>0</td>\n",
       "      <td>0</td>\n",
       "      <td>0</td>\n",
       "      <td>0</td>\n",
       "    </tr>\n",
       "    <tr>\n",
       "      <th>44399</th>\n",
       "      <td>0.24</td>\n",
       "      <td>0</td>\n",
       "      <td>0</td>\n",
       "      <td>0</td>\n",
       "      <td>0</td>\n",
       "      <td>1</td>\n",
       "      <td>0</td>\n",
       "      <td>0</td>\n",
       "      <td>0</td>\n",
       "      <td>0</td>\n",
       "      <td>...</td>\n",
       "      <td>0</td>\n",
       "      <td>0</td>\n",
       "      <td>0</td>\n",
       "      <td>0</td>\n",
       "      <td>0</td>\n",
       "      <td>1</td>\n",
       "      <td>0</td>\n",
       "      <td>0</td>\n",
       "      <td>0</td>\n",
       "      <td>0</td>\n",
       "    </tr>\n",
       "    <tr>\n",
       "      <th>23927</th>\n",
       "      <td>0.31</td>\n",
       "      <td>0</td>\n",
       "      <td>0</td>\n",
       "      <td>0</td>\n",
       "      <td>0</td>\n",
       "      <td>0</td>\n",
       "      <td>0</td>\n",
       "      <td>0</td>\n",
       "      <td>1</td>\n",
       "      <td>0</td>\n",
       "      <td>...</td>\n",
       "      <td>0</td>\n",
       "      <td>0</td>\n",
       "      <td>0</td>\n",
       "      <td>0</td>\n",
       "      <td>0</td>\n",
       "      <td>1</td>\n",
       "      <td>0</td>\n",
       "      <td>0</td>\n",
       "      <td>0</td>\n",
       "      <td>0</td>\n",
       "    </tr>\n",
       "    <tr>\n",
       "      <th>190355</th>\n",
       "      <td>1.01</td>\n",
       "      <td>1</td>\n",
       "      <td>0</td>\n",
       "      <td>0</td>\n",
       "      <td>0</td>\n",
       "      <td>0</td>\n",
       "      <td>0</td>\n",
       "      <td>0</td>\n",
       "      <td>0</td>\n",
       "      <td>0</td>\n",
       "      <td>...</td>\n",
       "      <td>0</td>\n",
       "      <td>0</td>\n",
       "      <td>1</td>\n",
       "      <td>1</td>\n",
       "      <td>0</td>\n",
       "      <td>0</td>\n",
       "      <td>0</td>\n",
       "      <td>0</td>\n",
       "      <td>0</td>\n",
       "      <td>0</td>\n",
       "    </tr>\n",
       "    <tr>\n",
       "      <th>176414</th>\n",
       "      <td>1.25</td>\n",
       "      <td>0</td>\n",
       "      <td>0</td>\n",
       "      <td>0</td>\n",
       "      <td>0</td>\n",
       "      <td>0</td>\n",
       "      <td>0</td>\n",
       "      <td>0</td>\n",
       "      <td>1</td>\n",
       "      <td>0</td>\n",
       "      <td>...</td>\n",
       "      <td>0</td>\n",
       "      <td>0</td>\n",
       "      <td>1</td>\n",
       "      <td>1</td>\n",
       "      <td>0</td>\n",
       "      <td>0</td>\n",
       "      <td>0</td>\n",
       "      <td>0</td>\n",
       "      <td>0</td>\n",
       "      <td>0</td>\n",
       "    </tr>\n",
       "  </tbody>\n",
       "</table>\n",
       "<p>100 rows × 34 columns</p>\n",
       "</div>"
      ],
      "text/plain": [
       "        size  color_D  color_E  color_F  color_G  color_H  color_I  color_J  \\\n",
       "50699   0.31        0        0        0        1        0        0        0   \n",
       "122188  0.50        0        1        0        0        0        0        0   \n",
       "95117   0.50        0        0        0        0        0        1        0   \n",
       "28977   0.30        0        0        1        0        0        0        0   \n",
       "122409  0.50        0        0        0        0        0        1        0   \n",
       "...      ...      ...      ...      ...      ...      ...      ...      ...   \n",
       "40670   0.30        0        0        0        1        0        0        0   \n",
       "44399   0.24        0        0        0        0        1        0        0   \n",
       "23927   0.31        0        0        0        0        0        0        0   \n",
       "190355  1.01        1        0        0        0        0        0        0   \n",
       "176414  1.25        0        0        0        0        0        0        0   \n",
       "\n",
       "        color_K  color_L  ...  symmetry_Good  symmetry_Poor  \\\n",
       "50699         0        0  ...              0              0   \n",
       "122188        0        0  ...              0              0   \n",
       "95117         0        0  ...              0              0   \n",
       "28977         0        0  ...              0              0   \n",
       "122409        0        0  ...              0              0   \n",
       "...         ...      ...  ...            ...            ...   \n",
       "40670         0        0  ...              0              0   \n",
       "44399         0        0  ...              0              0   \n",
       "23927         1        0  ...              0              0   \n",
       "190355        0        0  ...              0              0   \n",
       "176414        1        0  ...              0              0   \n",
       "\n",
       "        symmetry_Very Good  fluor_intensity_Faint  fluor_intensity_Medium  \\\n",
       "50699                    0                      0                       0   \n",
       "122188                   0                      0                       0   \n",
       "95117                    1                      0                       1   \n",
       "28977                    0                      0                       0   \n",
       "122409                   1                      0                       0   \n",
       "...                    ...                    ...                     ...   \n",
       "40670                    1                      1                       0   \n",
       "44399                    0                      0                       0   \n",
       "23927                    0                      0                       0   \n",
       "190355                   1                      1                       0   \n",
       "176414                   1                      1                       0   \n",
       "\n",
       "        fluor_intensity_None  fluor_intensity_Slight  fluor_intensity_Strong  \\\n",
       "50699                      1                       0                       0   \n",
       "122188                     1                       0                       0   \n",
       "95117                      0                       0                       0   \n",
       "28977                      1                       0                       0   \n",
       "122409                     1                       0                       0   \n",
       "...                      ...                     ...                     ...   \n",
       "40670                      0                       0                       0   \n",
       "44399                      1                       0                       0   \n",
       "23927                      1                       0                       0   \n",
       "190355                     0                       0                       0   \n",
       "176414                     0                       0                       0   \n",
       "\n",
       "        fluor_intensity_Very Slight  fluor_intensity_Very Strong  \n",
       "50699                             0                            0  \n",
       "122188                            0                            0  \n",
       "95117                             0                            0  \n",
       "28977                             0                            0  \n",
       "122409                            0                            0  \n",
       "...                             ...                          ...  \n",
       "40670                             0                            0  \n",
       "44399                             0                            0  \n",
       "23927                             0                            0  \n",
       "190355                            0                            0  \n",
       "176414                            0                            0  \n",
       "\n",
       "[100 rows x 34 columns]"
      ]
     },
     "execution_count": 38,
     "metadata": {},
     "output_type": "execute_result"
    }
   ],
   "source": [
    "X_train_dummmies.head(100)"
   ]
  },
  {
   "cell_type": "code",
   "execution_count": 39,
   "id": "ac2c6214-178c-4aa3-8a43-cb2b472e1baf",
   "metadata": {},
   "outputs": [],
   "source": [
    "#scaling (keeping numeric value in normal distribution)\n",
    "scale = StandardScaler()"
   ]
  },
  {
   "cell_type": "code",
   "execution_count": 40,
   "id": "dca8a55d-f955-41a7-80d4-42020e4ca7ee",
   "metadata": {},
   "outputs": [
    {
     "data": {
      "text/plain": [
       "Index(['size', 'color_D', 'color_E', 'color_F', 'color_G', 'color_H',\n",
       "       'color_I', 'color_J', 'color_K', 'color_L', 'color_M', 'clarity_I1',\n",
       "       'clarity_I2', 'clarity_I3', 'clarity_IF', 'clarity_SI1', 'clarity_SI2',\n",
       "       'clarity_SI3', 'clarity_VS1', 'clarity_VS2', 'clarity_VVS1',\n",
       "       'clarity_VVS2', 'symmetry_Excellent', 'symmetry_Fair', 'symmetry_Good',\n",
       "       'symmetry_Poor', 'symmetry_Very Good', 'fluor_intensity_Faint',\n",
       "       'fluor_intensity_Medium', 'fluor_intensity_None',\n",
       "       'fluor_intensity_Slight', 'fluor_intensity_Strong',\n",
       "       'fluor_intensity_Very Slight', 'fluor_intensity_Very Strong'],\n",
       "      dtype='object')"
      ]
     },
     "execution_count": 40,
     "metadata": {},
     "output_type": "execute_result"
    }
   ],
   "source": [
    "X_train_dummmies_scaled = X_train_dummmies.copy()\n",
    "X_train_dummmies_scaled[[\"size\"]] = scale.fit_transform(X_train_dummmies_scaled[[\"size\"]])\n",
    "X_train_dummmies_scaled.columns"
   ]
  },
  {
   "cell_type": "code",
   "execution_count": 41,
   "id": "546e250a-377d-48ca-be8b-76f4ab55a6b9",
   "metadata": {},
   "outputs": [
    {
     "data": {
      "text/html": [
       "<div>\n",
       "<style scoped>\n",
       "    .dataframe tbody tr th:only-of-type {\n",
       "        vertical-align: middle;\n",
       "    }\n",
       "\n",
       "    .dataframe tbody tr th {\n",
       "        vertical-align: top;\n",
       "    }\n",
       "\n",
       "    .dataframe thead th {\n",
       "        text-align: right;\n",
       "    }\n",
       "</style>\n",
       "<table border=\"1\" class=\"dataframe\">\n",
       "  <thead>\n",
       "    <tr style=\"text-align: right;\">\n",
       "      <th></th>\n",
       "      <th>size</th>\n",
       "      <th>color_D</th>\n",
       "      <th>color_E</th>\n",
       "      <th>color_F</th>\n",
       "      <th>color_G</th>\n",
       "      <th>color_H</th>\n",
       "      <th>color_I</th>\n",
       "      <th>color_J</th>\n",
       "      <th>color_K</th>\n",
       "      <th>color_L</th>\n",
       "      <th>...</th>\n",
       "      <th>symmetry_Good</th>\n",
       "      <th>symmetry_Poor</th>\n",
       "      <th>symmetry_Very Good</th>\n",
       "      <th>fluor_intensity_Faint</th>\n",
       "      <th>fluor_intensity_Medium</th>\n",
       "      <th>fluor_intensity_None</th>\n",
       "      <th>fluor_intensity_Slight</th>\n",
       "      <th>fluor_intensity_Strong</th>\n",
       "      <th>fluor_intensity_Very Slight</th>\n",
       "      <th>fluor_intensity_Very Strong</th>\n",
       "    </tr>\n",
       "  </thead>\n",
       "  <tbody>\n",
       "    <tr>\n",
       "      <th>count</th>\n",
       "      <td>1.647780e+05</td>\n",
       "      <td>164778.000000</td>\n",
       "      <td>164778.000000</td>\n",
       "      <td>164778.000000</td>\n",
       "      <td>164778.000000</td>\n",
       "      <td>164778.000000</td>\n",
       "      <td>164778.000000</td>\n",
       "      <td>164778.000000</td>\n",
       "      <td>164778.000000</td>\n",
       "      <td>164778.000000</td>\n",
       "      <td>...</td>\n",
       "      <td>164778.000000</td>\n",
       "      <td>164778.000000</td>\n",
       "      <td>164778.000000</td>\n",
       "      <td>164778.000000</td>\n",
       "      <td>164778.000000</td>\n",
       "      <td>164778.000000</td>\n",
       "      <td>164778.000000</td>\n",
       "      <td>164778.000000</td>\n",
       "      <td>164778.000000</td>\n",
       "      <td>164778.000000</td>\n",
       "    </tr>\n",
       "    <tr>\n",
       "      <th>mean</th>\n",
       "      <td>1.094201e-16</td>\n",
       "      <td>0.140401</td>\n",
       "      <td>0.192271</td>\n",
       "      <td>0.143605</td>\n",
       "      <td>0.132742</td>\n",
       "      <td>0.118717</td>\n",
       "      <td>0.100960</td>\n",
       "      <td>0.077219</td>\n",
       "      <td>0.053933</td>\n",
       "      <td>0.026241</td>\n",
       "      <td>...</td>\n",
       "      <td>0.020974</td>\n",
       "      <td>0.000030</td>\n",
       "      <td>0.377071</td>\n",
       "      <td>0.175430</td>\n",
       "      <td>0.093750</td>\n",
       "      <td>0.652872</td>\n",
       "      <td>0.000049</td>\n",
       "      <td>0.060451</td>\n",
       "      <td>0.012496</td>\n",
       "      <td>0.004952</td>\n",
       "    </tr>\n",
       "    <tr>\n",
       "      <th>std</th>\n",
       "      <td>1.000003e+00</td>\n",
       "      <td>0.347404</td>\n",
       "      <td>0.394086</td>\n",
       "      <td>0.350690</td>\n",
       "      <td>0.339297</td>\n",
       "      <td>0.323457</td>\n",
       "      <td>0.301277</td>\n",
       "      <td>0.266940</td>\n",
       "      <td>0.225886</td>\n",
       "      <td>0.159853</td>\n",
       "      <td>...</td>\n",
       "      <td>0.143297</td>\n",
       "      <td>0.005508</td>\n",
       "      <td>0.484654</td>\n",
       "      <td>0.380336</td>\n",
       "      <td>0.291482</td>\n",
       "      <td>0.476058</td>\n",
       "      <td>0.006968</td>\n",
       "      <td>0.238321</td>\n",
       "      <td>0.111083</td>\n",
       "      <td>0.070197</td>\n",
       "    </tr>\n",
       "    <tr>\n",
       "      <th>min</th>\n",
       "      <td>-7.928832e-01</td>\n",
       "      <td>0.000000</td>\n",
       "      <td>0.000000</td>\n",
       "      <td>0.000000</td>\n",
       "      <td>0.000000</td>\n",
       "      <td>0.000000</td>\n",
       "      <td>0.000000</td>\n",
       "      <td>0.000000</td>\n",
       "      <td>0.000000</td>\n",
       "      <td>0.000000</td>\n",
       "      <td>...</td>\n",
       "      <td>0.000000</td>\n",
       "      <td>0.000000</td>\n",
       "      <td>0.000000</td>\n",
       "      <td>0.000000</td>\n",
       "      <td>0.000000</td>\n",
       "      <td>0.000000</td>\n",
       "      <td>0.000000</td>\n",
       "      <td>0.000000</td>\n",
       "      <td>0.000000</td>\n",
       "      <td>0.000000</td>\n",
       "    </tr>\n",
       "    <tr>\n",
       "      <th>25%</th>\n",
       "      <td>-5.229661e-01</td>\n",
       "      <td>0.000000</td>\n",
       "      <td>0.000000</td>\n",
       "      <td>0.000000</td>\n",
       "      <td>0.000000</td>\n",
       "      <td>0.000000</td>\n",
       "      <td>0.000000</td>\n",
       "      <td>0.000000</td>\n",
       "      <td>0.000000</td>\n",
       "      <td>0.000000</td>\n",
       "      <td>...</td>\n",
       "      <td>0.000000</td>\n",
       "      <td>0.000000</td>\n",
       "      <td>0.000000</td>\n",
       "      <td>0.000000</td>\n",
       "      <td>0.000000</td>\n",
       "      <td>0.000000</td>\n",
       "      <td>0.000000</td>\n",
       "      <td>0.000000</td>\n",
       "      <td>0.000000</td>\n",
       "      <td>0.000000</td>\n",
       "    </tr>\n",
       "    <tr>\n",
       "      <th>50%</th>\n",
       "      <td>-2.999911e-01</td>\n",
       "      <td>0.000000</td>\n",
       "      <td>0.000000</td>\n",
       "      <td>0.000000</td>\n",
       "      <td>0.000000</td>\n",
       "      <td>0.000000</td>\n",
       "      <td>0.000000</td>\n",
       "      <td>0.000000</td>\n",
       "      <td>0.000000</td>\n",
       "      <td>0.000000</td>\n",
       "      <td>...</td>\n",
       "      <td>0.000000</td>\n",
       "      <td>0.000000</td>\n",
       "      <td>0.000000</td>\n",
       "      <td>0.000000</td>\n",
       "      <td>0.000000</td>\n",
       "      <td>1.000000</td>\n",
       "      <td>0.000000</td>\n",
       "      <td>0.000000</td>\n",
       "      <td>0.000000</td>\n",
       "      <td>0.000000</td>\n",
       "    </tr>\n",
       "    <tr>\n",
       "      <th>75%</th>\n",
       "      <td>2.867851e-01</td>\n",
       "      <td>0.000000</td>\n",
       "      <td>0.000000</td>\n",
       "      <td>0.000000</td>\n",
       "      <td>0.000000</td>\n",
       "      <td>0.000000</td>\n",
       "      <td>0.000000</td>\n",
       "      <td>0.000000</td>\n",
       "      <td>0.000000</td>\n",
       "      <td>0.000000</td>\n",
       "      <td>...</td>\n",
       "      <td>0.000000</td>\n",
       "      <td>0.000000</td>\n",
       "      <td>1.000000</td>\n",
       "      <td>0.000000</td>\n",
       "      <td>0.000000</td>\n",
       "      <td>1.000000</td>\n",
       "      <td>0.000000</td>\n",
       "      <td>0.000000</td>\n",
       "      <td>0.000000</td>\n",
       "      <td>0.000000</td>\n",
       "    </tr>\n",
       "    <tr>\n",
       "      <th>max</th>\n",
       "      <td>2.182147e+01</td>\n",
       "      <td>1.000000</td>\n",
       "      <td>1.000000</td>\n",
       "      <td>1.000000</td>\n",
       "      <td>1.000000</td>\n",
       "      <td>1.000000</td>\n",
       "      <td>1.000000</td>\n",
       "      <td>1.000000</td>\n",
       "      <td>1.000000</td>\n",
       "      <td>1.000000</td>\n",
       "      <td>...</td>\n",
       "      <td>1.000000</td>\n",
       "      <td>1.000000</td>\n",
       "      <td>1.000000</td>\n",
       "      <td>1.000000</td>\n",
       "      <td>1.000000</td>\n",
       "      <td>1.000000</td>\n",
       "      <td>1.000000</td>\n",
       "      <td>1.000000</td>\n",
       "      <td>1.000000</td>\n",
       "      <td>1.000000</td>\n",
       "    </tr>\n",
       "  </tbody>\n",
       "</table>\n",
       "<p>8 rows × 34 columns</p>\n",
       "</div>"
      ],
      "text/plain": [
       "               size        color_D        color_E        color_F  \\\n",
       "count  1.647780e+05  164778.000000  164778.000000  164778.000000   \n",
       "mean   1.094201e-16       0.140401       0.192271       0.143605   \n",
       "std    1.000003e+00       0.347404       0.394086       0.350690   \n",
       "min   -7.928832e-01       0.000000       0.000000       0.000000   \n",
       "25%   -5.229661e-01       0.000000       0.000000       0.000000   \n",
       "50%   -2.999911e-01       0.000000       0.000000       0.000000   \n",
       "75%    2.867851e-01       0.000000       0.000000       0.000000   \n",
       "max    2.182147e+01       1.000000       1.000000       1.000000   \n",
       "\n",
       "             color_G        color_H        color_I        color_J  \\\n",
       "count  164778.000000  164778.000000  164778.000000  164778.000000   \n",
       "mean        0.132742       0.118717       0.100960       0.077219   \n",
       "std         0.339297       0.323457       0.301277       0.266940   \n",
       "min         0.000000       0.000000       0.000000       0.000000   \n",
       "25%         0.000000       0.000000       0.000000       0.000000   \n",
       "50%         0.000000       0.000000       0.000000       0.000000   \n",
       "75%         0.000000       0.000000       0.000000       0.000000   \n",
       "max         1.000000       1.000000       1.000000       1.000000   \n",
       "\n",
       "             color_K        color_L  ...  symmetry_Good  symmetry_Poor  \\\n",
       "count  164778.000000  164778.000000  ...  164778.000000  164778.000000   \n",
       "mean        0.053933       0.026241  ...       0.020974       0.000030   \n",
       "std         0.225886       0.159853  ...       0.143297       0.005508   \n",
       "min         0.000000       0.000000  ...       0.000000       0.000000   \n",
       "25%         0.000000       0.000000  ...       0.000000       0.000000   \n",
       "50%         0.000000       0.000000  ...       0.000000       0.000000   \n",
       "75%         0.000000       0.000000  ...       0.000000       0.000000   \n",
       "max         1.000000       1.000000  ...       1.000000       1.000000   \n",
       "\n",
       "       symmetry_Very Good  fluor_intensity_Faint  fluor_intensity_Medium  \\\n",
       "count       164778.000000          164778.000000           164778.000000   \n",
       "mean             0.377071               0.175430                0.093750   \n",
       "std              0.484654               0.380336                0.291482   \n",
       "min              0.000000               0.000000                0.000000   \n",
       "25%              0.000000               0.000000                0.000000   \n",
       "50%              0.000000               0.000000                0.000000   \n",
       "75%              1.000000               0.000000                0.000000   \n",
       "max              1.000000               1.000000                1.000000   \n",
       "\n",
       "       fluor_intensity_None  fluor_intensity_Slight  fluor_intensity_Strong  \\\n",
       "count         164778.000000           164778.000000           164778.000000   \n",
       "mean               0.652872                0.000049                0.060451   \n",
       "std                0.476058                0.006968                0.238321   \n",
       "min                0.000000                0.000000                0.000000   \n",
       "25%                0.000000                0.000000                0.000000   \n",
       "50%                1.000000                0.000000                0.000000   \n",
       "75%                1.000000                0.000000                0.000000   \n",
       "max                1.000000                1.000000                1.000000   \n",
       "\n",
       "       fluor_intensity_Very Slight  fluor_intensity_Very Strong  \n",
       "count                164778.000000                164778.000000  \n",
       "mean                      0.012496                     0.004952  \n",
       "std                       0.111083                     0.070197  \n",
       "min                       0.000000                     0.000000  \n",
       "25%                       0.000000                     0.000000  \n",
       "50%                       0.000000                     0.000000  \n",
       "75%                       0.000000                     0.000000  \n",
       "max                       1.000000                     1.000000  \n",
       "\n",
       "[8 rows x 34 columns]"
      ]
     },
     "execution_count": 41,
     "metadata": {},
     "output_type": "execute_result"
    }
   ],
   "source": [
    "X_train = X_train_dummmies_scaled.copy()\n",
    "X_train.describe()"
   ]
  },
  {
   "cell_type": "markdown",
   "id": "40393167-4cf8-4a78-9af4-182ef64cd0f6",
   "metadata": {},
   "source": [
    "# Basic model building"
   ]
  },
  {
   "cell_type": "markdown",
   "id": "864c8be3-e266-4765-83d5-10e4e30cc7c0",
   "metadata": {},
   "source": [
    "## Algorithms selection (regression)\n",
    "1. LinearRegression\n",
    "2. SGDRegressor\n",
    "3. ElasticNet\n",
    "4. Lasso\n",
    "5. LinearSVR (Support Vector Regression)\n",
    "6. SVR "
   ]
  },
  {
   "cell_type": "code",
   "execution_count": 42,
   "id": "5cc18814-3f6a-422f-9708-f6b37426aa03",
   "metadata": {},
   "outputs": [
    {
     "name": "stdout",
     "output_type": "stream",
     "text": [
      "[0.57538971 0.57215504 0.57066316 0.63463999 0.57925546]\n",
      "0.5864206703631906\n"
     ]
    }
   ],
   "source": [
    "lr = LinearRegression()\n",
    "cv = cross_val_score(lr, X_train, y_train, cv=5)\n",
    "print(cv)\n",
    "print(cv.mean())"
   ]
  },
  {
   "cell_type": "code",
   "execution_count": 43,
   "id": "32ad00a1-0b8f-4b3e-8ba8-f69c41669080",
   "metadata": {},
   "outputs": [
    {
     "name": "stdout",
     "output_type": "stream",
     "text": [
      "[0.56385132 0.54127826 0.5685377  0.61771878 0.57103712]\n",
      "0.5724846365432936\n"
     ]
    }
   ],
   "source": [
    "sgd = SGDRegressor()\n",
    "cv = cross_val_score(sgd, X_train, y_train, cv=5)\n",
    "print(cv)\n",
    "print(cv.mean())"
   ]
  },
  {
   "cell_type": "code",
   "execution_count": 44,
   "id": "9a6efb99-6371-4b5b-8439-1ea788b9a008",
   "metadata": {},
   "outputs": [
    {
     "name": "stdout",
     "output_type": "stream",
     "text": [
      "[0.48754419 0.50522727 0.48379019 0.57511336 0.49066213]\n",
      "0.5084674281458205\n"
     ]
    }
   ],
   "source": [
    "en = ElasticNet(random_state=0)\n",
    "cv = cross_val_score(en, X_train, y_train, cv=5)\n",
    "print(cv)\n",
    "print(cv.mean())"
   ]
  },
  {
   "cell_type": "code",
   "execution_count": 45,
   "id": "7024344e-ccac-43aa-9f85-155bc15b40b5",
   "metadata": {},
   "outputs": [
    {
     "name": "stderr",
     "output_type": "stream",
     "text": [
      "/usr/local/lib/python3.8/dist-packages/sklearn/linear_model/_coordinate_descent.py:647: ConvergenceWarning: Objective did not converge. You might want to increase the number of iterations, check the scale of the features or consider increasing regularisation. Duality gap: 4.076e+12, tolerance: 8.803e+09\n",
      "  model = cd_fast.enet_coordinate_descent(\n",
      "/usr/local/lib/python3.8/dist-packages/sklearn/linear_model/_coordinate_descent.py:647: ConvergenceWarning: Objective did not converge. You might want to increase the number of iterations, check the scale of the features or consider increasing regularisation. Duality gap: 2.411e+12, tolerance: 9.337e+09\n",
      "  model = cd_fast.enet_coordinate_descent(\n",
      "/usr/local/lib/python3.8/dist-packages/sklearn/linear_model/_coordinate_descent.py:647: ConvergenceWarning: Objective did not converge. You might want to increase the number of iterations, check the scale of the features or consider increasing regularisation. Duality gap: 4.083e+12, tolerance: 8.864e+09\n",
      "  model = cd_fast.enet_coordinate_descent(\n",
      "/usr/local/lib/python3.8/dist-packages/sklearn/linear_model/_coordinate_descent.py:647: ConvergenceWarning: Objective did not converge. You might want to increase the number of iterations, check the scale of the features or consider increasing regularisation. Duality gap: 2.587e+12, tolerance: 9.756e+09\n",
      "  model = cd_fast.enet_coordinate_descent(\n"
     ]
    },
    {
     "name": "stdout",
     "output_type": "stream",
     "text": [
      "[0.57537798 0.57216912 0.57066763 0.63468307 0.57926943]\n",
      "0.5864334464208002\n"
     ]
    },
    {
     "name": "stderr",
     "output_type": "stream",
     "text": [
      "/usr/local/lib/python3.8/dist-packages/sklearn/linear_model/_coordinate_descent.py:647: ConvergenceWarning: Objective did not converge. You might want to increase the number of iterations, check the scale of the features or consider increasing regularisation. Duality gap: 4.160e+12, tolerance: 8.955e+09\n",
      "  model = cd_fast.enet_coordinate_descent(\n"
     ]
    }
   ],
   "source": [
    "lasso = Lasso(alpha=0.1)\n",
    "cv = cross_val_score(lasso, X_train, y_train, cv=5)\n",
    "print(cv)\n",
    "print(cv.mean())"
   ]
  },
  {
   "cell_type": "code",
   "execution_count": 48,
   "id": "7f8f430c-1177-4af0-948b-2bae4feae74b",
   "metadata": {},
   "outputs": [
    {
     "name": "stdout",
     "output_type": "stream",
     "text": [
      "[0.35547422 0.36989649 0.35232021 0.42421357 0.3567476 ]\n",
      "0.3717304195596906\n"
     ]
    }
   ],
   "source": [
    "lsvr = LinearSVR(random_state=0, tol=1e-5)\n",
    "cv = cross_val_score(lsvr, X_train, y_train, cv=5)\n",
    "print(cv)\n",
    "print(cv.mean())"
   ]
  },
  {
   "cell_type": "code",
   "execution_count": null,
   "id": "3c3480f2-8842-494e-abc2-a93c26cf5329",
   "metadata": {},
   "outputs": [],
   "source": [
    "nusvr = NuSVR(C=1.0, nu=0.1)\n",
    "cv = cross_val_score(nusvr, X_train, y_train, cv=5)\n",
    "print(cv)\n",
    "print(cv.mean())"
   ]
  },
  {
   "cell_type": "code",
   "execution_count": 47,
   "id": "cfd32c0f-fdb0-4493-88a4-c723485510b1",
   "metadata": {},
   "outputs": [],
   "source": [
    "#svr = SVR(epsilon=0.2,max_iter= 100000)\n",
    "#cv = cross_val_score(svr, X_train, y_train, cv=5)\n",
    "#print(cv)\n",
    "#print(cv.mean())"
   ]
  }
 ],
 "metadata": {
  "kernelspec": {
   "display_name": "Python 3 (ipykernel)",
   "language": "python",
   "name": "python3"
  },
  "language_info": {
   "codemirror_mode": {
    "name": "ipython",
    "version": 3
   },
   "file_extension": ".py",
   "mimetype": "text/x-python",
   "name": "python",
   "nbconvert_exporter": "python",
   "pygments_lexer": "ipython3",
   "version": "3.8.10"
  }
 },
 "nbformat": 4,
 "nbformat_minor": 5
}
