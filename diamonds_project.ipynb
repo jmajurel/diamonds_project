{
 "cells": [
  {
   "cell_type": "code",
   "execution_count": 55,
   "id": "2238b233-dd47-4dab-96c6-1fff77eac1d0",
   "metadata": {},
   "outputs": [],
   "source": [
    "import pandas as pd\n",
    "import matplotlib.pyplot as plt\n",
    "import seaborn as sbn\n",
    "import numpy as np\n",
    "from sklearn.preprocessing import StandardScaler\n",
    "from sklearn.model_selection import train_test_split"
   ]
  },
  {
   "cell_type": "markdown",
   "id": "60b42f94-5063-4d69-b5a0-5f81c509d369",
   "metadata": {},
   "source": [
    "# Indroduction\n",
    "\n",
    "This project aims at predicting diamond price based on its features using regression models\n",
    "\n",
    "Diamonds data set available on kaggle (https://www.kaggle.com/enashed/diamond-prices)"
   ]
  },
  {
   "cell_type": "markdown",
   "id": "80c3dea1-65d3-4a73-9657-cfdba8cadab6",
   "metadata": {},
   "source": [
    "# Project Planning\n",
    "1. Data exploration\n",
    "2. Feature engineering\n",
    "3. Data preprocessing for model\n",
    "4. Basic model building\n",
    "5. Model Tuning\n",
    "6. Ensemble model building\n",
    "7. Results"
   ]
  },
  {
   "cell_type": "markdown",
   "id": "442091c1-c806-4287-840c-0f03f013db48",
   "metadata": {},
   "source": [
    "# Data Exploration"
   ]
  },
  {
   "cell_type": "code",
   "execution_count": 59,
   "id": "05ec4777-98a8-4c61-986f-2227c012b7dc",
   "metadata": {},
   "outputs": [],
   "source": [
    "data = pd.read_csv(\"./diamonds_project/diamonds.csv\")"
   ]
  },
  {
   "cell_type": "code",
   "execution_count": 82,
   "id": "c83c9704-3c6d-4af6-b801-44c6ec9c689b",
   "metadata": {},
   "outputs": [],
   "source": [
    "X = data[data.columns.difference(['total_sales_price'])]\n",
    "y = data[\"total_sales_price\"]\n",
    "X_train, X_test, y_train, y_test = train_test_split(X, y)"
   ]
  },
  {
   "cell_type": "code",
   "execution_count": 83,
   "id": "1938392f-56ba-46fb-8440-636e19080e9d",
   "metadata": {},
   "outputs": [
    {
     "data": {
      "text/html": [
       "<div>\n",
       "<style scoped>\n",
       "    .dataframe tbody tr th:only-of-type {\n",
       "        vertical-align: middle;\n",
       "    }\n",
       "\n",
       "    .dataframe tbody tr th {\n",
       "        vertical-align: top;\n",
       "    }\n",
       "\n",
       "    .dataframe thead th {\n",
       "        text-align: right;\n",
       "    }\n",
       "</style>\n",
       "<table border=\"1\" class=\"dataframe\">\n",
       "  <thead>\n",
       "    <tr style=\"text-align: right;\">\n",
       "      <th></th>\n",
       "      <th>clarity</th>\n",
       "      <th>color</th>\n",
       "      <th>culet_condition</th>\n",
       "      <th>culet_size</th>\n",
       "      <th>cut</th>\n",
       "      <th>date</th>\n",
       "      <th>depth_percent</th>\n",
       "      <th>diamond_id</th>\n",
       "      <th>eye_clean</th>\n",
       "      <th>fancy_color_dominant_color</th>\n",
       "      <th>...</th>\n",
       "      <th>girdle_min</th>\n",
       "      <th>lab</th>\n",
       "      <th>meas_depth</th>\n",
       "      <th>meas_length</th>\n",
       "      <th>meas_width</th>\n",
       "      <th>polish</th>\n",
       "      <th>shape</th>\n",
       "      <th>size</th>\n",
       "      <th>symmetry</th>\n",
       "      <th>table_percent</th>\n",
       "    </tr>\n",
       "  </thead>\n",
       "  <tbody>\n",
       "    <tr>\n",
       "      <th>117682</th>\n",
       "      <td>VVS1</td>\n",
       "      <td>I</td>\n",
       "      <td>Pointed</td>\n",
       "      <td>NaN</td>\n",
       "      <td>Excellent</td>\n",
       "      <td>2022-02-24</td>\n",
       "      <td>62.3</td>\n",
       "      <td>132710978</td>\n",
       "      <td>Yes</td>\n",
       "      <td>NaN</td>\n",
       "      <td>...</td>\n",
       "      <td>NaN</td>\n",
       "      <td>IGI</td>\n",
       "      <td>3.29</td>\n",
       "      <td>5.26</td>\n",
       "      <td>5.29</td>\n",
       "      <td>Excellent</td>\n",
       "      <td>Round</td>\n",
       "      <td>0.57</td>\n",
       "      <td>Excellent</td>\n",
       "      <td>59.5</td>\n",
       "    </tr>\n",
       "    <tr>\n",
       "      <th>65822</th>\n",
       "      <td>VS2</td>\n",
       "      <td>E</td>\n",
       "      <td>NaN</td>\n",
       "      <td>N</td>\n",
       "      <td>Excellent</td>\n",
       "      <td>2022-02-24</td>\n",
       "      <td>62.6</td>\n",
       "      <td>133141494</td>\n",
       "      <td>NaN</td>\n",
       "      <td>NaN</td>\n",
       "      <td>...</td>\n",
       "      <td>M</td>\n",
       "      <td>GIA</td>\n",
       "      <td>2.77</td>\n",
       "      <td>4.41</td>\n",
       "      <td>4.43</td>\n",
       "      <td>Excellent</td>\n",
       "      <td>Round</td>\n",
       "      <td>0.33</td>\n",
       "      <td>Excellent</td>\n",
       "      <td>56.0</td>\n",
       "    </tr>\n",
       "    <tr>\n",
       "      <th>55367</th>\n",
       "      <td>VS2</td>\n",
       "      <td>I</td>\n",
       "      <td>NaN</td>\n",
       "      <td>N</td>\n",
       "      <td>Excellent</td>\n",
       "      <td>2022-02-24</td>\n",
       "      <td>62.2</td>\n",
       "      <td>128589677</td>\n",
       "      <td>Yes</td>\n",
       "      <td>NaN</td>\n",
       "      <td>...</td>\n",
       "      <td>M</td>\n",
       "      <td>GIA</td>\n",
       "      <td>2.74</td>\n",
       "      <td>4.41</td>\n",
       "      <td>4.42</td>\n",
       "      <td>Excellent</td>\n",
       "      <td>Round</td>\n",
       "      <td>0.33</td>\n",
       "      <td>Excellent</td>\n",
       "      <td>57.0</td>\n",
       "    </tr>\n",
       "    <tr>\n",
       "      <th>149387</th>\n",
       "      <td>SI1</td>\n",
       "      <td>H</td>\n",
       "      <td>NaN</td>\n",
       "      <td>NaN</td>\n",
       "      <td>NaN</td>\n",
       "      <td>2022-02-24</td>\n",
       "      <td>63.5</td>\n",
       "      <td>135372276</td>\n",
       "      <td>NaN</td>\n",
       "      <td>NaN</td>\n",
       "      <td>...</td>\n",
       "      <td>NaN</td>\n",
       "      <td>GIA</td>\n",
       "      <td>3.22</td>\n",
       "      <td>7.22</td>\n",
       "      <td>5.08</td>\n",
       "      <td>Excellent</td>\n",
       "      <td>Pear</td>\n",
       "      <td>0.70</td>\n",
       "      <td>Excellent</td>\n",
       "      <td>58.0</td>\n",
       "    </tr>\n",
       "    <tr>\n",
       "      <th>178136</th>\n",
       "      <td>VVS2</td>\n",
       "      <td>E</td>\n",
       "      <td>NaN</td>\n",
       "      <td>N</td>\n",
       "      <td>NaN</td>\n",
       "      <td>2022-02-24</td>\n",
       "      <td>61.7</td>\n",
       "      <td>135763958</td>\n",
       "      <td>NaN</td>\n",
       "      <td>NaN</td>\n",
       "      <td>...</td>\n",
       "      <td>XTK</td>\n",
       "      <td>GIA</td>\n",
       "      <td>61.70</td>\n",
       "      <td>5.80</td>\n",
       "      <td>5.66</td>\n",
       "      <td>Very Good</td>\n",
       "      <td>Emerald</td>\n",
       "      <td>1.01</td>\n",
       "      <td>Very Good</td>\n",
       "      <td>75.0</td>\n",
       "    </tr>\n",
       "  </tbody>\n",
       "</table>\n",
       "<p>5 rows × 26 columns</p>\n",
       "</div>"
      ],
      "text/plain": [
       "       clarity color culet_condition culet_size        cut        date  \\\n",
       "117682    VVS1     I         Pointed        NaN  Excellent  2022-02-24   \n",
       "65822      VS2     E             NaN          N  Excellent  2022-02-24   \n",
       "55367      VS2     I             NaN          N  Excellent  2022-02-24   \n",
       "149387     SI1     H             NaN        NaN        NaN  2022-02-24   \n",
       "178136    VVS2     E             NaN          N        NaN  2022-02-24   \n",
       "\n",
       "        depth_percent  diamond_id eye_clean fancy_color_dominant_color  ...  \\\n",
       "117682           62.3   132710978       Yes                        NaN  ...   \n",
       "65822            62.6   133141494       NaN                        NaN  ...   \n",
       "55367            62.2   128589677       Yes                        NaN  ...   \n",
       "149387           63.5   135372276       NaN                        NaN  ...   \n",
       "178136           61.7   135763958       NaN                        NaN  ...   \n",
       "\n",
       "       girdle_min  lab meas_depth meas_length meas_width     polish    shape  \\\n",
       "117682        NaN  IGI       3.29        5.26       5.29  Excellent    Round   \n",
       "65822           M  GIA       2.77        4.41       4.43  Excellent    Round   \n",
       "55367           M  GIA       2.74        4.41       4.42  Excellent    Round   \n",
       "149387        NaN  GIA       3.22        7.22       5.08  Excellent     Pear   \n",
       "178136        XTK  GIA      61.70        5.80       5.66  Very Good  Emerald   \n",
       "\n",
       "        size   symmetry  table_percent  \n",
       "117682  0.57  Excellent           59.5  \n",
       "65822   0.33  Excellent           56.0  \n",
       "55367   0.33  Excellent           57.0  \n",
       "149387  0.70  Excellent           58.0  \n",
       "178136  1.01  Very Good           75.0  \n",
       "\n",
       "[5 rows x 26 columns]"
      ]
     },
     "execution_count": 83,
     "metadata": {},
     "output_type": "execute_result"
    }
   ],
   "source": [
    "X_train.head()"
   ]
  },
  {
   "cell_type": "code",
   "execution_count": 87,
   "id": "03b06da0-3337-44d7-a5eb-4e0961dcd024",
   "metadata": {},
   "outputs": [
    {
     "data": {
      "text/plain": [
       "117682    2308\n",
       "65822     1034\n",
       "55367      966\n",
       "149387    3708\n",
       "178136    7514\n",
       "Name: total_sales_price, dtype: int64"
      ]
     },
     "execution_count": 87,
     "metadata": {},
     "output_type": "execute_result"
    }
   ],
   "source": [
    "y_train.head()"
   ]
  },
  {
   "cell_type": "code",
   "execution_count": 67,
   "id": "c101649d-5c36-4f54-99dd-70c6755307e2",
   "metadata": {},
   "outputs": [
    {
     "data": {
      "text/plain": [
       "clarity                         object\n",
       "color                           object\n",
       "culet_condition                 object\n",
       "culet_size                      object\n",
       "cut                             object\n",
       "date                            object\n",
       "depth_percent                  float64\n",
       "diamond_id                       int64\n",
       "eye_clean                       object\n",
       "fancy_color_dominant_color      object\n",
       "fancy_color_intensity           object\n",
       "fancy_color_overtone            object\n",
       "fancy_color_secondary_color     object\n",
       "fluor_color                     object\n",
       "fluor_intensity                 object\n",
       "girdle_max                      object\n",
       "girdle_min                      object\n",
       "lab                             object\n",
       "meas_depth                     float64\n",
       "meas_length                    float64\n",
       "meas_width                     float64\n",
       "polish                          object\n",
       "shape                           object\n",
       "size                           float64\n",
       "symmetry                        object\n",
       "table_percent                  float64\n",
       "dtype: object"
      ]
     },
     "execution_count": 67,
     "metadata": {},
     "output_type": "execute_result"
    }
   ],
   "source": [
    "X_train.dtypes"
   ]
  },
  {
   "cell_type": "code",
   "execution_count": 68,
   "id": "95265044-51ba-47df-a6c9-47bbf2ebd53d",
   "metadata": {},
   "outputs": [
    {
     "data": {
      "text/plain": [
       "(164778, 26)"
      ]
     },
     "execution_count": 68,
     "metadata": {},
     "output_type": "execute_result"
    }
   ],
   "source": [
    "X_train.shape"
   ]
  },
  {
   "cell_type": "code",
   "execution_count": 69,
   "id": "93598b3c-05dd-47e7-aaf0-d9fdc8c1d38d",
   "metadata": {},
   "outputs": [
    {
     "data": {
      "text/plain": [
       "Index(['clarity', 'color', 'culet_condition', 'culet_size', 'cut', 'date',\n",
       "       'depth_percent', 'diamond_id', 'eye_clean',\n",
       "       'fancy_color_dominant_color', 'fancy_color_intensity',\n",
       "       'fancy_color_overtone', 'fancy_color_secondary_color', 'fluor_color',\n",
       "       'fluor_intensity', 'girdle_max', 'girdle_min', 'lab', 'meas_depth',\n",
       "       'meas_length', 'meas_width', 'polish', 'shape', 'size', 'symmetry',\n",
       "       'table_percent'],\n",
       "      dtype='object')"
      ]
     },
     "execution_count": 69,
     "metadata": {},
     "output_type": "execute_result"
    }
   ],
   "source": [
    "X_train.columns"
   ]
  },
  {
   "cell_type": "code",
   "execution_count": 70,
   "id": "27458783-1626-4ac7-8809-234e14024298",
   "metadata": {},
   "outputs": [
    {
     "name": "stdout",
     "output_type": "stream",
     "text": [
      "<class 'pandas.core.frame.DataFrame'>\n",
      "Int64Index: 164778 entries, 187970 to 67361\n",
      "Data columns (total 26 columns):\n",
      " #   Column                       Non-Null Count   Dtype  \n",
      "---  ------                       --------------   -----  \n",
      " 0   clarity                      164778 non-null  object \n",
      " 1   color                        157864 non-null  object \n",
      " 2   culet_condition              11523 non-null   object \n",
      " 3   culet_size                   100402 non-null  object \n",
      " 4   cut                          119304 non-null  object \n",
      " 5   date                         164778 non-null  object \n",
      " 6   depth_percent                164778 non-null  float64\n",
      " 7   diamond_id                   164778 non-null  int64  \n",
      " 8   eye_clean                    46881 non-null   object \n",
      " 9   fancy_color_dominant_color   6916 non-null    object \n",
      " 10  fancy_color_intensity        6914 non-null    object \n",
      " 11  fancy_color_overtone         1566 non-null    object \n",
      " 12  fancy_color_secondary_color  803 non-null     object \n",
      " 13  fluor_color                  11839 non-null   object \n",
      " 14  fluor_intensity              164682 non-null  object \n",
      " 15  girdle_max                   101497 non-null  object \n",
      " 16  girdle_min                   102150 non-null  object \n",
      " 17  lab                          164778 non-null  object \n",
      " 18  meas_depth                   164778 non-null  float64\n",
      " 19  meas_length                  164778 non-null  float64\n",
      " 20  meas_width                   164778 non-null  float64\n",
      " 21  polish                       164778 non-null  object \n",
      " 22  shape                        164778 non-null  object \n",
      " 23  size                         164778 non-null  float64\n",
      " 24  symmetry                     164778 non-null  object \n",
      " 25  table_percent                164778 non-null  float64\n",
      "dtypes: float64(6), int64(1), object(19)\n",
      "memory usage: 33.9+ MB\n"
     ]
    }
   ],
   "source": [
    "X_train.info()"
   ]
  },
  {
   "cell_type": "code",
   "execution_count": 71,
   "id": "f593e71a-0b1f-40c2-bbbe-3128b4f0ef2f",
   "metadata": {},
   "outputs": [
    {
     "data": {
      "text/plain": [
       "clarity                         0.000000\n",
       "color                           3.146961\n",
       "culet_condition                69.755216\n",
       "culet_size                     29.301242\n",
       "cut                            20.697848\n",
       "date                            0.000000\n",
       "depth_percent                   0.000000\n",
       "diamond_id                      0.000000\n",
       "eye_clean                      53.661745\n",
       "fancy_color_dominant_color     71.852128\n",
       "fancy_color_intensity          71.853039\n",
       "fancy_color_overtone           74.287223\n",
       "fancy_color_secondary_color    74.634508\n",
       "fluor_color                    69.611386\n",
       "fluor_intensity                 0.043695\n",
       "girdle_max                     28.802844\n",
       "girdle_min                     28.505626\n",
       "lab                             0.000000\n",
       "meas_depth                      0.000000\n",
       "meas_length                     0.000000\n",
       "meas_width                      0.000000\n",
       "polish                          0.000000\n",
       "shape                           0.000000\n",
       "size                            0.000000\n",
       "symmetry                        0.000000\n",
       "table_percent                   0.000000\n",
       "dtype: float64"
      ]
     },
     "execution_count": 71,
     "metadata": {},
     "output_type": "execute_result"
    }
   ],
   "source": [
    "X_train.isnull().sum() / df.shape[0] * 100"
   ]
  },
  {
   "cell_type": "code",
   "execution_count": 9,
   "id": "bd48e1c0-3c07-4095-8243-0f16a5d5ec61",
   "metadata": {},
   "outputs": [],
   "source": [
    "nb_columns = ['size', 'depth_percent', 'table_percent', 'meas_length', 'meas_width', 'meas_depth', 'total_sales_price']"
   ]
  },
  {
   "cell_type": "code",
   "execution_count": 10,
   "id": "3971c217-a576-4a8a-9c29-8fdb6a43c7e7",
   "metadata": {},
   "outputs": [],
   "source": [
    "cat_columns = ['shape', 'color', 'clarity', 'symmetry', 'polish',  'fluor_intensity', 'lab']"
   ]
  },
  {
   "cell_type": "code",
   "execution_count": 72,
   "id": "bdfeed72-d677-46f7-81a3-5e90ef7ce471",
   "metadata": {},
   "outputs": [
    {
     "data": {
      "text/html": [
       "<div>\n",
       "<style scoped>\n",
       "    .dataframe tbody tr th:only-of-type {\n",
       "        vertical-align: middle;\n",
       "    }\n",
       "\n",
       "    .dataframe tbody tr th {\n",
       "        vertical-align: top;\n",
       "    }\n",
       "\n",
       "    .dataframe thead th {\n",
       "        text-align: right;\n",
       "    }\n",
       "</style>\n",
       "<table border=\"1\" class=\"dataframe\">\n",
       "  <thead>\n",
       "    <tr style=\"text-align: right;\">\n",
       "      <th></th>\n",
       "      <th>depth_percent</th>\n",
       "      <th>diamond_id</th>\n",
       "      <th>meas_depth</th>\n",
       "      <th>meas_length</th>\n",
       "      <th>meas_width</th>\n",
       "      <th>size</th>\n",
       "      <th>table_percent</th>\n",
       "    </tr>\n",
       "  </thead>\n",
       "  <tbody>\n",
       "    <tr>\n",
       "      <th>count</th>\n",
       "      <td>164778.000000</td>\n",
       "      <td>1.647780e+05</td>\n",
       "      <td>164778.000000</td>\n",
       "      <td>164778.00000</td>\n",
       "      <td>164778.000000</td>\n",
       "      <td>164778.000000</td>\n",
       "      <td>164778.000000</td>\n",
       "    </tr>\n",
       "    <tr>\n",
       "      <th>mean</th>\n",
       "      <td>61.681214</td>\n",
       "      <td>1.281192e+08</td>\n",
       "      <td>3.287956</td>\n",
       "      <td>5.55081</td>\n",
       "      <td>5.136907</td>\n",
       "      <td>0.756476</td>\n",
       "      <td>57.750128</td>\n",
       "    </tr>\n",
       "    <tr>\n",
       "      <th>std</th>\n",
       "      <td>9.900247</td>\n",
       "      <td>1.317165e+07</td>\n",
       "      <td>2.085593</td>\n",
       "      <td>1.77212</td>\n",
       "      <td>1.384270</td>\n",
       "      <td>0.851837</td>\n",
       "      <td>9.941382</td>\n",
       "    </tr>\n",
       "    <tr>\n",
       "      <th>min</th>\n",
       "      <td>0.000000</td>\n",
       "      <td>9.666855e+06</td>\n",
       "      <td>0.000000</td>\n",
       "      <td>0.00000</td>\n",
       "      <td>0.000000</td>\n",
       "      <td>0.080000</td>\n",
       "      <td>0.000000</td>\n",
       "    </tr>\n",
       "    <tr>\n",
       "      <th>25%</th>\n",
       "      <td>61.200000</td>\n",
       "      <td>1.275639e+08</td>\n",
       "      <td>2.680000</td>\n",
       "      <td>4.35000</td>\n",
       "      <td>4.310000</td>\n",
       "      <td>0.310000</td>\n",
       "      <td>57.000000</td>\n",
       "    </tr>\n",
       "    <tr>\n",
       "      <th>50%</th>\n",
       "      <td>62.400000</td>\n",
       "      <td>1.325993e+08</td>\n",
       "      <td>3.030000</td>\n",
       "      <td>5.06000</td>\n",
       "      <td>4.800000</td>\n",
       "      <td>0.500000</td>\n",
       "      <td>58.000000</td>\n",
       "    </tr>\n",
       "    <tr>\n",
       "      <th>75%</th>\n",
       "      <td>63.500000</td>\n",
       "      <td>1.348522e+08</td>\n",
       "      <td>3.640000</td>\n",
       "      <td>6.35000</td>\n",
       "      <td>5.700000</td>\n",
       "      <td>1.000000</td>\n",
       "      <td>60.000000</td>\n",
       "    </tr>\n",
       "    <tr>\n",
       "      <th>max</th>\n",
       "      <td>98.700000</td>\n",
       "      <td>1.361475e+08</td>\n",
       "      <td>76.300000</td>\n",
       "      <td>93.66000</td>\n",
       "      <td>62.300000</td>\n",
       "      <td>19.350000</td>\n",
       "      <td>94.000000</td>\n",
       "    </tr>\n",
       "  </tbody>\n",
       "</table>\n",
       "</div>"
      ],
      "text/plain": [
       "       depth_percent    diamond_id     meas_depth   meas_length  \\\n",
       "count  164778.000000  1.647780e+05  164778.000000  164778.00000   \n",
       "mean       61.681214  1.281192e+08       3.287956       5.55081   \n",
       "std         9.900247  1.317165e+07       2.085593       1.77212   \n",
       "min         0.000000  9.666855e+06       0.000000       0.00000   \n",
       "25%        61.200000  1.275639e+08       2.680000       4.35000   \n",
       "50%        62.400000  1.325993e+08       3.030000       5.06000   \n",
       "75%        63.500000  1.348522e+08       3.640000       6.35000   \n",
       "max        98.700000  1.361475e+08      76.300000      93.66000   \n",
       "\n",
       "          meas_width           size  table_percent  \n",
       "count  164778.000000  164778.000000  164778.000000  \n",
       "mean        5.136907       0.756476      57.750128  \n",
       "std         1.384270       0.851837       9.941382  \n",
       "min         0.000000       0.080000       0.000000  \n",
       "25%         4.310000       0.310000      57.000000  \n",
       "50%         4.800000       0.500000      58.000000  \n",
       "75%         5.700000       1.000000      60.000000  \n",
       "max        62.300000      19.350000      94.000000  "
      ]
     },
     "execution_count": 72,
     "metadata": {},
     "output_type": "execute_result"
    }
   ],
   "source": [
    "X_train.describe()"
   ]
  },
  {
   "cell_type": "code",
   "execution_count": 73,
   "id": "eb99c2d5-fa7a-4fc6-ba7d-840b7deded80",
   "metadata": {},
   "outputs": [
    {
     "data": {
      "text/plain": [
       "array(['H', 'D', 'E', 'G', 'J', 'I', 'F', 'K', nan, 'M', 'L'],\n",
       "      dtype=object)"
      ]
     },
     "execution_count": 73,
     "metadata": {},
     "output_type": "execute_result"
    }
   ],
   "source": [
    "X_train.color.unique()"
   ]
  },
  {
   "cell_type": "code",
   "execution_count": 74,
   "id": "0ee9548d-5bad-4bcf-9b31-1f72a8ee07ba",
   "metadata": {},
   "outputs": [
    {
     "data": {
      "text/plain": [
       "array(['Round', 'Heart', 'Asscher', 'Pear', 'Oval', 'Princess', 'Emerald',\n",
       "       'Marquise', 'Radiant', 'Cushion Modified', 'Cushion'], dtype=object)"
      ]
     },
     "execution_count": 74,
     "metadata": {},
     "output_type": "execute_result"
    }
   ],
   "source": [
    "X_train['shape'].unique()"
   ]
  },
  {
   "cell_type": "code",
   "execution_count": 75,
   "id": "04e575b3-b53e-4389-8f50-a573d57cbe5f",
   "metadata": {},
   "outputs": [
    {
     "name": "stderr",
     "output_type": "stream",
     "text": [
      "/usr/local/lib/python3.8/dist-packages/seaborn/_decorators.py:36: FutureWarning: Pass the following variables as keyword args: x, y. From version 0.12, the only valid positional argument will be `data`, and passing other arguments without an explicit keyword will result in an error or misinterpretation.\n",
      "  warnings.warn(\n"
     ]
    },
    {
     "data": {
      "image/png": "[encoded data removed]",
      "text/plain": [
       "<Figure size 432x288 with 1 Axes>"
      ]
     },
     "metadata": {
      "needs_background": "light"
     },
     "output_type": "display_data"
    },
    {
     "name": "stderr",
     "output_type": "stream",
     "text": [
      "/usr/local/lib/python3.8/dist-packages/seaborn/_decorators.py:36: FutureWarning: Pass the following variables as keyword args: x, y. From version 0.12, the only valid positional argument will be `data`, and passing other arguments without an explicit keyword will result in an error or misinterpretation.\n",
      "  warnings.warn(\n"
     ]
    },
    {
     "data": {
      "image/png": "[encoded data removed]",
      "text/plain": [
       "<Figure size 432x288 with 1 Axes>"
      ]
     },
     "metadata": {
      "needs_background": "light"
     },
     "output_type": "display_data"
    },
    {
     "name": "stderr",
     "output_type": "stream",
     "text": [
      "/usr/local/lib/python3.8/dist-packages/seaborn/_decorators.py:36: FutureWarning: Pass the following variables as keyword args: x, y. From version 0.12, the only valid positional argument will be `data`, and passing other arguments without an explicit keyword will result in an error or misinterpretation.\n",
      "  warnings.warn(\n"
     ]
    },
    {
     "data": {
      "image/png": "[encoded data removed]",
      "text/plain": [
       "<Figure size 432x288 with 1 Axes>"
      ]
     },
     "metadata": {
      "needs_background": "light"
     },
     "output_type": "display_data"
    },
    {
     "name": "stderr",
     "output_type": "stream",
     "text": [
      "/usr/local/lib/python3.8/dist-packages/seaborn/_decorators.py:36: FutureWarning: Pass the following variables as keyword args: x, y. From version 0.12, the only valid positional argument will be `data`, and passing other arguments without an explicit keyword will result in an error or misinterpretation.\n",
      "  warnings.warn(\n"
     ]
    },
    {
     "data": {
      "image/png": "[encoded data removed]",
      "text/plain": [
       "<Figure size 432x288 with 1 Axes>"
      ]
     },
     "metadata": {
      "needs_background": "light"
     },
     "output_type": "display_data"
    },
    {
     "name": "stderr",
     "output_type": "stream",
     "text": [
      "/usr/local/lib/python3.8/dist-packages/seaborn/_decorators.py:36: FutureWarning: Pass the following variables as keyword args: x, y. From version 0.12, the only valid positional argument will be `data`, and passing other arguments without an explicit keyword will result in an error or misinterpretation.\n",
      "  warnings.warn(\n"
     ]
    },
    {
     "data": {
      "image/png": "[encoded data removed]",
      "text/plain": [
       "<Figure size 432x288 with 1 Axes>"
      ]
     },
     "metadata": {
      "needs_background": "light"
     },
     "output_type": "display_data"
    },
    {
     "name": "stderr",
     "output_type": "stream",
     "text": [
      "/usr/local/lib/python3.8/dist-packages/seaborn/_decorators.py:36: FutureWarning: Pass the following variables as keyword args: x, y. From version 0.12, the only valid positional argument will be `data`, and passing other arguments without an explicit keyword will result in an error or misinterpretation.\n",
      "  warnings.warn(\n"
     ]
    },
    {
     "data": {
      "image/png": "[encoded data removed]",
      "text/plain": [
       "<Figure size 432x288 with 1 Axes>"
      ]
     },
     "metadata": {
      "needs_background": "light"
     },
     "output_type": "display_data"
    },
    {
     "name": "stderr",
     "output_type": "stream",
     "text": [
      "/usr/local/lib/python3.8/dist-packages/seaborn/_decorators.py:36: FutureWarning: Pass the following variables as keyword args: x, y. From version 0.12, the only valid positional argument will be `data`, and passing other arguments without an explicit keyword will result in an error or misinterpretation.\n",
      "  warnings.warn(\n"
     ]
    },
    {
     "data": {
      "image/png": "[encoded data removed]",
      "text/plain": [
       "<Figure size 432x288 with 1 Axes>"
      ]
     },
     "metadata": {
      "needs_background": "light"
     },
     "output_type": "display_data"
    }
   ],
   "source": [
    "for name in cat_columns:\n",
    "    sbn.barplot(X_train[name].value_counts().index, X_train[name].value_counts()).set_title(name)\n",
    "    plt.show()"
   ]
  },
  {
   "cell_type": "code",
   "execution_count": 90,
   "id": "b84806c5-3c07-4bda-8d79-9626d4641b85",
   "metadata": {},
   "outputs": [
    {
     "data": {
      "text/plain": [
       "clarity\n",
       "I1       5662.488201\n",
       "I2       4392.220196\n",
       "I3       4150.893333\n",
       "IF      10307.349393\n",
       "SI1      6581.455466\n",
       "SI2      6636.058618\n",
       "SI3       408.250000\n",
       "VS1      7647.057354\n",
       "VS2      7583.165834\n",
       "VVS1     5558.177681\n",
       "VVS2     6131.477914\n",
       "Name: total_sales_price, dtype: float64"
      ]
     },
     "execution_count": 90,
     "metadata": {},
     "output_type": "execute_result"
    }
   ],
   "source": [
    "full_training_set = X_train\n",
    "full_training_set[\"total_sales_price\"] = y_train\n",
    "\n",
    "full_training_set.groupby([\"clarity\"])['total_sales_price'].mean()"
   ]
  },
  {
   "cell_type": "code",
   "execution_count": 91,
   "id": "ea213a85-a2a8-4d8d-a68b-ca2cbd3ff87f",
   "metadata": {},
   "outputs": [
    {
     "data": {
      "text/plain": [
       "color\n",
       "D    6366.127592\n",
       "E    5356.790948\n",
       "F    5513.506534\n",
       "G    7147.485225\n",
       "H    7449.196845\n",
       "I    6873.682521\n",
       "J    6650.038291\n",
       "K    6185.900181\n",
       "L    5882.904176\n",
       "M    6042.950579\n",
       "Name: total_sales_price, dtype: float64"
      ]
     },
     "execution_count": 91,
     "metadata": {},
     "output_type": "execute_result"
    }
   ],
   "source": [
    "full_training_set.groupby([\"color\"])['total_sales_price'].mean()"
   ]
  },
  {
   "cell_type": "markdown",
   "id": "2910d49c-d073-415f-a2f3-37304537cce5",
   "metadata": {},
   "source": [
    "*color values are coded E been nearly colorless to M been Light Yellow color*\n",
    "\n",
    "Refer to the link for more info https://australiandiamondimporters.com.au/colour/"
   ]
  },
  {
   "cell_type": "code",
   "execution_count": 81,
   "id": "e967248c-5d45-4485-84dc-d98efc4772e5",
   "metadata": {},
   "outputs": [
    {
     "data": {
      "text/plain": [
       "array(['2022-02-24'], dtype=object)"
      ]
     },
     "execution_count": 81,
     "metadata": {},
     "output_type": "execute_result"
    }
   ],
   "source": [
    "X_train['date'].unique()"
   ]
  },
  {
   "cell_type": "code",
   "execution_count": 92,
   "id": "48b5f8b9-4ca6-4883-82ba-0b825add7b77",
   "metadata": {},
   "outputs": [
    {
     "data": {
      "image/png": "[encoded data removed]",
      "text/plain": [
       "<Figure size 432x288 with 1 Axes>"
      ]
     },
     "metadata": {
      "needs_background": "light"
     },
     "output_type": "display_data"
    },
    {
     "data": {
      "image/png": "[encoded data removed]",
      "text/plain": [
       "<Figure size 432x288 with 1 Axes>"
      ]
     },
     "metadata": {
      "needs_background": "light"
     },
     "output_type": "display_data"
    },
    {
     "data": {
      "image/png": "[encoded data removed]",
      "text/plain": [
       "<Figure size 432x288 with 1 Axes>"
      ]
     },
     "metadata": {
      "needs_background": "light"
     },
     "output_type": "display_data"
    },
    {
     "data": {
      "image/png": "[encoded data removed]",
      "text/plain": [
       "<Figure size 432x288 with 1 Axes>"
      ]
     },
     "metadata": {
      "needs_background": "light"
     },
     "output_type": "display_data"
    },
    {
     "data": {
      "image/png": "[encoded data removed]",
      "text/plain": [
       "<Figure size 432x288 with 1 Axes>"
      ]
     },
     "metadata": {
      "needs_background": "light"
     },
     "output_type": "display_data"
    },
    {
     "data": {
      "image/png": "[encoded data removed]",
      "text/plain": [
       "<Figure size 432x288 with 1 Axes>"
      ]
     },
     "metadata": {
      "needs_background": "light"
     },
     "output_type": "display_data"
    },
    {
     "data": {
      "image/png": "[encoded data removed]",
      "text/plain": [
       "<Figure size 432x288 with 1 Axes>"
      ]
     },
     "metadata": {
      "needs_background": "light"
     },
     "output_type": "display_data"
    }
   ],
   "source": [
    "for name in nb_columns:\n",
    "    plt.hist(X_train[name])\n",
    "    plt.title(name)\n",
    "    plt.show()"
   ]
  },
  {
   "cell_type": "code",
   "execution_count": 93,
   "id": "5ca6f558-0b43-4b27-abe2-fae764ac98bb",
   "metadata": {},
   "outputs": [
    {
     "name": "stdout",
     "output_type": "stream",
     "text": [
      "                       size  depth_percent  table_percent  meas_length  \\\n",
      "size               1.000000       0.063203       0.091485     0.778160   \n",
      "depth_percent      0.063203       1.000000       0.673950     0.133485   \n",
      "table_percent      0.091485       0.673950       1.000000     0.168738   \n",
      "meas_length        0.778160       0.133485       0.168738     1.000000   \n",
      "meas_width         0.785592       0.125197       0.144362     0.785484   \n",
      "meas_depth         0.353089       0.090090       0.084414     0.344004   \n",
      "total_sales_price  0.748826       0.025845       0.045231     0.490235   \n",
      "\n",
      "                   meas_width  meas_depth  total_sales_price  \n",
      "size                 0.785592    0.353089           0.748826  \n",
      "depth_percent        0.125197    0.090090           0.025845  \n",
      "table_percent        0.144362    0.084414           0.045231  \n",
      "meas_length          0.785484    0.344004           0.490235  \n",
      "meas_width           1.000000    0.414444           0.509121  \n",
      "meas_depth           0.414444    1.000000           0.219844  \n",
      "total_sales_price    0.509121    0.219844           1.000000  \n"
     ]
    },
    {
     "data": {
      "text/plain": [
       "<AxesSubplot:>"
      ]
     },
     "execution_count": 93,
     "metadata": {},
     "output_type": "execute_result"
    },
    {
     "data": {
      "image/png": "[encoded data removed]",
      "text/plain": [
       "<Figure size 432x288 with 2 Axes>"
      ]
     },
     "metadata": {
      "needs_background": "light"
     },
     "output_type": "display_data"
    }
   ],
   "source": [
    "corr = X_train[nb_columns].corr()\n",
    "print(corr)\n",
    "sbn.heatmap(corr)"
   ]
  },
  {
   "cell_type": "code",
   "execution_count": 94,
   "id": "8eefa40d-0a9d-4b47-bb44-9d1a4380da68",
   "metadata": {},
   "outputs": [
    {
     "data": {
      "text/html": [
       "<div>\n",
       "<style scoped>\n",
       "    .dataframe tbody tr th:only-of-type {\n",
       "        vertical-align: middle;\n",
       "    }\n",
       "\n",
       "    .dataframe tbody tr th {\n",
       "        vertical-align: top;\n",
       "    }\n",
       "\n",
       "    .dataframe thead th {\n",
       "        text-align: right;\n",
       "    }\n",
       "</style>\n",
       "<table border=\"1\" class=\"dataframe\">\n",
       "  <thead>\n",
       "    <tr style=\"text-align: right;\">\n",
       "      <th></th>\n",
       "      <th>depth_percent</th>\n",
       "      <th>meas_depth</th>\n",
       "      <th>meas_length</th>\n",
       "      <th>size</th>\n",
       "      <th>table_percent</th>\n",
       "      <th>total_sales_price</th>\n",
       "    </tr>\n",
       "    <tr>\n",
       "      <th>color</th>\n",
       "      <th></th>\n",
       "      <th></th>\n",
       "      <th></th>\n",
       "      <th></th>\n",
       "      <th></th>\n",
       "      <th></th>\n",
       "    </tr>\n",
       "  </thead>\n",
       "  <tbody>\n",
       "    <tr>\n",
       "      <th>D</th>\n",
       "      <td>61.184904</td>\n",
       "      <td>3.102623</td>\n",
       "      <td>5.290951</td>\n",
       "      <td>0.603043</td>\n",
       "      <td>57.711819</td>\n",
       "      <td>6366.127592</td>\n",
       "    </tr>\n",
       "    <tr>\n",
       "      <th>E</th>\n",
       "      <td>61.534135</td>\n",
       "      <td>3.044432</td>\n",
       "      <td>5.124311</td>\n",
       "      <td>0.576440</td>\n",
       "      <td>57.730980</td>\n",
       "      <td>5356.790948</td>\n",
       "    </tr>\n",
       "    <tr>\n",
       "      <th>F</th>\n",
       "      <td>61.862325</td>\n",
       "      <td>3.122224</td>\n",
       "      <td>5.236819</td>\n",
       "      <td>0.617202</td>\n",
       "      <td>57.996225</td>\n",
       "      <td>5513.506534</td>\n",
       "    </tr>\n",
       "    <tr>\n",
       "      <th>G</th>\n",
       "      <td>61.756182</td>\n",
       "      <td>3.316275</td>\n",
       "      <td>5.546506</td>\n",
       "      <td>0.739228</td>\n",
       "      <td>57.765055</td>\n",
       "      <td>7147.485225</td>\n",
       "    </tr>\n",
       "    <tr>\n",
       "      <th>H</th>\n",
       "      <td>61.696687</td>\n",
       "      <td>3.400865</td>\n",
       "      <td>5.682731</td>\n",
       "      <td>0.805664</td>\n",
       "      <td>57.886239</td>\n",
       "      <td>7449.196845</td>\n",
       "    </tr>\n",
       "    <tr>\n",
       "      <th>I</th>\n",
       "      <td>61.567595</td>\n",
       "      <td>3.423947</td>\n",
       "      <td>5.744252</td>\n",
       "      <td>0.835554</td>\n",
       "      <td>57.760482</td>\n",
       "      <td>6873.682521</td>\n",
       "    </tr>\n",
       "    <tr>\n",
       "      <th>J</th>\n",
       "      <td>61.860055</td>\n",
       "      <td>3.504795</td>\n",
       "      <td>5.923753</td>\n",
       "      <td>0.911978</td>\n",
       "      <td>57.896157</td>\n",
       "      <td>6650.038291</td>\n",
       "    </tr>\n",
       "    <tr>\n",
       "      <th>K</th>\n",
       "      <td>61.835061</td>\n",
       "      <td>3.478639</td>\n",
       "      <td>5.910495</td>\n",
       "      <td>0.935292</td>\n",
       "      <td>57.576076</td>\n",
       "      <td>6185.900181</td>\n",
       "    </tr>\n",
       "    <tr>\n",
       "      <th>L</th>\n",
       "      <td>61.774988</td>\n",
       "      <td>3.582441</td>\n",
       "      <td>6.055573</td>\n",
       "      <td>1.016418</td>\n",
       "      <td>57.555246</td>\n",
       "      <td>5882.904176</td>\n",
       "    </tr>\n",
       "    <tr>\n",
       "      <th>M</th>\n",
       "      <td>60.926313</td>\n",
       "      <td>3.708589</td>\n",
       "      <td>6.223170</td>\n",
       "      <td>1.125062</td>\n",
       "      <td>56.657231</td>\n",
       "      <td>6042.950579</td>\n",
       "    </tr>\n",
       "  </tbody>\n",
       "</table>\n",
       "</div>"
      ],
      "text/plain": [
       "       depth_percent  meas_depth  meas_length      size  table_percent  \\\n",
       "color                                                                    \n",
       "D          61.184904    3.102623     5.290951  0.603043      57.711819   \n",
       "E          61.534135    3.044432     5.124311  0.576440      57.730980   \n",
       "F          61.862325    3.122224     5.236819  0.617202      57.996225   \n",
       "G          61.756182    3.316275     5.546506  0.739228      57.765055   \n",
       "H          61.696687    3.400865     5.682731  0.805664      57.886239   \n",
       "I          61.567595    3.423947     5.744252  0.835554      57.760482   \n",
       "J          61.860055    3.504795     5.923753  0.911978      57.896157   \n",
       "K          61.835061    3.478639     5.910495  0.935292      57.576076   \n",
       "L          61.774988    3.582441     6.055573  1.016418      57.555246   \n",
       "M          60.926313    3.708589     6.223170  1.125062      56.657231   \n",
       "\n",
       "       total_sales_price  \n",
       "color                     \n",
       "D            6366.127592  \n",
       "E            5356.790948  \n",
       "F            5513.506534  \n",
       "G            7147.485225  \n",
       "H            7449.196845  \n",
       "I            6873.682521  \n",
       "J            6650.038291  \n",
       "K            6185.900181  \n",
       "L            5882.904176  \n",
       "M            6042.950579  "
      ]
     },
     "execution_count": 94,
     "metadata": {},
     "output_type": "execute_result"
    }
   ],
   "source": [
    "pd.pivot_table(full_training_set, index=\"color\", values=[\"size\", \"depth_percent\", \"table_percent\", \"meas_length\", \"meas_depth\", \"total_sales_price\"])"
   ]
  },
  {
   "cell_type": "code",
   "execution_count": 95,
   "id": "536d00fc-126b-4b87-a087-e1c808c9e0be",
   "metadata": {},
   "outputs": [
    {
     "data": {
      "text/html": [
       "<div>\n",
       "<style scoped>\n",
       "    .dataframe tbody tr th:only-of-type {\n",
       "        vertical-align: middle;\n",
       "    }\n",
       "\n",
       "    .dataframe tbody tr th {\n",
       "        vertical-align: top;\n",
       "    }\n",
       "\n",
       "    .dataframe thead th {\n",
       "        text-align: right;\n",
       "    }\n",
       "</style>\n",
       "<table border=\"1\" class=\"dataframe\">\n",
       "  <thead>\n",
       "    <tr style=\"text-align: right;\">\n",
       "      <th></th>\n",
       "      <th>depth_percent</th>\n",
       "      <th>meas_depth</th>\n",
       "      <th>meas_length</th>\n",
       "      <th>size</th>\n",
       "      <th>table_percent</th>\n",
       "      <th>total_sales_price</th>\n",
       "    </tr>\n",
       "    <tr>\n",
       "      <th>cut</th>\n",
       "      <th></th>\n",
       "      <th></th>\n",
       "      <th></th>\n",
       "      <th></th>\n",
       "      <th></th>\n",
       "      <th></th>\n",
       "    </tr>\n",
       "  </thead>\n",
       "  <tbody>\n",
       "    <tr>\n",
       "      <th>Excellent</th>\n",
       "      <td>60.684385</td>\n",
       "      <td>3.204627</td>\n",
       "      <td>5.096307</td>\n",
       "      <td>0.624926</td>\n",
       "      <td>56.455634</td>\n",
       "      <td>5421.860274</td>\n",
       "    </tr>\n",
       "    <tr>\n",
       "      <th>Fair</th>\n",
       "      <td>63.320000</td>\n",
       "      <td>3.728000</td>\n",
       "      <td>5.866000</td>\n",
       "      <td>0.878000</td>\n",
       "      <td>61.100000</td>\n",
       "      <td>2848.600000</td>\n",
       "    </tr>\n",
       "    <tr>\n",
       "      <th>Good</th>\n",
       "      <td>62.700000</td>\n",
       "      <td>3.983810</td>\n",
       "      <td>7.755714</td>\n",
       "      <td>1.494286</td>\n",
       "      <td>59.261905</td>\n",
       "      <td>10053.380952</td>\n",
       "    </tr>\n",
       "    <tr>\n",
       "      <th>Ideal</th>\n",
       "      <td>69.800000</td>\n",
       "      <td>3.330000</td>\n",
       "      <td>6.250000</td>\n",
       "      <td>0.900000</td>\n",
       "      <td>64.000000</td>\n",
       "      <td>3767.000000</td>\n",
       "    </tr>\n",
       "    <tr>\n",
       "      <th>None</th>\n",
       "      <td>67.400000</td>\n",
       "      <td>3.020000</td>\n",
       "      <td>8.580000</td>\n",
       "      <td>0.700000</td>\n",
       "      <td>56.500000</td>\n",
       "      <td>966.000000</td>\n",
       "    </tr>\n",
       "    <tr>\n",
       "      <th>Very Good</th>\n",
       "      <td>60.809794</td>\n",
       "      <td>3.261199</td>\n",
       "      <td>5.061946</td>\n",
       "      <td>0.621537</td>\n",
       "      <td>56.183388</td>\n",
       "      <td>4014.006535</td>\n",
       "    </tr>\n",
       "  </tbody>\n",
       "</table>\n",
       "</div>"
      ],
      "text/plain": [
       "           depth_percent  meas_depth  meas_length      size  table_percent  \\\n",
       "cut                                                                          \n",
       "Excellent      60.684385    3.204627     5.096307  0.624926      56.455634   \n",
       "Fair           63.320000    3.728000     5.866000  0.878000      61.100000   \n",
       "Good           62.700000    3.983810     7.755714  1.494286      59.261905   \n",
       "Ideal          69.800000    3.330000     6.250000  0.900000      64.000000   \n",
       "None           67.400000    3.020000     8.580000  0.700000      56.500000   \n",
       "Very Good      60.809794    3.261199     5.061946  0.621537      56.183388   \n",
       "\n",
       "           total_sales_price  \n",
       "cut                           \n",
       "Excellent        5421.860274  \n",
       "Fair             2848.600000  \n",
       "Good            10053.380952  \n",
       "Ideal            3767.000000  \n",
       "None              966.000000  \n",
       "Very Good        4014.006535  "
      ]
     },
     "execution_count": 95,
     "metadata": {},
     "output_type": "execute_result"
    }
   ],
   "source": [
    "pd.pivot_table(full_training_set, index=\"cut\", values=[\"size\", \"depth_percent\", \"table_percent\", \"meas_length\", \"meas_depth\", \"total_sales_price\"])"
   ]
  },
  {
   "cell_type": "markdown",
   "id": "59ac92a1-6611-4292-a910-193f8b890387",
   "metadata": {},
   "source": [
    "## Observations:\n",
    "\n",
    "### Missing values\n",
    "- fancy_color columns, culet_condition, fluor_color and eye_clean columns have more than 70% missing values so I will discard them for this analysis\n",
    "- cut, girdle_min, girdle_max and culet_size has around 30% missing values might be removed\n",
    "- fluor_intensity, color have really small missing value that need to be handled\n",
    "\n",
    "### Feature\n",
    "- Round shape diamond are dominant\n",
    "- most diamonds tends to be colorless color\n",
    "- prices from 200 USD -> 1.4M USD (excluding taxes)\n",
    "- date has only one value feb 2022 can be discarded\n",
    "- price is mostly correlated to size meas_width, meas_length\n",
    "- clarity feature seems to impact the price as well"
   ]
  },
  {
   "cell_type": "markdown",
   "id": "e7bf9145-251f-48d4-95ff-9f49052f739e",
   "metadata": {},
   "source": [
    "   # Feature enginnering\n",
    "   "
   ]
  },
  {
   "cell_type": "code",
   "execution_count": 96,
   "id": "53db7b3c-c3d9-49f3-8128-5f7f17a28dff",
   "metadata": {},
   "outputs": [],
   "source": [
    "X_train_simplify = X_train.drop(columns = [\"fancy_color_dominant_color\", \"fancy_color_secondary_color\", \"fancy_color_overtone\", \"fancy_color_intensity\", \"culet_condition\", \"fluor_color\", \"eye_clean\", \"date\", \"girdle_min\", \"girdle_max\", \"culet_size\", \"cut\"])"
   ]
  },
  {
   "cell_type": "code",
   "execution_count": 97,
   "id": "dd72c1d7-8a40-400e-997d-9690934cfd67",
   "metadata": {},
   "outputs": [
    {
     "data": {
      "text/plain": [
       "Index(['clarity', 'color', 'depth_percent', 'diamond_id', 'fluor_intensity',\n",
       "       'lab', 'meas_depth', 'meas_length', 'meas_width', 'polish', 'shape',\n",
       "       'size', 'symmetry', 'table_percent', 'total_sales_price'],\n",
       "      dtype='object')"
      ]
     },
     "execution_count": 97,
     "metadata": {},
     "output_type": "execute_result"
    }
   ],
   "source": [
    "X_train_simplify.columns"
   ]
  },
  {
   "cell_type": "code",
   "execution_count": 98,
   "id": "f950c8d8-a22b-4ec2-9d58-31653413d4e4",
   "metadata": {},
   "outputs": [],
   "source": [
    "X_train_simplify[\"is_expensive\"] = X_train_simplify[\"total_sales_price\"].apply(lambda x: 1 if x > df2[\"total_sales_price\"].mean() else 0)"
   ]
  },
  {
   "cell_type": "code",
   "execution_count": 99,
   "id": "2bba2705-cd6b-4da1-bcb8-d1c7d4faf06e",
   "metadata": {},
   "outputs": [
    {
     "data": {
      "text/html": [
       "<div>\n",
       "<style scoped>\n",
       "    .dataframe tbody tr th:only-of-type {\n",
       "        vertical-align: middle;\n",
       "    }\n",
       "\n",
       "    .dataframe tbody tr th {\n",
       "        vertical-align: top;\n",
       "    }\n",
       "\n",
       "    .dataframe thead th {\n",
       "        text-align: right;\n",
       "    }\n",
       "</style>\n",
       "<table border=\"1\" class=\"dataframe\">\n",
       "  <thead>\n",
       "    <tr style=\"text-align: right;\">\n",
       "      <th></th>\n",
       "      <th>depth_percent</th>\n",
       "      <th>meas_depth</th>\n",
       "      <th>meas_length</th>\n",
       "      <th>size</th>\n",
       "      <th>table_percent</th>\n",
       "    </tr>\n",
       "    <tr>\n",
       "      <th>is_expensive</th>\n",
       "      <th></th>\n",
       "      <th></th>\n",
       "      <th></th>\n",
       "      <th></th>\n",
       "      <th></th>\n",
       "    </tr>\n",
       "  </thead>\n",
       "  <tbody>\n",
       "    <tr>\n",
       "      <th>0</th>\n",
       "      <td>61.373419</td>\n",
       "      <td>2.969216</td>\n",
       "      <td>4.972550</td>\n",
       "      <td>0.481288</td>\n",
       "      <td>57.265739</td>\n",
       "    </tr>\n",
       "    <tr>\n",
       "      <th>1</th>\n",
       "      <td>62.926067</td>\n",
       "      <td>4.539867</td>\n",
       "      <td>7.834144</td>\n",
       "      <td>1.845802</td>\n",
       "      <td>59.548473</td>\n",
       "    </tr>\n",
       "  </tbody>\n",
       "</table>\n",
       "</div>"
      ],
      "text/plain": [
       "              depth_percent  meas_depth  meas_length      size  table_percent\n",
       "is_expensive                                                                 \n",
       "0                 61.373419    2.969216     4.972550  0.481288      57.265739\n",
       "1                 62.926067    4.539867     7.834144  1.845802      59.548473"
      ]
     },
     "execution_count": 99,
     "metadata": {},
     "output_type": "execute_result"
    }
   ],
   "source": [
    "pd.pivot_table(X_train_simplify, index=\"is_expensive\", values=[\"size\", \"depth_percent\", \"table_percent\", \"meas_length\", \"meas_depth\"])"
   ]
  },
  {
   "cell_type": "code",
   "execution_count": 100,
   "id": "446c15f6-7b16-4e85-8ee9-c59b0555df86",
   "metadata": {},
   "outputs": [],
   "source": [
    "X_full_train_simplify = X_train_simplify\n",
    "X_full_train_simplify[\"total_sales_price\"] = y_train"
   ]
  },
  {
   "cell_type": "code",
   "execution_count": 101,
   "id": "7e80050c-563b-48c0-8c8d-c36825c80e23",
   "metadata": {},
   "outputs": [
    {
     "name": "stdout",
     "output_type": "stream",
     "text": [
      "color                    D             E             F             G  \\\n",
      "is_expensive                                                           \n",
      "0              1911.583527   1743.399535   1904.284777   2128.337251   \n",
      "1             28888.199843  26083.919500  24499.067463  25061.193030   \n",
      "\n",
      "color                    H             I             J             K  \\\n",
      "is_expensive                                                           \n",
      "0              2251.641367   2149.735276   2098.793207   1931.397288   \n",
      "1             24927.568820  24066.306128  23500.481399  26177.135779   \n",
      "\n",
      "color                    L             M  \n",
      "is_expensive                              \n",
      "0              2054.129277   2170.454595  \n",
      "1             24234.263441  22978.172249  \n"
     ]
    }
   ],
   "source": [
    "print(pd.pivot_table(X_full_train_simplify, index=\"is_expensive\", columns=\"color\", values=\"total_sales_price\"))"
   ]
  },
  {
   "cell_type": "code",
   "execution_count": 102,
   "id": "1c68d4fd-0f58-4dc4-a8c7-20d8a60d041d",
   "metadata": {},
   "outputs": [],
   "source": [
    "X_train_simplify[\"is_big\"] = X_train_simplify[\"size\"].apply(lambda x: 1 if x > X_train_simplify[\"size\"].mean() else 0)"
   ]
  },
  {
   "cell_type": "code",
   "execution_count": 103,
   "id": "38a970d6-b001-428f-9be3-585c0d4bb558",
   "metadata": {},
   "outputs": [
    {
     "data": {
      "text/html": [
       "<div>\n",
       "<style scoped>\n",
       "    .dataframe tbody tr th:only-of-type {\n",
       "        vertical-align: middle;\n",
       "    }\n",
       "\n",
       "    .dataframe tbody tr th {\n",
       "        vertical-align: top;\n",
       "    }\n",
       "\n",
       "    .dataframe thead th {\n",
       "        text-align: right;\n",
       "    }\n",
       "</style>\n",
       "<table border=\"1\" class=\"dataframe\">\n",
       "  <thead>\n",
       "    <tr style=\"text-align: right;\">\n",
       "      <th></th>\n",
       "      <th>depth_percent</th>\n",
       "      <th>diamond_id</th>\n",
       "      <th>meas_depth</th>\n",
       "      <th>meas_length</th>\n",
       "      <th>meas_width</th>\n",
       "      <th>size</th>\n",
       "      <th>table_percent</th>\n",
       "      <th>total_sales_price</th>\n",
       "      <th>is_expensive</th>\n",
       "    </tr>\n",
       "    <tr>\n",
       "      <th>is_big</th>\n",
       "      <th></th>\n",
       "      <th></th>\n",
       "      <th></th>\n",
       "      <th></th>\n",
       "      <th></th>\n",
       "      <th></th>\n",
       "      <th></th>\n",
       "      <th></th>\n",
       "      <th></th>\n",
       "    </tr>\n",
       "  </thead>\n",
       "  <tbody>\n",
       "    <tr>\n",
       "      <th>0</th>\n",
       "      <td>61.153538</td>\n",
       "      <td>1.293547e+08</td>\n",
       "      <td>2.845117</td>\n",
       "      <td>4.728896</td>\n",
       "      <td>4.507532</td>\n",
       "      <td>0.404516</td>\n",
       "      <td>56.971585</td>\n",
       "      <td>1708.302315</td>\n",
       "      <td>0.006377</td>\n",
       "    </tr>\n",
       "    <tr>\n",
       "      <th>1</th>\n",
       "      <td>62.910244</td>\n",
       "      <td>1.252621e+08</td>\n",
       "      <td>4.296997</td>\n",
       "      <td>7.432159</td>\n",
       "      <td>6.578972</td>\n",
       "      <td>1.563193</td>\n",
       "      <td>59.458028</td>\n",
       "      <td>18814.828159</td>\n",
       "      <td>0.648369</td>\n",
       "    </tr>\n",
       "  </tbody>\n",
       "</table>\n",
       "</div>"
      ],
      "text/plain": [
       "        depth_percent    diamond_id  meas_depth  meas_length  meas_width  \\\n",
       "is_big                                                                     \n",
       "0           61.153538  1.293547e+08    2.845117     4.728896    4.507532   \n",
       "1           62.910244  1.252621e+08    4.296997     7.432159    6.578972   \n",
       "\n",
       "            size  table_percent  total_sales_price  is_expensive  \n",
       "is_big                                                            \n",
       "0       0.404516      56.971585        1708.302315      0.006377  \n",
       "1       1.563193      59.458028       18814.828159      0.648369  "
      ]
     },
     "execution_count": 103,
     "metadata": {},
     "output_type": "execute_result"
    }
   ],
   "source": [
    "X_full_train_simplify = X_train_simplify\n",
    "X_full_train_simplify[\"total_sales_price\"] = y_train\n",
    "X_full_train_simplify.groupby(['is_big']).mean()"
   ]
  },
  {
   "cell_type": "markdown",
   "id": "2679a39c-7888-475b-a6ff-8298b068bd37",
   "metadata": {},
   "source": [
    "### Data cleaning"
   ]
  },
  {
   "cell_type": "code",
   "execution_count": 29,
   "id": "fc23a37e-31cc-427f-992a-07bc14bf7ea4",
   "metadata": {},
   "outputs": [
    {
     "name": "stdout",
     "output_type": "stream",
     "text": [
      "<class 'pandas.core.frame.DataFrame'>\n",
      "RangeIndex: 219704 entries, 0 to 219703\n",
      "Data columns (total 17 columns):\n",
      " #   Column             Non-Null Count   Dtype  \n",
      "---  ------             --------------   -----  \n",
      " 0   diamond_id         219704 non-null  int64  \n",
      " 1   shape              219704 non-null  object \n",
      " 2   size               219704 non-null  float64\n",
      " 3   color              210542 non-null  object \n",
      " 4   clarity            219704 non-null  object \n",
      " 5   symmetry           219704 non-null  object \n",
      " 6   polish             219704 non-null  object \n",
      " 7   depth_percent      219704 non-null  float64\n",
      " 8   table_percent      219704 non-null  float64\n",
      " 9   meas_length        219704 non-null  float64\n",
      " 10  meas_width         219704 non-null  float64\n",
      " 11  meas_depth         219704 non-null  float64\n",
      " 12  fluor_intensity    219576 non-null  object \n",
      " 13  lab                219704 non-null  object \n",
      " 14  total_sales_price  219704 non-null  int64  \n",
      " 15  is_expensive       219704 non-null  int64  \n",
      " 16  is_big             219704 non-null  int64  \n",
      "dtypes: float64(6), int64(4), object(7)\n",
      "memory usage: 28.5+ MB\n"
     ]
    },
    {
     "data": {
      "text/plain": [
       "diamond_id              0\n",
       "shape                   0\n",
       "size                    0\n",
       "color                9162\n",
       "clarity                 0\n",
       "symmetry                0\n",
       "polish                  0\n",
       "depth_percent           0\n",
       "table_percent           0\n",
       "meas_length             0\n",
       "meas_width              0\n",
       "meas_depth              0\n",
       "fluor_intensity       128\n",
       "lab                     0\n",
       "total_sales_price       0\n",
       "is_expensive            0\n",
       "is_big                  0\n",
       "dtype: int64"
      ]
     },
     "execution_count": 29,
     "metadata": {},
     "output_type": "execute_result"
    }
   ],
   "source": [
    "X_train_simplify.info()\n",
    "X_train_simplify.isnull().sum()"
   ]
  },
  {
   "cell_type": "code",
   "execution_count": 104,
   "id": "fbe8dc54-7d89-4569-8071-493046591eb6",
   "metadata": {},
   "outputs": [],
   "source": [
    "X_full_train_simplify.groupby(['color']).count()\n",
    "\n",
    "X_train_simplify.color = X_train_simplify.color.fillna(\"E\") #fill color with most common one"
   ]
  },
  {
   "cell_type": "code",
   "execution_count": 105,
   "id": "4f3b0c03-801d-4563-8976-6b8b117b3773",
   "metadata": {},
   "outputs": [],
   "source": [
    "X_full_train_simplify = X_train_simplify\n",
    "X_full_train_simplify[\"total_sales_price\"] = y_train\n",
    "\n",
    "X_full_train_simplify.groupby(['fluor_intensity']).count()\n",
    "X_train_simplify.fluor_intensity = X_train_simplify.fluor_intensity.fillna(\"Faint\") #fill Faint most common one"
   ]
  },
  {
   "cell_type": "markdown",
   "id": "2ba71cd5-64f8-44b3-a2db-f44f1a63e36b",
   "metadata": {},
   "source": [
    "### Data preparation"
   ]
  },
  {
   "cell_type": "code",
   "execution_count": 106,
   "id": "f4b73d7a-72b9-4f36-8205-7a552d60e48e",
   "metadata": {},
   "outputs": [
    {
     "data": {
      "text/plain": [
       "<AxesSubplot:>"
      ]
     },
     "execution_count": 106,
     "metadata": {},
     "output_type": "execute_result"
    },
    {
     "data": {
      "image/png": "[encoded data removed]",
      "text/plain": [
       "<Figure size 432x288 with 1 Axes>"
      ]
     },
     "metadata": {
      "needs_background": "light"
     },
     "output_type": "display_data"
    }
   ],
   "source": [
    "#normalized keeping value in a short range\n",
    "\n",
    "#normalized log norm of size\n",
    "X_train_simplify['norm_size'] =np.log(X_train_simplify.size + 1)\n",
    "X_train_simplify['norm_size'].hist()\n",
    "\n",
    "#normalized log of depth_percent\n",
    "X_train_simplify[\"norm_depth_percent\"] = np.log(X_train_simplify.depth_percent + 1)\n",
    "X_train_simplify[\"norm_depth_percent\"].hist()\n",
    "\n",
    "#normalized log of meas_depth\n",
    "X_train_simplify[\"norm_table_percent\"] = np.log(X_train_simplify.table_percent + 1)\n",
    "X_train_simplify[\"norm_table_percent\"].hist()\n",
    "\n",
    "#normalized log of meas_length\n",
    "X_train_simplify[\"norm_meas_length\"] = np.log(X_train_simplify.meas_length + 1)\n",
    "X_train_simplify[\"norm_meas_length\"].hist()\n",
    "\n",
    "#normalized log of meas_width\n",
    "X_train_simplify[\"norm_meas_width\"] = np.log(X_train_simplify.meas_width + 1)\n",
    "X_train_simplify[\"norm_meas_width\"].hist()\n",
    "\n",
    "#normalized log of meas_depth\n",
    "X_train_simplify[\"norm_meas_depth\"] = np.log(X_train_simplify.meas_depth + 1)\n",
    "X_train_simplify[\"norm_meas_depth\"].hist()\n"
   ]
  },
  {
   "cell_type": "code",
   "execution_count": 108,
   "id": "b9fda636-69c5-40df-991d-0253d8175aed",
   "metadata": {},
   "outputs": [],
   "source": [
    "X_train_dummmies = pd.get_dummies(X_train_simplify[['norm_size', 'norm_depth_percent', 'norm_table_percent', 'norm_meas_length', 'norm_meas_width', 'norm_meas_depth', 'total_sales_price', 'shape', 'color', 'clarity', 'symmetry', 'polish', 'fluor_intensity', 'lab', 'is_big', 'is_expensive']])"
   ]
  },
  {
   "cell_type": "code",
   "execution_count": 109,
   "id": "be4a517d-b36c-4ffb-a0aa-e75fbf5dc66d",
   "metadata": {},
   "outputs": [
    {
     "data": {
      "text/html": [
       "<div>\n",
       "<style scoped>\n",
       "    .dataframe tbody tr th:only-of-type {\n",
       "        vertical-align: middle;\n",
       "    }\n",
       "\n",
       "    .dataframe tbody tr th {\n",
       "        vertical-align: top;\n",
       "    }\n",
       "\n",
       "    .dataframe thead th {\n",
       "        text-align: right;\n",
       "    }\n",
       "</style>\n",
       "<table border=\"1\" class=\"dataframe\">\n",
       "  <thead>\n",
       "    <tr style=\"text-align: right;\">\n",
       "      <th></th>\n",
       "      <th>norm_size</th>\n",
       "      <th>norm_depth_percent</th>\n",
       "      <th>norm_table_percent</th>\n",
       "      <th>norm_meas_length</th>\n",
       "      <th>norm_meas_width</th>\n",
       "      <th>norm_meas_depth</th>\n",
       "      <th>total_sales_price</th>\n",
       "      <th>is_big</th>\n",
       "      <th>is_expensive</th>\n",
       "      <th>shape_Asscher</th>\n",
       "      <th>...</th>\n",
       "      <th>fluor_intensity_Faint</th>\n",
       "      <th>fluor_intensity_Medium</th>\n",
       "      <th>fluor_intensity_None</th>\n",
       "      <th>fluor_intensity_Slight</th>\n",
       "      <th>fluor_intensity_Strong</th>\n",
       "      <th>fluor_intensity_Very Slight</th>\n",
       "      <th>fluor_intensity_Very Strong</th>\n",
       "      <th>lab_GIA</th>\n",
       "      <th>lab_HRD</th>\n",
       "      <th>lab_IGI</th>\n",
       "    </tr>\n",
       "  </thead>\n",
       "  <tbody>\n",
       "    <tr>\n",
       "      <th>117682</th>\n",
       "      <td>14.845568</td>\n",
       "      <td>4.147885</td>\n",
       "      <td>4.102643</td>\n",
       "      <td>1.834180</td>\n",
       "      <td>1.838961</td>\n",
       "      <td>1.456287</td>\n",
       "      <td>2308</td>\n",
       "      <td>0</td>\n",
       "      <td>0</td>\n",
       "      <td>0</td>\n",
       "      <td>...</td>\n",
       "      <td>0</td>\n",
       "      <td>0</td>\n",
       "      <td>0</td>\n",
       "      <td>0</td>\n",
       "      <td>0</td>\n",
       "      <td>1</td>\n",
       "      <td>0</td>\n",
       "      <td>0</td>\n",
       "      <td>0</td>\n",
       "      <td>1</td>\n",
       "    </tr>\n",
       "    <tr>\n",
       "      <th>65822</th>\n",
       "      <td>14.845568</td>\n",
       "      <td>4.152613</td>\n",
       "      <td>4.043051</td>\n",
       "      <td>1.688249</td>\n",
       "      <td>1.691939</td>\n",
       "      <td>1.327075</td>\n",
       "      <td>1034</td>\n",
       "      <td>0</td>\n",
       "      <td>0</td>\n",
       "      <td>0</td>\n",
       "      <td>...</td>\n",
       "      <td>0</td>\n",
       "      <td>0</td>\n",
       "      <td>1</td>\n",
       "      <td>0</td>\n",
       "      <td>0</td>\n",
       "      <td>0</td>\n",
       "      <td>0</td>\n",
       "      <td>1</td>\n",
       "      <td>0</td>\n",
       "      <td>0</td>\n",
       "    </tr>\n",
       "    <tr>\n",
       "      <th>55367</th>\n",
       "      <td>14.845568</td>\n",
       "      <td>4.146304</td>\n",
       "      <td>4.060443</td>\n",
       "      <td>1.688249</td>\n",
       "      <td>1.690096</td>\n",
       "      <td>1.319086</td>\n",
       "      <td>966</td>\n",
       "      <td>0</td>\n",
       "      <td>0</td>\n",
       "      <td>0</td>\n",
       "      <td>...</td>\n",
       "      <td>0</td>\n",
       "      <td>0</td>\n",
       "      <td>1</td>\n",
       "      <td>0</td>\n",
       "      <td>0</td>\n",
       "      <td>0</td>\n",
       "      <td>0</td>\n",
       "      <td>1</td>\n",
       "      <td>0</td>\n",
       "      <td>0</td>\n",
       "    </tr>\n",
       "    <tr>\n",
       "      <th>149387</th>\n",
       "      <td>14.845568</td>\n",
       "      <td>4.166665</td>\n",
       "      <td>4.077537</td>\n",
       "      <td>2.106570</td>\n",
       "      <td>1.805005</td>\n",
       "      <td>1.439835</td>\n",
       "      <td>3708</td>\n",
       "      <td>0</td>\n",
       "      <td>0</td>\n",
       "      <td>0</td>\n",
       "      <td>...</td>\n",
       "      <td>0</td>\n",
       "      <td>0</td>\n",
       "      <td>1</td>\n",
       "      <td>0</td>\n",
       "      <td>0</td>\n",
       "      <td>0</td>\n",
       "      <td>0</td>\n",
       "      <td>1</td>\n",
       "      <td>0</td>\n",
       "      <td>0</td>\n",
       "    </tr>\n",
       "    <tr>\n",
       "      <th>178136</th>\n",
       "      <td>14.845568</td>\n",
       "      <td>4.138361</td>\n",
       "      <td>4.330733</td>\n",
       "      <td>1.916923</td>\n",
       "      <td>1.896119</td>\n",
       "      <td>4.138361</td>\n",
       "      <td>7514</td>\n",
       "      <td>1</td>\n",
       "      <td>1</td>\n",
       "      <td>0</td>\n",
       "      <td>...</td>\n",
       "      <td>0</td>\n",
       "      <td>1</td>\n",
       "      <td>0</td>\n",
       "      <td>0</td>\n",
       "      <td>0</td>\n",
       "      <td>0</td>\n",
       "      <td>0</td>\n",
       "      <td>1</td>\n",
       "      <td>0</td>\n",
       "      <td>0</td>\n",
       "    </tr>\n",
       "    <tr>\n",
       "      <th>...</th>\n",
       "      <td>...</td>\n",
       "      <td>...</td>\n",
       "      <td>...</td>\n",
       "      <td>...</td>\n",
       "      <td>...</td>\n",
       "      <td>...</td>\n",
       "      <td>...</td>\n",
       "      <td>...</td>\n",
       "      <td>...</td>\n",
       "      <td>...</td>\n",
       "      <td>...</td>\n",
       "      <td>...</td>\n",
       "      <td>...</td>\n",
       "      <td>...</td>\n",
       "      <td>...</td>\n",
       "      <td>...</td>\n",
       "      <td>...</td>\n",
       "      <td>...</td>\n",
       "      <td>...</td>\n",
       "      <td>...</td>\n",
       "      <td>...</td>\n",
       "    </tr>\n",
       "    <tr>\n",
       "      <th>58404</th>\n",
       "      <td>14.845568</td>\n",
       "      <td>4.097672</td>\n",
       "      <td>4.127134</td>\n",
       "      <td>1.690096</td>\n",
       "      <td>1.695616</td>\n",
       "      <td>1.289233</td>\n",
       "      <td>984</td>\n",
       "      <td>0</td>\n",
       "      <td>0</td>\n",
       "      <td>0</td>\n",
       "      <td>...</td>\n",
       "      <td>0</td>\n",
       "      <td>0</td>\n",
       "      <td>1</td>\n",
       "      <td>0</td>\n",
       "      <td>0</td>\n",
       "      <td>0</td>\n",
       "      <td>0</td>\n",
       "      <td>1</td>\n",
       "      <td>0</td>\n",
       "      <td>0</td>\n",
       "    </tr>\n",
       "    <tr>\n",
       "      <th>120224</th>\n",
       "      <td>14.845568</td>\n",
       "      <td>4.139955</td>\n",
       "      <td>4.077537</td>\n",
       "      <td>1.805005</td>\n",
       "      <td>1.811562</td>\n",
       "      <td>1.423108</td>\n",
       "      <td>2424</td>\n",
       "      <td>0</td>\n",
       "      <td>0</td>\n",
       "      <td>0</td>\n",
       "      <td>...</td>\n",
       "      <td>0</td>\n",
       "      <td>1</td>\n",
       "      <td>0</td>\n",
       "      <td>0</td>\n",
       "      <td>0</td>\n",
       "      <td>0</td>\n",
       "      <td>0</td>\n",
       "      <td>1</td>\n",
       "      <td>0</td>\n",
       "      <td>0</td>\n",
       "    </tr>\n",
       "    <tr>\n",
       "      <th>159991</th>\n",
       "      <td>14.845568</td>\n",
       "      <td>4.149464</td>\n",
       "      <td>4.043051</td>\n",
       "      <td>1.897620</td>\n",
       "      <td>1.902108</td>\n",
       "      <td>1.515127</td>\n",
       "      <td>4581</td>\n",
       "      <td>0</td>\n",
       "      <td>0</td>\n",
       "      <td>0</td>\n",
       "      <td>...</td>\n",
       "      <td>0</td>\n",
       "      <td>0</td>\n",
       "      <td>1</td>\n",
       "      <td>0</td>\n",
       "      <td>0</td>\n",
       "      <td>0</td>\n",
       "      <td>0</td>\n",
       "      <td>1</td>\n",
       "      <td>0</td>\n",
       "      <td>0</td>\n",
       "    </tr>\n",
       "    <tr>\n",
       "      <th>93672</th>\n",
       "      <td>14.845568</td>\n",
       "      <td>4.147885</td>\n",
       "      <td>4.060443</td>\n",
       "      <td>1.754404</td>\n",
       "      <td>1.757858</td>\n",
       "      <td>1.381282</td>\n",
       "      <td>1444</td>\n",
       "      <td>0</td>\n",
       "      <td>0</td>\n",
       "      <td>0</td>\n",
       "      <td>...</td>\n",
       "      <td>0</td>\n",
       "      <td>0</td>\n",
       "      <td>1</td>\n",
       "      <td>0</td>\n",
       "      <td>0</td>\n",
       "      <td>0</td>\n",
       "      <td>0</td>\n",
       "      <td>1</td>\n",
       "      <td>0</td>\n",
       "      <td>0</td>\n",
       "    </tr>\n",
       "    <tr>\n",
       "      <th>198917</th>\n",
       "      <td>14.845568</td>\n",
       "      <td>4.157319</td>\n",
       "      <td>4.119037</td>\n",
       "      <td>2.447551</td>\n",
       "      <td>2.002830</td>\n",
       "      <td>1.615420</td>\n",
       "      <td>13445</td>\n",
       "      <td>1</td>\n",
       "      <td>1</td>\n",
       "      <td>0</td>\n",
       "      <td>...</td>\n",
       "      <td>0</td>\n",
       "      <td>0</td>\n",
       "      <td>1</td>\n",
       "      <td>0</td>\n",
       "      <td>0</td>\n",
       "      <td>0</td>\n",
       "      <td>0</td>\n",
       "      <td>0</td>\n",
       "      <td>0</td>\n",
       "      <td>1</td>\n",
       "    </tr>\n",
       "  </tbody>\n",
       "</table>\n",
       "<p>100 rows × 60 columns</p>\n",
       "</div>"
      ],
      "text/plain": [
       "        norm_size  norm_depth_percent  norm_table_percent  norm_meas_length  \\\n",
       "117682  14.845568            4.147885            4.102643          1.834180   \n",
       "65822   14.845568            4.152613            4.043051          1.688249   \n",
       "55367   14.845568            4.146304            4.060443          1.688249   \n",
       "149387  14.845568            4.166665            4.077537          2.106570   \n",
       "178136  14.845568            4.138361            4.330733          1.916923   \n",
       "...           ...                 ...                 ...               ...   \n",
       "58404   14.845568            4.097672            4.127134          1.690096   \n",
       "120224  14.845568            4.139955            4.077537          1.805005   \n",
       "159991  14.845568            4.149464            4.043051          1.897620   \n",
       "93672   14.845568            4.147885            4.060443          1.754404   \n",
       "198917  14.845568            4.157319            4.119037          2.447551   \n",
       "\n",
       "        norm_meas_width  norm_meas_depth  total_sales_price  is_big  \\\n",
       "117682         1.838961         1.456287               2308       0   \n",
       "65822          1.691939         1.327075               1034       0   \n",
       "55367          1.690096         1.319086                966       0   \n",
       "149387         1.805005         1.439835               3708       0   \n",
       "178136         1.896119         4.138361               7514       1   \n",
       "...                 ...              ...                ...     ...   \n",
       "58404          1.695616         1.289233                984       0   \n",
       "120224         1.811562         1.423108               2424       0   \n",
       "159991         1.902108         1.515127               4581       0   \n",
       "93672          1.757858         1.381282               1444       0   \n",
       "198917         2.002830         1.615420              13445       1   \n",
       "\n",
       "        is_expensive  shape_Asscher  ...  fluor_intensity_Faint  \\\n",
       "117682             0              0  ...                      0   \n",
       "65822              0              0  ...                      0   \n",
       "55367              0              0  ...                      0   \n",
       "149387             0              0  ...                      0   \n",
       "178136             1              0  ...                      0   \n",
       "...              ...            ...  ...                    ...   \n",
       "58404              0              0  ...                      0   \n",
       "120224             0              0  ...                      0   \n",
       "159991             0              0  ...                      0   \n",
       "93672              0              0  ...                      0   \n",
       "198917             1              0  ...                      0   \n",
       "\n",
       "        fluor_intensity_Medium  fluor_intensity_None  fluor_intensity_Slight  \\\n",
       "117682                       0                     0                       0   \n",
       "65822                        0                     1                       0   \n",
       "55367                        0                     1                       0   \n",
       "149387                       0                     1                       0   \n",
       "178136                       1                     0                       0   \n",
       "...                        ...                   ...                     ...   \n",
       "58404                        0                     1                       0   \n",
       "120224                       1                     0                       0   \n",
       "159991                       0                     1                       0   \n",
       "93672                        0                     1                       0   \n",
       "198917                       0                     1                       0   \n",
       "\n",
       "        fluor_intensity_Strong  fluor_intensity_Very Slight  \\\n",
       "117682                       0                            1   \n",
       "65822                        0                            0   \n",
       "55367                        0                            0   \n",
       "149387                       0                            0   \n",
       "178136                       0                            0   \n",
       "...                        ...                          ...   \n",
       "58404                        0                            0   \n",
       "120224                       0                            0   \n",
       "159991                       0                            0   \n",
       "93672                        0                            0   \n",
       "198917                       0                            0   \n",
       "\n",
       "        fluor_intensity_Very Strong  lab_GIA  lab_HRD  lab_IGI  \n",
       "117682                            0        0        0        1  \n",
       "65822                             0        1        0        0  \n",
       "55367                             0        1        0        0  \n",
       "149387                            0        1        0        0  \n",
       "178136                            0        1        0        0  \n",
       "...                             ...      ...      ...      ...  \n",
       "58404                             0        1        0        0  \n",
       "120224                            0        1        0        0  \n",
       "159991                            0        1        0        0  \n",
       "93672                             0        1        0        0  \n",
       "198917                            0        0        0        1  \n",
       "\n",
       "[100 rows x 60 columns]"
      ]
     },
     "execution_count": 109,
     "metadata": {},
     "output_type": "execute_result"
    }
   ],
   "source": [
    "X_train_dummmies.head(100)"
   ]
  },
  {
   "cell_type": "code",
   "execution_count": 110,
   "id": "ac2c6214-178c-4aa3-8a43-cb2b472e1baf",
   "metadata": {},
   "outputs": [],
   "source": [
    "#scaling (keeping numeric value in normal distribution)\n",
    "scale = StandardScaler()"
   ]
  },
  {
   "cell_type": "code",
   "execution_count": 111,
   "id": "dca8a55d-f955-41a7-80d4-42020e4ca7ee",
   "metadata": {},
   "outputs": [
    {
     "data": {
      "text/html": [
       "<div>\n",
       "<style scoped>\n",
       "    .dataframe tbody tr th:only-of-type {\n",
       "        vertical-align: middle;\n",
       "    }\n",
       "\n",
       "    .dataframe tbody tr th {\n",
       "        vertical-align: top;\n",
       "    }\n",
       "\n",
       "    .dataframe thead th {\n",
       "        text-align: right;\n",
       "    }\n",
       "</style>\n",
       "<table border=\"1\" class=\"dataframe\">\n",
       "  <thead>\n",
       "    <tr style=\"text-align: right;\">\n",
       "      <th></th>\n",
       "      <th>norm_size</th>\n",
       "      <th>norm_depth_percent</th>\n",
       "      <th>norm_table_percent</th>\n",
       "      <th>norm_meas_length</th>\n",
       "      <th>norm_meas_width</th>\n",
       "      <th>norm_meas_depth</th>\n",
       "      <th>total_sales_price</th>\n",
       "      <th>is_big</th>\n",
       "      <th>is_expensive</th>\n",
       "      <th>shape_Asscher</th>\n",
       "      <th>...</th>\n",
       "      <th>fluor_intensity_Faint</th>\n",
       "      <th>fluor_intensity_Medium</th>\n",
       "      <th>fluor_intensity_None</th>\n",
       "      <th>fluor_intensity_Slight</th>\n",
       "      <th>fluor_intensity_Strong</th>\n",
       "      <th>fluor_intensity_Very Slight</th>\n",
       "      <th>fluor_intensity_Very Strong</th>\n",
       "      <th>lab_GIA</th>\n",
       "      <th>lab_HRD</th>\n",
       "      <th>lab_IGI</th>\n",
       "    </tr>\n",
       "  </thead>\n",
       "  <tbody>\n",
       "    <tr>\n",
       "      <th>117682</th>\n",
       "      <td>-8.881784e-15</td>\n",
       "      <td>0.131771</td>\n",
       "      <td>0.170317</td>\n",
       "      <td>-0.034678</td>\n",
       "      <td>0.209217</td>\n",
       "      <td>0.145192</td>\n",
       "      <td>2308</td>\n",
       "      <td>0</td>\n",
       "      <td>0</td>\n",
       "      <td>0</td>\n",
       "      <td>...</td>\n",
       "      <td>0</td>\n",
       "      <td>0</td>\n",
       "      <td>0</td>\n",
       "      <td>0</td>\n",
       "      <td>0</td>\n",
       "      <td>1</td>\n",
       "      <td>0</td>\n",
       "      <td>0</td>\n",
       "      <td>0</td>\n",
       "      <td>1</td>\n",
       "    </tr>\n",
       "    <tr>\n",
       "      <th>65822</th>\n",
       "      <td>-8.881784e-15</td>\n",
       "      <td>0.139657</td>\n",
       "      <td>0.075590</td>\n",
       "      <td>-0.560969</td>\n",
       "      <td>-0.387284</td>\n",
       "      <td>-0.410513</td>\n",
       "      <td>1034</td>\n",
       "      <td>0</td>\n",
       "      <td>0</td>\n",
       "      <td>0</td>\n",
       "      <td>...</td>\n",
       "      <td>0</td>\n",
       "      <td>0</td>\n",
       "      <td>1</td>\n",
       "      <td>0</td>\n",
       "      <td>0</td>\n",
       "      <td>0</td>\n",
       "      <td>0</td>\n",
       "      <td>1</td>\n",
       "      <td>0</td>\n",
       "      <td>0</td>\n",
       "    </tr>\n",
       "    <tr>\n",
       "      <th>55367</th>\n",
       "      <td>-8.881784e-15</td>\n",
       "      <td>0.129135</td>\n",
       "      <td>0.103236</td>\n",
       "      <td>-0.560969</td>\n",
       "      <td>-0.394762</td>\n",
       "      <td>-0.444874</td>\n",
       "      <td>966</td>\n",
       "      <td>0</td>\n",
       "      <td>0</td>\n",
       "      <td>0</td>\n",
       "      <td>...</td>\n",
       "      <td>0</td>\n",
       "      <td>0</td>\n",
       "      <td>1</td>\n",
       "      <td>0</td>\n",
       "      <td>0</td>\n",
       "      <td>0</td>\n",
       "      <td>0</td>\n",
       "      <td>1</td>\n",
       "      <td>0</td>\n",
       "      <td>0</td>\n",
       "    </tr>\n",
       "    <tr>\n",
       "      <th>149387</th>\n",
       "      <td>-8.881784e-15</td>\n",
       "      <td>0.163092</td>\n",
       "      <td>0.130409</td>\n",
       "      <td>0.947680</td>\n",
       "      <td>0.071448</td>\n",
       "      <td>0.074438</td>\n",
       "      <td>3708</td>\n",
       "      <td>0</td>\n",
       "      <td>0</td>\n",
       "      <td>0</td>\n",
       "      <td>...</td>\n",
       "      <td>0</td>\n",
       "      <td>0</td>\n",
       "      <td>1</td>\n",
       "      <td>0</td>\n",
       "      <td>0</td>\n",
       "      <td>0</td>\n",
       "      <td>0</td>\n",
       "      <td>1</td>\n",
       "      <td>0</td>\n",
       "      <td>0</td>\n",
       "    </tr>\n",
       "    <tr>\n",
       "      <th>178136</th>\n",
       "      <td>-8.881784e-15</td>\n",
       "      <td>0.115887</td>\n",
       "      <td>0.532889</td>\n",
       "      <td>0.263728</td>\n",
       "      <td>0.441121</td>\n",
       "      <td>11.680081</td>\n",
       "      <td>7514</td>\n",
       "      <td>1</td>\n",
       "      <td>1</td>\n",
       "      <td>0</td>\n",
       "      <td>...</td>\n",
       "      <td>0</td>\n",
       "      <td>1</td>\n",
       "      <td>0</td>\n",
       "      <td>0</td>\n",
       "      <td>0</td>\n",
       "      <td>0</td>\n",
       "      <td>0</td>\n",
       "      <td>1</td>\n",
       "      <td>0</td>\n",
       "      <td>0</td>\n",
       "    </tr>\n",
       "    <tr>\n",
       "      <th>...</th>\n",
       "      <td>...</td>\n",
       "      <td>...</td>\n",
       "      <td>...</td>\n",
       "      <td>...</td>\n",
       "      <td>...</td>\n",
       "      <td>...</td>\n",
       "      <td>...</td>\n",
       "      <td>...</td>\n",
       "      <td>...</td>\n",
       "      <td>...</td>\n",
       "      <td>...</td>\n",
       "      <td>...</td>\n",
       "      <td>...</td>\n",
       "      <td>...</td>\n",
       "      <td>...</td>\n",
       "      <td>...</td>\n",
       "      <td>...</td>\n",
       "      <td>...</td>\n",
       "      <td>...</td>\n",
       "      <td>...</td>\n",
       "      <td>...</td>\n",
       "    </tr>\n",
       "    <tr>\n",
       "      <th>116180</th>\n",
       "      <td>-8.881784e-15</td>\n",
       "      <td>0.186203</td>\n",
       "      <td>0.103236</td>\n",
       "      <td>0.139635</td>\n",
       "      <td>0.404404</td>\n",
       "      <td>0.445252</td>\n",
       "      <td>2148</td>\n",
       "      <td>0</td>\n",
       "      <td>0</td>\n",
       "      <td>0</td>\n",
       "      <td>...</td>\n",
       "      <td>0</td>\n",
       "      <td>0</td>\n",
       "      <td>1</td>\n",
       "      <td>0</td>\n",
       "      <td>0</td>\n",
       "      <td>0</td>\n",
       "      <td>0</td>\n",
       "      <td>1</td>\n",
       "      <td>0</td>\n",
       "      <td>0</td>\n",
       "    </tr>\n",
       "    <tr>\n",
       "      <th>195381</th>\n",
       "      <td>-8.881784e-15</td>\n",
       "      <td>0.080944</td>\n",
       "      <td>0.209248</td>\n",
       "      <td>0.916837</td>\n",
       "      <td>1.290028</td>\n",
       "      <td>1.086790</td>\n",
       "      <td>13015</td>\n",
       "      <td>1</td>\n",
       "      <td>1</td>\n",
       "      <td>0</td>\n",
       "      <td>...</td>\n",
       "      <td>0</td>\n",
       "      <td>0</td>\n",
       "      <td>1</td>\n",
       "      <td>0</td>\n",
       "      <td>0</td>\n",
       "      <td>0</td>\n",
       "      <td>0</td>\n",
       "      <td>0</td>\n",
       "      <td>1</td>\n",
       "      <td>0</td>\n",
       "    </tr>\n",
       "    <tr>\n",
       "      <th>92862</th>\n",
       "      <td>-8.881784e-15</td>\n",
       "      <td>0.155317</td>\n",
       "      <td>0.018813</td>\n",
       "      <td>-0.410815</td>\n",
       "      <td>-0.183287</td>\n",
       "      <td>-0.209925</td>\n",
       "      <td>1480</td>\n",
       "      <td>0</td>\n",
       "      <td>0</td>\n",
       "      <td>0</td>\n",
       "      <td>...</td>\n",
       "      <td>0</td>\n",
       "      <td>0</td>\n",
       "      <td>1</td>\n",
       "      <td>0</td>\n",
       "      <td>0</td>\n",
       "      <td>0</td>\n",
       "      <td>0</td>\n",
       "      <td>1</td>\n",
       "      <td>0</td>\n",
       "      <td>0</td>\n",
       "    </tr>\n",
       "    <tr>\n",
       "      <th>61255</th>\n",
       "      <td>-8.881784e-15</td>\n",
       "      <td>0.115887</td>\n",
       "      <td>0.130409</td>\n",
       "      <td>-0.655526</td>\n",
       "      <td>-0.485599</td>\n",
       "      <td>-0.561432</td>\n",
       "      <td>994</td>\n",
       "      <td>0</td>\n",
       "      <td>0</td>\n",
       "      <td>0</td>\n",
       "      <td>...</td>\n",
       "      <td>0</td>\n",
       "      <td>0</td>\n",
       "      <td>1</td>\n",
       "      <td>0</td>\n",
       "      <td>0</td>\n",
       "      <td>0</td>\n",
       "      <td>0</td>\n",
       "      <td>1</td>\n",
       "      <td>0</td>\n",
       "      <td>0</td>\n",
       "    </tr>\n",
       "    <tr>\n",
       "      <th>193813</th>\n",
       "      <td>-8.881784e-15</td>\n",
       "      <td>0.246310</td>\n",
       "      <td>0.130409</td>\n",
       "      <td>1.757695</td>\n",
       "      <td>1.123580</td>\n",
       "      <td>1.291251</td>\n",
       "      <td>11759</td>\n",
       "      <td>1</td>\n",
       "      <td>1</td>\n",
       "      <td>0</td>\n",
       "      <td>...</td>\n",
       "      <td>0</td>\n",
       "      <td>0</td>\n",
       "      <td>0</td>\n",
       "      <td>0</td>\n",
       "      <td>1</td>\n",
       "      <td>0</td>\n",
       "      <td>0</td>\n",
       "      <td>1</td>\n",
       "      <td>0</td>\n",
       "      <td>0</td>\n",
       "    </tr>\n",
       "  </tbody>\n",
       "</table>\n",
       "<p>164778 rows × 60 columns</p>\n",
       "</div>"
      ],
      "text/plain": [
       "           norm_size  norm_depth_percent  norm_table_percent  \\\n",
       "117682 -8.881784e-15            0.131771            0.170317   \n",
       "65822  -8.881784e-15            0.139657            0.075590   \n",
       "55367  -8.881784e-15            0.129135            0.103236   \n",
       "149387 -8.881784e-15            0.163092            0.130409   \n",
       "178136 -8.881784e-15            0.115887            0.532889   \n",
       "...              ...                 ...                 ...   \n",
       "116180 -8.881784e-15            0.186203            0.103236   \n",
       "195381 -8.881784e-15            0.080944            0.209248   \n",
       "92862  -8.881784e-15            0.155317            0.018813   \n",
       "61255  -8.881784e-15            0.115887            0.130409   \n",
       "193813 -8.881784e-15            0.246310            0.130409   \n",
       "\n",
       "        norm_meas_length  norm_meas_width  norm_meas_depth  total_sales_price  \\\n",
       "117682         -0.034678         0.209217         0.145192               2308   \n",
       "65822          -0.560969        -0.387284        -0.410513               1034   \n",
       "55367          -0.560969        -0.394762        -0.444874                966   \n",
       "149387          0.947680         0.071448         0.074438               3708   \n",
       "178136          0.263728         0.441121        11.680081               7514   \n",
       "...                  ...              ...              ...                ...   \n",
       "116180          0.139635         0.404404         0.445252               2148   \n",
       "195381          0.916837         1.290028         1.086790              13015   \n",
       "92862          -0.410815        -0.183287        -0.209925               1480   \n",
       "61255          -0.655526        -0.485599        -0.561432                994   \n",
       "193813          1.757695         1.123580         1.291251              11759   \n",
       "\n",
       "        is_big  is_expensive  shape_Asscher  ...  fluor_intensity_Faint  \\\n",
       "117682       0             0              0  ...                      0   \n",
       "65822        0             0              0  ...                      0   \n",
       "55367        0             0              0  ...                      0   \n",
       "149387       0             0              0  ...                      0   \n",
       "178136       1             1              0  ...                      0   \n",
       "...        ...           ...            ...  ...                    ...   \n",
       "116180       0             0              0  ...                      0   \n",
       "195381       1             1              0  ...                      0   \n",
       "92862        0             0              0  ...                      0   \n",
       "61255        0             0              0  ...                      0   \n",
       "193813       1             1              0  ...                      0   \n",
       "\n",
       "        fluor_intensity_Medium  fluor_intensity_None  fluor_intensity_Slight  \\\n",
       "117682                       0                     0                       0   \n",
       "65822                        0                     1                       0   \n",
       "55367                        0                     1                       0   \n",
       "149387                       0                     1                       0   \n",
       "178136                       1                     0                       0   \n",
       "...                        ...                   ...                     ...   \n",
       "116180                       0                     1                       0   \n",
       "195381                       0                     1                       0   \n",
       "92862                        0                     1                       0   \n",
       "61255                        0                     1                       0   \n",
       "193813                       0                     0                       0   \n",
       "\n",
       "        fluor_intensity_Strong  fluor_intensity_Very Slight  \\\n",
       "117682                       0                            1   \n",
       "65822                        0                            0   \n",
       "55367                        0                            0   \n",
       "149387                       0                            0   \n",
       "178136                       0                            0   \n",
       "...                        ...                          ...   \n",
       "116180                       0                            0   \n",
       "195381                       0                            0   \n",
       "92862                        0                            0   \n",
       "61255                        0                            0   \n",
       "193813                       1                            0   \n",
       "\n",
       "        fluor_intensity_Very Strong  lab_GIA  lab_HRD  lab_IGI  \n",
       "117682                            0        0        0        1  \n",
       "65822                             0        1        0        0  \n",
       "55367                             0        1        0        0  \n",
       "149387                            0        1        0        0  \n",
       "178136                            0        1        0        0  \n",
       "...                             ...      ...      ...      ...  \n",
       "116180                            0        1        0        0  \n",
       "195381                            0        0        1        0  \n",
       "92862                             0        1        0        0  \n",
       "61255                             0        1        0        0  \n",
       "193813                            0        1        0        0  \n",
       "\n",
       "[164778 rows x 60 columns]"
      ]
     },
     "execution_count": 111,
     "metadata": {},
     "output_type": "execute_result"
    }
   ],
   "source": [
    "X_train_dummmies_scaled = X_train_dummmies.copy()\n",
    "X_train_dummmies_scaled[[\"norm_size\", \"norm_depth_percent\", \"norm_table_percent\", \"norm_meas_length\", \"norm_meas_width\", \"norm_meas_depth\"]] = scale.fit_transform(X_train_dummmies_scaled[[\"norm_size\", \"norm_depth_percent\", \"norm_table_percent\", \"norm_meas_length\", \"norm_meas_width\", \"norm_meas_depth\"]])\n",
    "X_train_dummmies_scaled"
   ]
  },
  {
   "cell_type": "code",
   "execution_count": 112,
   "id": "546e250a-377d-48ca-be8b-76f4ab55a6b9",
   "metadata": {},
   "outputs": [
    {
     "data": {
      "text/plain": [
       "117682     2308\n",
       "65822      1034\n",
       "55367       966\n",
       "149387     3708\n",
       "178136     7514\n",
       "          ...  \n",
       "116180     2148\n",
       "195381    13015\n",
       "92862      1480\n",
       "61255       994\n",
       "193813    11759\n",
       "Name: total_sales_price, Length: 164778, dtype: int64"
      ]
     },
     "execution_count": 112,
     "metadata": {},
     "output_type": "execute_result"
    }
   ],
   "source": [
    "X_train_dummmies_scaled\n"
   ]
  },
  {
   "cell_type": "markdown",
   "id": "40393167-4cf8-4a78-9af4-182ef64cd0f6",
   "metadata": {},
   "source": [
    "# Basic model building"
   ]
  },
  {
   "cell_type": "code",
   "execution_count": null,
   "id": "222dda0d-579d-4108-9f2b-5709c4c7bd9f",
   "metadata": {},
   "outputs": [],
   "source": []
  }
 ],
 "metadata": {
  "kernelspec": {
   "display_name": "Python 3 (ipykernel)",
   "language": "python",
   "name": "python3"
  },
  "language_info": {
   "codemirror_mode": {
    "name": "ipython",
    "version": 3
   },
   "file_extension": ".py",
   "mimetype": "text/x-python",
   "name": "python",
   "nbconvert_exporter": "python",
   "pygments_lexer": "ipython3",
   "version": "3.8.10"
  }
 },
 "nbformat": 4,
 "nbformat_minor": 5
}
